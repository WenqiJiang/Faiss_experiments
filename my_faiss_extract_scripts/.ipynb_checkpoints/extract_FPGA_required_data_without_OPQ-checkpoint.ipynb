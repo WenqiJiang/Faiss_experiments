{
 "cells": [
  {
   "cell_type": "code",
   "execution_count": 1,
   "metadata": {},
   "outputs": [],
   "source": [
    "from __future__ import print_function\n",
    "import os\n",
    "import sys\n",
    "import time\n",
    "import numpy as np\n",
    "import re\n",
    "import faiss\n",
    "from multiprocessing.dummy import Pool as ThreadPool\n",
    "from matplotlib import pyplot"
   ]
  },
  {
   "cell_type": "code",
   "execution_count": 3,
   "metadata": {},
   "outputs": [
    {
     "name": "stdout",
     "output_type": "stream",
     "text": [
      "Preparing dataset SIFT100M\n",
      "sizes: B (100000000, 128) Q (10000, 128) T (100000000, 128) gt (10000, 1000)\n"
     ]
    }
   ],
   "source": [
    "def mmap_fvecs(fname):\n",
    "    x = np.memmap(fname, dtype='int32', mode='r')\n",
    "    d = x[0]\n",
    "    return x.view('float32').reshape(-1, d + 1)[:, 1:]\n",
    "\n",
    "\n",
    "def mmap_bvecs(fname):\n",
    "    x = np.memmap(fname, dtype='uint8', mode='r')\n",
    "    d = x[:4].view('int32')[0]\n",
    "    return x.reshape(-1, d + 4)[:, 4:]\n",
    "\n",
    "def ivecs_read(fname):\n",
    "    a = np.fromfile(fname, dtype='int32')\n",
    "    d = a[0]\n",
    "    return a.reshape(-1, d + 1)[:, 1:].copy()\n",
    "\n",
    "cluster_num   = 8192\n",
    "PQ_bytes      = 16\n",
    "\n",
    "assert PQ_bytes == 16 # (only supports PQ 16 in this script)\n",
    "\n",
    "dbname        = 'SIFT100M'\n",
    "index_key     = 'IVF{},PQ{}'.format(cluster_num, PQ_bytes)\n",
    "parametersets = ['nprobe=32']\n",
    "topK          = 10\n",
    "\n",
    "tmpdir = '../trained_CPU_indexes/bench_cpu_{}_{}'.format(dbname, index_key)\n",
    "\n",
    "if not os.path.isdir(tmpdir):\n",
    "    raise(\"%s does not exist\")\n",
    "\n",
    "\n",
    "#################################################################\n",
    "# Prepare dataset\n",
    "#################################################################\n",
    "\n",
    "\n",
    "print(\"Preparing dataset\", dbname)\n",
    "\n",
    "if dbname.startswith('SIFT'):\n",
    "    # SIFT1M to SIFT1000M\n",
    "    dbsize = int(dbname[4:-1])\n",
    "    xb = mmap_bvecs('../bigann/bigann_base.bvecs')\n",
    "    xq = mmap_bvecs('../bigann/bigann_query.bvecs')\n",
    "    xt = mmap_bvecs('../bigann/bigann_learn.bvecs')\n",
    "\n",
    "    # trim xb to correct size\n",
    "    xb = xb[:dbsize * 1000 * 1000]\n",
    "\n",
    "    gt = ivecs_read('../bigann/gnd/idx_%dM.ivecs' % dbsize)\n",
    "\n",
    "elif dbname == 'Deep1B':\n",
    "    xb = mmap_fvecs('../deep1b/base.fvecs')\n",
    "    xq = mmap_fvecs('../deep1b/deep1B_queries.fvecs')\n",
    "    xt = mmap_fvecs('../deep1b/learn.fvecs')\n",
    "    # deep1B's train is is outrageously big\n",
    "    xt = xt[:10 * 1000 * 1000]\n",
    "    gt = ivecs_read('../deep1b/deep1B_groundtruth.ivecs')\n",
    "\n",
    "else:\n",
    "    print('unknown dataset', dbname, file=sys.stderr)\n",
    "    sys.exit(1)\n",
    "\n",
    "\n",
    "print(\"sizes: B %s Q %s T %s gt %s\" % (\n",
    "    xb.shape, xq.shape, xt.shape, gt.shape))\n",
    "\n",
    "nq, d = xq.shape\n",
    "nb, d = xb.shape\n",
    "assert gt.shape[0] == nq\n",
    "\n",
    "\n",
    "#################################################################\n",
    "# Load Index\n",
    "#################################################################\n",
    "\n",
    "def get_populated_index():\n",
    "\n",
    "    filename = \"%s/%s_%s_populated.index\" % (\n",
    "        tmpdir, dbname, index_key)\n",
    "\n",
    "    if not os.path.exists(filename):\n",
    "        raise(\"Index does not exist!\")\n",
    "    else:\n",
    "        print(\"loading\", filename)\n",
    "        index = faiss.read_index(filename)\n",
    "    return index\n"
   ]
  },
  {
   "cell_type": "code",
   "execution_count": 11,
   "metadata": {},
   "outputs": [
    {
     "name": "stdout",
     "output_type": "stream",
     "text": [
      "loading ../trained_CPU_indexes/bench_cpu_SIFT100M_IVF8192,PQ16/SIFT100M_IVF8192,PQ16_populated.index\n",
      "          \t R@10   time    %pass\n",
      "nprobe=32 \t 0.8132    4.256    0.00\n"
     ]
    }
   ],
   "source": [
    "#################################################################\n",
    "# Perform searches\n",
    "#################################################################\n",
    "\n",
    "index = get_populated_index()\n",
    "\n",
    "ps = faiss.ParameterSpace()\n",
    "ps.initialize(index)\n",
    "\n",
    "# make sure queries are in RAM\n",
    "xq = xq.astype('float32').copy()\n",
    "\n",
    "# a static C++ object that collects statistics about searches\n",
    "ivfpq_stats = faiss.cvar.indexIVFPQ_stats\n",
    "ivf_stats = faiss.cvar.indexIVF_stats\n",
    "\n",
    "\n",
    "# we do queries in a single thread\n",
    "faiss.omp_set_num_threads(1)\n",
    "\n",
    "print(' ' * len(parametersets[0]), '\\t', 'R@10   time    %pass')\n",
    "# print(' ' * len(parametersets[0]), '\\t', 'R@1    R@10   R@100     time    %pass')\n",
    "\n",
    "for param in parametersets:\n",
    "    print(param, '\\t', end=' ')\n",
    "    sys.stdout.flush()\n",
    "    ps.set_index_parameters(index, param)\n",
    "    t0 = time.time()\n",
    "    ivfpq_stats.reset()\n",
    "    ivf_stats.reset()\n",
    "    D, I = index.search(xq, topK)\n",
    "    t1 = time.time()\n",
    "    for rank in [topK]:\n",
    "        n_ok = (I[:, :rank] == gt[:, :1]).sum()\n",
    "        print(\"%.4f\" % (n_ok / float(nq)), end=' ')\n",
    "    print(\"%8.3f  \" % ((t1 - t0) * 1000.0 / nq), end=' ')\n",
    "    print(\"%5.2f\" % (ivfpq_stats.n_hamming_pass * 100.0 / ivf_stats.ndis))"
   ]
  },
  {
   "cell_type": "code",
   "execution_count": 17,
   "metadata": {},
   "outputs": [
    {
     "name": "stdout",
     "output_type": "stream",
     "text": [
      "==== Distance ====\n",
      "\n",
      "[[63253.44  63354.066 64101.27  ... 65175.656 65276.586 65290.062]\n",
      " [30681.17  32937.59  34951.28  ... 36604.473 36795.836 36928.688]\n",
      " [38950.06  39540.977 39613.273 ... 43175.367 43385.14  43448.914]\n",
      " ...\n",
      " [51819.89  52301.04  52971.11  ... 56143.484 56264.5   57138.074]\n",
      " [47280.098 51085.88  51243.496 ... 54104.6   54629.902 54771.11 ]\n",
      " [44446.645 47224.453 48883.477 ... 50725.137 51028.46  51033.734]]\n",
      "shape: (10000, 10)\n",
      "\n",
      "==== Index ====\n",
      "\n",
      "[[40642738 28539420 40156538 ... 12453834 79311056 96419792]\n",
      " [33176630 23668085 31792502 ...  4369541 42617250 44060661]\n",
      " [17844338 23353312 95657237 ... 23365439 27633542 67818653]\n",
      " ...\n",
      " [ 9286338 46354463 46817758 ... 29105763 55073159 50719824]\n",
      " [74291030  3887666  8126413 ... 98062712 67987096 71671668]\n",
      " [ 7703493 53564217  7681219 ...  7204070 46610790 30587893]]\n",
      "shape: (10000, 10)\n",
      "\n"
     ]
    }
   ],
   "source": [
    "print(\"==== Distance ====\\n\\n{}\\nshape: {}\\n\".format(D, D.shape))\n",
    "print(\"==== Index ====\\n\\n{}\\nshape: {}\\n\".format(I, I.shape))"
   ]
  },
  {
   "cell_type": "code",
   "execution_count": 18,
   "metadata": {},
   "outputs": [
    {
     "name": "stdout",
     "output_type": "stream",
     "text": [
      "Query vector example\n",
      "xq\ttype: <class 'numpy.ndarray'>\tshape: (10000, 128)\n",
      "\n",
      "[  3.   9.  17.  78.  83.  15.  10.   8. 101. 109.  21.   8.   3.   2.\n",
      "   9.  64.  39.  31.  18.  80.  55.  10.   2.  12.   7.   7.  26.  58.\n",
      "  32.   6.   4.   3.  14.   2.  13.  28.  37.  19.  47.  59. 109.  22.\n",
      "   2.   6.  18.  15.  20. 109.  30.   8.  11.  44. 109.  54.  19.  32.\n",
      "  17.  21.  15.  22.  12.  28. 101.  35.  66.  11.   9.  30.  68.  35.\n",
      "  30.  75. 106. 103.  26.  50.  76.  20.   8.  13.  51.  41.  63. 109.\n",
      "  40.   2.   3.  15.  36.  49.  21.  13.  12.   9.  36.  37.  52.  37.\n",
      "  24.  34.  19.   3.  13.  23.  21.   8.   3.  20.  68.  56.  79.  60.\n",
      "  99.  36.   7.  28.  78.  41.   7.  21.  74.  26.   3.  15.  34.  15.\n",
      "  12.  27.] (128,)\n",
      "3.0\n"
     ]
    }
   ],
   "source": [
    "print(\"Query vector example\\nxq\\ttype: {}\\tshape: {}\\n\".format(type(xq), xq.shape))\n",
    "print(xq[0], xq[0].shape) \n",
    "# Why like integers? -> The sift1b dataset actually stores vector in uint8 format, to save space\n",
    "#   size = 132000000000 bytes = (128 bytes vector + 4 bytes index) * 1B\n",
    "print(xq[0][0])"
   ]
  },
  {
   "cell_type": "code",
   "execution_count": 211,
   "metadata": {},
   "outputs": [
    {
     "name": "stdout",
     "output_type": "stream",
     "text": [
      "(10000, 10) (10000, 10) (10000, 128)\n"
     ]
    }
   ],
   "source": [
    "# D -> result distances \n",
    "# I -> result vector indexes\n",
    "\n",
    "folder_name = 'FPGA_data_{}_{}'.format(dbname, index_key)\n",
    "if not os.path.exists('./saved_npy_data/' + folder_name):\n",
    "    os.mkdir('./saved_npy_data/' + folder_name)\n",
    "    \n",
    "D = np.array(D, dtype=np.float32)\n",
    "I = np.array(I, dtype=np.int32)\n",
    "xq = np.array(xq, dtype=np.float32)\n",
    "print(D.shape, I.shape, xq.shape)\n",
    "D.tofile(\"./saved_npy_data/{}/result_distance_float32_{}_{}_raw\".format(folder_name, D.shape[0], D.shape[1]))\n",
    "I.tofile(\"./saved_npy_data/{}/result_index_int32_{}_{}_raw\".format(folder_name, I.shape[0], I.shape[1]))\n",
    "xq.tofile(\"./saved_npy_data/{}/query_vectors_float32_{}_{}_raw\".format(folder_name, xq.shape[0], xq.shape[1]))"
   ]
  },
  {
   "cell_type": "code",
   "execution_count": 15,
   "metadata": {},
   "outputs": [],
   "source": [
    "\"\"\"\n",
    "My Search Functions\n",
    "\"\"\"\n",
    "\n",
    "coarse_quantizer = faiss.downcast_index(index.quantizer)\n",
    "\n",
    "def get_sub_quantizer_centroids(index):\n",
    "    \"\"\"\n",
    "    return the sub-quantizer centroids, \n",
    "    shape = (m, 256, d / m)\n",
    "    e.g., d=128, m=16 -> (16, 256, 8)\n",
    "    \"\"\"\n",
    "    pq = index.pq\n",
    "    cen = faiss.vector_to_array(pq.centroids)\n",
    "    cen = cen.reshape(pq.M, pq.ksub, pq.dsub)\n",
    "    \n",
    "    return cen\n",
    "\n",
    "def get_coarse_quantizer_centroids(coarse_quantizer):\n",
    "    \"\"\"\n",
    "    return the coarse-grained quantizer centroids,\n",
    "    shape = (nlist, d),\n",
    "    e.g., nlist=1024, d=128 -> (1024, 128)\n",
    "    \"\"\"\n",
    "    coarse_cen = faiss.vector_to_array(coarse_quantizer.xb)\n",
    "#     print(\"coarse_cen.shape\", coarse_cen.shape) # 1024 * 64 = 65536\n",
    "#     print(\"coarse_quantizer.ntotal\", coarse_quantizer.ntotal)\n",
    "#     print(\"coarse_quantizer.d\", coarse_quantizer.d)\n",
    "\n",
    "    coarse_cen = coarse_cen.reshape(coarse_quantizer.ntotal, coarse_quantizer.d)\n",
    "    return coarse_cen"
   ]
  },
  {
   "cell_type": "code",
   "execution_count": 16,
   "metadata": {},
   "outputs": [
    {
     "name": "stdout",
     "output_type": "stream",
     "text": [
      "==== Sub-quantizer ====\n",
      "[[[-1.39830580e+01 -9.50784492e+00 -3.96348667e+00 ...  5.86917877e+00\n",
      "    1.04514023e+02  1.04102793e+01]\n",
      "  [-6.90511627e+01 -2.03367958e+01  2.62607670e+00 ...  2.83390975e+00\n",
      "    1.95819175e+00 -8.36786938e+00]\n",
      "  [-4.25987320e+01 -9.93877316e+00  1.04937162e+01 ... -1.98086727e+00\n",
      "   -6.30460835e+00 -2.12152977e+01]\n",
      "  ...\n",
      "  [ 1.92724438e+01  2.98870945e+00 -6.91194391e+00 ...  1.94331989e+01\n",
      "   -9.75370109e-01 -8.94906640e-01]\n",
      "  [ 2.05092468e+01 -1.09992886e+00 -9.42241001e+00 ...  9.38970661e+00\n",
      "   -7.21518993e+00 -4.89512920e+00]\n",
      "  [ 1.51460276e+01  1.51528549e+00 -1.98966455e+00 ... -1.96080756e+00\n",
      "   -1.24802208e+00  4.54244643e-01]]\n",
      "\n",
      " [[-1.38893576e+01 -1.30567741e+01  1.27895641e+01 ... -1.25062037e+00\n",
      "    4.34972916e+01  7.75580406e+00]\n",
      "  [ 1.04570885e+01  3.74349747e+01  1.84257901e+00 ... -4.78825521e+00\n",
      "    1.15119820e+01  5.44087677e+01]\n",
      "  [-1.12493572e+01 -3.95343399e+00  1.05285339e+01 ... -1.15094595e+01\n",
      "   -1.70058894e+00 -4.81053877e+00]\n",
      "  ...\n",
      "  [-1.45363636e+01 -2.57107544e+00 -2.13399506e+00 ...  6.51664886e+01\n",
      "    3.38337021e+01 -2.34070911e+01]\n",
      "  [-4.51597137e+01 -1.86635551e+01 -4.86111498e+00 ... -3.64628577e+00\n",
      "   -4.01028728e+00 -1.62384109e+01]\n",
      "  [-8.78682709e+00 -2.58394480e+00 -2.25861883e+00 ...  6.20042839e+01\n",
      "   -2.68067694e+00 -1.36302748e+01]]\n",
      "\n",
      " [[ 1.50219755e+01 -3.64422150e+01 -1.31149569e+01 ...  4.52723265e+00\n",
      "   -3.92153049e+00 -8.07479694e-02]\n",
      "  [ 2.34784241e+01 -1.09266796e+01 -9.69498158e+00 ... -9.77621365e+00\n",
      "   -9.20478249e+00  2.73949432e+01]\n",
      "  [ 9.73505878e+00 -5.11525955e+01 -7.90814066e+00 ... -9.25494611e-01\n",
      "   -1.83011734e+00  1.24358988e+00]\n",
      "  ...\n",
      "  [-1.19509993e+01 -9.42717648e+00 -9.59700489e+00 ...  3.55483437e+01\n",
      "    8.65351410e+01  3.91368246e+00]\n",
      "  [-6.73561764e+00  2.39687943e+00  2.83320999e+01 ... -1.64496269e+01\n",
      "   -2.04016972e+00 -3.16627145e+00]\n",
      "  [-1.28539104e+01 -6.06115818e+00 -2.63195109e+00 ... -2.12953644e+01\n",
      "   -5.24850726e-01 -3.74402285e+00]]\n",
      "\n",
      " ...\n",
      "\n",
      " [[-2.10359383e+01 -1.25368586e+01 -1.35879505e+00 ... -2.62280416e+00\n",
      "   -3.78243542e+00 -8.22578526e+00]\n",
      "  [-4.55713940e+00 -6.63353109e+00 -2.11198545e+00 ... -1.00038815e+00\n",
      "   -3.12741494e+00  3.04298013e-01]\n",
      "  [-1.67997265e+01 -2.14599323e+01 -1.43413525e+01 ...  6.61805868e+00\n",
      "   -4.48725271e+00 -9.96455288e+00]\n",
      "  ...\n",
      "  [-2.51692653e-01  5.50721817e+01  2.76219540e+01 ... -9.14924240e+00\n",
      "   -3.95090652e+00 -6.13221455e+00]\n",
      "  [-1.53377466e+01 -7.45878410e+00 -5.16760445e+00 ...  3.75509911e+01\n",
      "    8.56919785e+01 -2.26916528e+00]\n",
      "  [ 4.54560127e+01  7.67166367e+01 -1.61707067e+00 ... -9.61367893e+00\n",
      "   -1.15727358e+01 -1.39367676e+01]]\n",
      "\n",
      " [[ 2.12288361e+01 -1.35925102e+01 -4.62672758e+00 ... -2.50050759e+00\n",
      "   -4.41830111e+00  3.15275097e+01]\n",
      "  [ 2.09973545e+01  2.61106091e+01 -4.88965321e+00 ... -5.14063263e+00\n",
      "   -8.27642977e-01  2.10256290e+01]\n",
      "  [ 4.77137566e+01 -1.95083580e+01 -1.30783596e+01 ... -4.46485567e+00\n",
      "   -1.23386741e+00  3.38791046e+01]\n",
      "  ...\n",
      "  [-3.84159431e+01  1.65283337e+01  4.91031408e+00 ... -3.00505185e+00\n",
      "   -1.82707655e+00 -6.87191916e+00]\n",
      "  [-3.10364799e+01 -1.11609125e+01 -4.58943748e+00 ...  2.22289848e+01\n",
      "    5.47353020e+01 -2.33923492e+01]\n",
      "  [-1.90699005e+01 -5.17552567e+00 -3.60161138e+00 ...  4.51280594e+01\n",
      "    1.47654848e+01 -4.10555687e+01]]\n",
      "\n",
      " [[ 2.18617592e+01  2.10718822e+01 -5.96659613e+00 ... -4.82969189e+00\n",
      "   -5.85421467e+00 -9.71733665e+00]\n",
      "  [-6.12362862e+00  1.25108023e+01 -3.80048585e+00 ... -3.41598058e+00\n",
      "   -4.41514874e+00 -8.99769783e+00]\n",
      "  [-1.54819107e+01  2.26406479e+01  3.15563083e+00 ... -2.73708797e+00\n",
      "   -8.00657845e+00 -1.56741676e+01]\n",
      "  ...\n",
      "  [-5.25303984e+00 -4.31598711e+00 -7.85225093e-01 ... -1.88824501e+01\n",
      "    8.34047928e+01  2.92458382e+01]\n",
      "  [-1.46619177e+01 -3.94590340e+01 -9.08632565e+00 ... -4.75075722e+00\n",
      "   -3.08909440e+00 -3.63624597e+00]\n",
      "  [-1.52968855e+01 -1.41353693e+01 -1.18923492e+01 ...  7.68574333e+00\n",
      "    8.98725510e+01  2.26508560e+01]]]\n",
      "\n",
      "shape:(16, 256, 8)\n",
      "\n",
      "==== Coarse-quantizer ====\n",
      "[[ 16.108433   16.3253     21.036144  ...  11.168674   16.012047\n",
      "   24.421686 ]\n",
      " [ 38.401962   35.882355   14.813726  ...   5.039216    4.637255\n",
      "    7.6764708]\n",
      " [ 14.949153   14.779661   21.474577  ...  67.0339    115.76271\n",
      "   52.508476 ]\n",
      " ...\n",
      " [  2.5777779   2.2222223   2.6000001 ...   4.1222224   2.8777778\n",
      "    7.277778 ]\n",
      " [ 22.75       10.321428    9.928572  ...   7.0833335  18.761906\n",
      "   19.285715 ]\n",
      " [ 15.594203   10.521739   18.144928  ...   8.130435    6.4492755\n",
      "    9.463768 ]]\n",
      "\n",
      "shape:(8192, 128)\n",
      "\n"
     ]
    }
   ],
   "source": [
    "# Get Sub quantizer info\n",
    "sub_cen = get_sub_quantizer_centroids(index)\n",
    "print(\"==== Sub-quantizer ====\\n{}\\n\\nshape:{}\\n\".format(sub_cen, sub_cen.shape))\n",
    "\n",
    "# Get Coarse quantizer info\n",
    "coarse_cen = get_coarse_quantizer_centroids(coarse_quantizer)\n",
    "print(\"==== Coarse-quantizer ====\\n{}\\n\\nshape:{}\\n\".format(coarse_cen, coarse_cen.shape))"
   ]
  },
  {
   "cell_type": "code",
   "execution_count": 212,
   "metadata": {},
   "outputs": [
    {
     "name": "stdout",
     "output_type": "stream",
     "text": [
      "(16, 256, 8) (8192, 128)\n"
     ]
    }
   ],
   "source": [
    "# Save the coarse quantizer and the product quantizer\n",
    "\n",
    "PQ_quantizer = np.array(sub_cen, dtype=np.float32)\n",
    "coarse_cen = np.array(coarse_cen, dtype=np.float32)\n",
    "\n",
    "# 16, 256, 8 -> (0,0,0:8) the first row of the subquantizer of the first sub-vector \n",
    "print(PQ_quantizer.shape, coarse_cen.shape)\n",
    "\n",
    "\n",
    "PQ_quantizer.tofile(\"./saved_npy_data/{}/product_quantizer_float32_{}_{}_{}_raw\".format(\n",
    "    folder_name, PQ_quantizer.shape[0], PQ_quantizer.shape[1], PQ_quantizer.shape[2]))\n",
    "coarse_cen.tofile(\"./saved_npy_data/{}/vector_quantizer_float32_{}_{}_raw\".format(\n",
    "    folder_name, coarse_cen.shape[0], coarse_cen.shape[1]))"
   ]
  },
  {
   "cell_type": "code",
   "execution_count": 179,
   "metadata": {},
   "outputs": [],
   "source": [
    "invlists = index.invlists\n",
    "\n",
    "def get_invlist(invlists, cluster_id):\n",
    "    \"\"\" \n",
    "    returns the (vector IDs set, PQ cose set) of list ID \"l\"\n",
    "    list_ids: (#vec_in_list, ), e.g., #vec_in_list=10 -> (10, )\n",
    "    list_codes: (#vec_in_list, m), e.g., #vec_in_list=10, m=16 -> (10, 16)\n",
    "    \n",
    "    That the data is *NOT* copied: if the inverted index is deallocated or changes, accessing the array may crash.\n",
    "    To avoid this, just clone the output arrays on output. \n",
    "    \"\"\"\n",
    "    ls = invlists.list_size(cluster_id)\n",
    "    list_vec_ids = faiss.rev_swig_ptr(invlists.get_ids(cluster_id), ls)\n",
    "    list_PQ_codes = faiss.rev_swig_ptr(invlists.get_codes(cluster_id), ls * invlists.code_size)\n",
    "    list_PQ_codes = list_PQ_codes.reshape(-1, invlists.code_size)\n",
    "    \n",
    "    return list_vec_ids, list_PQ_codes"
   ]
  },
  {
   "cell_type": "code",
   "execution_count": 323,
   "metadata": {},
   "outputs": [
    {
     "name": "stdout",
     "output_type": "stream",
     "text": [
      "==== Vector IDs ====\n",
      "[    2640     7939    14687 ... 99975504 99983424 99987628]\n",
      "\n",
      "shape: (12973,)\n",
      "\n",
      "==== PQ codes ====\n",
      "[[230  95 207 ... 206   0 235]\n",
      " [131 231  68 ... 232 172  55]\n",
      " [ 78 161  35 ...  26 166 197]\n",
      " ...\n",
      " [217 235  57 ... 190 134  89]\n",
      " [ 45  82  57 ... 112  86  87]\n",
      " [102 220 191 ... 101   5 143]]\n",
      "\n",
      "shape: (12973, 16)\n",
      "dtype:uint8\n",
      "\n"
     ]
    }
   ],
   "source": [
    "# Example of using function \"get_invlist\"\n",
    "list_id = 1\n",
    "list_vec_ids, list_PQ_codes = get_invlist(invlists, list_id)\n",
    "print(\"==== Vector IDs ====\\n{}\\n\\nshape: {}\\n\".format(list_vec_ids, list_vec_ids.shape))\n",
    "print(\"==== PQ codes ====\\n{}\\n\\nshape: {}\\ndtype:{}\\n\".format(list_PQ_codes, list_PQ_codes.shape, list_PQ_codes.dtype))"
   ]
  },
  {
   "cell_type": "code",
   "execution_count": 287,
   "metadata": {},
   "outputs": [
    {
     "name": "stdout",
     "output_type": "stream",
     "text": [
      "vec_ID: 7330, bytes: b'\\x00\\x00\\x1c\\xa2'\n",
      "list_codes: [232 237  49  47 170 123 115 238 183 185  22 157 203  65 119  71], bytes: b'\\xe8\\xed1/\\xaa{s\\xee\\xb7\\xb9\\x16\\x9d\\xcbAwG'\n",
      "<class 'bytes'> <class 'bytes'>\n",
      "bytearray(b'\\x00\\x00\\x1c\\xa2\\xe8\\xed1/\\xaa{s\\xee\\xb7\\xb9\\x16\\x9d\\xcbAwG') 20\n"
     ]
    }
   ],
   "source": [
    "# Play with the python byte objects\n",
    "\n",
    "a = int(list_ids[0])\n",
    "partial_list_ids_bytes = a.to_bytes(length=4, byteorder='big', signed=True)\n",
    "\n",
    "print(\"vec_ID: {}, bytes: {}\".format(a, partial_list_ids_bytes))\n",
    "partial_list_codes_bytes = bytes(list_codes[0])\n",
    "print(\"list_codes: {}, bytes: {}\".format(list_codes[0], partial_list_codes_bytes))\n",
    "\n",
    "partial_list_id_and_code = partial_list_ids_bytes + partial_list_codes_bytes# concate by \"+\"\n",
    "print(type(partial_list_ids_bytes), type(partial_list_codes_bytes))\n",
    "ls = bytearray(partial_list_id_and_code)\n",
    "print(ls, len(ls))"
   ]
  },
  {
   "cell_type": "code",
   "execution_count": 324,
   "metadata": {},
   "outputs": [],
   "source": [
    "def get_contents_to_HBM(invlists, cluster_id, HBM_bank_num=int(21)):\n",
    "    \"\"\"\n",
    "    For a single cluster (list), extract the contents in the format that HBM loads\n",
    "      inputs:\n",
    "        invlists: the Faiss index.invlists object\n",
    "        cluster_id: e.g., 0~8191 for nlist=8192\n",
    "        HBM_bank_num: 21 for default, athough there are 32 banks on U280, \n",
    "                    we don't have enough hardware logic to load and compute at that rate\n",
    "      outputs:\n",
    "        HBM_bank_contents( content of 21 banks): a list of 21 element\n",
    "            each element is a byte object with a set of contents\n",
    "            the size of the content is m * 64 bytes\n",
    "            the contents includes (3 * (int32 vector ID) (16 byte PQ code)) + 4byte padding\n",
    "        entries_per_bank: int, all HBM shares the same number of 512-bit items to scan\n",
    "        last_valid_element: int from 0 to 62 (63 numbers in total given 21 HBM channels)\n",
    "            some of the elements in the last row are paddings, which of them is the last non-padding (valid) \n",
    "            \n",
    "      term:\n",
    "        entry: a 512-bit entry containing 3 PQ codes\n",
    "        vector: a 20-byte vector containing 4 byte vector ID + 16 byte PQ code\n",
    "    \"\"\"\n",
    "    \n",
    "    list_vec_ids, list_PQ_codes = get_invlist(invlists, cluster_id)\n",
    "#     print(\"list_vec_ids\", list_vec_ids.shape)\n",
    "#     print(\"list_PQ_codes\", list_PQ_codes.shape)\n",
    "    num_vec = list_vec_ids.shape[0]\n",
    "    assert list_vec_ids.shape[0] == list_PQ_codes.shape[0]\n",
    "    \n",
    "#     print(\"num_vec\", num_vec)\n",
    "    \n",
    "    if num_vec % (HBM_bank_num * 3) == 0:\n",
    "        # no padding\n",
    "        entries_per_bank = num_vec / (HBM_bank_num * 3)\n",
    "        last_valid_element = HBM_bank_num * 3 - 1\n",
    "        num_vec_per_HBM = [int(num_vec / HBM_bank_num)] * HBM_bank_num\n",
    "        num_pad_per_HBM = [0] * HBM_bank_num\n",
    "    else:\n",
    "        # with padding\n",
    "        entries_per_bank = int(num_vec / (HBM_bank_num * 3)) + 1\n",
    "        last_valid_element = num_vec % (HBM_bank_num * 3) - 1\n",
    "        num_vec_per_HBM = []\n",
    "        num_pad_per_HBM = []\n",
    "        \n",
    "        counted_banks = 0\n",
    "        # bank with full valid elements\n",
    "        for i in range(int((last_valid_element + 1) / 3)):\n",
    "            num_vec_per_HBM += [entries_per_bank * 3]\n",
    "            num_pad_per_HBM += [0]\n",
    "        counted_banks += int((last_valid_element + 1) / 3)\n",
    "        \n",
    "        # (optional) bank with some valid elements and some padding in the last entry\n",
    "        if (last_valid_element + 1) % 3 != 0:\n",
    "            num_vec_per_HBM += [(entries_per_bank - 1) * 3 + (last_valid_element + 1) % 3]\n",
    "            num_pad_per_HBM += [3 - (last_valid_element + 1) % 3]\n",
    "            counted_banks += 1\n",
    "        \n",
    "        # (optional) bank with full padding in the last entry\n",
    "        for i in range(HBM_bank_num - counted_banks):\n",
    "            num_vec_per_HBM += [int((entries_per_bank - 1) * 3)]\n",
    "            num_pad_per_HBM += [3]\n",
    "            \n",
    "    assert np.sum(np.array(num_vec_per_HBM)) == num_vec\n",
    "    assert entries_per_bank * HBM_bank_num * 3 - np.sum(np.array(num_pad_per_HBM)) == num_vec\n",
    "    \n",
    "    HBM_bank_contents = []\n",
    "    \n",
    "    start = int(0)\n",
    "    \n",
    "    zero = int(0)\n",
    "    empty_byte = zero.to_bytes(1, \"little\", signed=True)\n",
    "    \n",
    "#     print(\"num_vec_per_HBM:\", num_vec_per_HBM)\n",
    "#     print(\"num_pad_per_HBM:\", num_pad_per_HBM)\n",
    "    \n",
    "    for i in range(HBM_bank_num):\n",
    "        \n",
    "        # add valid vectors first\n",
    "        end = start + num_vec_per_HBM[i]\n",
    "        vec_per_bank_count = 0\n",
    "        byte_obj = bytes()\n",
    "        \n",
    "#         print(start, end)\n",
    "        \n",
    "        for vec_id_per_bank in range(start, end):\n",
    "            \n",
    "            # Vec ID = signed int\n",
    "            vec_id = int(list_vec_ids[vec_id_per_bank])\n",
    "            # Xilinx's ap int use little endian\n",
    "            # Linux on X86 use little endian\n",
    "            # https://serverfault.com/questions/163487/how-to-tell-if-a-linux-system-is-big-endian-or-little-endian\n",
    "            byte_obj += vec_id.to_bytes(4, \"little\", signed=True)\n",
    "            \n",
    "            # PQ code = unsigned char\n",
    "            PQ_codes = list_PQ_codes[vec_id_per_bank]\n",
    "            for code in PQ_codes:\n",
    "                code = int(code)\n",
    "                # Xilinx's ap int use little endian\n",
    "                byte_obj += code.to_bytes(1, \"little\", signed=False)\n",
    "            \n",
    "            vec_per_bank_count += 1\n",
    "            if vec_per_bank_count % 3 == 0:\n",
    "                byte_obj += empty_byte * 4\n",
    "        \n",
    "        start = end\n",
    "        \n",
    "        # then add paddings\n",
    "        if num_pad_per_HBM[i] > 0:\n",
    "            for pad_id in range(num_pad_per_HBM[i]):\n",
    "                byte_obj += empty_byte * 20\n",
    "            byte_obj += empty_byte * 4\n",
    "        \n",
    "        HBM_bank_contents += [byte_obj]\n",
    "       \n",
    "    for i in range(HBM_bank_num):\n",
    "        assert len(HBM_bank_contents[i]) == len(HBM_bank_contents[0])\n",
    "        assert len(HBM_bank_contents[i]) == 64 * entries_per_bank\n",
    "    \n",
    "    return HBM_bank_contents, entries_per_bank, last_valid_element"
   ]
  },
  {
   "cell_type": "code",
   "execution_count": 325,
   "metadata": {},
   "outputs": [],
   "source": [
    "# Get HBM contents from all clusters\n",
    "\n",
    "list_HBM_bank_contents = [] # array of cluster_num * HBM_bank_num elements\n",
    "list_entries_per_bank = []\n",
    "list_last_valid_element = []\n",
    "\n",
    "HBM_bank_num = int(21) \n",
    "\n",
    "for c in range(cluster_num):\n",
    "    HBM_bank_contents, entries_per_bank, last_valid_element = get_contents_to_HBM(invlists, c, HBM_bank_num)\n",
    "    list_HBM_bank_contents += HBM_bank_contents\n",
    "    list_entries_per_bank += [entries_per_bank]\n",
    "    list_last_valid_element += [last_valid_element]"
   ]
  },
  {
   "cell_type": "code",
   "execution_count": 326,
   "metadata": {},
   "outputs": [
    {
     "name": "stdout",
     "output_type": "stream",
     "text": [
      "172032\n",
      "list_entries_per_bank:\n",
      " [151, 206, 141, 242, 245, 102, 211, 171.0, 251, 186, 214, 43, 153, 182, 203, 157, 215, 164, 203, 156, 161, 189, 90, 135, 162, 314, 239, 136, 181, 148, 188, 157, 170, 144, 114, 182, 132, 144, 245, 164, 133, 167, 665, 181, 245, 170, 54, 170, 189, 169, 205, 167, 180, 156, 223, 344, 353, 192, 226, 119, 188, 174, 173, 208, 135, 118, 218, 356, 187, 175, 180, 139.0, 295, 183, 162, 151, 164, 177, 225, 187, 162, 204, 278, 170, 136, 136, 153, 168, 194, 199, 510, 131, 488, 199, 327, 238, 176, 148, 116, 220, 215, 199, 197, 175, 195, 390, 182, 229, 151, 164, 206, 210, 131, 195, 143, 89, 160, 505, 285, 159, 148, 205, 129, 362, 130, 175, 233, 203, 194, 150, 178, 175, 162, 173, 145, 164, 316, 181, 197, 265, 100, 153, 186, 173, 169, 276, 293, 170, 135, 147, 125, 188, 181, 136, 189, 163, 128, 181, 198, 159, 159, 181, 211, 29, 228, 113, 142, 199, 158, 264, 175, 245, 189, 220, 149, 175, 136, 148, 165, 154, 163, 201, 180, 199, 183, 179.0, 116, 139, 212, 99, 234, 191, 158, 159, 278, 165, 292, 147, 189, 158, 262, 197, 244, 606, 175, 205, 166, 178, 86, 236, 194.0, 175, 99, 188, 190, 278, 188, 164, 176, 122, 197, 255, 197, 166, 275, 358, 771, 156, 171, 170, 156, 140, 184, 156, 200, 301, 250, 207, 206, 195, 523, 284, 154, 185, 152, 121, 140, 159, 171, 242, 204, 212, 138, 220, 193, 164, 161, 225, 150, 149, 156, 218, 145, 202, 237, 184, 248, 222, 299, 182, 135, 179, 198, 221, 222, 143, 188.0, 137, 142.0, 160, 155, 173, 108, 145, 238, 163, 151, 247, 169, 190, 175, 149, 172, 249, 162, 173, 231, 188, 233, 247, 283, 143, 176, 239, 118, 165, 161, 136, 200, 321, 127, 243, 223, 181, 176, 234, 166, 259, 149, 102, 270, 210, 170, 387, 107, 181, 165, 168, 278, 305, 139, 111, 173, 227, 139, 111, 263, 158, 122, 340, 185, 286, 188, 178, 148, 154, 196, 189, 598, 242, 191, 202, 156, 244.0, 156, 168, 180, 186, 162, 159, 291, 322, 170, 185, 223, 75, 393, 206, 188, 162, 221, 235, 147, 111, 224, 199, 64, 178, 249, 289, 153, 147.0, 203, 142, 179, 138, 163, 145, 155, 173, 180, 272, 202, 157, 322, 227, 140, 301, 253, 240, 147, 134, 170, 176, 238, 199, 145, 186, 148, 261, 228, 216, 145, 197, 136, 143, 237, 159, 201, 167, 264, 134, 249, 284, 192, 219, 211, 148, 191, 247, 313, 178, 239, 255, 191, 199, 169, 184, 137, 184, 185, 161, 215, 164, 228, 120, 551, 199, 164, 188, 224, 190, 133, 182, 154, 154, 118, 148, 197, 125, 234, 182, 213, 203, 249, 205, 159, 94, 189, 203, 158, 206, 140, 195, 227, 233, 164, 246, 206, 178, 105, 164, 208, 196, 154, 154, 276, 195, 150, 133, 233, 123, 425, 131, 137, 130, 189, 142, 149, 190, 162, 344, 143, 142, 171, 181, 223, 163, 150, 23, 136, 68, 218, 146, 178, 166, 143, 185, 148, 176, 292, 249, 150, 137, 168, 217, 219, 191, 245, 119, 174, 195, 146, 207, 277, 166, 180, 225, 147, 200, 185, 160, 195, 138, 133, 269, 436, 170, 148, 177, 203, 172, 314, 172, 143, 209, 224, 146, 176, 308, 232, 176, 186, 140, 188, 194, 187, 174, 86, 155, 186, 225, 168, 192, 202, 188, 202, 357, 181, 171, 161, 162, 236, 165, 155, 290, 141, 156, 193, 161, 532, 185, 228, 263, 175, 277, 171, 196, 354, 125, 169, 175, 246, 175, 138, 230, 306, 119, 186, 185, 205, 202, 420, 182, 145, 107, 172, 184, 337, 185, 155, 158, 372, 191, 190, 184, 169, 154, 149, 182, 196, 163, 103, 150, 174, 153, 194, 247, 452, 154, 175, 193, 307, 170, 162, 150.0, 135, 483, 296, 157, 179, 196, 270, 225, 164, 145, 158, 238, 180, 234, 202, 309, 160.0, 197, 163, 172, 222, 260, 185, 114, 292, 214, 131, 108, 262, 213, 309, 210, 132, 368, 153, 186, 171, 200, 197, 191, 140, 154, 129, 145, 181, 267, 162, 218, 198, 181, 205, 176, 204, 170, 228, 156, 297, 207, 127, 142, 191, 226, 204, 182, 172, 245, 250, 205, 139, 151, 143, 194, 130, 174, 236, 131, 221, 146, 209, 328, 197, 283, 224, 158, 141, 193, 126, 229, 176, 199, 179, 137, 162, 160, 183, 191, 172, 263, 187, 160, 406, 124, 204, 212, 220, 201, 159, 151, 154, 188, 127, 187, 192, 126, 220, 180, 79, 161, 168, 196, 136, 191, 127, 235, 193, 167, 168, 171, 188, 192, 359, 172, 175, 310, 121, 196, 178, 202, 232, 222, 212, 325, 196, 234, 131, 193, 260, 198, 37, 85, 168, 149, 142, 246, 253, 168, 192, 142, 196, 237, 232, 148, 154, 194, 180, 157, 149, 128, 158, 175, 263, 200, 121, 198, 131, 169, 149, 164, 274, 178, 197, 182, 210, 213, 155, 151, 197, 147, 204, 117, 146, 222, 126, 134, 558, 456, 223, 111, 210, 160, 128, 186, 182, 168, 256, 199, 186, 237, 201, 234, 194, 225, 159, 154, 173, 261, 235, 148, 213, 133, 155, 194, 210, 205, 240, 144, 209, 188, 154, 202, 104, 179, 237, 136, 184, 203, 129, 176, 150, 368, 209, 143, 205, 240, 239, 140, 214, 220, 149, 153, 198, 198, 170, 163, 158, 119, 126, 162, 184, 211, 113, 355, 147, 329, 147, 183, 226.0, 164, 183, 183, 146, 203, 161, 187, 190, 183, 281, 367, 228, 351, 208, 185, 173, 133, 119, 149, 120, 144.0, 162, 289, 212, 260, 160, 151, 205, 192, 128, 236, 210, 164, 189, 206, 132, 160, 247, 214, 113, 250, 332, 127, 357, 492, 181, 147, 133, 213, 228, 155, 206, 207, 150, 261, 255, 168, 275, 137, 312.0, 243, 180, 173.0, 140, 145, 184, 202, 146, 166, 81, 186, 285, 197, 234, 114, 204, 234, 383, 195, 221, 125, 201, 199, 157, 208, 182, 224, 165, 279, 299, 215, 125, 242, 188, 171, 173, 175, 144, 256, 213, 168, 174, 164, 268, 177, 109, 161, 272, 492, 139, 145, 157, 140, 353, 221, 274, 171.0, 165, 148, 155, 254, 157, 299, 211, 229, 246, 139, 342, 206, 134, 134, 163, 149, 138, 121, 145, 138, 255, 148, 202, 171, 162, 270, 167, 271, 159, 58, 343, 560, 206, 196, 142, 255, 136, 186, 250, 185, 238, 234, 200, 172, 227, 184, 154, 152, 199, 184, 212, 216, 303, 271, 155, 197, 168, 122, 138, 155.0, 261, 157, 200, 150, 115, 244, 172, 157, 180, 141, 182, 136, 253, 338, 327, 165, 152, 265, 143, 193, 151, 183, 115, 159, 147, 257, 177, 172, 145, 163, 83, 330, 152, 138, 230, 170, 145, 129, 343.0, 186, 159, 197, 163, 193, 164, 214, 170, 179, 355, 116, 177, 126, 203, 193, 171, 153.0, 134, 149, 231, 127, 137, 135.0, 165, 178, 203, 266.0, 200, 216, 202, 189, 173, 231, 170, 260, 148, 268, 304, 148, 295, 192, 199, 338, 179, 167, 217, 176, 617, 161, 121, 129, 179, 138, 281, 196, 175, 173, 157, 173, 302, 161, 169, 219, 207, 209, 297, 122, 159, 246, 159, 179, 188, 171, 169, 96, 150, 171, 217, 183, 206, 159, 271, 177, 182, 159, 121, 213, 140, 164, 161, 180, 195, 178, 167, 191, 296, 200, 162, 198, 177, 621, 154, 141, 154, 166, 191, 345, 162, 319, 178, 193, 175, 195, 271, 156, 137, 270, 163, 168, 264, 132, 176, 207, 241, 185, 212, 197, 167, 368, 132, 191, 290, 109, 154, 176, 186, 180, 208, 254, 167, 165, 182, 235, 130, 177, 172, 127, 127, 253, 287, 219, 216, 296, 178, 179, 299, 158, 237, 417, 85, 130, 99, 195.0, 246, 174, 194, 172, 154, 242, 141, 243, 163, 102, 156, 210, 28, 193, 499, 161, 199, 361, 186, 191, 173, 221, 301, 212, 171, 216, 228, 203, 146, 160, 183, 29, 152, 215, 177, 164, 165, 98, 200, 151, 174, 191, 194, 219, 217, 41, 159, 158.0, 108, 211, 96, 158, 132, 123, 192, 124, 253, 154, 306, 136, 218, 165, 155, 204, 258, 203, 180, 81, 219, 184, 166, 169, 152, 157, 185, 245, 216, 214, 161, 167, 144, 170, 210, 143, 201, 189, 146, 140, 112, 167, 219, 156, 226, 227, 150, 215, 170, 149, 156, 195, 216, 401, 187, 177, 66, 181, 80, 142, 154, 226, 218, 148, 160, 288, 221, 136, 123, 152, 154, 101, 167, 189, 215, 261, 219, 188, 160, 296, 171, 200, 153, 191, 197, 235, 310, 253, 220, 168, 110, 175, 176, 146, 145, 343, 152, 267, 122, 208, 199, 193, 167.0, 205, 184, 184, 164, 151, 196, 298, 46, 144, 141, 160, 195, 136, 133, 196, 192, 121, 119, 443, 158, 307, 139, 163, 114, 229, 174, 176, 174, 247, 201, 235, 186, 210, 209, 172, 375, 179.0, 196, 107, 265, 261, 202, 134, 132, 147, 183, 266, 173, 142, 168, 186, 148, 246, 193, 163, 209, 173, 167, 174, 34, 139, 186, 155, 171, 189, 262, 113, 212, 214, 96, 157, 166, 146, 180, 290, 157, 102, 145, 179, 200, 152, 165, 148, 246, 157, 277, 105, 186.0, 200, 189.0, 175, 267, 193, 170, 144, 173, 355, 159, 152, 124, 311, 211, 207, 224, 157, 187, 112, 321, 219, 221, 133, 185, 193, 103, 164, 177, 135, 233, 166, 181, 212, 199, 236, 187, 214, 204, 149, 188, 144, 181, 333, 159, 310, 150, 62, 189, 261, 138, 200, 215, 168, 264, 143, 147, 119, 357, 170, 149, 155, 140, 158, 137, 150, 178, 122, 142, 290, 224, 164, 187, 31, 327, 127, 142, 146, 134, 176, 199, 134, 272, 199, 187, 242, 208, 215, 207, 189, 172.0, 222, 185, 187, 210, 178, 249, 278, 186, 254, 180, 303, 144, 129, 215, 221, 175, 94, 226, 201, 226, 155, 197, 256, 151, 186, 127, 260, 171, 210, 102, 122, 135, 157, 268, 216, 186, 226, 240, 172, 413, 172, 126, 197, 170, 196, 267, 199, 188, 132, 242, 182, 222, 158, 277, 258, 156, 149, 150, 136, 279, 147, 167, 264, 133, 169, 102, 193, 127, 173, 125, 153, 46, 88, 152, 196, 147, 138, 194, 167, 143, 226, 166, 313, 300, 158, 176, 136, 205, 113, 122, 162, 189, 245, 139, 170, 295, 79, 152, 170, 130, 177, 99, 210, 316, 131, 159.0, 195, 181, 148, 211.0, 210, 231, 144, 137, 155, 221, 83, 214, 265, 172, 146, 195, 93, 179, 142, 161, 26.0, 215, 153, 258, 140, 244, 158, 115, 188, 180, 160, 170, 162, 192, 161, 212, 207, 154, 239, 147, 166, 330, 155, 220, 173, 259, 135, 223, 240, 205, 169, 221, 181, 266, 282, 242, 225, 84, 102, 199, 211, 136, 231, 148, 195, 168, 279, 213, 162, 130, 190, 72, 237, 92, 160, 252, 187, 176, 234, 208, 197, 183, 203, 194, 369, 197, 144, 147, 98, 227, 120, 188, 173, 226, 162, 222, 204, 183, 191, 290, 164, 253, 163, 169, 190, 142, 214, 276, 169, 195, 132, 183, 128.0, 174, 165, 331, 208, 197, 161, 144, 185, 180, 167, 255, 155, 168, 115, 187, 208, 189, 148, 149, 147, 167, 177, 163, 147, 235, 143, 237, 122, 162, 245, 197, 143, 168, 194, 168, 295, 173, 155.0, 133, 160, 220, 144, 162, 158, 133, 162, 233, 120, 180, 95, 168, 167, 245, 175, 186, 225, 169, 366, 146, 163, 101, 206, 261, 65, 293, 189, 303, 140, 178, 151, 199, 197, 191, 141, 106, 121, 190, 125, 246, 189, 196, 124, 213, 122, 330, 163, 133, 109, 153, 232, 238, 307, 284, 215, 181, 146, 319, 368, 160, 207, 155, 182, 436, 187, 230, 152, 334, 175, 28, 103, 157, 342, 113, 154, 161, 199, 241, 154, 162, 234, 343, 162, 182, 201, 266, 286, 208, 389, 261, 198, 199, 185, 170, 527, 253, 176, 183, 378, 239, 176, 277, 270, 154, 191, 195, 103, 335, 212, 242, 297, 177, 183.0, 160, 155, 272, 161, 143, 147, 206, 170, 164, 157, 141, 185, 150, 149, 220, 259, 206, 196, 153, 124, 130, 198, 270, 409, 171, 155, 238, 194, 212, 170, 222, 181, 138, 189, 176, 105, 199, 151, 153, 252, 229, 126, 162, 193, 195, 145, 180, 284, 195, 181, 240, 84, 162, 188, 134, 180, 213, 151, 183.0, 122, 206, 178, 239, 150, 187, 188, 152, 209, 141, 210, 163, 300, 251, 269, 210, 192, 146, 215, 151, 163, 132, 173, 134, 201, 159, 164, 175, 149, 156, 180, 156, 211, 162, 168, 130, 180, 212, 204, 177, 140, 151, 279, 259.0, 143, 151, 147, 174, 369, 124, 185, 242, 195, 150, 194, 180, 209, 243, 240, 243, 175, 198, 187, 360, 189, 120, 205, 182, 189, 118, 109, 358, 214, 240, 132, 208, 153, 200, 142, 193, 212, 223, 143, 158, 160, 161, 170, 166, 142, 135, 155, 328, 313, 190, 169, 233, 290, 172, 272, 148, 218, 281, 108, 177, 222, 248, 159, 161, 170, 173, 175, 259, 153, 209, 227, 270, 193, 170, 217, 169, 161, 173, 242, 165, 218, 175, 292, 228, 218, 177, 148, 148, 177, 204, 303, 115, 164, 174, 169, 176, 137, 166, 169, 167, 141, 304, 184, 150, 175, 249, 179, 174, 164, 155.0, 223, 224, 244, 195, 248, 255, 184, 171, 519, 172, 173, 197, 161, 179, 256, 274, 225, 181, 123, 154, 199, 163, 149, 345, 197, 267, 176, 201, 170, 165, 309, 174, 651, 273, 132, 187, 191, 222, 231, 261, 149, 197, 114, 188.0, 240, 9, 136, 228, 162, 168, 144, 176, 205, 108, 164, 181, 182, 184, 152, 275, 103, 228, 179, 206, 154, 216, 209, 172, 195, 206, 270, 143, 124, 234, 152, 192, 158, 146, 98, 146, 171, 175, 145, 168, 230, 177, 162, 210, 179, 198, 191, 144, 238, 207, 153, 174, 240, 186, 198, 199, 203, 148, 203, 156, 437, 178, 194, 158, 200, 233, 211, 178, 379, 118, 128, 154, 127, 148, 368, 139, 195, 128, 141, 300, 212, 139, 301, 235, 143, 113, 170, 221, 163, 274, 98, 354, 169, 143, 244, 247, 294, 217, 179, 155, 148, 271, 412, 176, 151, 167, 48, 122, 161, 215, 167, 168, 299, 180, 92, 122, 165, 159, 149, 202, 133, 889, 162, 141, 147, 162, 234, 139, 210.0, 224, 155, 171, 175, 241, 191, 80, 128, 192, 197, 229, 206, 176, 128, 194, 205, 159, 289, 200, 174, 163, 129, 194, 211.0, 277, 147, 201, 87, 374, 144, 127, 195, 266, 147, 214, 102, 143, 241, 229, 141, 170, 298, 184, 230, 229, 148, 97, 190, 303, 151, 147, 215, 401, 148, 174, 133, 185, 159, 199, 139, 189, 201, 158, 128, 185, 250, 194, 369, 203, 213, 260, 202, 193, 549, 153, 195, 129, 195, 172, 155, 177, 191, 177, 195, 216, 118, 205, 136, 238, 168, 219, 133, 98, 184, 133, 200, 221, 184, 231, 158, 428, 172, 210.0, 148, 219, 196, 207, 258, 122, 153, 247, 212, 185, 129, 146, 284, 114, 252, 107, 187, 177, 38, 230, 274.0, 170, 121, 281, 330, 170, 286, 220, 357, 250, 200, 148, 196, 158, 152, 169, 132, 181, 319, 140, 228, 212, 165, 213, 190, 289, 228, 176, 193, 202, 196, 142, 508, 161, 184, 175, 193, 485, 199, 216, 229, 186, 242, 145, 158, 214, 142, 231, 264, 148, 213, 163, 217, 384, 84, 190, 175, 141, 206, 142, 253, 97, 196, 228, 301, 193, 278, 150, 105, 285, 273, 234, 139, 311, 150, 198, 308, 131, 182, 141, 131, 161, 142, 153, 144, 309.0, 243, 148, 178, 220, 224, 138, 142, 159, 169, 268, 175, 143, 221, 153, 184, 133, 262, 204, 132, 156, 139, 178, 160, 37, 610, 172, 216, 223, 188, 280, 159, 167, 211, 108, 194, 153, 150, 182, 208, 181, 160, 188, 180, 275, 128, 178, 184, 301, 106, 163, 135, 172, 173, 174, 301, 159, 195, 163, 381, 177, 169, 160, 170, 246, 147, 258, 211, 133, 118, 283, 265, 152, 233, 124, 127, 390.0, 187, 135, 185.0, 240, 131, 154, 218, 128, 210, 157, 228, 80, 107, 167, 391, 180, 155, 214, 154, 169, 238, 189, 130, 189, 135, 94, 213, 210, 126, 207, 162, 281, 178, 161, 180, 195, 185, 146, 181, 370, 167, 353, 140, 182, 162, 171, 169, 184, 148, 206, 155, 391, 139, 257, 175, 147, 139, 147, 225, 255, 259, 191, 189, 203, 162, 190, 198, 214, 169, 233, 139, 155, 216, 140, 172, 158, 237, 152, 162, 130, 306, 169, 197, 155, 211, 165, 128, 152, 211, 273, 534, 180, 169, 222, 119, 160, 179.0, 246, 303, 143, 133, 204, 196, 552, 207, 163, 261, 198, 237, 172, 275, 166, 200, 175, 196, 161, 186, 167, 176, 218, 191, 160, 129, 189, 154, 192, 241, 185, 172, 247, 151, 247, 228, 165, 149, 250, 166, 56, 134, 81, 175, 145, 142, 265, 247, 167, 185, 242, 147, 197, 153, 222, 167, 156, 127, 153, 174, 155, 152, 131, 247, 130, 323, 188, 210, 186, 271, 144, 129, 186, 235, 191, 356, 182, 146, 129, 220, 45, 188, 153, 136, 185, 239, 165, 170, 132, 124, 133.0, 179, 271, 156, 181, 250, 164, 181, 364, 150, 205, 151, 140, 162, 194, 216, 161, 181, 279, 157, 116, 242, 165, 225, 136, 147, 186, 165, 212, 265, 186, 280, 143, 187, 169, 189, 188, 238, 195, 158, 168, 195, 325, 265, 135, 87, 168, 195, 220, 145, 237, 156, 158, 157, 204, 241, 111, 161, 139, 151, 160, 220, 251, 210, 150, 107, 135, 185, 193, 184, 186, 176, 181, 194, 230, 312, 136, 169, 168, 158, 455, 207, 163, 147, 169, 170, 258, 309, 173, 163, 163, 126, 216, 194, 172, 152, 199, 149, 310, 197, 181, 188, 132, 169, 187, 131, 240, 348, 165, 157, 263, 188, 252, 155, 199, 223, 184, 773, 175, 666.0, 157, 138, 165, 151, 208, 187, 219, 181, 265, 191, 211, 206, 460, 94, 134, 300, 166, 204, 226, 141, 315, 214, 289, 122, 252, 148, 131, 138, 156, 180, 109, 161, 158, 320, 153, 177, 178, 158, 125, 191, 154, 156, 239, 182, 163, 158, 128, 286, 123, 339, 211, 290, 164, 165, 242, 151, 193, 187, 152, 247, 145, 162, 211, 161, 173, 166, 139, 220, 144, 360, 269, 204, 206, 224, 194, 218, 149, 132, 158, 204, 134, 180, 470, 130, 159, 167, 167, 225, 176, 188, 32, 163, 215, 325, 164, 318, 141, 183, 121, 145, 167, 150, 234, 260, 159, 219, 261, 200, 502, 174, 162, 177, 158.0, 155, 187, 194, 176, 73, 155, 133, 190, 152, 225, 172, 182, 154, 170, 152, 162, 194, 148, 143, 150, 212, 177, 168, 311, 188, 194, 154, 248, 133, 197, 211, 179, 187, 401, 244, 213, 181, 209, 221, 196, 212, 159, 145, 216, 195, 201, 147, 184, 344, 216, 156, 203, 194, 113, 163, 205, 186, 206, 169, 187, 364, 181, 185, 299, 162, 194, 151, 127, 166, 179.0, 204, 324, 192, 187, 136, 180, 152, 182, 152, 232, 162, 168, 290, 151, 152, 311, 286, 155, 195, 189, 170, 168, 192, 193, 224, 190, 126, 173, 173, 216, 188, 180, 120, 179, 172, 157, 241, 154, 169, 187, 188, 176, 141, 264.0, 143, 144, 126.0, 296, 125, 390, 168, 134, 224, 236, 161, 113, 193, 91, 253, 24, 186, 205, 128, 261, 156, 147, 153, 242, 157, 193, 193, 201, 106, 151, 234, 73, 670, 303, 161, 180, 201, 164, 165, 183, 240, 218, 278, 348, 115, 475, 150, 168, 169, 275, 241, 124, 193, 162, 161, 140, 73, 258, 197, 122, 194, 143, 192, 310, 214, 155, 167, 257, 342, 115, 153, 152, 249, 187, 208, 173, 197, 142, 118, 242, 236, 153, 146, 127, 131, 269.0, 171, 158, 198, 236, 127, 232, 165, 150, 174, 41, 245, 261, 170, 156, 151, 212, 143.0, 148, 265, 236, 226, 451, 180, 575, 209, 219, 221, 199, 491, 173, 152, 206, 196, 160, 178, 166, 150, 190, 208, 257, 226, 153, 165, 163, 288, 124, 161, 169, 225, 165.0, 135, 160, 184, 287, 185, 396, 208, 167, 331, 173, 237, 152, 240, 166, 162, 192, 181, 161, 143, 240, 152, 169, 219, 163, 171, 314, 169, 153, 220, 185, 168, 171, 540, 170, 187, 253, 140, 305, 235, 158, 159, 150, 213, 164, 153, 150, 160, 190, 142, 160, 242, 169, 199, 169, 173, 180, 165, 217, 209, 166, 138, 254, 173, 159, 183, 180, 178, 204, 107, 131, 341, 202, 211, 143, 112, 182, 130, 173, 151, 144, 254, 221, 209, 163, 123, 156, 157, 148, 167, 206, 176, 190.0, 134, 135, 138, 97, 270, 166, 169, 178, 174, 235, 276, 174, 280, 158, 163, 165, 269, 202, 197, 402, 164, 163, 143, 157, 162, 414, 272, 163, 107, 187, 126, 220, 293, 208, 143, 255.0, 226, 182, 166, 346.0, 175, 218, 223, 183, 119, 218, 146, 143, 174, 217, 165, 226, 110, 109, 233, 211, 436, 266, 161, 172, 227, 153, 146, 229, 162, 168, 176, 170, 271, 160, 221, 153, 145, 171, 251, 196, 174, 273, 48, 139, 126, 194, 184, 300, 164, 176, 128, 165, 226, 115, 160, 156, 217, 204, 245, 423, 164, 209, 185, 200, 377, 234, 194.0, 139, 163, 187, 156, 183, 200, 155, 160, 195, 183, 205, 177, 173, 202, 678, 147, 160, 158, 296, 233, 93, 239, 143, 131, 189, 157, 191, 405, 163, 135, 163, 172, 163, 192, 151, 245, 186, 185, 216, 164, 194, 352, 254, 199, 37, 158, 286, 156, 191, 156, 155, 219, 147, 93, 230, 187, 116, 44, 163, 264, 163, 315, 277, 231, 196, 151, 148, 161, 186, 160, 186, 228, 127, 190, 359, 257, 164, 173, 202, 252, 156, 177, 182.0, 198, 177, 145, 151, 169, 177, 145, 108, 269, 137, 251, 146, 209, 164, 121, 144, 237, 446, 205, 179, 183, 212, 217, 126.0, 209, 200, 182, 239, 172, 187, 126, 152, 119, 243, 183, 181, 101, 235, 553, 140, 174, 183, 180, 190, 177, 308, 157, 210, 141, 241, 182, 246, 180, 177, 108, 168, 112, 173, 182, 177, 198, 153, 163, 153, 152, 168, 215, 197, 127, 208, 144, 116, 166, 165, 232, 228, 344, 271, 237, 107, 155, 160, 226, 173, 179, 175, 155, 305, 184, 198, 217, 151, 192, 213, 155, 151, 170, 197, 156, 166, 125, 134, 172, 197, 224, 208, 281, 122, 372, 134, 167, 206, 152, 142, 303, 276, 307, 120, 210, 586, 132, 151, 123, 174, 242, 274, 197, 189, 201, 176, 115, 166, 220, 136, 166, 222, 118, 157, 127, 131, 246, 260, 142, 179, 268, 152, 205, 131, 356, 194, 274, 141, 228, 212, 177, 118, 364, 279, 125, 179, 168, 166, 189, 207, 131, 224, 251, 221, 231, 395, 170, 148, 149, 298, 269, 124, 117, 169, 205, 174, 319, 323, 234, 160, 172, 242, 171, 197, 227, 227, 188, 166, 203, 277, 154, 133, 197, 177, 212, 190, 101, 155, 542, 243, 192, 169, 148, 201, 134, 198, 157, 72, 142, 198, 233, 165, 219, 219, 312, 130, 58, 224, 165, 141, 181, 186, 143, 127, 181, 249, 227, 159, 128, 203, 169, 152, 162, 191, 183, 128, 307, 124, 184, 179, 142, 171, 252, 284, 193, 125, 166, 115, 235, 150, 188, 129, 182, 145, 258, 231, 155, 164, 186, 187, 159, 208, 216, 241, 205, 128.0, 192, 128, 162, 188, 329, 163, 170, 232, 173.0, 222, 193, 254, 181, 150, 215, 159, 163.0, 190, 136, 163, 202, 51, 184, 317, 146, 230, 270, 155, 224, 189, 243, 160, 147, 93, 252, 154, 168, 177, 124, 174, 273, 209.0, 257, 134, 143, 143, 263, 156, 928.0, 157, 142, 182, 205, 233, 150, 312, 157, 161, 130, 228, 196, 214, 145, 205, 160, 194, 98, 129, 121, 151, 210, 225, 197, 200, 136, 272, 285, 174, 213, 173, 225, 203, 165, 91, 220, 181, 392, 196, 164, 205, 234, 147, 163, 167, 250, 175, 217, 166, 154, 156, 59, 157, 153, 201, 320, 214, 189, 220, 328, 200, 200, 426, 192, 183, 194, 245, 253, 146, 180, 231, 212, 132, 302, 122, 230, 179, 208, 211, 186, 127, 482, 175.0, 363, 192, 168, 154, 167, 169, 171, 93, 206, 151, 159, 186, 196, 202, 183, 162, 165, 110, 121, 233, 215, 196, 176, 188, 141, 237, 176, 213, 177, 170, 154, 198, 224, 130, 488, 311, 162, 182, 147, 654, 187, 263, 461, 199, 167, 236, 197, 359, 101, 217, 174, 198, 238, 110, 226, 123, 369, 179, 151, 168, 98, 102, 160, 139, 110, 453, 80, 156, 173, 119, 261, 98, 160, 170, 177, 171.0, 214, 172, 134, 161, 198, 260, 189, 214, 306, 255, 195, 417, 265, 164, 149, 162, 190, 178, 122, 214.0, 114, 179, 157, 156, 183, 201, 165, 200, 138, 188, 150, 210, 346, 384, 135, 155, 211, 168, 162, 127, 155, 227, 238, 128, 234, 179, 191, 209, 167, 188, 307, 206, 203, 155, 198, 179, 193, 190, 232, 193, 165, 199, 162, 136, 158, 137, 171, 320, 117, 379, 130, 117, 143, 185, 222, 202, 165, 223, 170, 260, 153, 238, 153, 215, 261, 135, 163, 200, 190, 165, 149, 163, 284, 224, 169, 211, 171, 128, 220, 176, 195, 205, 201, 135, 248, 146, 237, 187, 180, 139, 159, 144, 143, 161, 206, 317, 214, 189, 293, 140, 131, 189, 148, 267, 242, 195, 297, 143, 169, 139, 205, 140, 201, 218, 271, 94, 144, 408, 190, 170, 275, 244.0, 135, 207, 183, 339, 164, 192, 141, 165, 141, 177, 139, 200, 140, 242, 104, 193, 299, 102, 178, 178, 165, 167, 91, 138, 164, 161, 130, 219, 164, 181, 219, 181, 238, 194, 231, 181, 105, 162, 183, 337, 155, 118, 322, 167, 182, 427, 172, 228, 522, 149, 215, 326, 120, 148, 110, 136, 103, 226, 193, 112.0, 214, 71, 185, 122, 196, 119, 299, 175, 113, 132, 184, 187, 148.0, 176, 477, 205, 172.0, 230, 116, 332, 335, 248, 172, 223, 205, 166, 150, 161, 115, 149, 147, 133, 154, 186, 478, 191, 208, 155, 145, 122, 182, 130, 170, 142, 168, 186, 240, 188, 389, 175, 179, 236, 171, 180, 184, 166, 187.0, 197, 169, 211, 184, 182, 264, 144, 573, 174, 182, 160, 143, 183, 129, 217, 172, 221, 190, 167, 222.0, 161, 167, 273, 211, 482, 144, 190, 266, 204, 208, 252, 194, 124, 189, 143, 170, 186, 163, 206, 190, 201, 252, 187, 131, 156, 213, 119, 86, 108, 173, 150, 224, 243, 228, 204, 184, 221, 251, 201, 134, 294, 204, 121, 191, 253, 190, 154, 185, 426, 111, 147, 135, 155, 132, 194.0, 150, 149, 192, 180, 231, 202, 151, 210, 176, 352, 248, 173, 168, 190, 291, 155, 113, 401, 172, 154, 302, 135, 235, 173, 136, 214, 90, 514, 161.0, 203, 75, 129, 147, 132, 125, 135, 122, 257, 164, 188, 210, 157, 238, 120, 210, 138, 129, 203, 198, 240, 123, 126, 187, 146, 188, 200, 182, 193, 139, 159, 212, 131, 284, 186, 105, 140, 75, 288, 247, 137, 178, 160, 198, 368, 171, 169, 126, 150, 175, 185, 152, 154, 218, 183, 132, 169, 175, 304, 162, 144, 153, 278, 142, 170, 210, 158, 224, 205, 171, 197, 267, 156, 275, 297, 137, 160, 183, 176, 211, 166, 272, 181.0, 129, 170, 92, 200, 148, 167, 346, 193, 167, 57, 191, 212, 131, 140, 212, 235, 100, 147, 274, 131, 262, 65, 170, 139, 145, 281, 135, 206, 145, 167, 304, 150, 197, 169, 215, 249, 137, 187, 210, 278, 135, 212, 192, 311, 226, 177, 148, 174, 155, 210, 159, 40, 200, 182, 177, 225, 150, 166, 194, 198, 159, 776, 258, 129, 160, 299, 169, 171, 23, 213, 209, 70, 153, 220, 223, 173, 123, 154, 186, 182, 393, 165, 345, 425, 198, 185, 237, 153, 119, 183, 113.0, 137, 202, 150, 222, 166, 221, 179, 205, 142, 241, 110, 198, 133, 123, 275, 209, 311, 180, 157, 231, 162, 157, 173, 211, 189, 165, 122, 224, 187, 302, 149, 225, 133, 167, 169, 214, 174, 177, 460, 197, 200, 268, 284, 149, 157, 131, 175, 183, 125, 144, 328, 99, 131, 135, 218, 139, 237, 145, 170, 126, 199, 174, 186.0, 215, 180, 182, 198, 196, 195, 200, 218, 178, 213, 244, 180, 216, 158, 196, 234, 510, 197, 115, 194, 237, 120, 164, 294, 217, 173, 246, 137, 145, 149, 121, 204, 200, 177, 187, 192, 263, 172, 176, 198, 208, 198, 382, 171, 150, 237, 166, 155, 558, 226, 255, 213, 134, 18, 153, 199, 297, 87, 366, 168, 208, 206, 171, 141, 188, 263, 148, 135, 136, 157, 167, 233, 205, 187, 277, 138, 143, 175, 255, 185, 117, 183, 346, 159, 156, 156, 163, 146, 359, 187, 145, 209, 84, 146, 211, 225, 152, 191, 29, 136, 200, 163, 189, 125, 199, 221, 222, 183, 154, 185, 187.0, 134, 255, 157, 124, 195, 178, 238, 187, 182, 176, 179, 233, 186, 190, 185, 239, 203, 177, 77, 227, 177, 156, 142, 194, 202, 176, 178, 512, 139, 126, 230, 168, 191, 448, 153, 135, 187, 146, 144, 173, 136, 161, 172, 194, 162, 198, 145, 216, 176, 406, 191, 134, 153, 244, 226, 151, 194, 123, 81, 136, 193, 234, 154, 175, 212, 138, 145, 192, 198, 204, 247, 435, 230, 126, 138, 164, 197, 336, 185, 168, 137, 173, 173, 484, 103, 219, 215, 213, 252, 155, 185, 121, 172, 185, 149, 355, 145, 185, 222, 182, 210, 300, 152, 176, 210, 233, 184, 155.0, 179, 236, 214, 337, 242, 143, 292, 165, 216, 262, 186, 216, 168, 146, 150, 199, 177, 263, 165, 92, 149, 180, 171, 127, 161, 188, 197, 217, 182, 196, 104, 270, 189, 192, 159, 159, 177, 148, 203, 180, 175, 222, 176, 142, 275, 191, 230, 137, 158, 251, 204, 157, 210, 244, 203, 145, 563, 170, 227, 195, 179, 175, 126, 196, 230, 148, 182, 182, 168, 150, 177, 189, 195, 125, 191, 219, 216, 358, 220, 195, 109, 223, 207, 244, 158, 169, 189, 268, 155, 176, 138, 226.0, 190, 362, 147, 187, 259, 87, 163, 127, 173, 223, 768, 235, 179, 174, 98, 171, 189, 245, 205, 169, 149, 217, 141, 163, 238, 163, 253, 231, 137, 75, 195, 217, 164, 155, 230, 242, 105, 186, 188, 162, 185, 249, 210, 238, 175, 155, 204, 136, 149, 127, 205, 135, 142, 155, 184, 168, 233, 150, 164, 209, 164, 315, 133, 241, 124, 162, 207, 154, 125, 228, 176, 162, 204, 126, 120, 173, 99, 167, 279, 361, 171, 211, 174, 160, 468.0, 245, 166, 235, 122, 277, 162, 161, 140, 169, 142, 279, 219, 146, 212, 157, 209, 179, 173, 116, 171, 199, 225, 201, 231, 163, 187, 667, 290, 164, 238, 139, 201, 136, 151, 141, 193, 165, 261, 183, 207, 265, 236, 204, 201, 158, 450, 108, 316.0, 129, 167, 190, 266, 183, 235, 200, 184, 204, 185, 180, 239, 173, 182, 163, 186, 181, 205, 241, 199, 185, 205, 187, 145, 106, 169, 126, 162, 220, 172, 179, 182, 193, 151, 374, 288, 138, 97, 122, 189, 192, 146, 258, 154, 186, 165, 222, 201.0, 225, 191, 106, 156, 147, 116, 159, 112, 265, 82, 188, 146, 95, 274, 163, 203, 140, 138, 302, 170, 253, 195, 173, 182, 225, 156, 136, 121, 111, 214, 152, 128.0, 161, 171, 196, 88, 346, 312, 122, 150, 429, 140, 447, 206, 190, 194, 147, 162, 148, 138, 209, 131, 322, 364, 172, 164, 162, 144, 203, 119, 120, 155, 178, 204, 132, 301, 225, 127, 263, 149, 224, 192, 151, 199, 219, 167, 169, 140, 143, 219, 198, 229, 143, 201, 179, 314, 155, 177, 157, 177, 205, 256, 132, 192, 128, 140, 211, 202, 207, 179, 72, 143, 196.0, 142, 119, 245, 201, 143, 167, 348, 135, 205.0, 160, 60, 103, 154, 164, 186, 162, 193, 156, 141, 200, 244, 211, 162, 259, 202, 146, 177, 166, 101, 264, 226, 151, 227, 229, 171, 217, 192, 182, 163, 146, 156, 212, 191, 192, 178, 166, 159, 97, 208, 168, 175, 232, 251, 154, 210, 158, 144, 141, 256, 145, 218, 244, 235, 188, 345, 230, 303, 247, 147, 279, 222, 457, 165, 206, 344, 415, 163, 132, 161, 140, 171, 149, 257, 289, 157, 182, 183, 236, 138, 256, 134, 228, 152, 163, 156, 155, 194, 197, 100, 262, 151, 236, 155, 92, 148, 109, 182.0, 186, 199, 281, 172, 240, 164, 190, 125, 177, 159, 218, 129, 249, 201, 200, 91, 266, 170, 181, 182, 230, 184, 188, 179, 279, 172, 217, 145, 165, 154, 208, 187, 204, 153, 265, 125, 218, 177, 117, 212, 171, 127, 189, 220, 136, 164, 353, 179, 288, 159, 165, 170.0, 204, 316, 293, 169, 203, 192, 285, 122, 225, 276, 143, 270, 161, 192, 318, 202, 174, 118, 275, 183.0, 153, 166, 184, 265, 224, 115, 188, 208, 282, 144, 253, 166, 183.0, 163, 122, 189, 156, 272, 256, 195, 104, 135, 161, 163, 119, 156, 167, 138, 16, 278, 197, 174, 144, 765, 147, 156, 196, 271, 222, 133, 154, 221, 200, 129, 424, 136, 149, 113, 179, 133, 171, 101, 183, 168, 226, 171, 324, 237, 163, 200, 173, 225, 242, 314, 235, 483, 168, 364, 131, 231, 210, 212, 243, 155, 187, 320, 184, 170, 160, 244, 117, 262, 169, 220, 185, 202, 173.0, 212, 130, 158.0, 223, 353, 132, 299, 244, 174, 171, 142, 137, 283, 164, 464, 184, 420, 307, 127, 173, 272, 131, 161, 191, 176, 219, 435, 194, 189, 255, 184, 242, 169, 207, 166, 263, 166, 295, 220, 202, 296, 155, 145, 207, 163, 185, 188, 145, 189, 142, 195, 92, 235, 197, 232, 176, 180, 266, 172, 201, 172, 153, 178, 189, 184, 312, 197, 229, 152, 211, 548, 182.0, 192, 192, 222, 181, 233, 152, 158, 168, 129, 184, 94, 188, 158, 281, 164, 172, 212, 128, 237, 128, 274, 306, 167, 248, 275, 245, 269, 213, 124, 157, 149, 199, 170, 264, 187, 81, 111, 109, 170, 127, 337, 219, 255, 134, 168, 212, 237, 184, 103, 279, 169, 167, 231, 236, 352, 112, 257, 192, 195, 170, 428, 144, 143, 213, 106, 400, 180, 207, 251, 189, 164, 146, 185, 266, 258, 201, 127, 321, 132, 301, 186, 223, 217, 242, 268, 173, 121, 195, 342.0, 142, 136, 188, 184, 170, 161, 170, 182, 213, 457, 167, 169, 170, 157, 213, 169, 230, 174, 85, 205, 152, 218, 234, 174, 141, 216, 174, 296, 87, 186, 136, 163, 174, 164, 315, 201, 173, 142, 230, 179, 206, 132, 177, 121, 140, 186, 155, 212, 151, 181, 254, 420, 277, 216, 246, 199, 161, 131, 175, 199, 204, 195, 263, 232, 156, 153, 405, 121, 150, 218, 227, 328, 121, 688, 194, 143, 186, 198, 161, 220, 149, 190, 188, 197, 183, 113, 180, 383, 243, 185, 283, 206, 145, 223, 201, 156, 147, 155, 221, 166, 155, 147, 244, 197, 162, 161, 199, 158, 160, 185, 254, 194, 183, 228, 192, 189, 192, 161, 164, 152, 140, 111, 176, 150, 143, 114, 215, 144, 130, 261, 216, 295, 249, 285, 170, 199, 176, 155, 248, 149, 120, 178, 231, 135, 280, 210, 293, 123, 282, 167, 331, 200, 112, 128, 160, 158, 164, 195, 230, 145, 197, 212, 151, 138, 131, 136, 136, 299, 111, 164, 230, 230, 164, 163, 315, 144, 356, 112, 165, 157, 170, 329, 135, 159, 165, 265, 176, 188, 142, 290, 143, 225, 206, 185, 174, 182, 322, 142, 141, 194, 261, 213, 196, 187, 174, 164, 229, 172, 105, 200, 217, 213, 93, 274, 199, 155, 186, 135, 217, 252, 201, 230, 230, 179, 161, 394, 346, 250, 152, 222, 274.0, 175, 123, 201, 287, 113, 158, 176, 128, 348, 201, 324, 181, 181, 206, 110, 154, 147, 194, 43, 235, 205, 182, 203, 240, 191, 144, 124, 189, 149, 147, 171, 183, 144, 198, 241, 137, 145, 124, 216, 197, 212, 224, 233, 267, 153, 142, 180, 300, 166, 259, 203, 202, 129, 218, 172, 68, 211, 177, 124, 138, 148, 100.0, 205, 330, 147, 171, 247, 174, 320, 189, 80, 158, 288, 136, 171, 131, 322, 160, 197, 174, 174, 154, 208, 196, 230, 157, 135, 247, 226, 191, 100, 623, 161, 187, 117, 170, 147, 175, 218, 175, 234, 149, 127, 179, 164, 163, 134, 139, 209, 177, 197, 209, 174, 199, 152, 221, 138, 437, 216, 214, 163, 162, 177, 155, 209, 263, 196, 214, 215, 186, 232, 187, 169, 155, 164, 128, 208, 293, 117, 186, 320, 136, 12, 171, 158, 224, 178, 180, 275, 176, 147, 204, 161, 128, 150, 191, 168, 247, 181, 647, 146, 214, 219, 182, 136, 319, 214, 236, 115, 102, 181, 167, 261, 234, 237, 187, 142, 180, 191, 207, 193, 165, 214, 222, 133, 180, 198.0, 193, 297, 294, 127, 222, 421, 184, 156, 120, 222, 189, 260, 327, 198, 238, 130, 113, 675, 262, 97, 211, 192, 281, 209, 162, 75, 109, 233, 145, 210, 166, 207, 225.0, 203, 187, 145, 209, 197, 136, 142, 166, 166, 109, 247, 121, 226, 173, 132, 240, 124, 186, 187, 128, 214, 196, 148, 193, 347, 134, 202, 137, 146, 186, 151, 158, 209, 282, 156, 208, 205, 195, 225, 182, 141, 183, 200, 191, 125, 92, 185, 222, 216, 204, 237, 122, 198, 386, 424, 207, 184, 145, 176, 153, 201, 168, 223, 144, 141, 160, 172, 194, 117, 125, 199, 166, 218, 155, 152, 172, 264, 227, 211, 349, 180, 218, 310, 144, 185, 198, 148, 196, 144, 183.0, 144, 119, 138, 232, 281, 142, 150, 183, 226, 226, 210, 157, 197, 318, 183, 173, 112, 156, 321, 227, 120, 234, 131.0, 153, 332, 224, 149, 194, 167, 110, 177, 163, 197, 155, 224, 207, 137, 250, 146.0, 170, 152, 150, 166, 112, 241, 297, 158, 108, 124, 225, 180, 159, 225, 216, 250, 243, 133, 235, 136, 201, 172, 144, 137, 218, 140, 255, 169, 77, 125, 206, 198, 172, 453, 200, 164, 125, 301, 168, 144, 244, 221, 168, 127, 146.0, 318, 148, 169, 153, 166, 197, 209, 197, 176, 216, 177, 219, 173, 270, 140, 157, 142, 123, 149, 192, 281, 225.0, 191, 171, 200, 154, 137, 190, 158, 176, 163, 216, 178, 119, 119, 230, 167, 144, 208, 195, 158, 176, 183, 195, 253, 163, 152, 186, 374, 208, 168, 16, 471, 176, 180, 465, 156, 142, 221, 165, 204, 165, 177, 211, 146, 217, 240, 180, 225, 209, 125, 138, 143, 163, 204, 263, 150, 204, 234, 115, 238, 198, 136, 205, 321, 112, 185, 217, 105, 158, 203, 130, 283, 187, 333, 176, 224, 170, 147, 145, 144, 110, 227, 129, 159, 215, 165, 223, 149, 140, 237, 154, 187, 175, 303, 149, 210, 144, 146, 177, 153, 217, 145, 213, 112, 172, 305, 198, 262, 235, 267, 122, 188, 163, 202, 170, 193, 250, 268, 128, 183, 136, 85, 422, 175, 251, 176, 730, 144, 108, 481, 230, 166, 255, 143, 178, 164, 159, 179, 135, 335, 191, 173, 217, 200, 162, 188, 239, 182.0, 164, 138, 153, 117, 175, 215, 192, 301, 140, 178, 177, 230, 218, 183, 167, 214, 211, 148, 132, 194, 175, 157, 236, 185, 219, 144, 219, 119, 160, 141, 180, 229, 132, 169, 157, 196, 199, 167, 178, 162, 134, 206, 199, 167, 176, 182, 239, 207, 206, 34, 149, 144, 188, 283, 206, 216, 222, 146, 178, 291, 133, 181, 150, 120, 175, 103, 248, 204, 185, 157, 271, 57, 184, 315, 155, 201, 231, 144, 137, 151, 174, 128, 200, 177, 108.0, 192, 257, 167, 349, 191, 157, 345, 79, 144, 196, 157, 83, 170, 182, 159, 147, 144, 113, 135, 153, 98, 133, 146, 157, 227, 186, 276, 187, 160, 175, 157, 157, 225, 169, 144, 243, 122, 129, 136, 225, 257.0, 149, 164, 148, 123, 140, 123, 179, 155, 126, 161, 209, 215, 197, 185, 185, 238, 192, 163, 181, 97, 207, 216, 188, 151, 180.0, 117, 175, 195, 193.0, 145, 188, 182, 252, 149, 231, 137, 215, 194, 190, 255, 193, 204, 28, 149, 185, 219, 193, 193, 223, 172, 218, 181, 329, 137, 142, 200, 176, 238, 168, 160, 183, 251, 170, 239, 136, 139, 198, 220, 125, 144, 189, 231, 192, 199, 151, 191, 248, 203, 145, 126, 108, 167, 187, 129, 208, 117, 151, 126, 172, 170, 174, 200, 186, 212, 218, 122, 314, 99, 397, 531, 191, 251, 233, 179, 232, 160, 101, 327, 122, 168, 173, 156, 187, 210, 213, 159, 151, 175, 254, 118, 269, 163, 258, 272, 125, 138, 101, 178, 437, 244, 163, 159.0, 342, 176, 346, 229, 370, 186, 303, 216, 154, 111, 207, 84, 194, 142, 164, 205, 173, 134, 141, 170, 287, 168, 198, 178, 194, 273, 161, 127, 246, 198, 140, 240, 154, 314, 196, 85, 141, 170, 287, 169, 409, 165, 129, 229, 183, 206, 232, 177, 159, 159, 146, 128, 416, 188, 158, 185, 315, 148, 243, 126, 165, 134, 184, 158, 159, 229, 127, 278, 199, 195, 232, 192, 264, 125, 139, 198.0, 144, 131.0, 179, 138, 279, 224, 211, 135, 137, 142, 231, 167, 179, 450, 176, 144, 235, 181, 161, 230, 164, 165, 184, 178, 200, 180, 191, 197, 163, 167, 138, 278, 138, 170, 137, 192, 120, 258, 150, 211, 116, 143, 254, 171, 245, 320, 145, 144, 193, 416, 189, 136, 223, 179, 203, 223, 193, 126, 188, 222, 315, 247, 256, 212, 165, 229, 174, 187, 189, 210, 144, 182, 92, 225, 199, 320, 161, 178, 145, 172, 213, 252, 224, 126, 268, 95, 194, 217, 142, 168, 204, 173, 356, 679, 156, 122, 264, 269, 211, 157, 124, 207, 205, 169, 217, 265, 191, 163, 226, 180, 101, 256, 148, 76, 181, 234, 126, 171, 360, 277, 330, 234, 153, 145, 220, 178, 171, 241, 149, 206, 347, 159, 217, 229, 262, 120, 298, 97, 197, 177.0, 539, 313, 149, 183, 209, 149, 156, 193, 149, 258, 186, 176, 150, 176, 156.0, 180, 237, 257, 206, 213, 223, 148, 201, 138, 177, 102, 210, 214, 180, 310, 365, 157, 84, 169, 185, 170, 137, 169, 234, 260, 355, 198, 182, 214, 112, 181, 134, 222, 222, 160, 231, 209, 306, 197, 193, 176, 250, 210, 212, 186, 189, 265, 228, 208, 152, 138, 195, 313, 200, 468, 143, 182, 165, 194, 398, 246, 174, 168, 154, 111, 157, 227, 146, 180, 186, 175, 208, 205, 200, 110, 210, 195, 183, 88, 169, 226, 173, 172, 223, 153, 176, 136, 165, 137, 120, 163, 128, 182, 222, 163, 155, 176, 378, 153, 175, 143, 131, 321, 167, 159, 132, 322, 188, 191, 177, 222, 232, 160, 162, 164, 193, 251, 280, 184, 250, 259, 146, 246, 181, 204, 180, 264, 189, 248, 155, 259, 140, 276, 220, 142, 133, 239, 185, 223, 371, 218, 172, 169, 157, 159, 273, 169, 162, 330, 158, 128, 279, 180, 174, 200, 164, 152, 131, 159, 274, 245, 185, 161, 266, 287, 201, 131, 165, 228, 167, 212, 166, 190, 336, 227, 191, 181, 179, 223, 213, 246, 145, 307, 186, 340, 154, 222, 220, 217, 152, 130, 158, 215, 170, 142, 149, 201, 188, 198, 176, 145, 177, 137, 200, 89, 228, 105, 143, 212, 190, 174, 159, 113, 168, 192, 224, 128, 128, 139, 196, 182, 187, 116, 143, 162, 154, 198, 184, 142, 189, 96, 232, 151, 235, 152, 159, 162, 177, 156, 239, 225, 217, 241, 190, 251, 132, 129, 218, 178, 149, 164, 143, 189, 228, 175, 252, 145, 163, 213, 260, 161, 396, 263, 127, 176, 272, 169, 203, 194, 203, 159, 278, 184, 220, 183, 162, 179, 137, 385, 224, 159, 214, 161, 59, 143, 175, 185, 159, 219, 503, 186, 169, 159, 423, 186, 247, 240, 201, 117, 153, 197, 173.0, 125, 183, 421, 195, 521, 196, 223, 207, 107, 107, 201, 151, 194, 485, 138, 152, 172, 151, 161, 147.0, 311, 220, 160, 279, 130, 221, 168, 175, 317, 193, 184, 187, 132, 144, 190, 150, 212, 207, 154, 182, 334, 180, 195, 163, 307, 205, 108, 194, 217, 149, 189, 228, 191, 167, 158, 112, 160, 173, 133, 291, 157, 219, 19, 160, 233, 172, 224, 215, 128, 193, 223, 195, 180, 110.0, 183, 171, 164, 152, 261, 172, 343, 149, 194, 218, 161, 190, 259, 145, 289, 159, 50, 138, 199, 171, 200, 246, 187, 128, 209, 200, 187, 199, 247, 176, 224, 188, 274, 187, 310, 208, 193, 200, 260, 137, 184, 196, 185, 213, 333, 170, 156, 98, 156, 98, 53, 224, 216, 198, 168, 141, 214, 376, 105, 239, 96, 165, 159, 162, 181, 101, 168, 109, 203, 169, 188, 182, 164, 188.0, 173, 242, 431.0, 117, 124, 157, 207, 266, 142, 406, 123, 159, 175, 156, 178, 167, 179, 155, 147, 251, 152, 198, 243, 422, 260, 129, 170, 189, 246, 179, 159, 193.0, 151, 203, 166, 176, 291, 224, 152, 186, 71, 253, 75, 197, 171, 163, 135, 419, 142, 317, 170, 174, 255, 250, 222, 241, 137, 136, 128, 234, 149, 211, 217, 155, 251, 112, 165, 237, 147, 144, 140, 164, 164, 171, 137, 189, 169, 175, 77, 171, 385, 159, 162, 157, 178, 165, 125, 187, 269, 138, 113, 208, 237, 167, 266, 188, 131, 236, 132, 369, 131, 127, 622, 210, 152, 301, 208, 215, 183, 227, 245, 233, 170, 268, 142, 194, 225, 197, 130, 271, 117, 153, 202, 176, 172, 23, 169, 217, 204, 224, 174, 199, 264, 181, 192, 132, 280, 159, 212, 239, 455, 142.0, 165, 179, 201, 154, 192, 269, 285, 248, 184, 152, 155, 73, 249, 169.0, 255, 216, 234, 503, 198, 169, 233, 568, 185, 179, 136, 689, 134, 134, 180, 301, 201, 150, 315, 126, 121, 264, 157, 190, 231, 590, 218, 183, 126, 101, 245, 252.0, 147, 152, 246, 172, 158, 294, 223, 137, 282, 226, 265, 187, 213, 359, 219, 230, 112, 130, 144, 179, 178, 294, 171, 132, 158, 120, 173, 186, 186, 182, 133, 256, 166, 303, 163, 285.0, 220, 142, 159, 215, 161, 208, 162, 122, 195, 231, 247, 157, 185, 171, 201, 158, 165, 113, 252, 222, 116.0, 165, 212, 306, 460, 127, 170, 272, 153, 169, 185, 142, 167, 169, 224, 147, 147, 195, 190, 217, 165, 151, 81, 238, 183, 318, 115, 422, 156, 150, 189, 210, 213, 168, 155, 179, 227, 173, 145, 132, 205, 96, 126, 193, 195, 188, 147, 305, 113, 236, 149, 155, 128, 158, 144, 167, 182, 212, 279, 168, 187, 138, 134, 212, 177, 313, 192, 349, 260, 255, 184, 152.0, 205, 153, 192, 247, 158, 149, 254, 174, 207, 141, 153, 183, 188, 168, 186, 194, 140, 205, 236, 190, 205, 133, 200, 233, 246, 397, 179, 237, 83, 291, 135, 258, 187, 195, 158, 188, 145, 170, 201, 214, 259, 143, 172, 167, 187, 185, 187, 200, 291, 190, 246, 221, 82, 169, 242, 187, 206, 160, 255, 270, 196, 181, 105, 148, 165, 430, 238, 206, 242, 161, 162, 107, 176, 198, 92, 341, 242, 438, 98, 170, 110, 199, 189, 203, 173, 90, 327, 227, 182, 143, 220, 161, 105, 236, 126, 162, 162, 196, 242, 167, 68, 185, 152, 204, 170, 144, 88, 176, 134, 189, 186, 143, 197, 164, 166, 146, 262, 154, 250, 143, 181, 92, 215, 284.0, 221, 184, 243, 140, 156, 191, 292, 195, 237, 421, 210, 202, 214, 100, 147, 154, 139, 154, 217, 208, 252, 122, 150, 130, 158, 177, 207, 186, 206, 174, 211, 185, 234, 247, 135, 161, 217, 179, 216, 270, 189, 179, 106, 207, 259, 159, 186, 179, 188, 169, 169, 228, 192, 168, 158, 190, 275, 394, 381, 192, 148, 190, 208, 18, 220, 170, 186, 295, 155, 146, 182, 136, 136, 134, 141, 194, 232, 515.0, 171, 198, 225, 138, 124, 138, 435, 163, 136, 181, 194, 278, 202, 284, 184, 184, 206, 159, 225.0, 102, 247, 13, 156, 217, 185, 86.0, 176, 200, 321, 183, 169, 212, 218, 148, 270, 148, 229, 286, 184, 588, 234, 166, 207, 200, 181, 241, 197, 147, 222, 219, 165, 141, 127, 428, 188, 167, 605, 305, 214, 177, 245, 201, 159, 125, 141, 175, 201, 218, 162, 190, 218, 228, 255, 93, 186, 159, 123, 168, 155, 128, 224, 231, 197, 176, 172, 169, 381, 187, 276, 47, 166, 155, 146, 165, 207, 213, 324, 179, 226, 276, 160, 186, 230, 198, 148, 180, 155, 198, 160, 180, 130, 205, 170, 197, 171, 327, 169, 265, 167, 132, 168, 358, 262, 189, 173, 213, 197, 171, 238, 93, 110, 157, 269, 183, 162, 235, 174, 144, 148, 283, 197, 303, 184, 154, 125, 158, 170, 239, 170, 341, 214, 162, 182, 271, 177, 223, 195, 158, 143, 124, 124, 342, 150, 167, 419, 213, 199, 205, 163, 170, 159, 397, 209, 268, 265, 164, 189, 178, 196, 151, 222, 123, 172, 349, 151, 170, 243, 184, 197, 143, 162, 155, 209, 157, 174, 329, 179, 304, 194, 318, 185.0, 251, 106, 197, 153, 141, 640, 120, 95, 141, 146, 160, 433, 282, 163, 233, 208, 166, 190, 214, 167, 106, 497.0, 184, 164, 188, 183, 382, 165, 131]\n",
      "list_last_valid_element:\n",
      " [1, 57, 55, 23, 14, 57, 3, 62, 56, 38, 50, 9, 55, 10, 23, 2, 18, 59, 10, 34, 29, 49, 4, 8, 16, 57, 33, 41, 26, 54, 58, 31, 53, 40, 47, 20, 44, 15, 20, 37, 23, 14, 45, 49, 18, 51, 54, 33, 10, 14, 23, 48, 33, 53, 49, 34, 55, 8, 13, 24, 2, 14, 8, 8, 59, 54, 14, 40, 42, 56, 41, 62, 55, 58, 6, 60, 14, 22, 37, 42, 42, 5, 48, 33, 12, 56, 29, 30, 55, 17, 39, 51, 5, 34, 47, 22, 32, 23, 34, 42, 34, 44, 1, 13, 53, 33, 19, 7, 16, 48, 17, 25, 54, 50, 1, 13, 17, 22, 51, 43, 46, 54, 13, 24, 8, 16, 21, 53, 4, 36, 60, 60, 54, 18, 59, 28, 26, 43, 41, 45, 59, 43, 52, 11, 30, 54, 48, 38, 45, 32, 11, 26, 55, 18, 39, 15, 61, 5, 50, 48, 22, 7, 44, 20, 11, 51, 33, 38, 46, 28, 58, 23, 16, 42, 28, 45, 42, 22, 13, 55, 32, 37, 3, 35, 27, 62, 19, 41, 38, 60, 44, 25, 45, 12, 20, 54, 1, 30, 0, 39, 24, 2, 16, 38, 7, 5, 46, 10, 21, 56, 62, 4, 21, 21, 12, 21, 4, 46, 24, 52, 15, 55, 41, 54, 43, 58, 46, 24, 45, 13, 61, 26, 16, 55, 51, 38, 18, 13, 12, 60, 1, 24, 47, 35, 25, 8, 54, 40, 2, 39, 25, 29, 54, 33, 57, 18, 42, 58, 52, 58, 35, 10, 22, 24, 27, 47, 31, 48, 22, 38, 2, 30, 58, 11, 60, 42, 62, 32, 62, 36, 8, 20, 19, 45, 23, 27, 45, 59, 37, 53, 59, 14, 26, 1, 8, 24, 31, 12, 29, 22, 55, 53, 42, 57, 57, 16, 1, 51, 35, 57, 4, 59, 19, 36, 59, 1, 16, 61, 61, 25, 3, 34, 4, 11, 32, 35, 12, 11, 46, 43, 17, 31, 53, 19, 15, 43, 55, 60, 38, 3, 11, 7, 27, 24, 45, 44, 25, 41, 16, 31, 1, 6, 53, 62, 47, 29, 15, 25, 8, 25, 18, 0, 51, 0, 2, 17, 5, 10, 0, 2, 33, 46, 54, 61, 48, 18, 47, 27, 15, 25, 16, 62, 34, 23, 39, 56, 3, 6, 58, 9, 18, 54, 40, 11, 51, 49, 54, 29, 5, 24, 56, 61, 36, 3, 50, 32, 27, 58, 7, 54, 45, 18, 52, 27, 16, 23, 52, 52, 24, 42, 51, 39, 23, 6, 4, 25, 44, 10, 9, 43, 28, 34, 46, 48, 20, 49, 10, 1, 40, 17, 39, 0, 22, 53, 44, 38, 56, 56, 36, 34, 52, 6, 33, 47, 30, 3, 52, 58, 38, 18, 61, 25, 61, 46, 48, 31, 5, 45, 38, 22, 33, 44, 15, 27, 52, 17, 4, 49, 16, 0, 5, 57, 3, 55, 21, 51, 16, 29, 31, 38, 25, 46, 24, 36, 50, 11, 27, 18, 19, 23, 0, 46, 27, 25, 30, 36, 30, 41, 1, 26, 12, 4, 36, 13, 3, 49, 20, 15, 6, 13, 13, 46, 38, 58, 32, 60, 22, 32, 34, 30, 0, 53, 8, 16, 29, 60, 16, 36, 45, 52, 30, 8, 40, 7, 35, 30, 39, 13, 46, 2, 23, 13, 47, 32, 13, 58, 39, 45, 20, 38, 10, 34, 37, 58, 16, 4, 32, 19, 55, 43, 37, 37, 18, 53, 50, 52, 21, 50, 50, 10, 60, 10, 48, 41, 25, 48, 44, 5, 34, 31, 42, 56, 18, 9, 12, 48, 60, 20, 11, 39, 9, 38, 55, 2, 58, 27, 49, 56, 51, 58, 11, 51, 50, 22, 24, 30, 17, 43, 28, 10, 35, 28, 30, 20, 53, 18, 8, 51, 60, 40, 41, 2, 47, 38, 45, 60, 46, 25, 44, 51, 46, 39, 48, 60, 30, 62, 26, 47, 36, 5, 18, 39, 47, 29, 33, 35, 46, 61, 31, 18, 18, 21, 62, 48, 45, 44, 3, 48, 3, 16, 42, 0, 61, 26, 29, 53, 17, 44, 50, 43, 2, 19, 3, 28, 20, 56, 55, 32, 15, 23, 16, 27, 48, 36, 49, 58, 45, 17, 41, 55, 22, 45, 51, 20, 34, 39, 1, 24, 40, 22, 49, 59, 59, 44, 57, 32, 17, 34, 21, 59, 30, 54, 19, 37, 46, 14, 48, 4, 55, 32, 59, 12, 34, 37, 41, 40, 30, 56, 29, 41, 8, 33, 38, 59, 32, 4, 42, 46, 39, 10, 38, 30, 10, 11, 17, 3, 31, 7, 7, 5, 52, 2, 61, 4, 6, 52, 51, 47, 35, 24, 41, 19, 2, 54, 58, 17, 6, 39, 53, 11, 39, 2, 0, 29, 42, 32, 46, 56, 53, 44, 53, 22, 22, 34, 8, 43, 60, 17, 53, 7, 53, 49, 1, 4, 44, 26, 6, 24, 9, 20, 37, 37, 44, 36, 51, 33, 53, 54, 56, 3, 5, 1, 27, 55, 5, 38, 8, 51, 55, 3, 14, 21, 31, 2, 5, 18, 36, 32, 44, 33, 51, 42, 40, 56, 42, 0, 21, 39, 25, 16, 29, 42, 37, 8, 23, 59, 24, 10, 18, 53, 1, 7, 53, 13, 54, 58, 56, 3, 3, 17, 40, 12, 28, 37, 3, 47, 53, 33, 45, 36, 43, 1, 33, 59, 39, 25, 60, 1, 43, 14, 16, 3, 52, 9, 18, 50, 28, 11, 2, 28, 28, 3, 14, 33, 57, 11, 6, 8, 46, 9, 22, 35, 62, 59, 49, 57, 0, 48, 30, 9, 4, 55, 36, 24, 43, 8, 11, 59, 5, 42, 43, 27, 5, 62, 29, 11, 61, 39, 3, 47, 7, 35, 57, 47, 54, 4, 25, 55, 60, 30, 2, 59, 54, 33, 48, 23, 24, 40, 58, 2, 20, 60, 46, 34, 51, 51, 35, 44, 47, 26, 31, 42, 62, 43, 58, 62, 4, 21, 15, 34, 25, 31, 47, 44, 15, 60, 1, 2, 5, 54, 59, 12, 6, 39, 28, 3, 57, 33, 41, 1, 55, 9, 8, 31, 2, 42, 44, 26, 13, 3, 53, 35, 6, 16, 61, 44, 57, 14, 16, 40, 36, 0, 46, 21, 13, 37, 55, 59, 22, 62, 30, 2, 29, 60, 14, 60, 21, 16, 49, 18, 3, 36, 53, 16, 19, 56, 51, 21, 60, 42, 55, 24, 40, 57, 46, 20, 4, 41, 1, 34, 16, 13, 15, 31, 22, 32, 22, 51, 38, 16, 7, 4, 35, 46, 36, 3, 34, 15, 27, 39, 50, 22, 38, 41, 4, 36, 12, 24, 28, 62, 61, 28, 14, 57, 17, 54, 53, 20, 5, 57, 33, 11, 16, 56, 34, 43, 2, 6, 37, 48, 49, 31, 20, 40, 1, 44, 9, 25, 58, 24, 17, 12, 4, 39, 49, 57, 61, 21, 62, 20, 44, 53, 14, 26, 41, 36, 39, 16, 10, 4, 33, 12, 0, 39, 51, 62, 58, 33, 41, 22, 16, 62, 61, 28, 26, 62, 2, 12, 27, 19, 54, 16, 8, 18, 10, 2, 0, 44, 8, 30, 46, 10, 35, 47, 53, 56, 24, 29, 29, 50, 33, 9, 11, 13, 19, 21, 22, 7, 13, 35, 7, 9, 50, 50, 40, 51, 57, 34, 42, 24, 0, 50, 29, 40, 36, 60, 46, 56, 2, 36, 19, 13, 11, 41, 42, 50, 55, 33, 41, 17, 37, 17, 38, 26, 43, 54, 44, 18, 48, 27, 51, 6, 18, 31, 24, 33, 24, 8, 27, 8, 6, 34, 45, 31, 40, 18, 53, 12, 47, 59, 2, 39, 20, 51, 25, 59, 50, 9, 45, 12, 18, 32, 41, 53, 50, 33, 7, 9, 22, 21, 38, 59, 16, 61, 41, 29, 47, 56, 8, 51, 51, 40, 43, 19, 3, 48, 43, 9, 11, 5, 10, 62, 48, 35, 45, 27, 0, 44, 3, 29, 13, 23, 48, 53, 8, 39, 60, 19, 45, 3, 11, 28, 9, 12, 39, 2, 60, 18, 51, 54, 51, 50, 45, 34, 35, 57, 6, 36, 12, 7, 42, 61, 57, 16, 27, 42, 42, 53, 60, 62, 49, 13, 34, 34, 52, 50, 34, 13, 45, 12, 14, 35, 1, 44, 60, 31, 34, 49, 53, 30, 24, 22, 46, 10, 19, 59, 23, 14, 9, 31, 26, 8, 27, 60, 39, 19, 18, 40, 36, 53, 12, 21, 35, 16, 49, 20, 61, 45, 22, 45, 59, 2, 17, 59, 12, 60, 31, 43, 36, 46, 52, 3, 2, 0, 19, 52, 6, 40, 5, 39, 30, 27, 31, 55, 46, 59, 32, 38, 2, 42, 46, 18, 40, 33, 33, 30, 1, 57, 7, 43, 34, 15, 30, 12, 55, 42, 26, 18, 32, 6, 26, 4, 62, 33, 42, 31, 32, 41, 11, 57, 18, 14, 12, 23, 46, 22, 41, 24, 2, 20, 4, 25, 37, 40, 11, 0, 4, 27, 0, 6, 55, 25, 58, 46, 41, 19, 52, 16, 36, 62, 26, 46, 59, 13, 33, 32, 20, 5, 58, 39, 47, 21, 58, 60, 22, 43, 8, 46, 19, 21, 5, 9, 32, 61, 47, 46, 35, 51, 48, 54, 52, 5, 23, 58, 19, 56, 7, 7, 24, 53, 28, 15, 57, 7, 18, 31, 29, 4, 25, 22, 62, 41, 62, 21, 58, 52, 57, 33, 7, 11, 3, 27, 39, 38, 1, 55, 61, 42, 1, 19, 19, 33, 50, 55, 22, 58, 56, 57, 61, 45, 8, 16, 17, 11, 18, 27, 23, 59, 18, 44, 36, 28, 59, 58, 46, 50, 44, 53, 5, 54, 40, 28, 24, 30, 50, 61, 47, 0, 51, 8, 45, 61, 20, 50, 55, 3, 46, 7, 42, 26, 34, 4, 48, 3, 53, 10, 5, 53, 52, 52, 47, 22, 52, 27, 59, 28, 28, 1, 2, 18, 62, 50, 55, 19, 40, 29, 59, 24, 21, 0, 5, 12, 41, 7, 57, 17, 0, 31, 3, 19, 47, 11, 37, 23, 19, 15, 5, 22, 10, 10, 35, 32, 9, 46, 47, 28, 47, 40, 35, 24, 2, 12, 16, 36, 14, 38, 7, 49, 28, 6, 55, 29, 25, 24, 43, 11, 2, 40, 26, 40, 58, 5, 6, 18, 32, 20, 34, 52, 6, 39, 13, 27, 31, 60, 24, 44, 36, 20, 24, 49, 49, 12, 52, 10, 8, 55, 43, 38, 20, 1, 10, 52, 13, 11, 19, 47, 4, 36, 16, 6, 12, 13, 26, 13, 33, 17, 62, 55, 34, 22, 62, 14, 1, 6, 51, 38, 40, 61, 24, 4, 6, 60, 47, 38, 29, 21, 47, 62, 16, 3, 18, 7, 6, 0, 1, 54, 54, 43, 36, 58, 53, 28, 42, 52, 37, 40, 1, 21, 6, 57, 53, 26, 39, 24, 21, 41, 22, 3, 14, 54, 23, 8, 40, 21, 40, 44, 57, 4, 44, 52, 1, 42, 13, 17, 19, 18, 41, 47, 35, 8, 17, 46, 29, 51, 14, 58, 43, 51, 15, 7, 26, 21, 11, 22, 28, 38, 14, 32, 41, 51, 47, 29, 40, 59, 52, 28, 52, 44, 13, 59, 31, 19, 2, 19, 12, 36, 51, 50, 25, 62, 18, 60, 53, 15, 31, 47, 32, 3, 6, 20, 12, 56, 57, 20, 6, 36, 41, 53, 52, 18, 43, 50, 46, 23, 13, 61, 22, 1, 18, 20, 54, 21, 51, 42, 0, 23, 20, 62, 54, 33, 6, 56, 20, 37, 41, 49, 54, 21, 33, 46, 1, 9, 43, 61, 1, 24, 42, 15, 31, 49, 10, 13, 45, 42, 32, 51, 49, 3, 45, 52, 16, 21, 48, 56, 10, 7, 35, 49, 11, 5, 31, 24, 56, 28, 60, 17, 5, 59, 2, 36, 12, 54, 0, 42, 41, 17, 47, 2, 18, 60, 15, 34, 27, 8, 3, 27, 36, 5, 28, 15, 28, 2, 22, 37, 30, 2, 55, 34, 48, 32, 40, 46, 42, 10, 41, 35, 58, 56, 19, 27, 47, 45, 10, 45, 25, 8, 17, 61, 4, 42, 19, 38, 49, 59, 30, 59, 16, 35, 37, 22, 24, 62, 24, 42, 46, 58, 38, 55, 24, 39, 54, 26, 37, 7, 17, 42, 46, 1, 2, 3, 29, 10, 5, 6, 59, 20, 16, 19, 23, 11, 43, 52, 21, 25, 37, 9, 22, 20, 49, 5, 43, 15, 53, 48, 22, 23, 36, 19, 38, 57, 4, 60, 33, 26, 57, 14, 29, 47, 19, 37, 62, 49, 21, 48, 50, 41, 58, 7, 55, 21, 17, 31, 23, 33, 54, 12, 61, 12, 14, 51, 32, 39, 0, 57, 38, 56, 28, 7, 12, 8, 17, 29, 8, 19, 8, 55, 27, 54, 59, 9, 44, 46, 46, 51, 62, 5, 49, 5, 15, 35, 43, 20, 2, 13, 34, 1, 60, 56, 50, 25, 26, 58, 16, 54, 11, 10, 46, 51, 33, 2, 51, 10, 58, 40, 34, 44, 37, 16, 58, 0, 35, 15, 51, 45, 2, 18, 23, 29, 26, 0, 57, 22, 12, 34, 13, 51, 54, 6, 37, 61, 31, 22, 18, 8, 25, 15, 53, 14, 39, 49, 43, 15, 38, 41, 30, 46, 37, 15, 51, 30, 45, 8, 31, 15, 13, 40, 41, 41, 37, 56, 16, 58, 52, 42, 60, 33, 53, 18, 26, 61, 26, 37, 34, 55, 17, 30, 45, 42, 45, 53, 36, 8, 6, 40, 62, 21, 37, 39, 44, 44, 30, 10, 46, 45, 3, 59, 59, 55, 49, 4, 21, 36, 58, 5, 44, 20, 19, 15, 24, 27, 55, 36, 6, 13, 15, 0, 20, 29, 5, 60, 13, 56, 14, 10, 34, 1, 19, 30, 62, 34, 34, 25, 3, 16, 42, 5, 25, 51, 30, 28, 38, 56, 25, 56, 12, 30, 39, 14, 16, 49, 21, 49, 40, 14, 22, 6, 54, 41, 46, 34, 9, 33, 30, 47, 56, 48, 37, 33, 12, 13, 50, 9, 41, 0, 36, 10, 32, 22, 17, 47, 14, 25, 22, 30, 14, 11, 40, 9, 50, 60, 27, 0, 51, 22, 34, 22, 3, 46, 18, 2, 61, 52, 18, 25, 27, 17, 48, 59, 12, 8, 7, 3, 8, 9, 4, 18, 3, 0, 28, 56, 33, 4, 37, 57, 55, 32, 16, 10, 36, 37, 40, 11, 36, 36, 60, 5, 21, 42, 3, 54, 51, 54, 1, 36, 46, 38, 58, 32, 23, 56, 16, 37, 25, 33, 13, 55, 26, 62, 15, 31, 15, 61, 42, 38, 48, 8, 38, 5, 52, 14, 22, 14, 38, 20, 21, 27, 59, 10, 24, 59, 50, 62, 57, 16, 59, 5, 1, 48, 54, 48, 21, 49, 50, 10, 17, 51, 5, 57, 12, 41, 4, 14, 26, 59, 55, 25, 44, 52, 11, 28, 28, 3, 53, 44, 16, 30, 17, 37, 36, 20, 41, 37, 8, 27, 19, 33, 60, 4, 7, 18, 8, 27, 14, 40, 35, 37, 24, 11, 17, 57, 35, 3, 53, 49, 44, 7, 54, 36, 7, 57, 15, 37, 48, 51, 25, 21, 51, 18, 1, 14, 62, 60, 24, 8, 41, 44, 3, 2, 12, 8, 26, 55, 57, 53, 3, 40, 23, 10, 59, 2, 24, 62, 42, 33, 30, 49, 53, 8, 60, 58, 41, 33, 51, 39, 35, 33, 13, 59, 58, 14, 36, 54, 21, 16, 30, 29, 11, 30, 47, 60, 7, 57, 26, 57, 27, 1, 51, 22, 7, 35, 27, 51, 53, 15, 50, 41, 58, 61, 45, 58, 14, 14, 50, 2, 39, 19, 4, 12, 4, 20, 42, 51, 47, 22, 21, 34, 41, 46, 61, 25, 19, 57, 43, 61, 49, 30, 42, 51, 22, 3, 48, 32, 25, 1, 58, 0, 62, 58, 35, 13, 32, 51, 55, 4, 5, 36, 41, 50, 18, 44, 1, 30, 15, 54, 60, 14, 10, 55, 1, 59, 50, 14, 19, 19, 5, 26, 11, 58, 24, 9, 35, 44, 29, 27, 23, 5, 50, 32, 40, 52, 54, 17, 21, 6, 6, 21, 23, 38, 8, 5, 4, 49, 50, 19, 4, 28, 4, 17, 54, 4, 51, 60, 17, 38, 46, 22, 41, 9, 55, 17, 49, 10, 62, 56, 39, 62, 27, 25, 39, 48, 45, 56, 36, 32, 6, 36, 0, 26, 57, 21, 20, 50, 53, 11, 14, 18, 59, 40, 20, 50, 37, 50, 25, 55, 17, 56, 14, 44, 6, 25, 12, 2, 43, 38, 35, 21, 57, 35, 43, 18, 12, 40, 60, 43, 34, 26, 27, 33, 1, 53, 47, 17, 16, 41, 1, 26, 60, 44, 17, 26, 11, 55, 47, 13, 49, 43, 16, 8, 17, 7, 8, 56, 56, 49, 10, 30, 53, 58, 21, 28, 55, 40, 6, 1, 35, 8, 32, 22, 50, 62, 53, 51, 56, 14, 50, 1, 54, 39, 54, 53, 2, 46, 24, 12, 46, 3, 10, 10, 31, 58, 38, 45, 18, 1, 55, 17, 22, 30, 24, 26, 13, 5, 59, 54, 15, 11, 59, 56, 9, 53, 45, 17, 39, 38, 58, 51, 33, 11, 49, 21, 31, 61, 51, 39, 15, 30, 51, 55, 46, 39, 4, 55, 20, 31, 11, 42, 5, 19, 37, 31, 43, 12, 53, 41, 50, 11, 28, 28, 43, 39, 28, 58, 23, 53, 18, 34, 2, 8, 12, 18, 62, 35, 57, 23, 9, 55, 31, 37, 51, 59, 47, 1, 10, 21, 10, 2, 29, 44, 52, 7, 53, 30, 14, 55, 40, 4, 51, 50, 24, 26, 55, 4, 50, 50, 40, 10, 0, 14, 0, 54, 3, 23, 39, 5, 41, 59, 16, 28, 46, 24, 58, 9, 23, 7, 10, 53, 53, 51, 56, 51, 42, 2, 12, 11, 23, 59, 56, 60, 61, 18, 56, 61, 17, 0, 12, 25, 36, 38, 30, 4, 13, 39, 21, 19, 29, 23, 56, 5, 54, 3, 38, 39, 3, 19, 61, 56, 48, 32, 26, 41, 36, 50, 58, 24, 18, 43, 20, 12, 27, 50, 17, 13, 17, 46, 61, 2, 26, 27, 34, 62, 10, 37, 52, 47, 56, 60, 11, 38, 38, 57, 2, 57, 32, 25, 41, 25, 52, 58, 61, 38, 2, 19, 17, 46, 35, 25, 6, 41, 41, 45, 54, 58, 61, 32, 2, 48, 13, 35, 25, 2, 20, 54, 50, 46, 0, 48, 16, 45, 4, 4, 6, 37, 36, 37, 8, 61, 44, 39, 12, 54, 1, 0, 38, 51, 33, 45, 36, 22, 36, 19, 33, 5, 14, 56, 44, 25, 41, 59, 48, 46, 58, 20, 52, 54, 1, 29, 11, 40, 5, 43, 51, 37, 10, 37, 16, 22, 53, 44, 18, 50, 16, 6, 35, 10, 61, 16, 47, 25, 43, 41, 23, 44, 62, 10, 12, 46, 25, 61, 35, 32, 7, 53, 21, 49, 38, 56, 18, 58, 39, 10, 17, 39, 21, 1, 50, 27, 56, 21, 19, 50, 8, 55, 5, 30, 45, 17, 41, 30, 14, 40, 36, 57, 17, 41, 4, 26, 29, 50, 23, 21, 58, 11, 26, 7, 59, 22, 2, 28, 25, 41, 23, 45, 36, 54, 13, 0, 52, 33, 2, 4, 18, 7, 62, 19, 31, 57, 47, 18, 32, 29, 46, 2, 50, 6, 5, 23, 61, 12, 3, 48, 8, 56, 39, 32, 12, 17, 24, 59, 48, 50, 47, 17, 2, 13, 34, 49, 18, 0, 23, 25, 1, 49, 14, 30, 56, 9, 62, 14, 34, 62, 16, 53, 60, 32, 7, 22, 55, 16, 48, 43, 52, 22, 55, 28, 27, 27, 23, 15, 5, 2, 43, 25, 11, 45, 1, 20, 25, 19, 39, 41, 51, 42, 0, 38, 23, 45, 52, 0, 14, 48, 40, 58, 60, 35, 48, 35, 27, 31, 45, 4, 29, 6, 55, 13, 61, 17, 13, 17, 40, 30, 42, 57, 6, 39, 23, 21, 34, 40, 22, 45, 34, 27, 21, 50, 36, 23, 37, 42, 13, 43, 19, 61, 62, 19, 54, 52, 43, 52, 58, 18, 2, 20, 49, 37, 41, 11, 37, 46, 10, 62, 7, 30, 37, 16, 60, 31, 14, 38, 0, 30, 8, 36, 0, 36, 14, 59, 57, 32, 48, 52, 5, 44, 22, 36, 1, 5, 60, 13, 7, 14, 25, 12, 62, 23, 21, 35, 38, 30, 39, 47, 37, 42, 44, 12, 11, 61, 10, 54, 49, 3, 20, 5, 8, 9, 54, 48, 46, 32, 1, 35, 43, 6, 20, 37, 60, 41, 53, 9, 15, 26, 11, 47, 17, 50, 14, 18, 52, 33, 45, 43, 3, 58, 13, 4, 39, 51, 50, 0, 59, 19, 6, 56, 50, 45, 50, 38, 41, 51, 42, 21, 10, 57, 53, 10, 56, 14, 37, 21, 42, 30, 50, 6, 35, 35, 27, 32, 20, 25, 56, 38, 34, 40, 50, 27, 62, 16, 11, 33, 44, 24, 16, 32, 14, 60, 2, 29, 14, 34, 15, 29, 11, 11, 46, 5, 59, 37, 8, 57, 52, 11, 30, 40, 2, 1, 33, 24, 46, 48, 2, 40, 62, 26, 21, 2, 62, 1, 48, 51, 20, 47, 14, 13, 9, 51, 23, 44, 24, 40, 61, 41, 45, 28, 27, 7, 1, 37, 11, 5, 20, 50, 1, 18, 50, 3, 23, 48, 20, 34, 57, 36, 17, 10, 15, 37, 47, 22, 57, 43, 59, 28, 4, 47, 52, 56, 23, 47, 41, 51, 59, 1, 32, 8, 50, 28, 61, 53, 4, 62, 52, 53, 11, 59, 18, 39, 34, 12, 15, 42, 21, 29, 43, 2, 55, 32, 53, 26, 15, 15, 35, 45, 20, 1, 4, 58, 53, 25, 48, 22, 54, 42, 37, 35, 55, 38, 46, 4, 53, 11, 34, 38, 61, 61, 24, 52, 19, 15, 10, 51, 20, 25, 60, 14, 43, 27, 42, 36, 4, 43, 17, 61, 39, 54, 1, 9, 41, 27, 38, 26, 23, 44, 13, 13, 52, 3, 24, 26, 28, 59, 45, 27, 62, 21, 42, 29, 4, 43, 5, 21, 46, 17, 32, 34, 53, 26, 8, 12, 28, 11, 12, 28, 58, 18, 50, 49, 62, 39, 59, 5, 54, 18, 28, 55, 20, 30, 47, 23, 38, 53, 24, 10, 47, 6, 61, 6, 43, 5, 25, 35, 41, 47, 9, 45, 17, 12, 36, 49, 20, 45, 11, 38, 58, 33, 48, 42, 10, 56, 19, 22, 45, 32, 34, 9, 18, 31, 48, 11, 31, 59, 5, 49, 42, 14, 58, 29, 18, 28, 21, 17, 55, 49, 16, 3, 17, 52, 30, 43, 24, 50, 5, 9, 50, 12, 30, 61, 48, 26, 42, 7, 54, 26, 55, 54, 52, 30, 50, 17, 21, 9, 26, 57, 47, 20, 11, 45, 53, 3, 21, 19, 53, 38, 15, 19, 39, 38, 61, 43, 12, 2, 50, 38, 57, 2, 34, 60, 58, 33, 48, 15, 4, 43, 30, 8, 18, 51, 34, 33, 26, 43, 14, 19, 61, 10, 14, 54, 10, 19, 27, 26, 8, 17, 14, 49, 56, 16, 55, 27, 32, 0, 57, 37, 31, 9, 57, 39, 35, 47, 46, 15, 44, 49, 36, 38, 55, 16, 57, 42, 25, 25, 26, 14, 50, 36, 11, 32, 3, 57, 36, 44, 8, 53, 28, 16, 5, 38, 25, 7, 5, 23, 36, 13, 56, 58, 28, 61, 46, 8, 1, 18, 59, 4, 28, 49, 1, 58, 61, 22, 22, 40, 34, 31, 25, 21, 30, 16, 2, 18, 6, 10, 36, 50, 36, 15, 18, 44, 16, 21, 8, 55, 53, 49, 35, 45, 19, 11, 7, 9, 55, 11, 22, 36, 62, 19, 42, 20, 2, 60, 21, 14, 58, 62, 38, 30, 42, 59, 49, 6, 40, 62, 57, 15, 6, 40, 32, 43, 0, 43, 60, 2, 11, 20, 27, 30, 1, 13, 18, 45, 38, 10, 19, 2, 48, 25, 62, 17, 45, 42, 5, 32, 60, 62, 22, 6, 10, 14, 52, 8, 13, 55, 31, 28, 57, 53, 16, 28, 23, 22, 34, 25, 18, 33, 60, 39, 11, 45, 29, 8, 56, 44, 36, 36, 23, 27, 19, 31, 37, 21, 49, 30, 46, 1, 61, 57, 43, 12, 33, 0, 27, 9, 19, 43, 43, 25, 27, 39, 57, 44, 38, 59, 17, 46, 36, 55, 22, 54, 41, 24, 19, 28, 50, 19, 60, 51, 6, 21, 61, 22, 10, 18, 30, 3, 35, 29, 62, 55, 35, 8, 58, 40, 8, 37, 32, 39, 13, 11, 55, 41, 17, 57, 54, 5, 38, 42, 46, 14, 53, 17, 16, 37, 23, 57, 18, 57, 43, 23, 41, 56, 42, 27, 37, 16, 9, 15, 29, 50, 52, 18, 31, 12, 28, 33, 60, 40, 37, 49, 8, 18, 11, 5, 44, 21, 11, 55, 8, 47, 33, 15, 24, 1, 30, 43, 41, 19, 47, 24, 60, 53, 38, 13, 62, 25, 20, 54, 4, 56, 2, 3, 56, 22, 57, 8, 22, 61, 49, 9, 23, 19, 13, 27, 62, 33, 9, 59, 6, 39, 49, 11, 17, 26, 32, 11, 46, 27, 10, 24, 20, 20, 31, 28, 43, 22, 42, 17, 32, 59, 52, 50, 49, 51, 18, 55, 15, 47, 53, 61, 52, 59, 12, 0, 59, 28, 49, 20, 59, 24, 42, 59, 3, 60, 25, 48, 54, 20, 23, 56, 3, 19, 29, 51, 37, 42, 30, 53, 33, 60, 61, 11, 39, 60, 51, 3, 28, 5, 39, 51, 51, 31, 57, 2, 36, 58, 34, 15, 49, 59, 21, 19, 26, 35, 48, 55, 9, 55, 13, 26, 3, 29, 10, 3, 5, 17, 32, 56, 34, 31, 16, 19, 19, 47, 4, 24, 47, 15, 3, 53, 27, 49, 46, 46, 10, 10, 62, 53, 36, 35, 48, 19, 26, 58, 8, 21, 29, 46, 25, 13, 3, 27, 61, 28, 31, 51, 27, 28, 34, 23, 42, 20, 61, 6, 12, 50, 20, 53, 34, 12, 47, 44, 2, 24, 59, 2, 31, 57, 34, 44, 44, 58, 23, 17, 5, 58, 52, 5, 2, 28, 10, 9, 6, 8, 26, 13, 62, 18, 1, 38, 23, 44, 13, 31, 41, 52, 10, 19, 8, 62, 50, 49, 34, 62, 16, 56, 9, 9, 35, 38, 1, 32, 56, 10, 53, 57, 40, 48, 17, 0, 39, 15, 6, 24, 38, 18, 25, 2, 53, 60, 40, 7, 11, 19, 3, 50, 15, 18, 53, 57, 21, 43, 31, 62, 1, 4, 51, 23, 58, 20, 19, 9, 45, 11, 20, 33, 48, 23, 28, 52, 8, 32, 10, 62, 29, 52, 36, 16, 48, 50, 46, 7, 22, 9, 32, 12, 58, 14, 40, 43, 47, 48, 61, 56, 59, 9, 5, 24, 47, 30, 11, 38, 57, 42, 5, 52, 21, 11, 49, 12, 47, 53, 54, 12, 10, 29, 53, 54, 8, 55, 30, 47, 47, 56, 34, 51, 32, 23, 62, 60, 15, 33, 32, 35, 41, 40, 38, 59, 20, 13, 34, 56, 32, 59, 25, 31, 23, 51, 58, 16, 13, 36, 8, 28, 60, 2, 5, 62, 25, 61, 43, 36, 42, 61, 16, 55, 17, 1, 41, 61, 60, 2, 24, 24, 38, 3, 30, 23, 2, 23, 58, 51, 45, 5, 54, 3, 2, 30, 25, 38, 1, 46, 34, 10, 28, 3, 41, 37, 56, 46, 56, 1, 54, 10, 55, 39, 16, 6, 58, 13, 39, 8, 35, 56, 29, 9, 36, 44, 25, 51, 53, 21, 51, 2, 2, 59, 7, 53, 37, 28, 1, 24, 7, 6, 23, 26, 11, 11, 24, 17, 62, 12, 35, 27, 2, 14, 14, 56, 1, 27, 58, 37, 34, 5, 41, 33, 54, 51, 12, 18, 34, 34, 51, 61, 21, 8, 46, 27, 33, 35, 13, 3, 56, 4, 4, 39, 51, 6, 27, 41, 27, 18, 36, 1, 48, 6, 12, 37, 0, 36, 12, 34, 19, 54, 54, 56, 6, 34, 21, 49, 57, 26, 43, 60, 61, 1, 47, 45, 58, 21, 26, 31, 17, 15, 47, 41, 22, 60, 34, 58, 30, 45, 16, 52, 43, 3, 14, 43, 25, 30, 29, 62, 17, 21, 23, 30, 35, 17, 42, 8, 60, 14, 43, 33, 56, 6, 55, 46, 12, 34, 61, 26, 36, 5, 39, 46, 33, 51, 37, 49, 21, 52, 28, 38, 2, 21, 45, 60, 16, 32, 6, 13, 5, 23, 6, 28, 37, 35, 29, 19, 9, 42, 23, 55, 43, 9, 36, 23, 28, 1, 59, 41, 22, 43, 62, 33, 54, 29, 21, 29, 52, 25, 3, 43, 46, 34, 44, 42, 31, 45, 11, 3, 14, 37, 16, 9, 27, 56, 37, 26, 4, 41, 34, 29, 21, 59, 26, 45, 43, 19, 47, 33, 4, 48, 19, 40, 58, 0, 60, 12, 3, 53, 44, 2, 49, 48, 30, 60, 45, 16, 53, 49, 8, 15, 36, 13, 15, 0, 49, 5, 45, 61, 0, 33, 49, 18, 32, 1, 11, 53, 16, 56, 3, 23, 28, 38, 12, 34, 43, 33, 48, 56, 43, 1, 48, 11, 20, 48, 43, 41, 3, 38, 18, 52, 10, 14, 45, 16, 55, 28, 34, 43, 32, 44, 21, 62, 42, 5, 49, 11, 6, 12, 33, 29, 25, 31, 2, 60, 13, 1, 6, 59, 17, 42, 10, 3, 53, 28, 19, 1, 11, 35, 59, 53, 14, 51, 24, 53, 28, 24, 9, 21, 60, 21, 26, 25, 15, 29, 53, 54, 12, 46, 16, 42, 34, 37, 42, 32, 40, 11, 4, 60, 5, 44, 5, 25, 11, 56, 10, 30, 14, 26, 9, 55, 26, 45, 32, 46, 41, 48, 13, 30, 18, 38, 8, 51, 9, 6, 48, 20, 35, 10, 33, 20, 53, 35, 3, 23, 17, 61, 20, 34, 23, 22, 32, 44, 20, 5, 42, 47, 44, 14, 29, 62, 46, 55, 41, 8, 19, 42, 23, 17, 29, 40, 40, 4, 7, 12, 14, 1, 12, 52, 6, 19, 4, 7, 41, 20, 56, 38, 21, 18, 43, 27, 44, 27, 49, 14, 10, 58, 16, 2, 53, 30, 41, 14, 13, 43, 41, 59, 53, 39, 6, 61, 55, 28, 34, 48, 41, 24, 61, 37, 9, 60, 59, 24, 12, 55, 8, 29, 47, 18, 37, 32, 55, 16, 26, 27, 13, 9, 42, 9, 47, 18, 20, 47, 35, 55, 54, 29, 23, 47, 30, 12, 15, 62, 51, 6, 17, 11, 33, 22, 2, 34, 59, 17, 35, 16, 41, 1, 53, 0, 0, 20, 61, 16, 19, 17, 16, 40, 31, 5, 36, 53, 60, 58, 44, 50, 34, 59, 60, 5, 18, 2, 26, 3, 31, 52, 5, 7, 24, 19, 49, 58, 25, 22, 13, 24, 33, 30, 6, 57, 21, 10, 30, 17, 23, 42, 58, 55, 47, 45, 8, 19, 15, 54, 27, 24, 10, 24, 18, 36, 10, 37, 38, 18, 56, 52, 4, 12, 62, 61, 43, 7, 29, 28, 8, 14, 52, 15, 50, 58, 47, 27, 42, 21, 43, 2, 15, 9, 56, 7, 51, 11, 57, 3, 53, 29, 27, 26, 8, 29, 45, 45, 22, 5, 36, 2, 36, 60, 26, 20, 47, 8, 44, 20, 4, 59, 62, 29, 59, 42, 36, 10, 4, 42, 55, 54, 61, 29, 8, 30, 49, 36, 15, 39, 16, 57, 44, 22, 52, 39, 20, 34, 58, 28, 1, 10, 61, 14, 2, 36, 12, 38, 31, 58, 6, 9, 1, 9, 45, 10, 20, 57, 43, 7, 62, 29, 36, 56, 7, 61, 25, 53, 48, 39, 27, 16, 1, 44, 24, 45, 48, 47, 22, 45, 49, 60, 23, 43, 2, 11, 37, 9, 31, 51, 16, 40, 62, 14, 58, 42, 55, 3, 15, 34, 61, 37, 55, 39, 0, 25, 51, 0, 22, 48, 35, 53, 18, 1, 36, 52, 30, 45, 21, 26, 49, 30, 38, 13, 57, 24, 57, 41, 15, 11, 37, 20, 27, 9, 12, 14, 17, 39, 37, 33, 34, 29, 10, 28, 25, 44, 40, 0, 4, 17, 44, 40, 41, 6, 19, 11, 61, 28, 42, 0, 53, 19, 25, 62, 30, 38, 13, 8, 50, 30, 55, 54, 62, 3, 47, 59, 11, 14, 23, 49, 58, 8, 34, 61, 9, 29, 30, 35, 15, 35, 24, 30, 58, 48, 31, 17, 11, 42, 11, 58, 1, 19, 44, 29, 57, 1, 21, 25, 61, 14, 23, 45, 36, 8, 32, 42, 41, 34, 16, 42, 50, 36, 7, 26, 15, 61, 22, 30, 56, 35, 47, 59, 46, 46, 0, 44, 2, 15, 25, 55, 3, 54, 33, 5, 13, 35, 15, 33, 27, 44, 19, 35, 25, 24, 26, 55, 28, 13, 61, 54, 48, 34, 43, 18, 5, 56, 52, 45, 53, 8, 62, 55, 41, 52, 59, 54, 13, 61, 35, 36, 4, 58, 15, 30, 24, 29, 33, 57, 58, 21, 30, 14, 23, 32, 60, 12, 53, 40, 2, 10, 17, 30, 41, 29, 31, 41, 4, 30, 45, 44, 42, 47, 39, 18, 49, 21, 30, 0, 24, 36, 9, 4, 62, 47, 28, 0, 9, 4, 4, 43, 37, 44, 52, 36, 38, 15, 49, 46, 58, 46, 58, 11, 62, 34, 19, 2, 2, 27, 7, 24, 54, 17, 55, 13, 31, 62, 37, 0, 16, 7, 35, 0, 1, 61, 52, 60, 43, 54, 17, 35, 45, 50, 10, 31, 25, 12, 48, 24, 3, 36, 43, 21, 39, 41, 34, 57, 8, 39, 54, 46, 35, 36, 9, 3, 51, 14, 29, 3, 53, 18, 39, 25, 3, 27, 18, 43, 3, 20, 20, 9, 33, 29, 56, 7, 49, 46, 38, 14, 31, 49, 61, 37, 7, 3, 47, 53, 32, 39, 42, 62, 43, 29, 62, 26, 10, 26, 33, 11, 40, 44, 40, 33, 16, 7, 17, 47, 5, 2, 53, 61, 55, 38, 4, 13, 4, 16, 51, 49, 1, 0, 59, 29, 60, 54, 5, 21, 14, 9, 45, 51, 48, 22, 24, 39, 10, 38, 57, 21, 26, 27, 10, 43, 37, 10, 8, 23, 41, 39, 60, 56, 50, 48, 31, 52, 23, 37, 38, 12, 51, 44, 53, 62, 38, 49, 54, 60, 26, 47, 22, 54, 45, 20, 58, 26, 46, 31, 36, 48, 23, 53, 38, 46, 28, 60, 31, 16, 19, 28, 25, 30, 56, 1, 58, 40, 11, 39, 46, 25, 19, 61, 52, 7, 34, 15, 32, 59, 5, 28, 1, 34, 47, 24, 22, 24, 15, 46, 59, 49, 51, 36, 26, 32, 59, 4, 33, 37, 61, 30, 34, 57, 17, 35, 44, 19, 53, 3, 41, 16, 56, 21, 3, 18, 43, 50, 9, 19, 46, 7, 2, 49, 62, 9, 5, 43, 28, 40, 40, 32, 34, 13, 1, 46, 22, 41, 38, 34, 21, 54, 61, 21, 32, 0, 23, 40, 8, 27, 29, 17, 6, 42, 45, 28, 48, 1, 7, 32, 50, 16, 15, 17, 7, 23, 52, 48, 29, 39, 8, 5, 11, 40, 16, 12, 56, 18, 36, 7, 9, 13, 1, 0, 11, 39, 6, 17, 0, 9, 32, 37, 47, 40, 4, 15, 49, 12, 36, 17, 14, 13, 32, 14, 9, 14, 15, 20, 20, 37, 31, 3, 49, 10, 23, 30, 39, 57, 7, 28, 21, 20, 4, 20, 10, 11, 3, 43, 53, 49, 48, 42, 1, 28, 33, 9, 10, 46, 16, 23, 31, 12, 10, 21, 7, 1, 57, 23, 46, 34, 36, 25, 22, 29, 46, 38, 33, 27, 30, 50, 41, 7, 5, 38, 33, 44, 21, 43, 12, 17, 6, 17, 39, 14, 59, 31, 10, 50, 58, 36, 3, 9, 3, 36, 7, 33, 23, 25, 28, 37, 32, 11, 58, 45, 49, 52, 35, 7, 10, 2, 23, 54, 26, 3, 17, 58, 10, 51, 49, 32, 46, 48, 50, 22, 6, 32, 58, 27, 23, 5, 41, 55, 51, 23, 20, 4, 10, 4, 10, 9, 53, 8, 61, 29, 38, 5, 22, 35, 49, 24, 35, 44, 51, 13, 12, 49, 23, 41, 6, 49, 23, 14, 33, 39, 2, 62, 3, 25, 40, 35, 46, 12, 56, 19, 15, 47, 59, 46, 60, 16, 45, 52, 48, 46, 12, 7, 11, 59, 19, 38, 8, 16, 17, 36, 54, 35, 32, 39, 23, 14, 48, 20, 17, 7, 2, 44, 13, 10, 44, 36, 12, 16, 36, 24, 20, 10, 53, 11, 51, 42, 44, 16, 40, 55, 2, 42, 53, 62, 50, 47, 40, 15, 30, 7, 1, 20, 24, 21, 44, 54, 39, 43, 25, 5, 57, 14, 38, 36, 40, 52, 18, 17, 19, 25, 20, 61, 58, 60, 28, 47, 20, 33, 21, 56, 5, 60, 26, 46, 4, 32, 12, 54, 40, 20, 42, 34, 27, 30, 49, 44, 42, 46, 47, 55, 18, 22, 9, 13, 31, 59, 49, 46, 21, 34, 55, 30, 29, 30, 14, 49, 55, 44, 49, 27, 53, 41, 20, 15, 29, 5, 44, 28, 32, 35, 37, 50, 19, 25, 49, 15, 20, 19, 53, 56, 18, 57, 2, 11, 23, 23, 53, 7, 32, 3, 6, 38, 32, 61, 40, 27, 30, 41, 45, 54, 36, 55, 6, 13, 32, 32, 51, 34, 62, 18, 15, 60, 39, 45, 3, 31, 49, 40, 40, 16, 10, 34, 31, 8, 47, 18, 42, 3, 40, 21, 29, 42, 8, 2, 36, 8, 55, 24, 15, 51, 5, 62, 2, 40, 17, 55, 1, 38, 39, 37, 25, 30, 30, 38, 2, 44, 50, 19, 33, 30, 26, 18, 4, 59, 5, 53, 15, 27, 51, 53, 19, 21, 9, 25, 32, 30, 36, 34, 55, 53, 18, 1, 8, 11, 39, 44, 48, 22, 50, 58, 30, 43, 43, 60, 1, 12, 61, 60, 48, 22, 10, 26, 13, 57, 17, 46, 53, 0, 0, 46, 42, 30, 28, 9, 20, 60, 32, 53, 45, 42, 37, 55, 13, 20, 20, 40, 1, 21, 59, 59, 15, 62, 30, 27, 40, 18, 29, 54, 47, 20, 56, 29, 5, 57, 10, 6, 21, 55, 26, 25, 18, 11, 45, 42, 62, 10, 52, 24, 43, 16, 23, 0, 44, 43, 36, 29, 22, 45, 48, 43, 62, 3, 17, 55, 3, 61, 42, 8, 42, 26, 2, 13, 44, 47, 40, 21, 57, 42, 43, 28, 31, 38, 36, 34, 26, 9, 18, 32, 23, 46, 53, 5, 23, 44, 10, 26, 23, 52, 8, 61, 57, 43, 22, 3, 11, 62, 19, 9, 33, 26, 51, 45, 59, 54, 12, 18, 22, 2, 50, 52, 34, 37, 15, 19, 4, 51, 57, 62, 19, 50, 54, 35, 43, 42, 45, 21, 58, 11, 34, 37, 28, 46, 58, 16, 19, 1, 35, 35, 33, 20, 38, 59, 30, 12, 24, 3, 21, 21, 36, 20, 42, 32, 27, 16, 2, 30, 43, 1, 53, 45, 31, 34, 15, 34, 29, 48, 18, 20, 23, 0, 39, 13, 26, 42, 45, 54, 37, 52, 18, 20, 29, 12, 12, 36, 51, 27, 24, 32, 48, 56, 37, 61, 11, 22, 2, 10, 9, 10, 61, 36, 47, 2, 44, 53, 53, 22, 21, 42, 38, 42, 46, 39, 21, 42, 30, 56, 61, 53, 39, 19, 16, 11, 28, 56, 24, 24, 46, 58, 15, 38, 38, 27, 49, 25, 49, 28, 58, 25, 16, 51, 36, 27, 39, 32, 1, 42, 3, 40, 50, 0, 25, 51, 55, 34, 26, 58, 40, 42, 45, 0, 41, 39, 2, 32, 62, 45, 61, 2, 55, 19, 30, 47, 35, 51, 57, 10, 22, 60, 10, 5, 12, 10, 6, 2, 61, 60, 37, 34, 59, 60, 35, 29, 38, 21, 54, 36, 6, 10, 46, 46, 57, 56, 32, 23, 21, 22, 20, 37, 4, 15, 0, 56, 8, 36, 25, 19, 45, 12, 44, 39, 17, 35, 47, 16, 45, 39, 28, 36, 38, 17, 52, 28, 18, 22, 43, 47, 20, 1, 10, 45, 4, 57, 55, 9, 60, 2, 12, 23, 2, 62, 52, 4, 45, 35, 6, 50, 9, 58, 0, 20, 9, 35, 56, 17, 44, 52, 18, 20, 31, 49, 23, 0, 11, 39, 17, 49, 22, 15, 13, 58, 26, 1, 31, 9, 28, 49, 32, 28, 14, 23, 62, 29, 49, 26, 15, 2, 48, 5, 49, 20, 58, 46, 3, 61, 1, 20, 36, 15, 47, 31, 36, 9, 5, 17, 7, 62, 14, 42, 59, 62, 46, 0, 4, 12, 34, 18, 57, 5, 23, 12, 3, 29, 23, 39, 47, 54, 9, 41, 2, 60, 30, 60, 60, 42, 47, 29, 42, 47, 38, 52, 15, 6, 9, 54, 4, 37, 33, 38, 53, 57, 26, 10, 38, 8, 47, 15, 30, 25, 51, 34, 25, 17, 1, 23, 30, 48, 0, 33, 3, 37, 34, 46, 22, 22, 0, 59, 0, 10, 41, 41, 0, 46, 46, 20, 44, 5, 15, 7, 23, 29, 6, 43, 29, 15, 37, 11, 58, 42, 16, 12, 8, 57, 36, 47, 18, 25, 49, 47, 53, 12, 51, 53, 62, 17, 24, 48, 59, 14, 56, 52, 56, 27, 2, 26, 55, 10, 2, 43, 55, 27, 8, 19, 43, 49, 22, 38, 37, 0, 42, 26, 41, 9, 51, 58, 19, 60, 10, 48, 31, 35, 47, 56, 45, 20, 48, 14, 40, 61, 45, 38, 7, 19, 20, 40, 43, 15, 29, 9, 31, 46, 13, 60, 50, 9, 41, 39, 6, 54, 44, 30, 9, 39, 33, 35, 39, 5, 52, 59, 62, 28, 62, 39, 58, 47, 47, 2, 35, 10, 27, 31, 19, 28, 42, 43, 30, 14, 49, 21, 19, 40, 22, 23, 51, 53, 50, 35, 55, 23, 51, 18, 24, 30, 56, 61, 47, 8, 49, 32, 52, 41, 27, 3, 27, 34, 35, 29, 44, 39, 34, 59, 56, 41, 57, 29, 51, 11, 2, 13, 23, 14, 23, 44, 19, 35, 30, 51, 33, 57, 41, 18, 1, 40, 24, 43, 57, 23, 22, 53, 59, 1, 52, 16, 53, 52, 39, 19, 58, 12, 54, 54, 22, 51, 44, 34, 47, 16, 59, 12, 44, 30, 34, 31, 15, 44, 7, 50, 15, 13, 30, 6, 11, 48, 61, 33, 9, 21, 23, 9, 58, 19, 21, 47, 43, 45, 3, 35, 46, 18, 31, 30, 20, 42, 45, 35, 53, 11, 53, 29, 62, 24, 53, 41, 28, 3, 7, 27, 1, 58, 14, 47, 27, 31, 60, 62, 28, 54, 57, 47, 37, 18, 4, 24, 6, 6, 18, 25, 20, 44, 50, 30, 15, 17, 42, 22, 59, 44, 24, 5, 59, 23, 38, 42, 39, 28, 45, 56, 8, 44, 39, 41, 23, 50, 16, 15, 10, 18, 2, 47, 59, 6, 14, 34, 9, 31, 49, 21, 56, 11, 45, 47, 37, 24, 7, 35, 1, 14, 34, 15, 18, 8, 48, 35, 32, 34, 50, 35, 2, 1, 58, 42, 24, 16, 52, 61, 42, 9, 48, 44, 15, 61, 25, 49, 6, 40, 22, 15, 58, 31, 32, 16, 5, 0, 25, 49, 61, 25, 44, 47, 18, 46, 17, 58, 1, 20, 54, 56, 55, 10, 7, 41, 47, 8, 50, 1, 55, 5, 13, 5, 47, 48, 43, 56, 5, 20, 10, 15, 18, 43, 16, 19, 48, 1, 10, 39, 44, 51, 56, 0, 24, 23, 43, 16, 59, 24, 38, 40, 56, 37, 56, 60, 15, 9, 6, 10, 56, 20, 57, 54, 28, 15, 60, 25, 38, 11, 52, 5, 20, 25, 40, 28, 20, 35, 42, 38, 30, 12, 11, 61, 23, 41, 4, 33, 13, 18, 40, 1, 1, 2, 9, 51, 13, 0, 32, 5, 39, 12, 12, 59, 47, 51, 13, 33, 26, 24, 7, 55, 32, 12, 38, 0, 32, 11, 14, 36, 27, 27, 47, 41, 3, 46, 59, 41, 48, 6, 42, 29, 52, 29, 60, 51, 40, 46, 50, 19, 37, 15, 59, 21, 55, 33, 7, 3, 61, 60, 0, 16, 57, 17, 41, 53, 43, 23, 46, 21, 27, 47, 51, 31, 47, 2, 23, 28, 47, 59, 58, 58, 33, 43, 32, 46, 14, 61, 40, 5, 25, 40, 1, 23, 41, 49, 41, 12, 43, 5, 41, 9, 21, 44, 39, 36, 19, 20, 27, 50, 43, 62, 41, 38, 11, 26, 57, 36, 41, 0, 10, 45, 50, 17, 49, 53, 40, 28, 30, 60, 1, 62, 49, 31, 8, 55, 44, 36, 14, 38, 0, 59, 12, 5, 10, 40, 10, 39, 33, 43, 31, 59, 3, 35, 61, 55, 44, 50, 33, 27, 23, 22, 6, 2, 60, 5, 0, 28, 60, 56, 56, 39, 28, 30, 56, 50, 26, 37, 20, 44, 0, 0, 20, 59, 22, 62, 41, 9, 61, 28, 44, 55, 4, 11, 46, 57, 46, 56, 37, 29, 0, 34, 13, 11, 59, 41, 61, 19, 11, 46, 17, 51, 25, 11, 25, 7, 49, 47, 4, 43, 40, 12, 41, 34, 12, 41, 6, 24, 56, 34, 39, 46, 18, 48, 56, 40, 15, 22, 11, 31, 7, 42, 53, 16, 0, 4, 35, 18, 41, 48, 54, 11, 54, 4, 40, 20, 22, 58, 50, 62, 36, 42, 62, 37, 0, 53, 18, 24, 13, 54, 12, 40, 36, 4, 43, 5, 26, 30, 53, 7, 40, 57, 32, 41, 23, 33, 13, 60, 32, 27, 57, 62, 11, 13, 7, 38, 23, 21, 4, 2, 22, 58, 20, 27, 46, 7, 18, 23, 58, 49, 11, 28, 42, 5, 1, 49, 18, 38, 20, 47, 50, 52, 34, 16, 10, 36, 43, 57, 46, 41, 38, 53, 10, 29, 54, 12, 25, 51, 4, 11, 2, 0, 33, 6, 29, 27, 29, 54, 32, 49, 43, 2, 20, 43, 41, 49, 14, 33, 19, 5, 61, 3, 59, 53, 47, 2, 47, 14, 14, 0, 27, 34, 20, 7, 3, 15, 2, 35, 43, 37, 27, 47, 39, 10, 14, 4, 41, 18, 27, 40, 7, 4, 18, 22, 36, 19, 22, 15, 6, 58, 34, 62, 59, 57, 34, 31, 47, 4, 31, 61, 45, 40, 13, 40, 38, 62, 50, 16, 54, 31, 2, 54, 52, 7, 50, 60, 21, 40, 10, 44, 20, 38, 58, 57, 17, 30, 42, 8, 4, 55, 41, 6, 29, 14, 29, 54, 59, 62, 50, 57, 9, 34, 13, 33, 38, 6, 32, 57, 32, 51, 46, 51, 21, 23, 59, 27, 58, 53, 26, 36, 53, 45, 12, 26, 6, 37, 7, 36, 44, 45, 16, 24, 15, 62, 38, 21, 43, 26, 53, 20, 12, 60, 60, 38, 60, 13, 27, 59, 19, 23, 53, 15, 58, 0, 62, 38, 40, 7, 48, 53, 36, 52, 48, 8, 40, 57, 46, 50, 29, 4, 48, 18, 53, 30, 23, 12, 24, 43, 30, 48, 32, 57, 45, 8, 58, 19, 14, 19, 13, 54, 29, 24, 12, 33, 17, 21, 53, 53, 5, 59, 61, 55, 22, 58, 4, 58, 10, 20, 24, 42, 24, 52, 5, 28, 44, 46, 47, 31, 49, 33, 27, 25, 8, 52, 10, 62, 37, 52, 0, 44, 44, 8, 55, 33, 52, 47, 55, 23, 43, 55, 61, 38, 57, 49, 29, 13, 32, 11, 9, 60, 52, 21, 0, 37, 12, 10, 26, 4, 40, 22, 36, 5, 4, 58, 55, 13, 53, 41, 37, 56, 61, 45, 25, 45, 56, 42, 20, 57, 54, 33, 1, 46, 28, 53, 17, 32, 19, 51, 0, 34, 40, 25, 35, 41, 29, 17, 1, 15, 52, 30, 10, 4, 57, 6, 47, 2, 22, 43, 51, 34, 10, 25, 60, 46, 45, 57, 53, 15, 48, 4, 31, 30, 20, 25, 4, 57, 29, 8, 9, 20, 54, 61, 25, 38, 0, 33, 5, 0, 38, 2, 5, 56, 59, 12, 24, 6, 29, 47, 30, 62, 8, 57, 49, 45, 32, 40, 61, 54, 57, 43, 24, 44, 7, 24, 32, 54, 40, 37, 52, 33, 11, 40, 28, 37, 4, 16, 39, 25, 8, 52, 38, 22, 27, 47, 14, 54, 30, 6, 36, 55, 44, 49, 34, 28, 39, 8, 37, 30, 2, 37, 37, 39, 34, 37, 43, 56, 50, 41, 21, 2, 23, 26, 18, 23, 20, 9, 23, 53, 20, 18, 30, 19, 42, 52, 12, 53, 43, 62, 18, 19, 20, 29, 52, 58, 40, 2, 4, 12, 1, 19, 51, 19, 22, 5, 4, 47, 62, 44, 25, 25, 25, 52, 52, 62, 42, 58, 2, 35, 18, 32, 17, 46, 56, 41, 6, 6, 38, 46, 39, 46, 30, 7, 52, 42, 59, 13, 42, 28, 15, 43, 27, 31, 1, 46, 58, 35, 12, 47, 45, 8, 36, 40, 34, 18, 16, 0, 53, 52, 19, 32, 23, 60, 12, 22, 35, 31, 18, 49, 43, 13, 34, 8, 52, 0, 35, 40, 27, 35, 15, 34, 54, 10, 39, 6, 61, 54, 8, 36, 47, 12, 19, 51, 19, 47, 53, 1, 52, 47, 27, 14, 26, 16, 27, 20, 23, 23, 46, 42, 40, 24, 54, 48, 18, 32, 55, 47, 20, 24, 21, 30, 40, 8, 38, 16, 8, 56, 36, 40, 51, 32, 41, 48, 17, 17, 48, 24, 45, 27, 4, 45, 61, 16, 46, 21, 24, 37, 54, 46, 2, 26, 59, 11, 49, 19, 11, 20, 11, 44, 29, 20, 51, 44, 4, 29, 6, 5, 45, 42, 36, 42, 22, 58, 23, 3, 56, 6, 42, 22, 2, 7, 51, 11, 55, 33, 51, 42, 31, 33, 62, 34, 20, 26, 11, 25, 44, 1, 7, 53, 25, 3, 1, 10, 8, 46, 41, 46, 34, 36, 14, 14, 62, 27, 5, 2, 14, 29, 58, 8]\n",
      "8192 9664\n",
      "8192 9664\n",
      "8192 9664\n",
      "8192 9664\n",
      "8192 9664\n",
      "8192 9664\n",
      "8192 9664\n",
      "8192 9664\n",
      "8192 9664\n",
      "8192 9664\n",
      "8192 9664\n",
      "8192 9664\n",
      "8192 9664\n",
      "8192 9664\n",
      "8192 9664\n",
      "8192 9664\n",
      "8192 9664\n",
      "8192 9664\n",
      "8192 9664\n",
      "8192 9664\n",
      "8192 9664\n",
      "list_HBM_bank_contents_reordered: 21 8192\n"
     ]
    }
   ],
   "source": [
    "# Reorder list_HBM_bank_contents\n",
    "\n",
    "print(len(list_HBM_bank_contents))\n",
    "print(\"list_entries_per_bank:\\n\", list_entries_per_bank)\n",
    "print(\"list_last_valid_element:\\n\", list_last_valid_element)\n",
    "\n",
    "list_HBM_bank_contents_reordered = [] # put all contents of the same HBM bank together\n",
    "\n",
    "for b in range(HBM_bank_num):\n",
    "    sub_list = []\n",
    "    for c in range(cluster_num):\n",
    "        sub_list += [list_HBM_bank_contents[c * HBM_bank_num + b]]\n",
    "    print(len(sub_list), len(sub_list[0]))\n",
    "    list_HBM_bank_contents_reordered += [sub_list]\n",
    "    \n",
    "print(\"list_HBM_bank_contents_reordered:\", len(list_HBM_bank_contents_reordered), len(list_HBM_bank_contents_reordered[0]))"
   ]
  },
  {
   "cell_type": "code",
   "execution_count": 327,
   "metadata": {},
   "outputs": [
    {
     "name": "stdout",
     "output_type": "stream",
     "text": [
      "HBM_bank_contents_all: shape: 21\tsize: 2138680320\n"
     ]
    }
   ],
   "source": [
    "# Concatenate \n",
    "\n",
    "HBM_bank_contents_all = [bytes()] * HBM_bank_num # contents of each bank\n",
    "for b in range(HBM_bank_num):\n",
    "    HBM_bank_contents_all[b] = HBM_bank_contents_all[b].join(list_HBM_bank_contents_reordered[b])\n",
    "    \n",
    "total_size = np.sum(np.array([len(h) for h in HBM_bank_contents_all]))\n",
    "print(\"HBM_bank_contents_all: shape: {}\\tsize: {}\".format(len(HBM_bank_contents_all), total_size))"
   ]
  },
  {
   "cell_type": "code",
   "execution_count": 328,
   "metadata": {},
   "outputs": [],
   "source": [
    "# Save HBM contents \n",
    "\n",
    "for b in range(HBM_bank_num):\n",
    "    assert len(HBM_bank_contents_all[b]) == len(HBM_bank_contents_all[0])\n",
    "\n",
    "for b in range(HBM_bank_num):\n",
    "    with open ('./saved_npy_data/{}/HBM_bank_{}_raw'.format(folder_name, b), 'wb') as f:\n",
    "        f.write(HBM_bank_contents_all[b])"
   ]
  },
  {
   "cell_type": "code",
   "execution_count": 295,
   "metadata": {},
   "outputs": [
    {
     "name": "stdout",
     "output_type": "stream",
     "text": [
      "1591149.0\n"
     ]
    }
   ],
   "source": [
    "# Save control contents\n",
    "\n",
    "#  The format of storing HBM_info_start_addr_and_scanned_entries_every_cell_and_last_element_valid: \n",
    "#     8192 start_addr, then 8192 scanned_entries_every_cell, then 8192 last_valid_element\n",
    "#     int start_addr_LUT[nlist];\n",
    "#     int scanned_entries_every_cell_LUT[nlist];\n",
    "#     int last_valid_channel_LUT[nlist];  \n",
    "\n",
    "list_start_addr_every_cell = [0]\n",
    "for c in range(cluster_num - 1):\n",
    "    list_start_addr_every_cell.append(list_start_addr_every_cell[c] + list_entries_per_bank[c])\n",
    "\n",
    "assert len(list_start_addr_every_cell) == len(list_entries_per_bank) and\\\n",
    "    len(list_start_addr_every_cell) == len(list_last_valid_element)\n",
    "\n",
    "print(list_start_addr_every_cell[-1])\n",
    "\n",
    "HBM_info_start_addr_and_scanned_entries_every_cell_and_last_element_valid = \\\n",
    "    list_start_addr_every_cell + list_entries_per_bank + list_last_valid_element\n",
    "\n",
    "HBM_info_start_addr_and_scanned_entries_every_cell_and_last_element_valid = np.array(\n",
    "    HBM_info_start_addr_and_scanned_entries_every_cell_and_last_element_valid, dtype=np.int32)\n",
    "\n",
    "HBM_info_start_addr_and_scanned_entries_every_cell_and_last_element_valid.tofile(\n",
    "    \"./saved_npy_data/{}/HBM_info_start_addr_and_scanned_entries_every_cell_and_last_element_valid_3_by_{}_raw\".format(\n",
    "        folder_name, cluster_num))"
   ]
  },
  {
   "cell_type": "code",
   "execution_count": 332,
   "metadata": {},
   "outputs": [
    {
     "name": "stdout",
     "output_type": "stream",
     "text": [
      "./saved_npy_data/FPGA_data_SIFT100M_IVF8192,PQ16/HBM_bank_0_raw\n",
      "True\n",
      "101841920\n"
     ]
    }
   ],
   "source": [
    "# Verify\n",
    "print('./saved_npy_data/{}/HBM_bank_0_raw'.format(folder_name))\n",
    "print(os.path.exists('./saved_npy_data/{}/HBM_bank_0_raw'.format(folder_name)))\n",
    "loaded_HBM_bytes = bytes()\n",
    "with open ('./saved_npy_data/{}/HBM_bank_0_raw'.format(folder_name), 'rb') as f:\n",
    "    loaded_HBM_bytes = f.read()\n",
    "    print(len(loaded_HBM_bytes))"
   ]
  },
  {
   "cell_type": "code",
   "execution_count": 333,
   "metadata": {},
   "outputs": [
    {
     "data": {
      "text/plain": [
       "251"
      ]
     },
     "execution_count": 333,
     "metadata": {},
     "output_type": "execute_result"
    }
   ],
   "source": [
    "loaded_HBM_bytes[101841920 - 5]"
   ]
  },
  {
   "cell_type": "code",
   "execution_count": 334,
   "metadata": {},
   "outputs": [
    {
     "name": "stdout",
     "output_type": "stream",
     "text": [
      "16468\n"
     ]
    }
   ],
   "source": [
    "tmp = int.from_bytes(loaded_HBM_bytes[0:4], \"little\", signed=True)\n",
    "print(tmp)\n",
    "\n",
    "# mask =  0b01111111\n",
    "# byte_from_file = int(loaded_HBM_bytes[0:4])\n",
    "# value = mask & byte_from_file\n",
    "# print(value)"
   ]
  },
  {
   "cell_type": "code",
   "execution_count": 336,
   "metadata": {},
   "outputs": [
    {
     "name": "stdout",
     "output_type": "stream",
     "text": [
      "axi_id:  0\n",
      "vec ID: 16468\n",
      "60\n",
      "196\n",
      "35\n",
      "96\n",
      "9\n",
      "220\n",
      "26\n",
      "233\n",
      "109\n",
      "94\n",
      "204\n",
      "37\n",
      "246\n",
      "252\n",
      "54\n",
      "62\n",
      "vec ID: 53119\n",
      "182\n",
      "126\n",
      "51\n",
      "95\n",
      "122\n",
      "167\n",
      "58\n",
      "171\n",
      "69\n",
      "35\n",
      "92\n",
      "130\n",
      "138\n",
      "53\n",
      "148\n",
      "136\n",
      "vec ID: 106484\n",
      "207\n",
      "2\n",
      "35\n",
      "175\n",
      "222\n",
      "249\n",
      "174\n",
      "101\n",
      "153\n",
      "139\n",
      "200\n",
      "226\n",
      "162\n",
      "9\n",
      "184\n",
      "171\n",
      "axi_id:  1\n",
      "vec ID: 115432\n",
      "157\n",
      "110\n",
      "49\n",
      "127\n",
      "189\n",
      "185\n",
      "188\n",
      "198\n",
      "0\n",
      "1\n",
      "217\n",
      "165\n",
      "77\n",
      "66\n",
      "174\n",
      "158\n",
      "vec ID: 116590\n",
      "236\n",
      "231\n",
      "110\n",
      "83\n",
      "217\n",
      "182\n",
      "252\n",
      "44\n",
      "1\n",
      "32\n",
      "220\n",
      "194\n",
      "41\n",
      "19\n",
      "95\n",
      "196\n",
      "vec ID: 116621\n",
      "150\n",
      "138\n",
      "250\n",
      "23\n",
      "60\n",
      "214\n",
      "104\n",
      "37\n",
      "39\n",
      "35\n",
      "198\n",
      "234\n",
      "136\n",
      "66\n",
      "184\n",
      "12\n"
     ]
    }
   ],
   "source": [
    "for axi_id in range(2):\n",
    "    print(\"axi_id: \", axi_id)\n",
    "    tmp_axi = loaded_HBM_bytes[axi_id * 64: axi_id * 64 + 64]\n",
    "    for v in range(3):\n",
    "        vec_ID = int.from_bytes(tmp_axi[v * 20: v * 20 + 4], \"little\", signed=True)\n",
    "        print(\"vec ID:\", vec_ID)\n",
    "        for i in range(16):\n",
    "            code = int.from_bytes(tmp_axi[v * 20 + 4 + i: v * 20 + 4 + i + 1], \"little\", signed=False)\n",
    "            print(code)"
   ]
  },
  {
   "cell_type": "code",
   "execution_count": 314,
   "metadata": {},
   "outputs": [
    {
     "name": "stdout",
     "output_type": "stream",
     "text": [
      "60\n",
      "196\n",
      "35\n",
      "96\n",
      "9\n",
      "220\n",
      "26\n",
      "233\n",
      "109\n",
      "94\n",
      "204\n",
      "37\n",
      "246\n",
      "252\n",
      "54\n",
      "62\n"
     ]
    }
   ],
   "source": [
    "for i in range(16):\n",
    "    tmp = int.from_bytes(loaded_HBM_bytes[4 + i: 4 + i + 1], \"big\", signed=False)\n",
    "    print(tmp)"
   ]
  },
  {
   "cell_type": "code",
   "execution_count": 322,
   "metadata": {},
   "outputs": [
    {
     "name": "stdout",
     "output_type": "stream",
     "text": [
      "==== Vector IDs ====\n",
      "[   16468    53119   106484 ... 99976161 99977969 99992760]\n",
      "\n",
      "shape: (9452,)\n",
      "\n",
      "==== PQ codes ====\n",
      "[[ 60 196  35 ... 252  54  62]\n",
      " [182 126  51 ...  53 148 136]\n",
      " [207   2  35 ...   9 184 171]\n",
      " ...\n",
      " [187 126  35 ... 202 184 229]\n",
      " [210  94 135 ... 230 253 172]\n",
      " [134 130 205 ... 220 220  30]]\n",
      "\n",
      "shape: (9452, 16)\n",
      "dtype:uint8\n",
      "\n"
     ]
    }
   ],
   "source": [
    "# Example of using function \"get_invlist\"\n",
    "list_id = 0\n",
    "list_vec_ids, list_PQ_codes = get_invlist(invlists, list_id)\n",
    "print(\"==== Vector IDs ====\\n{}\\n\\nshape: {}\\n\".format(list_vec_ids, list_vec_ids.shape))\n",
    "print(\"==== PQ codes ====\\n{}\\n\\nshape: {}\\ndtype:{}\\n\".format(list_PQ_codes, list_PQ_codes.shape, list_PQ_codes.dtype))"
   ]
  },
  {
   "cell_type": "code",
   "execution_count": null,
   "metadata": {},
   "outputs": [],
   "source": [
    "# little endian is false\n",
    "for i in range(10):\n",
    "    tmp = int.from_bytes(loaded_HBM_bytes[0 + i * 64: 4 + i * 64], \"little\", signed=False)\n",
    "    print(tmp)"
   ]
  },
  {
   "cell_type": "code",
   "execution_count": 242,
   "metadata": {},
   "outputs": [
    {
     "data": {
      "text/plain": [
       "101841920"
      ]
     },
     "execution_count": 242,
     "metadata": {},
     "output_type": "execute_result"
    }
   ],
   "source": [
    "len(HBM_bank_contents_all[0])"
   ]
  },
  {
   "cell_type": "code",
   "execution_count": 282,
   "metadata": {},
   "outputs": [
    {
     "name": "stdout",
     "output_type": "stream",
     "text": [
      "-389938944 1858535680 -1916337920\n"
     ]
    }
   ],
   "source": [
    "second_axi = loaded_HBM_bytes[64+0:64+64]\n",
    "print(int.from_bytes(second_axi[0:4], \"little\", signed=True), \n",
    "      int.from_bytes(second_axi[20 + 0: 20 + 4], \"little\", signed=True), \n",
    "      int.from_bytes(second_axi[40 + 0:40 + 4], \"little\", signed=True))"
   ]
  },
  {
   "cell_type": "code",
   "execution_count": 241,
   "metadata": {},
   "outputs": [
    {
     "name": "stdout",
     "output_type": "stream",
     "text": [
      "./saved_npy_data/FPGA_data_SIFT100M_IVF8192,PQ16/product_quantizer_float32_16_256_8_raw\n",
      "131072\n"
     ]
    }
   ],
   "source": [
    "# Verify\n",
    "print(\"./saved_npy_data/{}/product_quantizer_float32_{}_{}_{}_raw\".format(\n",
    "    folder_name, PQ_quantizer.shape[0], PQ_quantizer.shape[1], PQ_quantizer.shape[2]))\n",
    "loaded_HBM_bytes = bytes()\n",
    "with open (\"./saved_npy_data/{}/product_quantizer_float32_{}_{}_{}_raw\".format(\n",
    "    folder_name, PQ_quantizer.shape[0], PQ_quantizer.shape[1], PQ_quantizer.shape[2]), 'rb') as f:\n",
    "    loaded_HBM_bytes = f.read()\n",
    "    print(len(loaded_HBM_bytes))"
   ]
  },
  {
   "cell_type": "code",
   "execution_count": null,
   "metadata": {},
   "outputs": [],
   "source": []
  }
 ],
 "metadata": {
  "kernelspec": {
   "display_name": "Python 3",
   "language": "python",
   "name": "python3"
  },
  "language_info": {
   "codemirror_mode": {
    "name": "ipython",
    "version": 3
   },
   "file_extension": ".py",
   "mimetype": "text/x-python",
   "name": "python",
   "nbconvert_exporter": "python",
   "pygments_lexer": "ipython3",
   "version": "3.7.9"
  }
 },
 "nbformat": 4,
 "nbformat_minor": 4
}
