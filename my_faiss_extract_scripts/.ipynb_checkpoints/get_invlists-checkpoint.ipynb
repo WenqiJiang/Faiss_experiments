{
 "cells": [
  {
   "cell_type": "code",
   "execution_count": 1,
   "metadata": {},
   "outputs": [
    {
     "ename": "ModuleNotFoundError",
     "evalue": "No module named 'faiss'",
     "output_type": "error",
     "traceback": [
      "\u001b[0;31m---------------------------------------------------------------------------\u001b[0m",
      "\u001b[0;31mModuleNotFoundError\u001b[0m                       Traceback (most recent call last)",
      "\u001b[0;32m<ipython-input-1-e980d86d0c93>\u001b[0m in \u001b[0;36m<module>\u001b[0;34m\u001b[0m\n\u001b[1;32m      1\u001b[0m \u001b[0;32mimport\u001b[0m \u001b[0mnumpy\u001b[0m \u001b[0;32mas\u001b[0m \u001b[0mnp\u001b[0m\u001b[0;34m\u001b[0m\u001b[0;34m\u001b[0m\u001b[0m\n\u001b[0;32m----> 2\u001b[0;31m \u001b[0;32mimport\u001b[0m \u001b[0mfaiss\u001b[0m\u001b[0;34m\u001b[0m\u001b[0;34m\u001b[0m\u001b[0m\n\u001b[0m\u001b[1;32m      3\u001b[0m \u001b[0;32mimport\u001b[0m \u001b[0msys\u001b[0m\u001b[0;34m\u001b[0m\u001b[0;34m\u001b[0m\u001b[0m\n\u001b[1;32m      4\u001b[0m \u001b[0;32mfrom\u001b[0m \u001b[0mmatplotlib\u001b[0m \u001b[0;32mimport\u001b[0m \u001b[0mpyplot\u001b[0m\u001b[0;34m\u001b[0m\u001b[0;34m\u001b[0m\u001b[0m\n",
      "\u001b[0;31mModuleNotFoundError\u001b[0m: No module named 'faiss'"
     ]
    }
   ],
   "source": [
    "import numpy as np\n",
    "import faiss\n",
    "import sys\n",
    "from matplotlib import pyplot"
   ]
  },
  {
   "cell_type": "code",
   "execution_count": null,
   "metadata": {},
   "outputs": [],
   "source": [
    "# create an inverted index\n",
    "nlist = 1024\n",
    "m = 8\n",
    "kbits = 8 # 2^5 = 32, 2^8 = 256\n",
    "d = 64\n",
    "coarse_quantizer = faiss.IndexFlatL2(d)\n",
    "index = faiss.IndexIVFPQ(coarse_quantizer, d, nlist, m, kbits)"
   ]
  },
  {
   "cell_type": "code",
   "execution_count": null,
   "metadata": {},
   "outputs": [],
   "source": [
    "# fill it in\n",
    "xb = faiss.rand((10000, d), 1234)\n",
    "index.train(xb)\n",
    "index.add(xb)"
   ]
  },
  {
   "cell_type": "code",
   "execution_count": null,
   "metadata": {},
   "outputs": [],
   "source": [
    "dir(index.pq)"
   ]
  },
  {
   "cell_type": "code",
   "execution_count": null,
   "metadata": {},
   "outputs": [],
   "source": [
    "print(\"index.pq.d\", index.pq.d)\n",
    "print(\"index.pq.dsub\", index.pq.dsub)\n",
    "print(\"index.pq.ksub\", index.pq.ksub)\n",
    "print(\"index.pq.nbits\", index.pq.nbits)\n",
    "print(\"index.pq.M\", index.pq.M)\n",
    "# print(\"index.pq.centroids\", index.pq.centroids)\n",
    "print(\"index.pq.code_size\", index.pq.code_size)\n",
    "# print(\"index.pq.sdc_table\", index.pq.sdc_table)\n",
    "# print(\"index.pq.cp\", index.pq.cp)\n",
    "# print(\"index.pq.decode\", index.pq.decode)\n",
    "# print(\"index.pq.this\", index.pq.this)\n",
    "# print(\"index.pq.train\", index.pq.train)\n",
    "# print(\"index.pq.train_type\", index.pq.train_type)"
   ]
  },
  {
   "cell_type": "code",
   "execution_count": null,
   "metadata": {},
   "outputs": [],
   "source": [
    "def get_centroids(index):\n",
    "    pq = index.pq\n",
    "    # read the PQ centroids\n",
    "    cen = faiss.vector_to_array(pq.centroids)\n",
    "    cen = cen.reshape(pq.M, pq.ksub, pq.dsub)\n",
    "    \n",
    "    return cen"
   ]
  },
  {
   "cell_type": "code",
   "execution_count": null,
   "metadata": {},
   "outputs": [],
   "source": [
    "# get PQ centroids\n",
    "cen = get_centroids(index)\n",
    "pq_cen = cen\n",
    "pq_cen.shape"
   ]
  },
  {
   "cell_type": "code",
   "execution_count": null,
   "metadata": {},
   "outputs": [],
   "source": [
    "# if there is a pre-transform, you can also use\n",
    "# invlists = faiss.extract_index_ivf(index).invlists\n",
    "invlists = index.invlists"
   ]
  },
  {
   "cell_type": "code",
   "execution_count": null,
   "metadata": {},
   "outputs": [],
   "source": [
    "dir(invlists)"
   ]
  },
  {
   "cell_type": "code",
   "execution_count": null,
   "metadata": {},
   "outputs": [],
   "source": [
    "# invlist sizes histogram\n",
    "bc = np.bincount([invlists.list_size(l) for l in range(invlists.nlist)])\n",
    "pyplot.step(np.arange(bc.size), bc)\n",
    "pyplot.xlabel('size of invlist')\n",
    "pyplot.ylabel('nb of invlists')\n",
    "pyplot.grid()"
   ]
  },
  {
   "cell_type": "code",
   "execution_count": null,
   "metadata": {},
   "outputs": [],
   "source": [
    "def get_invlist(invlists, l):\n",
    "    \"\"\" returns the inverted lists content. \n",
    "    That the data is *not* copied: if the inverted index is deallocated or changes, accessing the array may crash.\n",
    "    To avoid this, just clone the output arrays on output. \"\"\"\n",
    "    ls = invlists.list_size(l)\n",
    "    list_ids = faiss.rev_swig_ptr(invlists.get_ids(l), ls)\n",
    "    list_codes = faiss.rev_swig_ptr(invlists.get_codes(l), ls * invlists.code_size)\n",
    "    return list_ids, list_codes"
   ]
  },
  {
   "cell_type": "code",
   "execution_count": null,
   "metadata": {},
   "outputs": [],
   "source": [
    "# get content of inverted list #123\n",
    "list_ids, list_codes = get_invlist(invlists, 124)"
   ]
  },
  {
   "cell_type": "code",
   "execution_count": null,
   "metadata": {},
   "outputs": [],
   "source": [
    "l = 17\n",
    "ls = invlists.list_size(l)\n",
    "ls"
   ]
  },
  {
   "cell_type": "code",
   "execution_count": null,
   "metadata": {},
   "outputs": [],
   "source": [
    "invlists.get_ids(l)"
   ]
  },
  {
   "cell_type": "code",
   "execution_count": null,
   "metadata": {},
   "outputs": [],
   "source": [
    "list_ids = faiss.rev_swig_ptr(invlists.get_ids(l), ls)\n",
    "print(list_ids)\n",
    "print(type(list_ids[0]))"
   ]
  },
  {
   "cell_type": "code",
   "execution_count": null,
   "metadata": {},
   "outputs": [],
   "source": [
    "list_codes = faiss.rev_swig_ptr(invlists.get_codes(l), ls * invlists.code_size)\n",
    "print(list_codes)\n",
    "print(list_codes.size)\n",
    "print(list_codes.reshape(-1, invlists.code_size))\n",
    "print(type(list_codes[0]))\n",
    "print(sys.getsizeof(list_codes))"
   ]
  },
  {
   "cell_type": "code",
   "execution_count": null,
   "metadata": {},
   "outputs": [],
   "source": [
    "dir(invlists)"
   ]
  },
  {
   "cell_type": "code",
   "execution_count": null,
   "metadata": {},
   "outputs": [],
   "source": [
    "invlists.get_codes(0)"
   ]
  },
  {
   "cell_type": "code",
   "execution_count": null,
   "metadata": {},
   "outputs": [],
   "source": [
    "# vector ids in the list\n",
    "list_ids"
   ]
  },
  {
   "cell_type": "code",
   "execution_count": null,
   "metadata": {},
   "outputs": [],
   "source": [
    "# check that vectors 375 and 764 are indeed quantized to list 124\n",
    "coarse_quantizer.assign(xb[[375, 764]], 1)"
   ]
  },
  {
   "cell_type": "code",
   "execution_count": null,
   "metadata": {},
   "outputs": [],
   "source": [
    "dir(coarse_quantizer)"
   ]
  },
  {
   "cell_type": "code",
   "execution_count": null,
   "metadata": {},
   "outputs": [],
   "source": [
    "coarse_quantizer.xb\n",
    "coarse_cen = faiss.vector_to_array(coarse_quantizer.xb)\n",
    "print(\"coarse_cen.shape\", coarse_cen.shape) # 1024 * 64 = 65536\n",
    "print(\"coarse_quantizer.ntotal\", coarse_quantizer.ntotal)\n",
    "print(\"coarse_quantizer.d\", coarse_quantizer.d)\n",
    "\n",
    "\n",
    "coarse_cen = coarse_cen.reshape(coarse_quantizer.ntotal, coarse_quantizer.d)\n",
    "print(coarse_cen)\n",
    "print(coarse_cen.shape)"
   ]
  },
  {
   "cell_type": "code",
   "execution_count": null,
   "metadata": {},
   "outputs": [],
   "source": [
    "# PQ codes stored in the inverted lists\n",
    "list_codes.reshape(-1, invlists.code_size)"
   ]
  },
  {
   "cell_type": "code",
   "execution_count": null,
   "metadata": {},
   "outputs": [],
   "source": [
    "q = faiss.rand((1, d), 1234)\n",
    "print(q)"
   ]
  },
  {
   "cell_type": "code",
   "execution_count": null,
   "metadata": {},
   "outputs": [],
   "source": [
    "vector, distance = index.search(q, k=50)\n",
    "print(\"======= Distance ========\\n\", vector, \"\\n\")\n",
    "print(\"======= Vector ID ========\\n\", distance, \"\\n\")"
   ]
  },
  {
   "cell_type": "code",
   "execution_count": null,
   "metadata": {},
   "outputs": [],
   "source": [
    "def distance_full_vec(v1, v2):\n",
    "    assert len(v1) == len(v2)\n",
    "    v_diff = v1 - v2\n",
    "    dist = np.sum(v_diff * v_diff)\n",
    "    return dist"
   ]
  },
  {
   "cell_type": "code",
   "execution_count": null,
   "metadata": {},
   "outputs": [],
   "source": [
    "q_single = q[0]\n",
    "\n",
    "dist_ls = []\n",
    "# Compute the closest centroids\n",
    "for i, c in enumerate(coarse_cen):\n",
    "    dist = distance_full_vec(q_single, c)\n",
    "    dist_ls.append((dist, i))"
   ]
  },
  {
   "cell_type": "code",
   "execution_count": null,
   "metadata": {},
   "outputs": [],
   "source": [
    "dist_ls.sort(key=lambda x: x[0])\n",
    "dist_ls"
   ]
  },
  {
   "cell_type": "code",
   "execution_count": null,
   "metadata": {},
   "outputs": [],
   "source": [
    "# Verify the random vector with those Vector ID indeed has such distance\n",
    "closest_cell = dist_ls[0][1]\n",
    "list_ids, list_codes = get_invlist(invlists, closest_cell)"
   ]
  },
  {
   "cell_type": "code",
   "execution_count": null,
   "metadata": {},
   "outputs": [],
   "source": [
    "print(list_ids)\n",
    "print(list_ids.shape)"
   ]
  },
  {
   "cell_type": "code",
   "execution_count": null,
   "metadata": {},
   "outputs": [],
   "source": [
    "list_codes = list_codes.reshape(-1, invlists.code_size)\n",
    "list_codes"
   ]
  },
  {
   "cell_type": "code",
   "execution_count": null,
   "metadata": {},
   "outputs": [],
   "source": [
    "q_res = q_single - coarse_cen[closest_cell]\n",
    "q_res"
   ]
  },
  {
   "cell_type": "code",
   "execution_count": null,
   "metadata": {},
   "outputs": [],
   "source": [
    "def construct_distance_table(q_res, pq_cen):\n",
    "    M, ksub, dsub = pq_cen.shape\n",
    "    dist_table = np.zeros(shape=(M, ksub))\n",
    "    \n",
    "    for m in range(M):\n",
    "        q_res_part = q_res[m * dsub: (m + 1) * dsub]\n",
    "        for k in range(ksub):\n",
    "            PQ_cent = pq_cen[m][k]\n",
    "            res_dist = PQ_cent - q_res_part\n",
    "            dist = np.sum(res_dist * res_dist)\n",
    "            \n",
    "            dist_table[m, k] = dist\n",
    "            \n",
    "    return dist_table"
   ]
  },
  {
   "cell_type": "code",
   "execution_count": null,
   "metadata": {},
   "outputs": [],
   "source": [
    "dist_table = construct_distance_table(q_res, pq_cen)\n",
    "print(dist_table)\n",
    "print(dist_table.shape)"
   ]
  },
  {
   "cell_type": "code",
   "execution_count": null,
   "metadata": {},
   "outputs": [],
   "source": [
    "def estimate_distance(pq_code, dist_table):\n",
    "    \"\"\"\n",
    "    given single PQ code and its distance table, compute the estimated distance\n",
    "    \"\"\"\n",
    "    # pq_cen -> (pq.M 8, pq.ksub 256, pq.dsub D/M=64/8=8)\n",
    "    M = dist_table.shape[0]\n",
    "    assert M == len(pq_code)\n",
    "    \n",
    "    dist = 0\n",
    "    for m in range(M):\n",
    "        dist += dist_table[m][pq_code[m]]\n",
    "        \n",
    "    return dist"
   ]
  },
  {
   "cell_type": "code",
   "execution_count": null,
   "metadata": {},
   "outputs": [],
   "source": [
    "list_codes[0]"
   ]
  },
  {
   "cell_type": "code",
   "execution_count": null,
   "metadata": {},
   "outputs": [],
   "source": [
    "estimate_distance(list_codes[0], dist_table)"
   ]
  },
  {
   "cell_type": "code",
   "execution_count": null,
   "metadata": {},
   "outputs": [],
   "source": [
    "dist_cell"
   ]
  },
  {
   "cell_type": "code",
   "execution_count": null,
   "metadata": {},
   "outputs": [],
   "source": [
    "# parametersets = sys.argv[3:]\n",
    "ps = faiss.ParameterSpace()\n",
    "ps.initialize(index)\n",
    "\n",
    "# for param in parametersets:\n",
    "#         print(param, '\\t', end=' ')\n",
    "#         sys.stdout.flush()\n",
    "#         ps.set_index_parameters(index, param)\n",
    "\n",
    "param = ['nprobe=1']\n",
    "ps.set_index_parameters(index, param)"
   ]
  },
  {
   "cell_type": "code",
   "execution_count": null,
   "metadata": {},
   "outputs": [],
   "source": [
    "vector, distance = index.search(q, k=50)\n",
    "print(\"======= Distance ========\\n\", vector, \"\\n\")\n",
    "print(\"======= Vector ID ========\\n\", distance, \"\\n\")"
   ]
  }
 ],
 "metadata": {
  "kernelspec": {
   "display_name": "Python 3",
   "language": "python",
   "name": "python3"
  },
  "language_info": {
   "codemirror_mode": {
    "name": "ipython",
    "version": 3
   },
   "file_extension": ".py",
   "mimetype": "text/x-python",
   "name": "python",
   "nbconvert_exporter": "python",
   "pygments_lexer": "ipython3",
   "version": "3.8.3"
  }
 },
 "nbformat": 4,
 "nbformat_minor": 2
}
