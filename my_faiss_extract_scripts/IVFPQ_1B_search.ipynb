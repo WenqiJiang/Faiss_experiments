{
 "cells": [
  {
   "cell_type": "code",
   "execution_count": 1,
   "metadata": {},
   "outputs": [
    {
     "data": {
      "text/plain": [
       "'\\nThis file replicates the querying process of IVF_PQ index on sift1B dataset \\nIt also provides function that can retrieve the PQ code of each \\nVoronoi cells, the coarse grained cluster centroids, and the\\nsub-quantizer centroids\\n'"
      ]
     },
     "execution_count": 1,
     "metadata": {},
     "output_type": "execute_result"
    }
   ],
   "source": [
    "\"\"\"\n",
    "This file replicates the querying process of IVF_PQ index on sift1B dataset \n",
    "It also provides function that can retrieve the PQ code of each \n",
    "Voronoi cells, the coarse grained cluster centroids, and the\n",
    "sub-quantizer centroids\n",
    "\"\"\""
   ]
  },
  {
   "cell_type": "code",
   "execution_count": 2,
   "metadata": {},
   "outputs": [],
   "source": [
    "from __future__ import print_function\n",
    "import os\n",
    "import sys\n",
    "import time\n",
    "import numpy as np\n",
    "import re\n",
    "import faiss\n",
    "from multiprocessing.dummy import Pool as ThreadPool\n",
    "from matplotlib import pyplot"
   ]
  },
  {
   "cell_type": "code",
   "execution_count": 3,
   "metadata": {},
   "outputs": [
    {
     "name": "stdout",
     "output_type": "stream",
     "text": [
      "Preparing dataset SIFT1000M\n",
      "sizes: B (1000000000, 128) Q (10000, 128) T (100000000, 128) gt (10000, 1000)\n"
     ]
    }
   ],
   "source": [
    "def mmap_fvecs(fname):\n",
    "    x = np.memmap(fname, dtype='int32', mode='r')\n",
    "    d = x[0]\n",
    "    return x.view('float32').reshape(-1, d + 1)[:, 1:]\n",
    "\n",
    "\n",
    "def mmap_bvecs(fname):\n",
    "    x = np.memmap(fname, dtype='uint8', mode='r')\n",
    "    d = x[:4].view('int32')[0]\n",
    "    return x.reshape(-1, d + 4)[:, 4:]\n",
    "\n",
    "def ivecs_read(fname):\n",
    "    a = np.fromfile(fname, dtype='int32')\n",
    "    d = a[0]\n",
    "    return a.reshape(-1, d + 1)[:, 1:].copy()\n",
    "\n",
    "dbname        = 'SIFT1000M'\n",
    "index_key     = 'IVF8192,PQ16'\n",
    "parametersets = ['nprobe=1', 'nprobe=32']\n",
    "\n",
    "\n",
    "tmpdir = '../bench_cpu_{}'.format(index_key)\n",
    "\n",
    "if not os.path.isdir(tmpdir):\n",
    "    raise(\"%s does not exist\")\n",
    "\n",
    "\n",
    "#################################################################\n",
    "# Prepare dataset\n",
    "#################################################################\n",
    "\n",
    "\n",
    "print(\"Preparing dataset\", dbname)\n",
    "\n",
    "if dbname.startswith('SIFT'):\n",
    "    # SIFT1M to SIFT1000M\n",
    "    dbsize = int(dbname[4:-1])\n",
    "    xb = mmap_bvecs('../bigann/bigann_base.bvecs')\n",
    "    xq = mmap_bvecs('../bigann/bigann_query.bvecs')\n",
    "    xt = mmap_bvecs('../bigann/bigann_learn.bvecs')\n",
    "\n",
    "    # trim xb to correct size\n",
    "    xb = xb[:dbsize * 1000 * 1000]\n",
    "\n",
    "    gt = ivecs_read('../bigann/gnd/idx_%dM.ivecs' % dbsize)\n",
    "\n",
    "elif dbname == 'Deep1B':\n",
    "    xb = mmap_fvecs('../deep1b/base.fvecs')\n",
    "    xq = mmap_fvecs('../deep1b/deep1B_queries.fvecs')\n",
    "    xt = mmap_fvecs('../deep1b/learn.fvecs')\n",
    "    # deep1B's train is is outrageously big\n",
    "    xt = xt[:10 * 1000 * 1000]\n",
    "    gt = ivecs_read('../deep1b/deep1B_groundtruth.ivecs')\n",
    "\n",
    "else:\n",
    "    print('unknown dataset', dbname, file=sys.stderr)\n",
    "    sys.exit(1)\n",
    "\n",
    "\n",
    "print(\"sizes: B %s Q %s T %s gt %s\" % (\n",
    "    xb.shape, xq.shape, xt.shape, gt.shape))\n",
    "\n",
    "nq, d = xq.shape\n",
    "nb, d = xb.shape\n",
    "assert gt.shape[0] == nq\n",
    "\n",
    "\n",
    "#################################################################\n",
    "# Load Index\n",
    "#################################################################\n",
    "\n",
    "def get_populated_index():\n",
    "\n",
    "    filename = \"%s/%s_%s_populated.index\" % (\n",
    "        tmpdir, dbname, index_key)\n",
    "\n",
    "    if not os.path.exists(filename):\n",
    "        raise(\"Index does not exist!\")\n",
    "    else:\n",
    "        print(\"loading\", filename)\n",
    "        index = faiss.read_index(filename)\n",
    "    return index\n"
   ]
  },
  {
   "cell_type": "code",
   "execution_count": 4,
   "metadata": {},
   "outputs": [
    {
     "name": "stdout",
     "output_type": "stream",
     "text": [
      "<class 'numpy.memmap'>\n"
     ]
    }
   ],
   "source": [
    "# xb -> all full precision vectors in database (1B)\n",
    "# xq -> all full precision query vectors in database (10K)\n",
    "# xq -> all full precision learning set vectors in database (100M)\n",
    "# gt -> ground truth of topk=1000 (10K)\n",
    "print(type(xb))"
   ]
  },
  {
   "cell_type": "code",
   "execution_count": 5,
   "metadata": {},
   "outputs": [
    {
     "data": {
      "text/plain": [
       "'\\nThe index object already includes the coarse-grained centroids, and sub-quantizers\\n\\n-rw-r--r--  1 wejiang wejiang-group     4325556 Oct 11 22:07 SIFT1000M_IVF8192,PQ16_trained.index -> coarse-grained\\n-rw-r--r--  1 wejiang wejiang-group 24004391092 Oct 12 00:07 SIFT1000M_IVF8192,PQ16_populated.index -> all\\n'"
      ]
     },
     "execution_count": 5,
     "metadata": {},
     "output_type": "execute_result"
    }
   ],
   "source": [
    "\"\"\"\n",
    "The index object already includes the coarse-grained centroids, and sub-quantizers\n",
    "\n",
    "-rw-r--r--  1 wejiang wejiang-group     4325556 Oct 11 22:07 SIFT1000M_IVF8192,PQ16_trained.index -> coarse-grained\n",
    "-rw-r--r--  1 wejiang wejiang-group 24004391092 Oct 12 00:07 SIFT1000M_IVF8192,PQ16_populated.index -> all\n",
    "\"\"\""
   ]
  },
  {
   "cell_type": "code",
   "execution_count": 6,
   "metadata": {},
   "outputs": [
    {
     "name": "stdout",
     "output_type": "stream",
     "text": [
      "loading ../bench_cpu_IVF8192,PQ16/SIFT1000M_IVF8192,PQ16_populated.index\n",
      "         \t R@1    R@10   R@100     time    %pass\n",
      "nprobe=1 \t 0.1934 0.3964 0.4482    1.667    0.00\n",
      "nprobe=32 \t 0.2857 0.7326 0.9568   42.437    0.00\n"
     ]
    }
   ],
   "source": [
    "#################################################################\n",
    "# Perform searches\n",
    "#################################################################\n",
    "\n",
    "index = get_populated_index()\n",
    "\n",
    "ps = faiss.ParameterSpace()\n",
    "ps.initialize(index)\n",
    "\n",
    "# make sure queries are in RAM\n",
    "xq = xq.astype('float32').copy()\n",
    "\n",
    "# a static C++ object that collects statistics about searches\n",
    "ivfpq_stats = faiss.cvar.indexIVFPQ_stats\n",
    "ivf_stats = faiss.cvar.indexIVF_stats\n",
    "\n",
    "\n",
    "# we do queries in a single thread\n",
    "faiss.omp_set_num_threads(1)\n",
    "\n",
    "print(' ' * len(parametersets[0]), '\\t', 'R@1    R@10   R@100     time    %pass')\n",
    "\n",
    "for param in parametersets:\n",
    "    print(param, '\\t', end=' ')\n",
    "    sys.stdout.flush()\n",
    "    ps.set_index_parameters(index, param)\n",
    "    t0 = time.time()\n",
    "    ivfpq_stats.reset()\n",
    "    ivf_stats.reset()\n",
    "    D, I = index.search(xq, 100)\n",
    "    t1 = time.time()\n",
    "    for rank in 1, 10, 100:\n",
    "        n_ok = (I[:, :rank] == gt[:, :1]).sum()\n",
    "        print(\"%.4f\" % (n_ok / float(nq)), end=' ')\n",
    "    print(\"%8.3f  \" % ((t1 - t0) * 1000.0 / nq), end=' ')\n",
    "    print(\"%5.2f\" % (ivfpq_stats.n_hamming_pass * 100.0 / ivf_stats.ndis))"
   ]
  },
  {
   "cell_type": "code",
   "execution_count": 7,
   "metadata": {},
   "outputs": [
    {
     "name": "stdout",
     "output_type": "stream",
     "text": [
      "==== Distance ====\n",
      "\n",
      "[[50993.203 54336.414 56335.76  ... 65039.16  65092.453 65136.562]\n",
      " [28778.004 29403.02  29605.914 ... 38942.62  38943.63  38955.61 ]\n",
      " [35337.684 35693.312 35995.484 ... 43081.79  43117.96  43128.875]\n",
      " ...\n",
      " [47332.293 48143.83  49028.484 ... 58328.45  58379.38  58422.836]\n",
      " [38902.82  39315.617 41596.766 ... 53518.285 53519.25  53557.53 ]\n",
      " [37481.633 39034.703 39707.74  ... 52359.676 52385.773 52396.105]]\n",
      "\n",
      "==== Index ====\n",
      "\n",
      "[[672303393 615142927 204071725 ... 905142920 277061603 603696095]\n",
      " [328569870 455604845 337592366 ... 356877104  25276549 721982882]\n",
      " [397763200 207300893 924963237 ... 447729961 522492180 827586288]\n",
      " ...\n",
      " [261386442 423027881 456076419 ... 134056270  68733067 505049966]\n",
      " [443633952 433375204 935973620 ... 112122141 847878828 241995425]\n",
      " [193715219 266287267 883319926 ... 493087999 625182027 918522722]]\n",
      "\n"
     ]
    }
   ],
   "source": [
    "print(\"==== Distance ====\\n\\n{}\\n\".format(D))\n",
    "print(\"==== Index ====\\n\\n{}\\n\".format(I))"
   ]
  },
  {
   "cell_type": "code",
   "execution_count": 8,
   "metadata": {},
   "outputs": [
    {
     "name": "stdout",
     "output_type": "stream",
     "text": [
      "Xq\ttype: <class 'numpy.memmap'>\tshape: (10000, 128)\n",
      "\n",
      "[  3.   9.  17.  78.  83.  15.  10.   8. 101. 109.  21.   8.   3.   2.\n",
      "   9.  64.  39.  31.  18.  80.  55.  10.   2.  12.   7.   7.  26.  58.\n",
      "  32.   6.   4.   3.  14.   2.  13.  28.  37.  19.  47.  59. 109.  22.\n",
      "   2.   6.  18.  15.  20. 109.  30.   8.  11.  44. 109.  54.  19.  32.\n",
      "  17.  21.  15.  22.  12.  28. 101.  35.  66.  11.   9.  30.  68.  35.\n",
      "  30.  75. 106. 103.  26.  50.  76.  20.   8.  13.  51.  41.  63. 109.\n",
      "  40.   2.   3.  15.  36.  49.  21.  13.  12.   9.  36.  37.  52.  37.\n",
      "  24.  34.  19.   3.  13.  23.  21.   8.   3.  20.  68.  56.  79.  60.\n",
      "  99.  36.   7.  28.  78.  41.   7.  21.  74.  26.   3.  15.  34.  15.\n",
      "  12.  27.] (128,)\n",
      "3.0\n"
     ]
    }
   ],
   "source": [
    "print(\"Xq\\ttype: {}\\tshape: {}\\n\".format(type(xq), xq.shape))\n",
    "print(xq[0], xq[0].shape) \n",
    "# Why like integers? -> The sift1b dataset actually stores vector in uint8 format, to save space\n",
    "#   size = 132000000000 bytes = (128 bytes vector + 4 bytes index) * 1B\n",
    "print(xq[0][0])"
   ]
  },
  {
   "cell_type": "code",
   "execution_count": 9,
   "metadata": {},
   "outputs": [
    {
     "data": {
      "text/plain": [
       "(10000, 128)"
      ]
     },
     "execution_count": 9,
     "metadata": {},
     "output_type": "execute_result"
    }
   ],
   "source": [
    "xq.shape"
   ]
  },
  {
   "cell_type": "code",
   "execution_count": 10,
   "metadata": {},
   "outputs": [],
   "source": [
    "single_q = xq[0].reshape(1, -1)\n",
    "dist, idx = index.search(single_q, 100)"
   ]
  },
  {
   "cell_type": "code",
   "execution_count": 11,
   "metadata": {},
   "outputs": [
    {
     "name": "stdout",
     "output_type": "stream",
     "text": [
      "==== Index ====\n",
      "\n",
      "[[672303393 615142927 204071725 971823307 201892784 937541801 722477532\n",
      "  336118969 245885573 740285375 656556888 968173533 110973576 277259885\n",
      "  290543557 203588195 544978851 614757093 904249396 207753439 458731394\n",
      "  267986685 880358133 123365395 725237737 221456167 383328762 351655146\n",
      "  862245159 634040555 668882806 744707409 718496051 203398697 956349545\n",
      "  879095196 674980795 356698977 657676309 920763800 168233858 470132504\n",
      "  366729519 255829277 339763325 250663892  40642738 722321159 791883084\n",
      "  694293478  28539420 302873886 794816190 481248571 351657336 221457391\n",
      "  822165807 681475806 579811330 716055137 704361214 477723287 922453899\n",
      "  178577649 837625153 502889241 776920366 648108651 591351597 558889020\n",
      "  876033653  40156538 224060326  71522777 956646244 148931760  31464083\n",
      "  221456488 261944447 219498491 372047056 731202344 536916168 459020955\n",
      "  944547995 991250886 219151745 833801070 785731029 207488404 768782587\n",
      "  221457012 879095218 468300062 967679308 622011351 542891735 905142920\n",
      "  277061603 603696095]]\n",
      "\n",
      "==== Distance ====\n",
      "\n",
      "[[50993.312 54336.492 56335.69  56883.074 57609.645 58113.477 58424.234\n",
      "  58844.266 59015.65  59083.246 59254.414 59307.22  59382.55  59646.51\n",
      "  59875.91  59983.35  59994.895 60362.39  60540.477 60558.508 60612.168\n",
      "  60828.188 61009.992 61100.28  61355.945 61508.836 61599.242 61678.324\n",
      "  61820.758 61864.773 61877.14  61931.05  62144.586 62155.523 62502.434\n",
      "  62640.95  62709.465 62710.11  62730.77  62820.934 62844.51  62854.613\n",
      "  62868.47  62945.246 62998.51  63150.598 63253.37  63259.08  63282.508\n",
      "  63334.664 63354.035 63378.207 63432.15  63457.707 63461.918 63493.742\n",
      "  63507.29  63516.586 63563.277 63591.62  63674.47  63675.26  63798.09\n",
      "  63808.58  63819.746 63837.188 63914.13  63975.824 63985.883 64046.8\n",
      "  64063.17  64101.348 64147.957 64155.215 64168.44  64207.184 64269.01\n",
      "  64308.76  64358.62  64423.93  64536.383 64551.13  64581.7   64584.312\n",
      "  64683.51  64710.33  64728.1   64787.99  64805.87  64837.395 64871.25\n",
      "  64871.598 64879.473 64940.348 64965.21  64986.85  65010.22  65039.09\n",
      "  65092.47  65136.492]]\n",
      "\n"
     ]
    }
   ],
   "source": [
    "print(\"==== Index ====\\n\\n{}\\n\".format(idx))\n",
    "print(\"==== Distance ====\\n\\n{}\\n\".format(dist))"
   ]
  },
  {
   "cell_type": "code",
   "execution_count": 12,
   "metadata": {},
   "outputs": [],
   "source": [
    "coarse_quantizer = faiss.downcast_index(index.quantizer)\n",
    "# coarse_cen = faiss.vector_to_array(coarse_quantizer.xb)\n",
    "# print(coarse_cen.shape)"
   ]
  },
  {
   "cell_type": "code",
   "execution_count": 13,
   "metadata": {},
   "outputs": [],
   "source": [
    "\"\"\"\n",
    "My Search Functions\n",
    "\"\"\"\n",
    "\n",
    "def get_sub_quantizer_centroids(index):\n",
    "    \"\"\"\n",
    "    return the sub-quantizer centroids, \n",
    "    shape = (m, 256, d / m)\n",
    "    e.g., d=128, m=16 -> (16, 256, 8)\n",
    "    \"\"\"\n",
    "    pq = index.pq\n",
    "    cen = faiss.vector_to_array(pq.centroids)\n",
    "    cen = cen.reshape(pq.M, pq.ksub, pq.dsub)\n",
    "    \n",
    "    return cen\n",
    "\n",
    "def get_coarse_quantizer_centroids(coarse_quantizer):\n",
    "    \"\"\"\n",
    "    return the coarse-grained quantizer centroids,\n",
    "    shape = (nlist, d),\n",
    "    e.g., nlist=1024, d=128 -> (1024, 128)\n",
    "    \"\"\"\n",
    "    coarse_cen = faiss.vector_to_array(coarse_quantizer.xb)\n",
    "#     print(\"coarse_cen.shape\", coarse_cen.shape) # 1024 * 64 = 65536\n",
    "#     print(\"coarse_quantizer.ntotal\", coarse_quantizer.ntotal)\n",
    "#     print(\"coarse_quantizer.d\", coarse_quantizer.d)\n",
    "\n",
    "    coarse_cen = coarse_cen.reshape(coarse_quantizer.ntotal, coarse_quantizer.d)\n",
    "    return coarse_cen"
   ]
  },
  {
   "cell_type": "code",
   "execution_count": 14,
   "metadata": {},
   "outputs": [
    {
     "name": "stdout",
     "output_type": "stream",
     "text": [
      "==== Sub-quantizer ====\n",
      "[[[-1.39830580e+01 -9.50784492e+00 -3.96348667e+00 ...  5.86917877e+00\n",
      "    1.04514023e+02  1.04102793e+01]\n",
      "  [-6.90511627e+01 -2.03367958e+01  2.62607670e+00 ...  2.83390975e+00\n",
      "    1.95819175e+00 -8.36786938e+00]\n",
      "  [-4.25987320e+01 -9.93877316e+00  1.04937162e+01 ... -1.98086727e+00\n",
      "   -6.30460835e+00 -2.12152977e+01]\n",
      "  ...\n",
      "  [ 1.92724438e+01  2.98870945e+00 -6.91194391e+00 ...  1.94331989e+01\n",
      "   -9.75370109e-01 -8.94906640e-01]\n",
      "  [ 2.05092468e+01 -1.09992886e+00 -9.42241001e+00 ...  9.38970661e+00\n",
      "   -7.21518993e+00 -4.89512920e+00]\n",
      "  [ 1.51460276e+01  1.51528549e+00 -1.98966455e+00 ... -1.96080756e+00\n",
      "   -1.24802208e+00  4.54244643e-01]]\n",
      "\n",
      " [[-1.38893576e+01 -1.30567741e+01  1.27895641e+01 ... -1.25062037e+00\n",
      "    4.34972916e+01  7.75580406e+00]\n",
      "  [ 1.04570885e+01  3.74349747e+01  1.84257901e+00 ... -4.78825521e+00\n",
      "    1.15119820e+01  5.44087677e+01]\n",
      "  [-1.12493572e+01 -3.95343399e+00  1.05285339e+01 ... -1.15094595e+01\n",
      "   -1.70058894e+00 -4.81053877e+00]\n",
      "  ...\n",
      "  [-1.45363636e+01 -2.57107544e+00 -2.13399506e+00 ...  6.51664886e+01\n",
      "    3.38337021e+01 -2.34070911e+01]\n",
      "  [-4.51597137e+01 -1.86635551e+01 -4.86111498e+00 ... -3.64628577e+00\n",
      "   -4.01028728e+00 -1.62384109e+01]\n",
      "  [-8.78682709e+00 -2.58394480e+00 -2.25861883e+00 ...  6.20042839e+01\n",
      "   -2.68067694e+00 -1.36302748e+01]]\n",
      "\n",
      " [[ 1.50219755e+01 -3.64422150e+01 -1.31149569e+01 ...  4.52723265e+00\n",
      "   -3.92153049e+00 -8.07479694e-02]\n",
      "  [ 2.34784241e+01 -1.09266796e+01 -9.69498158e+00 ... -9.77621365e+00\n",
      "   -9.20478249e+00  2.73949432e+01]\n",
      "  [ 9.73505878e+00 -5.11525955e+01 -7.90814066e+00 ... -9.25494611e-01\n",
      "   -1.83011734e+00  1.24358988e+00]\n",
      "  ...\n",
      "  [-1.19509993e+01 -9.42717648e+00 -9.59700489e+00 ...  3.55483437e+01\n",
      "    8.65351410e+01  3.91368246e+00]\n",
      "  [-6.73561764e+00  2.39687943e+00  2.83320999e+01 ... -1.64496269e+01\n",
      "   -2.04016972e+00 -3.16627145e+00]\n",
      "  [-1.28539104e+01 -6.06115818e+00 -2.63195109e+00 ... -2.12953644e+01\n",
      "   -5.24850726e-01 -3.74402285e+00]]\n",
      "\n",
      " ...\n",
      "\n",
      " [[-2.10359383e+01 -1.25368586e+01 -1.35879505e+00 ... -2.62280416e+00\n",
      "   -3.78243542e+00 -8.22578526e+00]\n",
      "  [-4.55713940e+00 -6.63353109e+00 -2.11198545e+00 ... -1.00038815e+00\n",
      "   -3.12741494e+00  3.04298013e-01]\n",
      "  [-1.67997265e+01 -2.14599323e+01 -1.43413525e+01 ...  6.61805868e+00\n",
      "   -4.48725271e+00 -9.96455288e+00]\n",
      "  ...\n",
      "  [-2.51692653e-01  5.50721817e+01  2.76219540e+01 ... -9.14924240e+00\n",
      "   -3.95090652e+00 -6.13221455e+00]\n",
      "  [-1.53377466e+01 -7.45878410e+00 -5.16760445e+00 ...  3.75509911e+01\n",
      "    8.56919785e+01 -2.26916528e+00]\n",
      "  [ 4.54560127e+01  7.67166367e+01 -1.61707067e+00 ... -9.61367893e+00\n",
      "   -1.15727358e+01 -1.39367676e+01]]\n",
      "\n",
      " [[ 2.12288361e+01 -1.35925102e+01 -4.62672758e+00 ... -2.50050759e+00\n",
      "   -4.41830111e+00  3.15275097e+01]\n",
      "  [ 2.09973545e+01  2.61106091e+01 -4.88965321e+00 ... -5.14063263e+00\n",
      "   -8.27642977e-01  2.10256290e+01]\n",
      "  [ 4.77137566e+01 -1.95083580e+01 -1.30783596e+01 ... -4.46485567e+00\n",
      "   -1.23386741e+00  3.38791046e+01]\n",
      "  ...\n",
      "  [-3.84159431e+01  1.65283337e+01  4.91031408e+00 ... -3.00505185e+00\n",
      "   -1.82707655e+00 -6.87191916e+00]\n",
      "  [-3.10364799e+01 -1.11609125e+01 -4.58943748e+00 ...  2.22289848e+01\n",
      "    5.47353020e+01 -2.33923492e+01]\n",
      "  [-1.90699005e+01 -5.17552567e+00 -3.60161138e+00 ...  4.51280594e+01\n",
      "    1.47654848e+01 -4.10555687e+01]]\n",
      "\n",
      " [[ 2.18617592e+01  2.10718822e+01 -5.96659613e+00 ... -4.82969189e+00\n",
      "   -5.85421467e+00 -9.71733665e+00]\n",
      "  [-6.12362862e+00  1.25108023e+01 -3.80048585e+00 ... -3.41598058e+00\n",
      "   -4.41514874e+00 -8.99769783e+00]\n",
      "  [-1.54819107e+01  2.26406479e+01  3.15563083e+00 ... -2.73708797e+00\n",
      "   -8.00657845e+00 -1.56741676e+01]\n",
      "  ...\n",
      "  [-5.25303984e+00 -4.31598711e+00 -7.85225093e-01 ... -1.88824501e+01\n",
      "    8.34047928e+01  2.92458382e+01]\n",
      "  [-1.46619177e+01 -3.94590340e+01 -9.08632565e+00 ... -4.75075722e+00\n",
      "   -3.08909440e+00 -3.63624597e+00]\n",
      "  [-1.52968855e+01 -1.41353693e+01 -1.18923492e+01 ...  7.68574333e+00\n",
      "    8.98725510e+01  2.26508560e+01]]]\n",
      "\n",
      "shape:(16, 256, 8)\n",
      "\n",
      "==== Coarse-quantizer ====\n",
      "[[ 16.108433   16.3253     21.036144  ...  11.168674   16.012047\n",
      "   24.421686 ]\n",
      " [ 38.401962   35.882355   14.813726  ...   5.039216    4.637255\n",
      "    7.6764708]\n",
      " [ 14.949153   14.779661   21.474577  ...  67.0339    115.76271\n",
      "   52.508476 ]\n",
      " ...\n",
      " [  2.5777779   2.2222223   2.6000001 ...   4.1222224   2.8777778\n",
      "    7.277778 ]\n",
      " [ 22.75       10.321428    9.928572  ...   7.0833335  18.761906\n",
      "   19.285715 ]\n",
      " [ 15.594203   10.521739   18.144928  ...   8.130435    6.4492755\n",
      "    9.463768 ]]\n",
      "\n",
      "shape:(8192, 128)\n",
      "\n"
     ]
    }
   ],
   "source": [
    "# Get Sub quantizer info\n",
    "sub_cen = get_sub_quantizer_centroids(index)\n",
    "print(\"==== Sub-quantizer ====\\n{}\\n\\nshape:{}\\n\".format(sub_cen, sub_cen.shape))\n",
    "\n",
    "# Get Coarse quantizer info\n",
    "coarse_cen = get_coarse_quantizer_centroids(coarse_quantizer)\n",
    "print(\"==== Coarse-quantizer ====\\n{}\\n\\nshape:{}\\n\".format(coarse_cen, coarse_cen.shape))"
   ]
  },
  {
   "cell_type": "code",
   "execution_count": 15,
   "metadata": {},
   "outputs": [],
   "source": [
    "def get_invlist(invlists, l):\n",
    "    \"\"\" \n",
    "    returns the (vector IDs set, PQ cose set) of list ID \"l\"\n",
    "    list_ids: (#vec_in_list, ), e.g., #vec_in_list=10 -> (10, )\n",
    "    list_codes: (#vec_in_list, m), e.g., #vec_in_list=10, m=16 -> (10, 16)\n",
    "    \n",
    "    That the data is *NOT* copied: if the inverted index is deallocated or changes, accessing the array may crash.\n",
    "    To avoid this, just clone the output arrays on output. \n",
    "    \"\"\"\n",
    "    ls = invlists.list_size(l)\n",
    "    list_ids = faiss.rev_swig_ptr(invlists.get_ids(l), ls)\n",
    "    list_codes = faiss.rev_swig_ptr(invlists.get_codes(l), ls * invlists.code_size)\n",
    "    list_codes = list_codes.reshape(-1, invlists.code_size)\n",
    "    return list_ids, list_codes"
   ]
  },
  {
   "cell_type": "code",
   "execution_count": 16,
   "metadata": {},
   "outputs": [
    {
     "name": "stdout",
     "output_type": "stream",
     "text": [
      "==== Vector IDs ====\n",
      "[     7330     15876     19023 ... 999967925 999970701 999994567]\n",
      "\n",
      "shape: (81713,)\n",
      "\n",
      "==== PQ codes ====\n",
      "[[232 237  49 ...  65 119  71]\n",
      " [ 49   0 156 ... 169  13  25]\n",
      " [169 193 103 ...  53 252 104]\n",
      " ...\n",
      " [234 237 225 ... 142 209 251]\n",
      " [234 157 140 ...  85  57 218]\n",
      " [147   2 146 ...  37  71 118]]\n",
      "\n",
      "shape: (81713, 16)\n",
      "\n"
     ]
    }
   ],
   "source": [
    "invlists = index.invlists\n",
    "\n",
    "# Example of using function \"get_invlist\"\n",
    "list_id = 124\n",
    "list_ids, list_codes = get_invlist(invlists, list_id)\n",
    "print(\"==== Vector IDs ====\\n{}\\n\\nshape: {}\\n\".format(list_ids, list_ids.shape))\n",
    "print(\"==== PQ codes ====\\n{}\\n\\nshape: {}\\n\".format(list_codes, list_codes.shape))"
   ]
  },
  {
   "cell_type": "code",
   "execution_count": 17,
   "metadata": {},
   "outputs": [
    {
     "data": {
      "image/png": "[encoded data removed]",
      "text/plain": [
       "<Figure size 432x288 with 1 Axes>"
      ]
     },
     "metadata": {
      "needs_background": "light"
     },
     "output_type": "display_data"
    }
   ],
   "source": [
    "# TODO: debug this\n",
    "# Show size Distribution of all cells (inverted lists)\n",
    "# print([invlists.list_size(l) for l in range(invlists.nlist)])\n",
    "# bc = np.bincount([invlists.list_size(l) for l in range(invlists.nlist)])\n",
    "# pyplot.step(np.arange(bc.size), bc)\n",
    "bc = [invlists.list_size(l) for l in range(invlists.nlist)]\n",
    "pyplot.step(np.arange(len(bc)), bc)\n",
    "pyplot.xlabel('size of invlist')\n",
    "pyplot.ylabel('nb of invlists')\n",
    "pyplot.grid()"
   ]
  },
  {
   "cell_type": "code",
   "execution_count": 28,
   "metadata": {},
   "outputs": [],
   "source": [
    "\"\"\"\n",
    "Self-implemented functions to search a query vectors\n",
    "\"\"\"\n",
    "\n",
    "def distance_full_vec(v1, v2):\n",
    "    \"\"\"Given 2 full vector, return their L2 distance\"\"\"\n",
    "    assert len(v1) == len(v2)\n",
    "    v_diff = v1 - v2\n",
    "    dist = np.sum(v_diff * v_diff)\n",
    "    return dist\n",
    "\n",
    "def construct_distance_table(q_res, sub_cen):\n",
    "    \"\"\"\n",
    "    q_res: a full precision query vector, shape = (d, ), e.g., (128, )\n",
    "    sub_cen: sub-quantizer center, shape = (m, 256, d / m), e.g., d=128, m=16 -> (16, 256, 8)\n",
    "    \"\"\"\n",
    "    M, ksub, dsub = sub_cen.shape\n",
    "    dist_table = np.zeros(shape=(M, ksub))\n",
    "    \n",
    "    for m in range(M):\n",
    "        q_res_part = q_res[m * dsub: (m + 1) * dsub]\n",
    "        for k in range(ksub):\n",
    "            PQ_cent = sub_cen[m][k]\n",
    "            res_dist = PQ_cent - q_res_part\n",
    "            dist = np.sum(res_dist * res_dist)\n",
    "            \n",
    "            dist_table[m, k] = dist\n",
    "            \n",
    "    return dist_table\n",
    "\n",
    "def estimate_distance(pq_code, dist_table):\n",
    "    \"\"\"\n",
    "    given single PQ code and its distance table, compute the estimated distance\n",
    "    \"\"\"\n",
    "    # pq_cen -> (pq.M 8, pq.ksub 256, pq.dsub D/M=64/8=8)\n",
    "    M = dist_table.shape[0]\n",
    "    assert M == len(pq_code)\n",
    "    \n",
    "    dist = 0\n",
    "    for m in range(M):\n",
    "        dist += dist_table[m][pq_code[m]]\n",
    "        \n",
    "    return dist\n",
    "\n",
    "def estimate_distances(vec_ids, pq_codes, dist_table):\n",
    "    \"\"\"\n",
    "    A wrapper of \"estimate_distance\", estimating the distance of a batch\n",
    "      of PQ codes\n",
    "    vec_ids, pq_codes: get_invlist(invlists, closest_cell)\n",
    "    center_dist: the distance from query vector to the coarse-grained\n",
    "      cluster centroid.\n",
    "      \n",
    "    Return: an sorted list of pair (vec_id, distance)\n",
    "       [(vec0, dist0), ... (vecN, distN)]\n",
    "    \"\"\"\n",
    "    assert len(vec_ids) == len(pq_codes)\n",
    "    vec_dist_list = []\n",
    "    \n",
    "    for i in range(len(vec_ids)):\n",
    "        pq_code = pq_codes[i]\n",
    "        vec_id = vec_ids[i]\n",
    "        dist = estimate_distance(pq_code, dist_table)# + center_dist\n",
    "        vec_dist_list.append((vec_id, dist))\n",
    "        \n",
    "    vec_dist_list.sort(key=lambda x:x[1])\n",
    "    \n",
    "    return vec_dist_list\n",
    "\n",
    "def search_single_query(q_vec, nprobe, topk, coarse_cen, sub_cen):\n",
    "    \"\"\"\n",
    "    Search a single query vector, shape = (d, )\n",
    "    \"\"\"\n",
    "    \n",
    "    # Compute the closest centroids\n",
    "    coarse_dist_ls = []\n",
    "    for i, c in enumerate(coarse_cen):\n",
    "        dist = distance_full_vec(q_vec, c)\n",
    "        coarse_dist_ls.append((dist, i)) # (distance, cell_id)\n",
    "        \n",
    "    coarse_dist_ls.sort(key=lambda x: x[0])\n",
    "\n",
    "    # Estimate distance by ADC\n",
    "    closest_cell_list = coarse_dist_ls[:nprobe]\n",
    "    vec_dist_id_list = []\n",
    "    for cell in closest_cell_list:\n",
    "        cell_id = cell[1]\n",
    "        center_dist = cell[0]\n",
    "        list_ids, list_codes = get_invlist(invlists, cell_id)\n",
    "        q_res = q_vec - coarse_cen[cell_id]\n",
    "        # Note! store sub-quantizer once, but the number of compute = nprobe \n",
    "        dist_table = construct_distance_table(q_res, sub_cen)\n",
    "        vec_dist_id_list_single_cell = estimate_distances(list_ids, list_codes, dist_table)\n",
    "        vec_dist_id_list += vec_dist_id_list_single_cell\n",
    "        \n",
    "    vec_dist_id_list.sort(key=lambda x:x[1])\n",
    "    vec_dist_id_list = vec_dist_id_list[:topk]\n",
    "    id_list = [pair[0] for pair in vec_dist_id_list]\n",
    "    dist_list = [pair[1] for pair in vec_dist_id_list]\n",
    "    \n",
    "    return id_list, dist_list\n",
    "\n",
    "def search_batch_query(q_vecs, nprobe, topk, coarse_cen, sub_cen):\n",
    "    \"\"\"\n",
    "    The wrapper of \"search_single_query\", search a batch of vectors\n",
    "    input: q_vecs shape -> (batch_size, d)\n",
    "    \"\"\"\n",
    "    id_list_batch = []\n",
    "    dist_list_batch = []\n",
    "    for q_vec in q_vecs:\n",
    "        id_list, dist_list = search_single_query(q_vec, nprobe, topk, coarse_cen, sub_cen)\n",
    "        id_list_batch.append(id_list)\n",
    "        dist_list_batch.append(dist_list)\n",
    "        \n",
    "    return id_list_batch, dist_list_batch"
   ]
  },
  {
   "cell_type": "code",
   "execution_count": 19,
   "metadata": {},
   "outputs": [
    {
     "name": "stdout",
     "output_type": "stream",
     "text": [
      "(1, 128)\n",
      "(128,)\n"
     ]
    }
   ],
   "source": [
    "print(single_q.shape)\n",
    "my_single_q = single_q.reshape((d, ))\n",
    "print(my_single_q.shape)"
   ]
  },
  {
   "cell_type": "code",
   "execution_count": 20,
   "metadata": {},
   "outputs": [
    {
     "name": "stdout",
     "output_type": "stream",
     "text": [
      "==== Vector IDs ====\n",
      "\n",
      "[672303393, 615142927, 204071725, 971823307, 201892784, 937541801, 722477532, 336118969, 245885573, 740285375, 656556888, 968173533, 110973576, 277259885, 290543557, 203588195, 544978851, 614757093, 904249396, 207753439, 458731394, 267986685, 880358133, 123365395, 725237737, 221456167, 383328762, 351655146, 862245159, 634040555, 668882806, 744707409, 718496051, 203398697, 956349545, 879095196, 674980795, 356698977, 657676309, 920763800, 168233858, 470132504, 366729519, 255829277, 339763325, 250663892, 40642738, 722321159, 791883084, 694293478, 28539420, 302873886, 794816190, 481248571, 351657336, 221457391, 822165807, 681475806, 579811330, 716055137, 704361214, 477723287, 922453899, 178577649, 837625153, 502889241, 776920366, 648108651, 591351597, 558889020, 876033653, 40156538, 224060326, 71522777, 956646244, 148931760, 31464083, 221456488, 261944447, 219498491, 372047056, 731202344, 536916168, 459020955, 944547995, 991250886, 219151745, 833801070, 785731029, 207488404, 768782587, 221457012, 879095218, 468300062, 967679308, 622011351, 542891735, 905142920, 277061603, 603696095]\n",
      "\n",
      "==== Distances ====\n",
      "\n",
      "[50993.317810058594, 54336.49072265625, 56335.68893432617, 56883.084045410156, 57609.639892578125, 58113.48979187012, 58424.22134399414, 58844.268310546875, 59015.651916503906, 59083.247802734375, 59254.40899658203, 59307.218505859375, 59382.5458984375, 59646.51416015625, 59875.914123535156, 59983.34631347656, 59994.90441894531, 60362.406311035156, 60540.485107421875, 60558.5029296875, 60612.17170715332, 60828.19091796875, 61009.99365234375, 61100.28125, 61355.94793701172, 61508.8271484375, 61599.240814208984, 61678.31884765625, 61820.74523925781, 61864.77014160156, 61877.15026855469, 61931.06530761719, 62144.593505859375, 62155.520751953125, 62502.43099975586, 62640.94274902344, 62709.457275390625, 62710.09637451172, 62730.77014160156, 62820.93292236328, 62844.51867675781, 62854.625732421875, 62868.475646972656, 62945.25372314453, 62998.50128173828, 63150.59899902344, 63253.37060546875, 63259.0788269043, 63282.501525878906, 63334.661682128906, 63354.03308105469, 63378.20721435547, 63432.14630126953, 63457.704040527344, 63461.92041015625, 63493.73327636719, 63507.287109375, 63516.601806640625, 63563.28579711914, 63591.63269042969, 63674.46630859375, 63675.25549316406, 63798.081787109375, 63808.587463378906, 63819.759033203125, 63837.183166503906, 63914.12060546875, 63975.82293701172, 63985.88952636719, 64046.79293823242, 64063.1845703125, 64101.343811035156, 64147.944091796875, 64155.21374511719, 64168.44519042969, 64207.19659423828, 64269.00231933594, 64308.760681152344, 64358.62139892578, 64423.92028808594, 64536.383728027344, 64551.148681640625, 64581.69583129883, 64584.32159423828, 64683.53256225586, 64710.32794189453, 64728.09574127197, 64787.99752807617, 64805.8720703125, 64837.39520263672, 64871.25329589844, 64871.60021972656, 64879.474548339844, 64940.34558105469, 64965.209716796875, 64986.85290527344, 65010.21667480469, 65039.09033203125, 65092.47830200195, 65136.494384765625]\n",
      "\n"
     ]
    }
   ],
   "source": [
    "nprobe = 32\n",
    "topk = 100\n",
    "\n",
    "### Faiss query shape: (10000, 128)\n",
    "\n",
    "id_list, dist_list = search_single_query(my_single_q, nprobe, topk, coarse_cen, sub_cen)\n",
    "print(\"==== Vector IDs ====\\n\\n{}\\n\".format(id_list))\n",
    "print(\"==== Distances ====\\n\\n{}\\n\".format(dist_list))"
   ]
  },
  {
   "cell_type": "code",
   "execution_count": 21,
   "metadata": {},
   "outputs": [
    {
     "name": "stdout",
     "output_type": "stream",
     "text": [
      "ID Correct?  True\n",
      "Distance Correct?  True\n"
     ]
    }
   ],
   "source": [
    "print(\"ID Correct? \", np.allclose(id_list, idx))\n",
    "print(\"Distance Correct? \", np.allclose(dist_list, dist))"
   ]
  },
  {
   "cell_type": "code",
   "execution_count": 22,
   "metadata": {},
   "outputs": [
    {
     "data": {
      "text/plain": [
       "'\\nFaiss Result:\\n==== Index ====\\n\\n[[672303393 615142927 204071725 971823307 201892784 937541801 722477532\\n  336118969 245885573 740285375 656556888 968173533 110973576 277259885\\n  290543557 203588195 544978851 614757093 904249396 207753439 458731394\\n  267986685 880358133 123365395 725237737 221456167 383328762 351655146\\n  862245159 634040555 668882806 744707409 718496051 203398697 956349545\\n  879095196 674980795 356698977 657676309 920763800 168233858 470132504\\n  366729519 255829277 339763325 250663892  40642738 722321159 791883084\\n  694293478  28539420 302873886 794816190 481248571 351657336 221457391\\n  822165807 681475806 579811330 716055137 704361214 477723287 922453899\\n  178577649 837625153 502889241 776920366 648108651 591351597 558889020\\n  876033653  40156538 224060326  71522777 956646244 148931760  31464083\\n  221456488 261944447 219498491 372047056 731202344 536916168 459020955\\n  944547995 991250886 219151745 833801070 785731029 207488404 768782587\\n  221457012 879095218 468300062 967679308 622011351 542891735 905142920\\n  277061603 603696095]]\\n\\n==== Distance ====\\n\\n[[50993.312 54336.492 56335.69  56883.074 57609.645 58113.477 58424.234\\n  58844.266 59015.65  59083.246 59254.414 59307.22  59382.55  59646.51\\n  59875.91  59983.35  59994.895 60362.39  60540.477 60558.508 60612.168\\n  60828.188 61009.992 61100.28  61355.945 61508.836 61599.242 61678.324\\n  61820.758 61864.773 61877.14  61931.05  62144.586 62155.523 62502.434\\n  62640.95  62709.465 62710.11  62730.77  62820.934 62844.51  62854.613\\n  62868.47  62945.246 62998.51  63150.598 63253.37  63259.08  63282.508\\n  63334.664 63354.035 63378.207 63432.15  63457.707 63461.918 63493.742\\n  63507.29  63516.586 63563.277 63591.62  63674.47  63675.26  63798.09\\n  63808.58  63819.746 63837.188 63914.13  63975.824 63985.883 64046.8\\n  64063.17  64101.348 64147.957 64155.215 64168.44  64207.184 64269.01\\n  64308.76  64358.62  64423.93  64536.383 64551.13  64581.7   64584.312\\n  64683.51  64710.33  64728.1   64787.99  64805.87  64837.395 64871.25\\n  64871.598 64879.473 64940.348 64965.21  64986.85  65010.22  65039.09\\n  65092.47  65136.492]]\\n'"
      ]
     },
     "execution_count": 22,
     "metadata": {},
     "output_type": "execute_result"
    }
   ],
   "source": [
    "\"\"\"\n",
    "Faiss Result:\n",
    "==== Index ====\n",
    "\n",
    "[[672303393 615142927 204071725 971823307 201892784 937541801 722477532\n",
    "  336118969 245885573 740285375 656556888 968173533 110973576 277259885\n",
    "  290543557 203588195 544978851 614757093 904249396 207753439 458731394\n",
    "  267986685 880358133 123365395 725237737 221456167 383328762 351655146\n",
    "  862245159 634040555 668882806 744707409 718496051 203398697 956349545\n",
    "  879095196 674980795 356698977 657676309 920763800 168233858 470132504\n",
    "  366729519 255829277 339763325 250663892  40642738 722321159 791883084\n",
    "  694293478  28539420 302873886 794816190 481248571 351657336 221457391\n",
    "  822165807 681475806 579811330 716055137 704361214 477723287 922453899\n",
    "  178577649 837625153 502889241 776920366 648108651 591351597 558889020\n",
    "  876033653  40156538 224060326  71522777 956646244 148931760  31464083\n",
    "  221456488 261944447 219498491 372047056 731202344 536916168 459020955\n",
    "  944547995 991250886 219151745 833801070 785731029 207488404 768782587\n",
    "  221457012 879095218 468300062 967679308 622011351 542891735 905142920\n",
    "  277061603 603696095]]\n",
    "\n",
    "==== Distance ====\n",
    "\n",
    "[[50993.312 54336.492 56335.69  56883.074 57609.645 58113.477 58424.234\n",
    "  58844.266 59015.65  59083.246 59254.414 59307.22  59382.55  59646.51\n",
    "  59875.91  59983.35  59994.895 60362.39  60540.477 60558.508 60612.168\n",
    "  60828.188 61009.992 61100.28  61355.945 61508.836 61599.242 61678.324\n",
    "  61820.758 61864.773 61877.14  61931.05  62144.586 62155.523 62502.434\n",
    "  62640.95  62709.465 62710.11  62730.77  62820.934 62844.51  62854.613\n",
    "  62868.47  62945.246 62998.51  63150.598 63253.37  63259.08  63282.508\n",
    "  63334.664 63354.035 63378.207 63432.15  63457.707 63461.918 63493.742\n",
    "  63507.29  63516.586 63563.277 63591.62  63674.47  63675.26  63798.09\n",
    "  63808.58  63819.746 63837.188 63914.13  63975.824 63985.883 64046.8\n",
    "  64063.17  64101.348 64147.957 64155.215 64168.44  64207.184 64269.01\n",
    "  64308.76  64358.62  64423.93  64536.383 64551.13  64581.7   64584.312\n",
    "  64683.51  64710.33  64728.1   64787.99  64805.87  64837.395 64871.25\n",
    "  64871.598 64879.473 64940.348 64965.21  64986.85  65010.22  65039.09\n",
    "  65092.47  65136.492]]\n",
    "\"\"\""
   ]
  },
  {
   "cell_type": "code",
   "execution_count": 34,
   "metadata": {},
   "outputs": [
    {
     "name": "stdout",
     "output_type": "stream",
     "text": [
      "all queries:  (10000, 128)\n",
      "my_multi_q:  (32, 128)\n",
      "single vector in my_multi_q: (128,)\n"
     ]
    }
   ],
   "source": [
    "\"\"\"\n",
    "Verify the correctness of a batch of query vectors\n",
    "\"\"\"\n",
    "print(\"all queries: \", xq.shape)\n",
    "batch_size = 32\n",
    "my_multi_q = xq[:batch_size]\n",
    "print(\"my_multi_q: \", my_multi_q.shape)\n",
    "print(\"single vector in my_multi_q:\", my_multi_q[0].shape)"
   ]
  },
  {
   "cell_type": "code",
   "execution_count": 32,
   "metadata": {},
   "outputs": [
    {
     "name": "stdout",
     "output_type": "stream",
     "text": [
      "==== Vector IDs ====\n",
      "\n",
      "[[672303393, 615142927, 204071725, 971823307, 201892784, 937541801, 722477532, 336118969, 245885573, 740285375, 656556888, 968173533, 110973576, 277259885, 290543557, 203588195, 544978851, 614757093, 904249396, 207753439, 458731394, 267986685, 880358133, 123365395, 725237737, 221456167, 383328762, 351655146, 862245159, 634040555, 668882806, 744707409, 718496051, 203398697, 956349545, 879095196, 674980795, 356698977, 657676309, 920763800, 168233858, 470132504, 366729519, 255829277, 339763325, 250663892, 40642738, 722321159, 791883084, 694293478, 28539420, 302873886, 794816190, 481248571, 351657336, 221457391, 822165807, 681475806, 579811330, 716055137, 704361214, 477723287, 922453899, 178577649, 837625153, 502889241, 776920366, 648108651, 591351597, 558889020, 876033653, 40156538, 224060326, 71522777, 956646244, 148931760, 31464083, 221456488, 261944447, 219498491, 372047056, 731202344, 536916168, 459020955, 944547995, 991250886, 219151745, 833801070, 785731029, 207488404, 768782587, 221457012, 879095218, 468300062, 967679308, 622011351, 542891735, 905142920, 277061603, 603696095], [328569870, 455604845, 337592366, 241208169, 33176630, 873814748, 650701238, 828119342, 357778701, 637497175, 841963116, 23668085, 759620358, 775918735, 354157514, 581066376, 810449491, 307557959, 988130702, 166499497, 522385953, 31792502, 486807110, 522386095, 730739319, 365688551, 358378954, 290234686, 26598487, 409904301, 669383650, 189467856, 66641292, 750370745, 878386632, 32116862, 201828946, 522386117, 403655549, 131635974, 747177216, 997113818, 737069272, 87846845, 394942910, 4369541, 923318355, 367399355, 42617250, 770548457, 169578309, 44060661, 848575625, 950917382, 225121021, 826245056, 437646140, 938337941, 162336453, 923719653, 847084836, 221053107, 251857561, 163438451, 187886547, 239744360, 303942117, 214901154, 589284331, 307558116, 50411578, 740525713, 415025462, 394171132, 663817668, 191173644, 218047768, 83901465, 423080598, 340022816, 316897490, 698744746, 785857662, 809087894, 42309953, 339464114, 172715593, 920824322, 483759482, 412133451, 819398663, 874414863, 653322622, 401543677, 407640999, 563593299, 680455191, 356877104, 25276549, 721982882], [397763200, 207300893, 924963237, 763827021, 309689640, 124743176, 629621066, 225291068, 840259977, 409541078, 821725283, 477735606, 780537747, 267448548, 17844338, 474507714, 629336625, 373531898, 309840493, 23353312, 384392785, 121438114, 95657237, 374272382, 352973045, 289439989, 922775578, 271655947, 792869635, 254757538, 482185747, 244493190, 524334540, 650327931, 359434858, 767758414, 821009385, 471336308, 684677522, 340473325, 436237940, 538801490, 810643397, 905621100, 694481344, 713777405, 631545400, 424856171, 887187963, 249069933, 434519981, 871293951, 378730537, 127908819, 579273088, 636932891, 558914992, 142641464, 456648264, 864368782, 280529571, 922258320, 904120881, 521806326, 39485386, 302612267, 547228182, 668949080, 187812968, 709783503, 855486602, 619020068, 58713347, 97756174, 206642337, 129112077, 527742377, 683549329, 685684549, 604467525, 335369951, 477038609, 979107751, 111446020, 538620452, 388789225, 943429319, 240271964, 679235061, 747360274, 442877602, 300901950, 760676084, 544139676, 173467050, 140697450, 184918780, 447729961, 522492180, 827586288], [849604241, 518680535, 327430763, 491676946, 677132855, 429831410, 388004693, 382423038, 242912407, 337499077, 577879732, 363571811, 996301863, 956090381, 415070681, 981848492, 766731103, 509437691, 947704109, 590601209, 298020867, 483109546, 44575903, 348730938, 236971709, 856812478, 590516017, 419461089, 142600306, 206017622, 683818315, 367853784, 579892211, 145987515, 644389310, 491356597, 485386240, 504776273, 7790130, 697926529, 125335526, 924712368, 880557757, 864511994, 403463577, 899979544, 463584252, 495670174, 891556219, 685880846, 884527228, 945650832, 582397944, 41725342, 269432752, 744455052, 217947718, 967536964, 503419603, 440576495, 786382580, 471442992, 328727619, 881789529, 822983989, 212421435, 31914121, 868672969, 595799236, 491803148, 857936311, 46642461, 195050831, 376813665, 716093434, 923431877, 557672732, 760345346, 130298392, 878124643, 828310329, 971914394, 530089858, 466988718, 754293846, 692791922, 82152663, 448177784, 417270111, 828387046, 120531624, 557736224, 374706968, 136541334, 384952131, 422172695, 641933422, 807785899, 318489265, 48160848], [484289564, 744928055, 250152467, 361116970, 327808169, 558648051, 919623702, 106585654, 726069493, 174550101, 722703332, 456076680, 707857407, 579676405, 209176872, 153143460, 653594590, 951291219, 581157539, 982023437, 521110722, 744461145, 264048674, 610460503, 578727353, 384196124, 643398999, 426696511, 346649969, 449802909, 312596859, 126805630, 843036665, 762148649, 236073390, 238491930, 40074041, 239439421, 997490897, 640167579, 382046972, 623676616, 240372055, 315799555, 133476539, 318462279, 507451967, 997960134, 140812135, 155358990, 781896235, 736398676, 499616500, 627981323, 789584507, 357572154, 105740230, 315309762, 774144008, 998908558, 869244084, 162556955, 539228017, 908818929, 152645326, 263935797, 368698386, 286747013, 702278883, 679394468, 532224033, 544513635, 321300874, 646222581, 406739034, 641703010, 623201617, 813238016, 353126426, 419901353, 668709420, 265183659, 104851695, 75096725, 143595015, 778552225, 230906986, 166299100, 927842635, 143517660, 104602812, 827794919, 59157054, 799305504, 748777769, 881556846, 295540058, 849152566, 477845894, 726625509], [856554681, 380437485, 737551680, 337159950, 397126720, 520388629, 697809318, 788413427, 743392812, 166242732, 570247100, 701817567, 696138147, 337159947, 364487031, 269996048, 965785177, 218411017, 704338074, 961942449, 726110451, 11125204, 728745187, 607599805, 163031113, 41412849, 462080290, 61033715, 686243197, 822130177, 348624905, 146198433, 365845558, 867356297, 651781686, 186994121, 68248751, 110410838, 178738947, 200572516, 108339453, 852354394, 539256182, 595018289, 820728717, 700489817, 462026061, 495410503, 336968992, 862615484, 857732802, 543325857, 711537600, 802166975, 916768779, 931797155, 817547959, 366147270, 960581946, 266307831, 481409985, 778887089, 242509999, 320242811, 258665428, 174030804, 27921220, 298815119, 678805732, 706153555, 316074764, 828221176, 668134010, 784311681, 661844540, 632513814, 581977767, 886045412, 9481813, 344069920, 805252161, 330947887, 627607400, 540842634, 271564451, 889580545, 802999927, 71912552, 150965070, 665924438, 225459072, 806952282, 150578270, 813218432, 188629875, 493328420, 385345707, 711933794, 538245668, 113582163], [798304278, 119040181, 259284549, 484149267, 472145723, 134925899, 864877286, 965424336, 670075575, 877801366, 995359948, 480013400, 735200877, 322535063, 701762886, 212072158, 763415735, 132505107, 846217866, 50237778, 965938580, 48174556, 567575442, 797515856, 472000666, 996099004, 355652897, 876901394, 280696982, 87811973, 530714719, 92384873, 38878232, 4052346, 637382396, 612672632, 718197897, 40937382, 720072257, 376689658, 825992899, 258022853, 366206403, 147074543, 496297933, 191797471, 768528804, 869754096, 258213101, 570131598, 431352718, 688166788, 684946568, 414512014, 44507823, 521343852, 184601683, 295038340, 70377903, 795593295, 52895517, 177250762, 600505228, 370247922, 926784092, 766502576, 112693787, 391050446, 213411638, 769171507, 663799976, 720838200, 307849635, 534242953, 847959852, 357045112, 354804135, 630207645, 779311433, 888138811, 552315873, 523233558, 194498982, 227705771, 759157036, 73706613, 957901570, 599703159, 941359965, 628107342, 39274234, 666079412, 658953299, 910964976, 20323554, 446722561, 552316040, 870406237, 590349184, 801824997], [154393057, 561361418, 121407878, 133356556, 75432637, 49126623, 641182923, 574259471, 281274528, 752209275, 70629646, 816710360, 762755164, 817603428, 766661562, 727127533, 722452926, 363980402, 191732707, 574259516, 978495237, 719560788, 419860000, 611751873, 430274709, 886726340, 758004668, 878176596, 741584928, 374002889, 247545599, 756116706, 925743784, 388995442, 926371425, 323426137, 414969433, 866041760, 861163894, 358087081, 646641840, 618744083, 160515073, 302120240, 466714402, 161558530, 927181432, 610004920, 520056991, 784957938, 31401494, 855247412, 169268061, 918282607, 434477805, 346702831, 423681605, 960359972, 556414083, 135772440, 659119001, 916411012, 47826070, 329778674, 101977866, 281962217, 864386310, 829334262, 440552158, 436184454, 645601737, 413402519, 899842850, 213449280, 48160227, 12983350, 377833941, 853843912, 169315715, 775984085, 984452552, 701003146, 22664695, 205313223, 771870926, 332599142, 906416117, 403279576, 197754422, 78869504, 850996025, 347950182, 295630047, 279931548, 865722213, 440426262, 559590937, 17361602, 719722979, 99663400], [513425311, 862607794, 980567903, 849645435, 555664117, 632019206, 748190535, 458616444, 89927122, 133723634, 76234645, 490517672, 435733221, 166689419, 182570982, 575660025, 766496628, 150227035, 925966997, 550140244, 118910648, 279380892, 478841722, 51455741, 528801160, 935513888, 542425344, 318352574, 944388252, 274703453, 132904178, 150771439, 300404470, 594430759, 234375392, 882596436, 320129274, 656054310, 799984637, 133736328, 961916781, 676037196, 347208689, 9886250, 140553536, 962113871, 985417884, 909006723, 172302096, 915654479, 469844583, 227603943, 635626039, 688718392, 970437836, 792934425, 573124303, 204574958, 46319889, 990262478, 46665339, 376633625, 172533349, 248316266, 719842541, 234867026, 560212314, 47598847, 473875611, 177124408, 928546808, 866803264, 769322242, 669378583, 896780168, 320778358, 99278047, 898758985, 136756488, 67437729, 709861588, 549736409, 771289828, 845385630, 623058562, 801963871, 219867834, 442845440, 112252008, 469834362, 112087844, 288977269, 350498076, 627772446, 103109665, 269778825, 28043860, 484694135, 39912307, 561369223], [868273741, 278143843, 422087070, 485519217, 509082240, 789885570, 783206960, 569429701, 986575630, 949190449, 800612931, 321529274, 217767727, 291851901, 511815069, 713417799, 544444143, 289789886, 168914979, 723152716, 107286071, 761060847, 881747158, 635361455, 581816536, 413905489, 926469988, 274956680, 188137255, 853558031, 414778060, 520569107, 847519957, 66067062, 273056483, 39105494, 399544585, 759253945, 868027893, 243110877, 475057911, 441101645, 843252852, 705539207, 973918753, 351612578, 108324598, 812478186, 874820943, 330016244, 911769573, 111601252, 552242267, 706763367, 833572111, 881546273, 924886082, 792544359, 53802324, 185451497, 122484536, 982671975, 635339827, 503457981, 682692514, 666199915, 153288310, 421612413, 278167146, 32149585, 847054330, 579179569, 944862723, 962051888, 257555461, 83105032, 481842337, 641052244, 47797248, 617254599, 536197587, 577011739, 885687186, 811087465, 459554141, 456669032, 173514875, 194488093, 199508237, 8396739, 996382154, 865308597, 350926061, 586709147, 987227267, 616506542, 673973986, 469580402, 658486732, 368016883], [883538145, 151640344, 689821726, 971303322, 194480733, 87473333, 815202199, 198381603, 661378538, 910035528, 68089387, 836985639, 437095880, 260780609, 429127015, 497305599, 605675780, 734385443, 190043767, 725142615, 385513299, 889251600, 811426273, 175970663, 774431528, 275215742, 368276171, 493497087, 959798276, 982811101, 215887638, 371468067, 570495601, 816980578, 86462173, 13043031, 868268213, 114912063, 281462032, 967364220, 470230920, 972822777, 257153630, 271856681, 410330207, 72677406, 69866777, 286159940, 267559347, 955954558, 915833378, 665369275, 358692643, 34274620, 931829009, 399599080, 131763959, 104590530, 946023758, 632461985, 22680849, 367687156, 488771686, 850657620, 811682660, 622878475, 576388976, 517098725, 430034386, 372908274, 465594287, 113279260, 955424020, 220879085, 302218604, 677342192, 676514687, 12746526, 572435938, 422456882, 651719969, 953003547, 99361093, 269563911, 954692975, 951688975, 435698061, 213152883, 492105376, 38731933, 221727648, 570194461, 399429778, 99401905, 239945980, 217467422, 422996515, 753608731, 654354171, 506639098], [8554097, 528492441, 314831708, 672055847, 736788939, 418989051, 376997287, 163285625, 412431594, 8554067, 407439230, 258980595, 783112152, 740020726, 430535155, 660096027, 544753941, 619407209, 73011321, 157493739, 21339214, 796668151, 263694352, 836810469, 191300794, 28481985, 79955540, 933261323, 274232799, 850940693, 282174739, 607603221, 770149488, 21339208, 58661307, 262351731, 979808300, 31325848, 305240864, 488891133, 904249309, 274232507, 374951933, 274733997, 307049686, 950090931, 180046137, 742729272, 356031450, 316630653, 856443459, 417485615, 405589657, 22235287, 811662551, 889586762, 191872586, 286981343, 618589794, 966628337, 403351842, 290801872, 807244366, 861881529, 837458172, 86592992, 762397443, 354695202, 677332724, 466549373, 40369320, 753427935, 174749063, 274232800, 65807710, 392961956, 274560579, 85020264, 777306219, 936086609, 413868909, 734904949, 332029841, 945901009, 439160527, 426973296, 543198278, 568563145, 348570362, 640261768, 236856478, 826192969, 137830523, 719850730, 926413720, 317144347, 60110938, 305864194, 392612283, 199404792], [789891071, 593988099, 814538835, 659361638, 507515659, 544117823, 399219673, 551186550, 55839893, 119042523, 420693598, 866639285, 735139417, 816232923, 194127407, 202936198, 724886146, 66254373, 364586399, 797208641, 529566307, 785466581, 59319193, 58739363, 199921033, 754525149, 528462455, 815997894, 979795280, 887506910, 2811733, 663496593, 514244027, 348088822, 638795647, 919119468, 56912287, 848956218, 1631652, 14144310, 385152940, 864565169, 23034530, 488370313, 145588680, 944260713, 324910046, 672882941, 747431692, 142494934, 881646826, 296182261, 848298864, 741244179, 612635462, 354738693, 321854590, 988473539, 715855986, 649965331, 359389618, 259566964, 766403846, 991278018, 202170320, 659577125, 442060842, 425387958, 35435047, 718884323, 771813687, 467329479, 221500726, 481593574, 777714364, 278872747, 397508050, 231833981, 880997321, 478791053, 988283728, 551516000, 208811955, 740517253, 239898999, 749251854, 468931768, 223722543, 599598320, 606980626, 837393282, 144395692, 131422887, 664104619, 507097739, 879572804, 301259057, 343855669, 476373352, 237575448], [65260117, 443658805, 903908539, 718963796, 346455824, 81523215, 338088954, 755614451, 497083769, 863253902, 743571760, 865574494, 816982730, 37056688, 419165219, 65294757, 689230483, 627520971, 564533257, 326560332, 898755607, 766641011, 752156202, 510365472, 784778037, 5057733, 535198014, 883678626, 434167267, 191034981, 165648471, 110297489, 825131547, 73496940, 198997123, 714022771, 102768455, 850548071, 262235628, 614013391, 906819141, 362384926, 28301074, 534261611, 662469769, 913687827, 755052013, 697806598, 455114064, 896795131, 436291763, 291755081, 214288266, 945964672, 965399045, 141720027, 537277100, 941758730, 17174018, 765036230, 904156329, 364118946, 57842432, 863304120, 346332003, 864249604, 810770212, 273413359, 976706830, 457045768, 936246598, 652030687, 196698807, 43448246, 581497133, 639092487, 36227430, 169768819, 428991528, 2731981, 356089311, 550743543, 891763809, 284984168, 72738375, 417815137, 888447957, 611352486, 967528066, 775215831, 306395323, 202189687, 57717521, 905188411, 744702009, 620288053, 390196066, 671846748, 290348411, 42248090], [55158662, 726931763, 926466794, 903860909, 374402183, 539998162, 949888975, 176774763, 285497850, 696715011, 353246449, 333297395, 120988752, 576893972, 627006809, 620062039, 40251073, 300855496, 597406385, 953687373, 597250394, 396220197, 386578841, 889194468, 814372364, 836119918, 293601761, 498808174, 307958710, 86435642, 38978986, 710142041, 490774020, 946252352, 665539612, 934361166, 390509849, 179886747, 922238116, 255615044, 862714377, 605023547, 939418240, 98811648, 641486881, 871482704, 144565328, 592363808, 65212874, 465622421, 341647914, 161256598, 441284777, 140265367, 31351689, 82219524, 60015632, 274680590, 567346998, 726931307, 131675474, 417884890, 836394446, 505423255, 658777817, 880438534, 963828519, 423293360, 335298084, 611256903, 446403524, 373637694, 509175576, 331574894, 579896129, 734901449, 512803603, 818501816, 35677689, 856866642, 701235749, 524335937, 222571481, 94666542, 741783363, 318872207, 595519920, 339194366, 77957468, 125327111, 317625633, 811912196, 520162617, 237479149, 449700467, 117292278, 469847683, 116481084, 80713543, 44051852], [236057974, 923784207, 357238346, 227964607, 313900675, 725683121, 542763028, 648740624, 534227062, 929423474, 514646680, 364669442, 742405669, 180560271, 629940958, 14382536, 767680620, 364459293, 1987948, 382204760, 230022196, 578518505, 968098177, 924825004, 223501550, 543313205, 920187281, 640518929, 519486840, 918084749, 782314129, 855225184, 131362366, 841905358, 214077736, 262555365, 725683212, 523751734, 341636852, 827223005, 822020623, 21355493, 703587397, 216014976, 521653772, 462173784, 598558179, 493785190, 73804716, 416957903, 698953883, 837265847, 211709142, 233827136, 356986108, 74158138, 378572177, 621420525, 726373584, 327153372, 818375221, 652972286, 100476308, 503582428, 152667996, 889618656, 930898462, 920036937, 675074283, 115345016, 524518391, 743294065, 889255237, 460770576, 778351342, 511753684, 860753848, 834150725, 690328695, 591186748, 725155788, 957910167, 160288301, 447688048, 461114577, 204434137, 584999603, 59863857, 245237280, 624237928, 755720698, 698866325, 122149879, 357114610, 52731069, 639366879, 692981840, 572989342, 730983380, 406842856], [420392363, 649931329, 565981714, 986380678, 895664041, 301984221, 335910881, 978029731, 73463846, 191623410, 948164704, 18726422, 380418396, 963047348, 78218898, 79372604, 227641744, 936851821, 929207748, 679461607, 441572275, 743532794, 851027382, 951770097, 925698302, 837696302, 70443412, 499829866, 423700360, 789324842, 660417911, 782210735, 732088449, 909934186, 441465550, 775214779, 928329101, 27098207, 177163645, 582969528, 239317690, 469399182, 636723725, 469814967, 69780619, 559060642, 938801594, 676095453, 916221571, 208887206, 396024730, 464942595, 603027826, 967503131, 426245361, 450375923, 213570511, 325365665, 567672862, 476357759, 535779046, 13762524, 874110177, 378031403, 695850359, 542276503, 455479046, 808078160, 290678168, 58091289, 281133888, 46275679, 232417457, 669473378, 284095411, 945155681, 426729959, 273226877, 943223614, 50102522, 908979715, 619477845, 514183554, 411586344, 981420237, 998410167, 28684781, 521236174, 219658470, 157973192, 731644012, 573745705, 679027782, 726535676, 557863034, 919233466, 629223447, 15560253, 173742696, 545974589], [437201037, 406679823, 437201112, 772306997, 381837762, 737489361, 504084784, 514926831, 708718247, 777886038, 911446184, 588211576, 377863298, 165108689, 988247382, 324687534, 844351830, 634951187, 876259306, 695444135, 428434863, 880530488, 966519649, 104212027, 755301795, 855815201, 328647020, 657329909, 174270525, 529233093, 855815231, 555098907, 545475489, 324652535, 484880481, 910860220, 462485070, 299544489, 15406313, 455432446, 710504533, 71809975, 995978590, 426196005, 737489378, 54842747, 173732948, 814803915, 377501540, 62022605, 653878127, 944530049, 229828241, 720311717, 165586668, 986363762, 905164113, 832378182, 10525912, 590445775, 513916024, 755388950, 977750221, 226566010, 159425577, 855815199, 421394081, 737489379, 977750004, 586938654, 83393786, 903768233, 939565953, 352373362, 437947578, 102090504, 21257663, 718987555, 114767671, 479152980, 881031958, 244914169, 559461889, 318203951, 155205578, 243509537, 621147504, 348344977, 48635013, 350412673, 90435439, 820864775, 811715895, 177089731, 817835784, 335383420, 288778076, 174222354, 986363774, 247984429], [810889647, 438525499, 507033601, 958552157, 433707502, 660177270, 279064330, 402694741, 165615466, 401057787, 685510786, 171922964, 801183152, 725770041, 51297828, 356344600, 247082041, 133038395, 99610054, 547255930, 358307811, 515000539, 294692293, 10126295, 525438495, 706408565, 83920158, 794513745, 703829905, 889703500, 92653513, 504257692, 358509521, 899504998, 48743363, 734885129, 227916700, 535960426, 812737559, 915757822, 949019580, 718045879, 927165715, 580259661, 989480526, 893476208, 892881538, 369527412, 158637264, 425708474, 573363153, 700453418, 235173875, 723698849, 898895677, 679821864, 645219274, 332143499, 396155406, 315945322, 985958405, 80363069, 466817596, 212825036, 839960346, 95700951, 114710532, 486861737, 916276756, 460105896, 570471402, 631895121, 693483173, 912008976, 366716312, 972793706, 974388642, 234938064, 115440142, 354403144, 245515794, 803213059, 441216285, 560884287, 887370731, 863831842, 309663087, 235173903, 974848643, 618156606, 898489079, 685571427, 309402205, 349747320, 394412115, 272452136, 149668086, 291327078, 713239441, 931225655], [912970756, 549492028, 535236008, 838875078, 70992407, 915867669, 342343241, 804239251, 413986919, 478125604, 809501290, 775819310, 971704840, 756133302, 575117962, 582209643, 494515683, 254219268, 609256551, 645567797, 488105704, 683344018, 118427312, 274768550, 546419279, 838559882, 972256310, 508231365, 114400340, 864459462, 695741736, 363167615, 324041242, 828415656, 70229529, 15972432, 455289948, 609659052, 815002898, 910056808, 458204405, 452342676, 812479385, 13058358, 608248006, 446889274, 123295075, 90450119, 550363134, 236564164, 954826598, 8174274, 349305875, 478328551, 909498980, 551615574, 352170483, 264057208, 233249208, 431871749, 656757831, 286813736, 88146254, 927582003, 221831324, 99918497, 779849324, 616276319, 783004608, 919925703, 863812689, 613804435, 513534535, 691282091, 632907452, 925475415, 357776604, 454291766, 188498221, 830293787, 151276312, 310957846, 472394507, 892316621, 322194432, 763186159, 539834877, 522018836, 787634842, 272333008, 492870277, 859371052, 101781432, 642950489, 334715837, 723429546, 151921794, 905359923, 726941215, 461572429], [132107225, 419262617, 180793512, 702752085, 784206126, 612342460, 640203052, 459259650, 138140795, 799850260, 117960192, 767661628, 906176062, 137287317, 84318525, 390319889, 912839072, 768626846, 644222701, 592814100, 157250792, 875362928, 148092173, 368157199, 392574307, 130035823, 105317891, 550652561, 417815334, 357298148, 838089782, 603483531, 466486089, 40021261, 856103782, 383936963, 383620388, 272718820, 594396873, 101579250, 124894863, 986555711, 677013333, 830856751, 751633927, 677437630, 824763919, 402158077, 93810758, 553943995, 132848698, 898637626, 614414267, 147393885, 943310955, 224021554, 206788166, 337318258, 928390759, 447000507, 271250903, 637602372, 677013490, 428296931, 905513205, 516838595, 309025663, 561691493, 715893552, 611012598, 598975251, 539994703, 560358596, 718595054, 901272579, 425669089, 509305965, 479471081, 843572785, 859936751, 250945719, 670750654, 451122188, 869601971, 271697224, 750392688, 105500313, 841249794, 929077063, 207285147, 181723841, 496597283, 269206611, 894971981, 158778284, 816640258, 226079595, 312509164, 280992781, 941079603], [410174840, 953701345, 743844961, 657817479, 279605834, 134084597, 208016868, 520799178, 199237134, 906564230, 62414713, 789715580, 684399791, 71899048, 596559726, 184291351, 40649697, 872013959, 934847178, 755160988, 425778251, 472214654, 87407432, 414962260, 216668756, 858242611, 495850813, 19697265, 865178392, 813443565, 792294735, 41631888, 57772161, 922591394, 732387537, 523088192, 668785920, 577857876, 269994685, 535773298, 795928714, 680670054, 900048762, 90694282, 730566822, 958657444, 429319249, 771527102, 996220510, 210918204, 310577077, 37329689, 487191004, 79992037, 468298297, 12559505, 636259432, 470406618, 601037564, 861485202, 608869732, 494256109, 267379531, 272423187, 54620094, 156418357, 784327062, 640877035, 128657762, 312184610, 400028111, 993584689, 378462961, 257310673, 882394044, 31622529, 958673245, 745876445, 20430223, 790557999, 767535894, 370568410, 483011067, 296947099, 813607855, 836134739, 698080134, 755673107, 675774791, 752391367, 732726450, 992907181, 22990759, 813694156, 845385087, 955536172, 704389233, 629564504, 772741404, 913252892], [951806895, 603636513, 172965659, 529706484, 245566208, 443780893, 504488776, 474935886, 95207245, 178030385, 529706470, 535535834, 283502882, 304513274, 523949948, 506783858, 831716240, 337409816, 182744420, 529706490, 411262085, 648105875, 509911497, 461016986, 58200964, 88556194, 746457210, 868604251, 178030376, 686055079, 831971689, 383395697, 785695262, 535535945, 461015755, 101928572, 461016554, 464690823, 532023748, 147198147, 199668073, 529706752, 14877269, 944850436, 738660153, 877815707, 665002493, 982135908, 355066167, 485184593, 574099299, 175924835, 461016356, 877815706, 434713158, 443780753, 760825992, 674282664, 461016859, 102368955, 47769803, 16047826, 461015372, 502463454, 440877889, 635460325, 231887209, 939556667, 881847830, 522855417, 147198135, 172965660, 461016364, 806559451, 639085873, 712783500, 147198464, 993581094, 461015996, 937522966, 867708496, 738660195, 461015744, 910604197, 323636954, 306519631, 667026330, 427349435, 871929442, 979481438, 813250292, 287654143, 127468246, 297379453, 474935901, 922530429, 57543758, 632356527, 529706810, 467744125], [752791611, 461788583, 711918235, 993622560, 290504049, 462741602, 995923408, 991037067, 331476004, 715580463, 886926294, 762104056, 415775868, 768066484, 619817606, 939480488, 528805476, 865088736, 256326811, 366645540, 660093504, 317708322, 335521922, 535827860, 17859171, 800996651, 95328730, 968419242, 364714586, 931624339, 993513355, 723386807, 21936889, 686910463, 285347861, 965450573, 633612546, 527362399, 475777386, 656322446, 485566305, 944909071, 369269850, 437309942, 957273148, 942312122, 789158061, 495656396, 235698544, 652150585, 741020690, 706741847, 828533829, 638901263, 711892573, 332495528, 242801882, 586256696, 473929554, 357124020, 100645138, 435795828, 384588824, 919118460, 113447196, 201837512, 906687048, 694722274, 894846392, 372781589, 731053196, 293905089, 581586056, 157395995, 123052359, 793644684, 367945408, 970371388, 528168553, 880417445, 538944990, 9290756, 768621854, 327301486, 999079895, 753707289, 643788988, 144214546, 878815425, 499920120, 194218421, 426534148, 729504101, 827745124, 165132692, 370403423, 967636408, 211608566, 867709661, 641440005], [615479245, 153477391, 907928888, 741847465, 481356661, 478828780, 884242096, 548819358, 476578946, 370874468, 420917284, 755195828, 884156547, 225052350, 64201016, 53877624, 480803879, 860956156, 376522528, 476347362, 866622826, 954523014, 573097462, 55782877, 336790338, 944563952, 415476121, 175045519, 589268380, 319916644, 421767988, 628389040, 723948404, 742022244, 745009075, 819270847, 564564632, 746069186, 647384185, 121428658, 925722500, 216418386, 265348743, 747907567, 664732863, 799189977, 61777591, 615630187, 629283385, 168884329, 19808334, 75261732, 919687677, 385353740, 405891843, 771544978, 410866340, 860715893, 427272798, 916530857, 928840867, 825632737, 789690271, 925295064, 114028594, 70504727, 198915425, 107765057, 239706322, 259229754, 365812164, 472143590, 750926800, 818796757, 626450722, 623261400, 612207708, 299670510, 277690941, 90797166, 971621934, 681576918, 974446454, 16536834, 564416769, 51371895, 345351086, 553579989, 503212526, 923581331, 535743164, 166764595, 555619630, 513563197, 409402369, 56040352, 450397837, 872793646, 325831528, 936514001], [57635500, 237379376, 790564638, 503998100, 866954855, 452351399, 350363829, 360171768, 78772486, 542317552, 590922854, 885922733, 211841157, 658849996, 149255219, 926275493, 909616090, 694245284, 17135436, 460471035, 173769227, 489929064, 335106986, 136134795, 241401333, 325329579, 330900644, 765538391, 21528154, 652353144, 387979850, 877460757, 530469916, 557615923, 411059496, 303872921, 744572919, 472629545, 365561911, 712763791, 139585099, 639657888, 130333166, 319057544, 87284393, 485724819, 790564355, 975029390, 46677126, 935985020, 420202360, 108376375, 664962383, 731700846, 883492644, 916803462, 943981582, 939661143, 167814179, 371996843, 115488376, 906656780, 877161323, 895479461, 745403893, 455236737, 599375646, 379601790, 316767222, 759236966, 972147737, 618729764, 257626959, 792820107, 949053668, 172565395, 714437017, 406600477, 644172605, 802131364, 470905942, 987728547, 206629391, 490721257, 549366961, 914277277, 997204108, 499000032, 590978202, 422081424, 316920966, 365066490, 973647953, 341498474, 98539638, 905529872, 5139708, 149716564, 199762835, 70318632], [740517361, 342215970, 396676012, 870548228, 165937281, 342216129, 242047313, 562227224, 182766546, 686955643, 641039646, 457637631, 60703324, 774828972, 395641724, 485867919, 850097437, 38103890, 699541423, 766596630, 465191802, 605376157, 595458340, 267839167, 887371669, 995771360, 524654652, 274483221, 309278485, 38621991, 259837182, 110068041, 844897207, 676025706, 489047939, 133450243, 980575911, 761260442, 836821177, 824378373, 735429368, 180076380, 377445291, 695469290, 70020120, 154429419, 892316152, 354903221, 222503111, 432801687, 104549009, 357639395, 383385001, 926334530, 384359492, 5433009, 594728908, 392060525, 107676293, 547040327, 188271714, 135052527, 378853488, 961461195, 138912699, 910913219, 844897270, 127710688, 949713642, 291591313, 304726304, 524916270, 787747225, 651672498, 55455802, 249593756, 9948721, 815686644, 615412087, 761581923, 49569814, 315799095, 555321746, 169386977, 958551764, 650044873, 604563486, 12777001, 469550220, 734239000, 431379813, 455491157, 701021296, 575916635, 158463276, 876732402, 704331646, 390327894, 939529473, 421647629], [778254800, 570641705, 911105785, 34751546, 202553889, 217272624, 404042549, 942476397, 415986820, 451063026, 548673873, 644644880, 820172137, 99369626, 652523558, 18530477, 638023890, 645323264, 764096378, 767118430, 298155593, 445253096, 516948855, 908479436, 437918570, 405339992, 986131693, 497942002, 128356925, 211652725, 452599987, 673726338, 307286378, 7339825, 951349541, 608563555, 279036003, 77014422, 911128883, 871352693, 251371061, 77550538, 962221967, 407313035, 760791045, 758138751, 680606333, 889086054, 591888599, 295782425, 249705072, 19231886, 526645092, 207817604, 839473777, 983840996, 803865545, 552556311, 494285970, 975718421, 719163762, 531144493, 284793216, 820109236, 787227618, 773532526, 554536632, 163098631, 511603063, 149469209, 827729289, 681379626, 509080289, 509661641, 254243484, 98998678, 573418939, 412499800, 664917635, 308044185, 192902637, 441165218, 218260804, 18370085, 986019694, 920816140, 514887025, 211010692, 139364320, 543002268, 779796508, 633428089, 752437024, 105366921, 946898125, 701742157, 371628685, 658333215, 420224618, 686032658], [423887489, 276134598, 551657021, 883715604, 225278262, 151037420, 560241608, 437200119, 185908220, 584081332, 183677691, 175098713, 122468136, 43252839, 43251887, 38188188, 429783584, 308086153, 43252204, 819275795, 877852186, 50174656, 566376146, 215497086, 448347056, 327823666, 189070405, 933299189, 259745768, 112098557, 277096652, 750849287, 398018361, 727080974, 185722927, 123832090, 21739744, 640456340, 610633520, 438182981, 708829719, 999191778, 621900807, 195789541, 450044102, 791533639, 542671486, 974416090, 179099816, 418217930, 445710289, 168409744, 33737992, 99206148, 447288823, 176140008, 264458319, 80569345, 263426201, 268252543, 493400536, 446508303, 572084574, 175098706, 795338869, 52795907, 809889844, 165223506, 463820884, 91471487, 861565078, 583929832, 736818126, 777161857, 902424523, 270956419, 10206223, 544845724, 3295803, 461724207, 969814884, 461096558, 345184380, 999843340, 277844794, 807453740, 913375522, 381151631, 329849271, 457856186, 394284276, 455241380, 585496675, 236736949, 914572718, 346182420, 309787753, 177685946, 60786172, 499972397], [775926928, 962673447, 690136398, 488898073, 57657040, 253882384, 906085408, 632052238, 374986477, 689203592, 473250898, 834639560, 925130193, 965022099, 172154914, 435398372, 619762473, 358565847, 694434938, 382985106, 422753323, 549777872, 884621251, 390793462, 876437275, 724109389, 420307870, 472627565, 286103951, 515279751, 646357782, 656342393, 499422675, 195763042, 538820440, 57482018, 61020664, 902906760, 423732807, 641613170, 174778315, 96669110, 227719595, 604461302, 227017152, 575961932, 979837466, 15726978, 588858345, 770725270, 393497738, 154667419, 564518443, 795587694, 69071572, 257811419, 180944061, 444728215, 874244487, 972576630, 918103857, 24061535, 109811090, 269541506, 603925509, 563290454, 993854893, 327891705, 237614655, 984716290, 77131132, 33729716, 746882114, 1069049, 897587608, 63369287, 15726837, 116952142, 605968663, 853526387, 331832905, 392684203, 539299185, 305391700, 14481515, 833131151, 414723794, 279032290, 633191115, 352402123, 707221952, 565558800, 317914561, 77245495, 851743071, 112140624, 348476866, 545443590, 443422214, 904901792], [520519095, 295966843, 998859772, 629725783, 742971935, 562523154, 739273067, 877952346, 442362214, 525262328, 477883123, 118123674, 673938413, 830285004, 935367026, 225517367, 613716499, 607495191, 737256001, 305679663, 874670355, 159596517, 307312665, 563895365, 727797579, 997011851, 577347830, 904560985, 994558936, 633146202, 62700344, 523581133, 870367911, 601815084, 859905267, 29799934, 157780232, 233013026, 629118287, 50425369, 722488973, 12641967, 541193506, 406547586, 890031613, 507330473, 148709144, 898271404, 66010470, 597295071, 5711332, 453598590, 370181213, 862148090, 219045965, 882930544, 384285482, 338891443, 818072694, 759874461, 250033242, 737543636, 180952301, 796638243, 912172954, 840856432, 784505262, 850366071, 467972541, 96961188, 647410092, 353862579, 721448425, 42521545, 325380084, 342018394, 42798618, 515563465, 476755839, 331493779, 430902557, 614269005, 611591243, 313593940, 237479889, 154010087, 984644643, 294738641, 397533232, 52833035, 408061427, 752050947, 479849460, 30685774, 447801148, 952603904, 232352581, 112370626, 423610557, 503607175], [850958205, 244123889, 71898289, 474976610, 459034943, 743071666, 216967724, 78125381, 125098587, 193162229, 664359454, 903491698, 654957951, 479434689, 787107683, 777586201, 153713720, 226550853, 368402579, 486965245, 952556491, 466233850, 877285168, 637071883, 644065691, 788900669, 746134347, 17205907, 234669223, 765830154, 160923675, 383946499, 657098985, 987188672, 229213320, 397162803, 328493302, 87910920, 363528144, 294388677, 538121443, 952323290, 979256270, 485978415, 452110435, 28145275, 103756717, 470109111, 973850362, 143291306, 10756614, 571747098, 56099322, 599342186, 798206440, 635936905, 987235040, 816135444, 581438966, 255981562, 590450113, 633448832, 198427479, 438594543, 358766130, 274497596, 275397416, 828049450, 581576486, 33041799, 609924474, 970009094, 233707038, 647035019, 530134611, 679844999, 343651497, 290931693, 896800653, 976085655, 632878349, 548130093, 906435171, 773128940, 299111952, 327446014, 540240520, 45147056, 67056673, 506427192, 91338347, 998525071, 463986878, 947498606, 761682703, 434855120, 950253126, 734950048, 701108027, 311366559]]\n",
      "\n",
      "==== Distances ====\n",
      "\n",
      "[[50993.317810058594, 54336.49072265625, 56335.68893432617, 56883.084045410156, 57609.639892578125, 58113.48979187012, 58424.22134399414, 58844.268310546875, 59015.651916503906, 59083.247802734375, 59254.40899658203, 59307.218505859375, 59382.5458984375, 59646.51416015625, 59875.914123535156, 59983.34631347656, 59994.90441894531, 60362.406311035156, 60540.485107421875, 60558.5029296875, 60612.17170715332, 60828.19091796875, 61009.99365234375, 61100.28125, 61355.94793701172, 61508.8271484375, 61599.240814208984, 61678.31884765625, 61820.74523925781, 61864.77014160156, 61877.15026855469, 61931.06530761719, 62144.593505859375, 62155.520751953125, 62502.43099975586, 62640.94274902344, 62709.457275390625, 62710.09637451172, 62730.77014160156, 62820.93292236328, 62844.51867675781, 62854.625732421875, 62868.475646972656, 62945.25372314453, 62998.50128173828, 63150.59899902344, 63253.37060546875, 63259.0788269043, 63282.501525878906, 63334.661682128906, 63354.03308105469, 63378.20721435547, 63432.14630126953, 63457.704040527344, 63461.92041015625, 63493.73327636719, 63507.287109375, 63516.601806640625, 63563.28579711914, 63591.63269042969, 63674.46630859375, 63675.25549316406, 63798.081787109375, 63808.587463378906, 63819.759033203125, 63837.183166503906, 63914.12060546875, 63975.82293701172, 63985.88952636719, 64046.79293823242, 64063.1845703125, 64101.343811035156, 64147.944091796875, 64155.21374511719, 64168.44519042969, 64207.19659423828, 64269.00231933594, 64308.760681152344, 64358.62139892578, 64423.92028808594, 64536.383728027344, 64551.148681640625, 64581.69583129883, 64584.32159423828, 64683.53256225586, 64710.32794189453, 64728.09574127197, 64787.99752807617, 64805.8720703125, 64837.39520263672, 64871.25329589844, 64871.60021972656, 64879.474548339844, 64940.34558105469, 64965.209716796875, 64986.85290527344, 65010.21667480469, 65039.09033203125, 65092.47830200195, 65136.494384765625], [28778.05628967285, 29402.933074951172, 29605.964416503906, 30117.162170410156, 30681.088348388672, 30748.060668945312, 32100.812255859375, 32194.887573242188, 32234.161895751953, 32367.44041442871, 32544.914779663086, 32937.642578125, 32946.0012512207, 33517.76272583008, 33584.90733337402, 33646.553802490234, 34263.550369262695, 34375.62335205078, 34512.45056152344, 34560.51705932617, 34565.266510009766, 34951.19403076172, 35045.33135986328, 35281.37129211426, 35286.85564804077, 35385.499309539795, 35399.61657714844, 35422.123443603516, 35468.64782714844, 35479.913497924805, 35523.09957885742, 35597.589752197266, 35605.74606323242, 35705.30383300781, 35730.222412109375, 35765.63836669922, 35881.30111694336, 35928.76803588867, 35948.43995666504, 36082.95932006836, 36139.81317138672, 36244.947189331055, 36261.56265258789, 36555.02770996094, 36572.97814941406, 36604.38447570801, 36604.390869140625, 36657.892486572266, 36795.89196777344, 36904.6682434082, 36924.424560546875, 36928.70930480957, 36998.12391662598, 37171.060775756836, 37239.45294189453, 37275.022075653076, 37318.88575744629, 37349.91163635254, 37359.682525634766, 37503.12023925781, 37565.0703125, 37589.36065673828, 37596.573303222656, 37606.50198364258, 37662.261169433594, 37686.54440307617, 37686.54440307617, 37787.32864379883, 37826.019287109375, 37832.684005737305, 37894.04342651367, 37931.968322753906, 37949.553314208984, 37961.49575805664, 38008.89936828613, 38054.17269897461, 38063.974224090576, 38166.11749267578, 38233.30712890625, 38307.25408935547, 38325.79425048828, 38330.87905883789, 38342.61294555664, 38360.74166870117, 38531.086486816406, 38538.519927978516, 38610.311752319336, 38645.211864471436, 38649.668212890625, 38688.5429649353, 38771.235107421875, 38771.2615814209, 38775.25144958496, 38790.02243041992, 38821.49108886719, 38847.36413574219, 38884.19160461426, 38942.53797912598, 38943.682678222656, 38955.65771484375], [35337.76318359375, 35693.381408691406, 35995.4873046875, 37163.12423706055, 37476.994201660156, 37529.062744140625, 37582.91915893555, 37762.068420410156, 37960.97216796875, 38005.3330078125, 38206.23294067383, 38438.219818115234, 38444.8630065918, 38457.96209716797, 38950.137634277344, 39074.80780029297, 39237.239196777344, 39279.57647705078, 39449.567138671875, 39541.04446411133, 39551.129638671875, 39588.313232421875, 39613.345794677734, 40005.93438720703, 40029.52813720703, 40082.29266357422, 40159.98959350586, 40249.67266845703, 40260.343322753906, 40448.787841796875, 40568.44064331055, 40575.935455322266, 40633.49368286133, 40633.643005371094, 40775.202697753906, 40836.07238769531, 40851.56741333008, 40879.1220703125, 40890.44284057617, 41037.25021362305, 41046.12841796875, 41094.02471923828, 41160.24688720703, 41185.67922973633, 41279.51501464844, 41306.54187011719, 41361.479553222656, 41372.0491027832, 41423.916442871094, 41428.287170410156, 41530.21939086914, 41680.86181640625, 41688.451171875, 41725.48611450195, 41769.532958984375, 41782.78985595703, 41782.92443847656, 41861.096618652344, 41888.07958984375, 41963.86328125, 41964.14373779297, 41978.198303222656, 42066.45739746094, 42086.177154541016, 42154.41473388672, 42193.01123046875, 42228.89520263672, 42237.4377746582, 42247.84338378906, 42362.48046875, 42414.18176269531, 42439.87414550781, 42464.22644042969, 42500.46105957031, 42551.916076660156, 42556.761779785156, 42590.73034667969, 42594.49090576172, 42600.75909423828, 42657.86392211914, 42664.197204589844, 42726.696044921875, 42756.708251953125, 42805.76513671875, 42810.81298828125, 42832.94189453125, 42836.79382324219, 42864.0651550293, 42878.53396606445, 42923.356536865234, 42924.687103271484, 42931.80487060547, 42933.80645751953, 42973.21447753906, 43002.99075317383, 43005.683822631836, 43061.753814697266, 43081.719665527344, 43117.88049316406, 43128.945373535156], [2528.7976083755493, 2561.32625579834, 2575.915696144104, 2630.5911951065063, 2847.9271478652954, 2950.3909769058228, 2985.9786987304688, 2999.465546607971, 3025.8924036026, 3027.9055337905884, 3052.2376708984375, 3220.2927865982056, 3249.2426080703735, 3268.7725381851196, 3273.5057458877563, 3294.9924173355103, 3308.9451761245728, 3334.595383644104, 3375.409134864807, 3379.100112915039, 3394.187623023987, 3397.222840309143, 3398.0455179214478, 3415.2531366348267, 3429.190728187561, 3433.035798072815, 3441.030602455139, 3441.9736948013306, 3470.7000970840454, 3488.605706214905, 3489.896508216858, 3503.452233314514, 3512.1367044448853, 3553.385766029358, 3555.8878021240234, 3556.7421503067017, 3572.642128944397, 3622.6790161132812, 3624.5758895874023, 3628.3083276748657, 3631.158829689026, 3632.20458316803, 3633.9172220230103, 3651.789231300354, 3671.0669412612915, 3678.1438598632812, 3690.234902381897, 3691.31444644928, 3691.6843271255493, 3703.641312599182, 3710.5969705581665, 3711.423066139221, 3713.131386756897, 3716.6996545791626, 3719.467782020569, 3719.7409448623657, 3721.6957330703735, 3731.9867029190063, 3733.626534461975, 3742.9971323013306, 3744.199288368225, 3758.108048439026, 3765.3241205215454, 3771.220337867737, 3789.2060556411743, 3797.1685190200806, 3797.252640724182, 3800.8393030166626, 3814.180809020996, 3821.5501642227173, 3826.566300392151, 3838.1632013320923, 3845.246361732483, 3852.390037536621, 3856.088128089905, 3868.6535959243774, 3871.127022743225, 3874.633370399475, 3877.2551279067993, 3879.9628915786743, 3898.261857032776, 3902.4387674331665, 3905.224175453186, 3907.7401819229126, 3907.95010471344, 3908.0817728042603, 3908.822632789612, 3908.9177713394165, 3913.8352823257446, 3914.530327796936, 3916.044129371643, 3931.0436868667603, 3935.832932472229, 3941.3948974609375, 3944.1027297973633, 3950.957862854004, 3954.398674964905, 3960.949456214905, 3962.4771585464478, 3964.94481754303], [53456.94592285156, 56621.72741699219, 58667.2919921875, 59094.377502441406, 59321.586486816406, 59344.37237548828, 61351.468688964844, 61397.53729248047, 61855.76550292969, 61935.47967529297, 61937.22985839844, 62258.65409851074, 62651.789794921875, 62659.47833251953, 62746.731536865234, 64272.001220703125, 64347.292419433594, 64350.52673339844, 64513.261962890625, 64710.25256347656, 64771.70231628418, 64778.21774291992, 65030.96081542969, 65081.37805175781, 65248.55340576172, 65283.64807128906, 65500.219650268555, 65530.45593261719, 65619.90753173828, 65734.75085449219, 65745.69883728027, 65797.62612915039, 66029.00183105469, 66237.16650390625, 66264.7138671875, 66273.22241210938, 66289.06970214844, 66297.60717773438, 66423.56945800781, 66474.62789916992, 66565.81359863281, 66583.2466430664, 66642.34094238281, 66730.07415771484, 66806.93127441406, 66960.2873840332, 67076.17053222656, 67095.57684326172, 67121.35040283203, 67155.04919433594, 67203.93295288086, 67249.59875488281, 67457.7866821289, 67480.97442626953, 67604.0576171875, 67611.8642578125, 67630.20483398438, 67756.58703613281, 67920.08750915527, 67924.42041015625, 68044.76110839844, 68051.36486816406, 68075.73867797852, 68082.61511230469, 68090.36297607422, 68145.04125976562, 68173.95611572266, 68229.19714355469, 68248.3178100586, 68249.68823242188, 68380.43347167969, 68452.68487548828, 68455.61120605469, 68462.57629394531, 68468.55487060547, 68486.21768188477, 68550.14404296875, 68592.04321289062, 68845.29116821289, 68848.9976196289, 68852.05456542969, 68865.44342041016, 68871.33093261719, 68873.12341308594, 68938.74841308594, 68957.16235351562, 68958.77954101562, 68968.92498779297, 68975.4951171875, 68980.1264038086, 69016.02893066406, 69033.35844421387, 69047.11700439453, 69078.7890625, 69092.36906433105, 69109.03073120117, 69137.39567565918, 69150.93237304688, 69160.18701171875, 69169.818359375], [11132.11636352539, 12386.240524291992, 13018.92024230957, 13131.212905883789, 13133.878448486328, 13263.858688354492, 13378.423179626465, 13767.086212158203, 13957.395477294922, 13997.490882873535, 14061.261032104492, 14108.175346374512, 14117.34536743164, 14255.172874450684, 14272.585510253906, 14351.543930053711, 14438.752212524414, 14537.333587646484, 14550.668273925781, 14654.861526489258, 14665.562088012695, 14669.871307373047, 14717.203483581543, 14758.20718383789, 14773.22566986084, 14793.701889038086, 14835.156730651855, 14881.500015258789, 14882.764038085938, 14921.022598266602, 14929.304565429688, 14977.6240234375, 14984.458999633789, 14998.200653076172, 14999.383560180664, 14999.44937133789, 14999.854202270508, 15013.548820495605, 15018.912651062012, 15022.7490234375, 15036.264038085938, 15048.835586547852, 15059.534652709961, 15123.47525024414, 15141.64892578125, 15147.501976013184, 15167.752212524414, 15176.270538330078, 15197.570907592773, 15225.230438232422, 15262.46076965332, 15270.799392700195, 15293.94107055664, 15296.978012084961, 15321.68325805664, 15335.6958694458, 15384.7201461792, 15385.149520874023, 15399.850570678711, 15448.370780944824, 15452.049438476562, 15460.912818908691, 15483.647033691406, 15504.382949829102, 15529.170989990234, 15534.593780517578, 15562.765678405762, 15578.943572998047, 15619.18970489502, 15630.742950439453, 15634.246215820312, 15640.61400604248, 15641.245994567871, 15737.022109985352, 15745.710311889648, 15749.794052124023, 15753.95401763916, 15789.396766662598, 15792.970108032227, 15793.516792297363, 15794.769546508789, 15796.845397949219, 15797.625030517578, 15801.550651550293, 15821.576446533203, 15829.354507446289, 15840.616813659668, 15841.186050415039, 15856.578506469727, 15865.991180419922, 15871.208633422852, 15883.280319213867, 15899.168983459473, 15902.612403869629, 15930.004356384277, 15947.67221069336, 15955.093276977539, 15955.701171875, 15976.514572143555, 15979.22135925293], [6531.9894943237305, 8503.92748260498, 8591.026733398438, 8953.89860534668, 9415.74201965332, 9469.064247131348, 9472.72354888916, 9559.094345092773, 9746.402252197266, 9765.631340026855, 9919.580039978027, 10014.808395385742, 10108.796905517578, 10241.893165588379, 10261.800437927246, 10419.312225341797, 10459.398971557617, 10470.62313079834, 10643.425788879395, 10706.586486816406, 10712.115005493164, 10730.45671081543, 10743.44457244873, 10787.05795288086, 10807.328033447266, 10833.08895111084, 10849.541717529297, 10902.604095458984, 10908.363555908203, 10937.996543884277, 10965.78101348877, 10994.383590698242, 11046.557090759277, 11087.186721801758, 11115.125869750977, 11158.740768432617, 11182.185371398926, 11185.659057617188, 11221.034683227539, 11240.726234436035, 11297.930992126465, 11363.161888122559, 11368.867218017578, 11439.425964355469, 11465.261764526367, 11482.494773864746, 11519.593742370605, 11591.689025878906, 11605.748245239258, 11635.322998046875, 11654.129776000977, 11657.894493103027, 11715.216094970703, 11732.9203414917, 11747.883918762207, 11826.818099975586, 11870.93074798584, 11894.97989654541, 11895.328926086426, 11900.173538208008, 11938.248733520508, 11942.326301574707, 11997.420822143555, 12033.774787902832, 12103.039001464844, 12114.742294311523, 12125.434829711914, 12148.090721130371, 12191.988662719727, 12199.556266784668, 12211.47038269043, 12220.58977508545, 12226.070915222168, 12232.08992767334, 12241.639190673828, 12247.592475891113, 12262.727737426758, 12272.573554992676, 12276.765007019043, 12277.795532226562, 12288.199691772461, 12330.009269714355, 12387.615348815918, 12407.358757019043, 12446.255195617676, 12448.06761932373, 12456.435775756836, 12456.918334960938, 12460.350578308105, 12482.474723815918, 12500.570671081543, 12524.392715454102, 12556.755935668945, 12565.029815673828, 12580.231826782227, 12589.144744873047, 12618.114128112793, 12677.72144317627, 12681.104064941406, 12687.890937805176], [46474.61834716797, 48139.198669433594, 49467.5849609375, 49693.038482666016, 49970.5378112793, 51329.6376953125, 51590.71697998047, 51658.39587402344, 51719.43975830078, 52155.23913574219, 52401.5358581543, 53290.86749267578, 53615.933654785156, 53824.46795654297, 53824.8125, 53876.34405517578, 54009.59265136719, 54049.086364746094, 54137.898376464844, 54238.05224609375, 54360.46270751953, 54514.416931152344, 54590.593688964844, 54660.10661315918, 54678.798889160156, 54711.09240722656, 54746.273040771484, 55058.74060058594, 55274.595458984375, 55295.2578125, 55490.686584472656, 55554.885986328125, 55838.043060302734, 55902.859375, 56010.737884521484, 56120.13165283203, 56257.272216796875, 56259.6907043457, 56264.28649902344, 56411.17367553711, 56429.91326904297, 56476.810119628906, 56741.795959472656, 56801.92639160156, 56877.09844970703, 56934.9821472168, 56992.2541809082, 57020.39923095703, 57032.61535644531, 57070.394775390625, 57243.35145568848, 57330.65008544922, 57415.86233520508, 57416.71856689453, 57455.859130859375, 57514.86999511719, 57674.563720703125, 57801.678955078125, 57824.67932128906, 57871.442138671875, 57928.646423339844, 58096.42657470703, 58204.17999267578, 58218.37158203125, 58233.48156738281, 58234.79852294922, 58309.876953125, 58403.5588684082, 58412.22619628906, 58417.47668457031, 58418.819396972656, 58527.01525878906, 58546.945068359375, 58600.191955566406, 58613.39758300781, 58720.47036743164, 58781.92108154297, 58828.37731933594, 58896.11975097656, 58924.751953125, 58998.106689453125, 59024.73504638672, 59096.403259277344, 59191.617614746094, 59226.05694580078, 59286.455810546875, 59306.809143066406, 59323.49328613281, 59336.19223022461, 59341.5888671875, 59403.55938720703, 59452.25341796875, 59609.245849609375, 59640.40835571289, 59643.53161621094, 59750.594299316406, 59783.106842041016, 59801.715576171875, 59862.0302734375, 59891.96160888672], [17645.878051757812, 17767.550384521484, 18503.885147094727, 19676.521728515625, 19821.046417236328, 20031.966995239258, 20035.505981445312, 20100.388641357422, 20265.868041992188, 20328.016174316406, 20566.89453125, 20569.434036254883, 20573.359375, 20594.03419494629, 20638.875076293945, 20868.101608276367, 20994.405700683594, 21005.14276123047, 21025.774505615234, 21034.597778320312, 21172.990173339844, 21199.467163085938, 21360.25604248047, 21366.522384643555, 21509.24038696289, 21563.43731689453, 21593.584686279297, 21808.923217773438, 21833.92155456543, 21849.353271484375, 21916.259338378906, 21981.330932617188, 21983.542999267578, 22049.895080566406, 22097.296478271484, 22121.62094116211, 22329.385955810547, 22341.094192504883, 22361.343002319336, 22388.105529785156, 22462.268798828125, 22495.017852783203, 22531.42169189453, 22576.20623779297, 22608.447708129883, 22652.756591796875, 22657.711547851562, 22759.881256103516, 22772.58535003662, 22773.347442626953, 22871.119750976562, 22953.79264831543, 22978.321990966797, 22996.97772216797, 23004.455352783203, 23008.023040771484, 23010.714279174805, 23020.75323486328, 23042.106170654297, 23085.23892211914, 23097.991973876953, 23157.674102783203, 23175.662200927734, 23183.257415771484, 23232.89923095703, 23237.845458984375, 23249.935501098633, 23286.28401184082, 23293.126220703125, 23333.299194335938, 23364.437896728516, 23367.20587158203, 23375.60385131836, 23393.885711669922, 23420.532684326172, 23432.530029296875, 23477.070373535156, 23581.708984375, 23630.71434020996, 23649.94369506836, 23679.86326599121, 23696.929580688477, 23734.92059326172, 23744.370727539062, 23794.59149169922, 23862.687103271484, 23867.70053100586, 23887.35137939453, 23916.719192504883, 23943.53382873535, 24019.0018157959, 24034.015075683594, 24051.191497802734, 24070.954223632812, 24112.429931640625, 24112.679229736328, 24115.51222229004, 24126.989013671875, 24128.62841796875, 24189.790771484375], [22460.648956298828, 24710.872924804688, 26290.464416503906, 30925.603393554688, 30941.220153808594, 31413.379486083984, 33305.008544921875, 33381.793029785156, 33602.9854888916, 33949.54119873047, 34249.783111572266, 34813.569091796875, 35073.52917480469, 35361.93084716797, 35487.48452758789, 36012.99824523926, 36661.91275024414, 36786.39270019531, 37047.24313354492, 37084.96453857422, 37185.2698059082, 37328.66943359375, 37368.344970703125, 37424.600036621094, 37494.3662109375, 37545.33428955078, 37567.56216430664, 37639.03889465332, 37648.90496826172, 37936.347229003906, 37952.78125, 38010.10649108887, 38078.40444946289, 38079.716735839844, 38441.73309326172, 38491.85314941406, 38580.02284240723, 38602.58615112305, 38631.34942626953, 38726.444580078125, 38740.53764343262, 38851.25392150879, 39055.739013671875, 39059.18734741211, 39105.38296508789, 39124.28112792969, 39174.12252807617, 39380.38526916504, 39482.23718261719, 39577.64080810547, 39710.8583984375, 39801.58920288086, 39819.42501831055, 39985.07597351074, 40076.01838684082, 40130.769287109375, 40154.12365722656, 40200.67332458496, 40415.328125, 40507.5588684082, 40701.39562988281, 40721.825256347656, 40741.1962890625, 40812.3108215332, 40831.87985229492, 40832.10870361328, 40987.191009521484, 40999.92053222656, 41009.21675109863, 41018.045166015625, 41024.13801574707, 41084.70489501953, 41090.18753051758, 41140.870361328125, 41226.8408203125, 41286.90509033203, 41312.340255737305, 41338.98602294922, 41355.061614990234, 41370.46504211426, 41394.77685546875, 41426.65605163574, 41435.98205566406, 41448.623596191406, 41475.71273803711, 41521.14276123047, 41527.07312011719, 41616.470153808594, 41667.61814880371, 41721.12821960449, 41741.36022949219, 41921.85009765625, 41952.725997924805, 41989.435485839844, 42077.31671142578, 42141.672302246094, 42172.627532958984, 42195.70553588867, 42205.15805053711, 42226.850646972656], [53368.382873535156, 54553.33361816406, 55166.841400146484, 55434.833984375, 57184.711669921875, 57220.417419433594, 58155.49626159668, 58698.892639160156, 58782.707946777344, 59417.94787597656, 59549.81042480469, 59578.275634765625, 59670.831970214844, 61255.20349121094, 61354.930908203125, 61936.94934082031, 62021.96417236328, 62027.75048828125, 62723.056884765625, 62900.18670654297, 63293.45001220703, 63303.12893676758, 63327.22302246094, 63392.929443359375, 63557.982177734375, 63593.136962890625, 63744.58947753906, 64045.18005371094, 64117.825134277344, 64365.16076660156, 64545.22741699219, 64583.78991699219, 64596.355529785156, 64613.547912597656, 64655.43542480469, 64721.894287109375, 65118.21044921875, 65139.916076660156, 65143.32275390625, 65152.285064697266, 65192.954345703125, 65198.904724121094, 65221.84680175781, 65456.13543701172, 65571.30065917969, 65745.92260742188, 65746.88037109375, 65749.10205078125, 65771.37329101562, 65838.99136352539, 65846.65914916992, 65880.57958984375, 66046.35284423828, 66090.44677734375, 66120.05529785156, 66128.90002441406, 66223.00744628906, 66290.44720458984, 66306.54309082031, 66356.40283203125, 66425.0966796875, 66454.31555175781, 66493.63415527344, 66520.25939941406, 66799.39611816406, 66868.70928955078, 67120.53149414062, 67164.7785949707, 67190.5244140625, 67270.45281982422, 67275.84716796875, 67384.79370117188, 67426.65609741211, 67455.29064941406, 67513.76379394531, 67580.90222167969, 67698.13745117188, 67759.20239257812, 67884.77905273438, 67890.81665039062, 67896.8291015625, 67912.7406616211, 67925.4404296875, 67961.65283203125, 67966.22241210938, 68023.53002929688, 68028.76641845703, 68039.50854492188, 68164.5439453125, 68169.13635253906, 68244.13415527344, 68282.83926391602, 68301.50231933594, 68303.49072265625, 68346.41107177734, 68460.89978027344, 68529.35327148438, 68607.56921386719, 68641.79083251953, 68651.15100097656], [25282.429779052734, 25373.840789794922, 25778.758758544922, 26990.835815429688, 28041.173828125, 28083.039611816406, 28425.821075439453, 28865.607360839844, 28933.802368164062, 29038.293518066406, 29208.152221679688, 29334.22723388672, 29353.79345703125, 29635.241760253906, 29734.15103149414, 29766.06118774414, 30304.516326904297, 30357.768157958984, 30377.633056640625, 30387.26300048828, 30542.310791015625, 30710.862548828125, 30715.97933959961, 30790.093170166016, 30826.01968383789, 31060.12762451172, 31238.38885498047, 31521.593658447266, 31707.325317382812, 31780.551696777344, 31907.463958740234, 31917.413696289062, 31942.762939453125, 31947.124908447266, 31989.382354736328, 32013.40835571289, 32128.516204833984, 32200.877563476562, 32466.21270751953, 32553.800231933594, 32567.376220703125, 32577.177276611328, 32645.957763671875, 32679.83721923828, 32788.967193603516, 32906.08776855469, 33094.24215698242, 33099.14080810547, 33317.17892456055, 33553.26614379883, 33654.425842285156, 33737.97393798828, 33748.416931152344, 33875.60369873047, 33881.582458496094, 33932.34461975098, 33936.014739990234, 33940.81903076172, 33999.448486328125, 34015.17965698242, 34046.69711303711, 34090.76351928711, 34183.69039916992, 34218.25668334961, 34243.873962402344, 34265.455810546875, 34306.52819824219, 34360.86990356445, 34386.19891357422, 34407.66799926758, 34411.42987060547, 34561.298400878906, 34674.840759277344, 34680.497314453125, 34731.83874511719, 34741.523986816406, 34770.893798828125, 34804.7229309082, 34829.84133911133, 34854.12808227539, 34892.39611816406, 34908.24185180664, 34969.86099243164, 35007.66293334961, 35039.02087402344, 35061.96682739258, 35110.32400512695, 35114.65200805664, 35174.664794921875, 35184.29281616211, 35199.515716552734, 35247.961517333984, 35269.52151489258, 35303.46856689453, 35314.45626831055, 35362.76739501953, 35371.390533447266, 35382.36056518555, 35470.930572509766, 35645.41098022461], [54836.273681640625, 57882.84338378906, 59074.26727294922, 59404.43194580078, 60505.75939941406, 60882.299743652344, 61122.657958984375, 62295.11892700195, 62682.34780883789, 62728.83557128906, 63566.00213623047, 63757.95104980469, 63844.72463989258, 63851.48944091797, 63969.73809814453, 64244.5036315918, 64258.68746948242, 64347.1171875, 64415.51110839844, 64888.02673339844, 65142.96990966797, 65465.30859375, 65577.8677368164, 65919.97875976562, 66867.00061035156, 66907.70501708984, 67024.59600830078, 67205.51403808594, 67261.99328613281, 67295.90209960938, 67313.66259765625, 67390.2730102539, 67973.17150878906, 67995.9189453125, 68375.7373046875, 68465.29858398438, 68696.12145996094, 68739.5805053711, 68825.73559570312, 68931.76373291016, 69237.89642333984, 69240.67321777344, 69270.11376953125, 69305.39227294922, 69499.83731079102, 69615.04260253906, 69641.26733398438, 69672.83190917969, 69715.57690429688, 69888.11743164062, 69960.12451171875, 69972.20343017578, 70039.60217285156, 70163.11779785156, 70248.83227539062, 70277.98191833496, 70494.08575439453, 70499.75665283203, 70645.92041015625, 71027.1040649414, 71032.13061523438, 71032.46948242188, 71267.04931640625, 71276.85830688477, 71475.62823486328, 71516.44152832031, 71560.36279296875, 71659.11413574219, 71673.47247314453, 71771.27140808105, 71855.44720458984, 71958.83410644531, 71985.69567871094, 71993.99096679688, 72087.91412353516, 72130.95727539062, 72191.95068359375, 72284.28100585938, 72309.3374633789, 72337.09497070312, 72505.14697265625, 72847.0189819336, 72863.29052734375, 73111.19799804688, 73246.45709228516, 73251.36303710938, 73466.04620361328, 73704.21423339844, 73710.49328613281, 73941.90112304688, 74032.25317382812, 74041.60363769531, 74091.16003417969, 74115.10284423828, 74178.37310791016, 74289.1845703125, 74300.07202148438, 74335.97576904297, 74367.10391235352, 74467.41693115234], [39054.2424621582, 39753.680419921875, 40090.9521484375, 40132.29006958008, 41812.09753417969, 42719.21447753906, 42858.13995361328, 43798.7131652832, 44178.96875, 44214.16912841797, 45045.39123535156, 45104.803161621094, 45447.717041015625, 45678.02862548828, 45739.439697265625, 45966.69960021973, 46378.474670410156, 46392.291748046875, 46612.295989990234, 46660.7470703125, 46745.85223388672, 46935.942443847656, 47116.449462890625, 47650.960876464844, 47671.6823425293, 47786.619567871094, 47899.45324707031, 47933.46942138672, 47970.656311035156, 47984.055419921875, 47989.0428314209, 48065.428955078125, 48133.35159301758, 48197.74493408203, 48296.84689331055, 48326.35382080078, 48352.957946777344, 48382.61811828613, 48386.08117675781, 48762.21258544922, 48898.33010864258, 48929.001037597656, 48974.12536621094, 48993.62365722656, 49013.41654968262, 49116.14404296875, 49147.72967529297, 49161.728118896484, 49188.12533569336, 49391.53839111328, 49442.7568359375, 49570.80859375, 49586.61119842529, 49648.38311767578, 49653.69876098633, 49655.32321166992, 49656.735900878906, 49720.87023925781, 49800.61364746094, 49827.01593017578, 49978.38708496094, 50133.01171875, 50222.48272705078, 50326.74499511719, 50341.902893066406, 50355.524963378906, 50363.77166748047, 50367.24575805664, 50501.56408691406, 50543.053283691406, 50737.13998413086, 50813.1708984375, 50858.208251953125, 50873.498138427734, 50908.755615234375, 51047.84680175781, 51068.873962402344, 51081.78625488281, 51113.638580322266, 51243.101318359375, 51270.455505371094, 51293.68653869629, 51530.242248535156, 51537.76940917969, 51544.19903564453, 51576.81326293945, 51618.69226074219, 51633.37713623047, 51637.93183898926, 51663.23400878906, 51666.01678466797, 51859.11080932617, 51914.376708984375, 51952.12266540527, 52016.7734375, 52085.70606994629, 52086.8115234375, 52100.85852050781, 52132.85076904297, 52169.519622802734], [20659.57095336914, 21260.379104614258, 23660.295364379883, 23762.791900634766, 23992.012397766113, 24521.952041625977, 24899.629791259766, 24915.529235839844, 25049.487838745117, 25152.982025146484, 25413.023559570312, 25442.10252380371, 25686.107711791992, 25744.841537475586, 25751.508361816406, 25755.233779907227, 25770.613525390625, 25920.239852905273, 25924.73471069336, 25932.724166870117, 26034.890686035156, 26178.628982543945, 26310.829681396484, 26345.735153198242, 26406.266357421875, 26461.960006713867, 26519.73306274414, 26650.422729492188, 26735.455032348633, 26747.1339263916, 26807.762176513672, 26815.577743530273, 26819.837677001953, 26833.402374267578, 26837.086151123047, 26887.34440612793, 26925.759307861328, 26932.345275878906, 26938.88722229004, 26940.580459594727, 26960.58657836914, 26967.17738342285, 27041.081909179688, 27204.662521362305, 27216.677322387695, 27264.110610961914, 27307.63670349121, 27334.333236694336, 27405.942947387695, 27417.559173583984, 27435.41571044922, 27646.611526489258, 27730.431228637695, 27790.78483581543, 27850.785278320312, 27857.20314025879, 27860.7332611084, 27909.214324951172, 27911.47021484375, 27934.080841064453, 27941.004013061523, 27948.03546142578, 27949.286895751953, 27971.667930603027, 28018.683334350586, 28061.98486328125, 28098.01545715332, 28126.803672790527, 28144.841033935547, 28228.40167236328, 28242.730712890625, 28262.987823486328, 28298.50782775879, 28299.24966430664, 28338.315704345703, 28343.280532836914, 28397.143310546875, 28453.47922515869, 28474.46028137207, 28481.824188232422, 28521.95684814453, 28531.47102355957, 28549.02018737793, 28578.090393066406, 28579.070022583008, 28592.835327148438, 28602.701126098633, 28669.31967163086, 28675.167510986328, 28675.69366455078, 28676.99383544922, 28696.68475341797, 28704.935165405273, 28729.38606262207, 28756.527786254883, 28761.35238647461, 28774.818420410156, 28795.490814208984, 28807.966537475586, 28823.4298248291], [55494.99238586426, 58242.786376953125, 58436.607971191406, 59128.56433105469, 60218.711669921875, 62452.22576904297, 63019.74923706055, 63417.1930847168, 63757.62240600586, 64598.54959106445, 64798.50457763672, 65783.00817871094, 65790.37106323242, 65831.05908203125, 66633.94467163086, 66839.74877929688, 66892.50659179688, 67009.74868774414, 67118.08471679688, 67144.88525390625, 67214.7798461914, 67221.93579101562, 67244.94165039062, 67309.89190673828, 67346.85180664062, 67354.41967773438, 67629.22424316406, 67662.33251953125, 67715.54931640625, 67846.25158691406, 67952.54876708984, 68001.74560546875, 68019.57989501953, 68050.41670227051, 68081.09426879883, 68159.79098510742, 68390.76788330078, 68457.12692260742, 68544.26586914062, 68559.8459777832, 68594.02998352051, 68648.4008178711, 68717.72033691406, 68868.74694824219, 68874.81623840332, 68888.50476074219, 68906.42610168457, 68929.2269897461, 68959.62976074219, 69007.63980102539, 69018.22741699219, 69021.12312316895, 69058.74328613281, 69067.82312011719, 69095.28155517578, 69158.68884277344, 69219.57446289062, 69281.9541015625, 69283.77722167969, 69335.77893066406, 69435.56286621094, 69456.45007324219, 69464.94540405273, 69536.61877441406, 69550.24938964844, 69573.58325195312, 69591.35383605957, 69665.14587402344, 69740.33349609375, 69820.44003295898, 69839.85046386719, 69892.52728271484, 69980.13537597656, 70004.79266357422, 70066.94165039062, 70085.73486328125, 70088.34375, 70091.19189453125, 70111.51281738281, 70114.51635742188, 70115.6169128418, 70145.53192138672, 70157.91418457031, 70243.57946777344, 70359.99880981445, 70371.91662597656, 70401.94848632812, 70405.87414550781, 70413.32727050781, 70454.60388183594, 70479.39465332031, 70520.12756347656, 70598.9224243164, 70651.83898925781, 70747.51818847656, 70753.35293579102, 70800.06616210938, 70814.33489990234, 70835.99096679688, 70867.09237670898], [28423.788467407227, 29036.869018554688, 29705.23243713379, 29731.608764648438, 29774.721969604492, 29903.86849975586, 30400.79083251953, 30499.2255859375, 32706.293884277344, 32777.609619140625, 33721.88983154297, 33946.2502746582, 34037.06774902344, 34044.515869140625, 34125.946716308594, 34345.02325439453, 34745.946228027344, 34757.9776763916, 34844.87683105469, 34920.07618713379, 34977.91278076172, 34999.31903076172, 35028.74430847168, 35094.62609863281, 35331.45137023926, 35392.91052246094, 35530.58581542969, 35789.63537597656, 36042.71563720703, 36083.94845581055, 36121.67411804199, 36132.16436767578, 36207.64091491699, 36233.72869873047, 36236.81628417969, 36317.07098388672, 36411.05783081055, 36463.1025390625, 36470.43408203125, 36672.19760131836, 36675.68116760254, 36850.55871582031, 36943.56677246094, 37099.44543457031, 37318.5495300293, 37371.716567993164, 37425.55615234375, 37466.71304321289, 37483.794204711914, 37679.52111816406, 37814.15625, 37876.68778991699, 37898.013122558594, 38027.076904296875, 38100.71926116943, 38128.68017578125, 38235.26754760742, 38326.42094421387, 38344.02117919922, 38356.973388671875, 38540.760192871094, 38567.71221923828, 38657.521255493164, 38677.320556640625, 38712.238342285156, 38763.39440917969, 38841.11248779297, 38868.8981628418, 38910.142333984375, 38984.93295288086, 39058.11036682129, 39072.057678222656, 39114.51403808594, 39180.242736816406, 39236.881408691406, 39255.81687927246, 39256.05923461914, 39361.315002441406, 39483.9640045166, 39514.243728637695, 39549.042419433594, 39602.51629638672, 39616.32452392578, 39643.35430908203, 39662.583251953125, 39663.99560546875, 39703.971939086914, 39742.03045654297, 39758.817474365234, 39901.42578125, 39991.00028991699, 40070.995193481445, 40110.42431640625, 40130.94989013672, 40158.79821777344, 40182.50503540039, 40233.54919433594, 40247.16305541992, 40270.07875061035, 40272.103118896484], [29001.355041503906, 31318.870727539062, 33562.168884277344, 33963.494384765625, 34171.618103027344, 34536.819580078125, 35364.929443359375, 36388.83508300781, 36967.53845214844, 37128.8800201416, 37376.381286621094, 37429.18960571289, 37528.20751953125, 37655.30383300781, 37739.67984008789, 37753.22424316406, 37759.46008300781, 38227.727783203125, 38392.567947387695, 38501.16668701172, 38561.319885253906, 38747.77557373047, 39558.24786376953, 39715.957611083984, 39872.55661010742, 40029.49508666992, 40104.71954345703, 40113.846435546875, 40459.49548339844, 40560.88165283203, 40564.946716308594, 40570.64617919922, 40597.61779785156, 40863.17803955078, 41094.88201904297, 41197.1003112793, 41340.134826660156, 41397.33868408203, 41435.345794677734, 41514.959899902344, 41771.54553222656, 42061.78479003906, 42100.4208984375, 42106.30114746094, 42117.086517333984, 42134.94500732422, 42235.16125488281, 42276.89337158203, 42298.2529296875, 42357.790100097656, 42405.13916015625, 42448.79870605469, 42467.340759277344, 42549.64709472656, 42573.29431152344, 42576.601989746094, 42591.04656982422, 42694.701171875, 42706.15313720703, 42737.435302734375, 42774.5517578125, 42806.36730957031, 42880.510986328125, 42894.943115234375, 42907.101623535156, 42962.53109741211, 42965.21578979492, 43059.44448852539, 43128.721923828125, 43136.32556152344, 43176.05969238281, 43187.891540527344, 43224.57482910156, 43287.73742675781, 43332.081604003906, 43337.2412109375, 43435.67333984375, 43520.084075927734, 43526.57830810547, 43538.927490234375, 43550.90203857422, 43604.148193359375, 43623.321533203125, 43715.383392333984, 43753.076721191406, 43794.89442443848, 43819.77738952637, 43843.41052246094, 43879.776428222656, 43881.47332763672, 43899.40124511719, 43920.20086669922, 43933.88757324219, 43998.27032470703, 44126.21658325195, 44183.28308105469, 44229.331787109375, 44252.497314453125, 44278.67950439453, 44348.90148925781], [7022.126655578613, 7496.955696105957, 7827.911651611328, 9021.264656066895, 9243.150856018066, 9877.522994995117, 9933.499267578125, 10170.474426269531, 10187.548858642578, 10539.244537353516, 10632.503479003906, 10680.733001708984, 10726.333557128906, 10749.572204589844, 10903.372833251953, 11165.074409484863, 11190.036567687988, 11282.479705810547, 11364.30728149414, 11425.09341430664, 11449.49878692627, 11453.89273071289, 11528.814758300781, 11656.897354125977, 11736.741920471191, 11844.246444702148, 11918.500396728516, 11951.462936401367, 12034.5493850708, 12044.764389038086, 12260.901344299316, 12337.344886779785, 12358.717025756836, 12449.705726623535, 12488.537063598633, 12564.111122131348, 12580.493377685547, 12620.098967552185, 12621.145141601562, 12695.507377624512, 12707.008285522461, 12747.41960144043, 12754.223922729492, 12772.71199798584, 12783.826522827148, 12847.052673339844, 12848.515350341797, 12857.33959197998, 12874.058310508728, 12891.483612060547, 12910.76870727539, 12923.706496238708, 13105.058296203613, 13235.29020690918, 13278.225326538086, 13303.359573364258, 13313.233726501465, 13320.359001159668, 13339.019653320312, 13339.781341552734, 13354.057014465332, 13393.82470703125, 13425.6801071167, 13430.274543762207, 13461.38680267334, 13487.382911682129, 13508.417282104492, 13510.769821166992, 13518.78450012207, 13530.682136535645, 13534.470581054688, 13540.315650939941, 13592.479858398438, 13595.592864990234, 13599.691940307617, 13603.825134277344, 13625.432678222656, 13635.886795043945, 13671.509780883789, 13674.714407920837, 13679.780517578125, 13717.65894317627, 13762.07063293457, 13764.97119140625, 13793.303665161133, 13847.41421508789, 13890.559608459473, 13900.47395324707, 13958.104568481445, 13975.440490722656, 13978.584769248962, 14000.815497398376, 14000.853530883789, 14012.088600158691, 14021.998122215271, 14022.980323791504, 14041.878479003906, 14071.141571044922, 14081.768829345703, 14090.109024047852], [23269.147857666016, 25479.173583984375, 30499.141082763672, 31536.51286315918, 33596.522705078125, 33667.543197631836, 33773.89570617676, 34103.754791259766, 34349.29376220703, 34632.60040283203, 34995.76460266113, 35715.132080078125, 36090.239990234375, 36391.87579345703, 36540.75671386719, 36831.26956176758, 36894.78616333008, 36960.979553222656, 37201.814208984375, 37412.156967163086, 37623.09475708008, 37946.58380126953, 38033.84306335449, 38296.94497680664, 38403.55178833008, 38539.57563781738, 39201.35868835449, 39210.063537597656, 39301.244689941406, 39339.821380615234, 39390.55447387695, 39571.63494873047, 39585.30697631836, 39829.47772216797, 39891.539611816406, 39894.60487365723, 40041.74395751953, 40323.092834472656, 40347.80320739746, 40558.50114440918, 40644.971115112305, 40838.95324707031, 40856.410583496094, 41025.32815551758, 41055.84729003906, 41255.62257385254, 41347.93780517578, 41375.20001220703, 41584.124572753906, 41584.53634643555, 41616.26350402832, 41624.63409423828, 41741.79327392578, 41765.49110412598, 41798.07736206055, 41900.988525390625, 41902.717834472656, 41925.34442138672, 41943.96286010742, 41947.92544555664, 41989.92729187012, 41997.49848937988, 42010.04040527344, 42082.478454589844, 42099.859313964844, 42220.87219238281, 42280.22465515137, 42291.543365478516, 42296.554748535156, 42325.20132446289, 42449.668518066406, 42501.0881652832, 42522.230072021484, 42590.1745300293, 42610.4016418457, 42635.99426269531, 42663.748443603516, 42668.818267822266, 42814.30537414551, 42992.24320983887, 43105.63961791992, 43173.699279785156, 43188.84941101074, 43250.88635253906, 43303.13220214844, 43319.872009277344, 43459.2674407959, 43499.95503234863, 43530.690856933594, 43559.49685668945, 43602.55078125, 43689.39472961426, 43689.84817504883, 43751.90490722656, 43756.33947753906, 43768.577087402344, 43788.11785888672, 43859.142333984375, 43874.03614807129, 43934.61473083496], [44966.940979003906, 49678.3352355957, 51471.10531616211, 52032.134216308594, 52949.87957763672, 53425.16339111328, 53793.068435668945, 53854.930603027344, 54010.181640625, 54148.105895996094, 54500.325256347656, 54527.80450439453, 54776.50508117676, 54834.564514160156, 55399.23858642578, 55791.783447265625, 56342.245544433594, 56816.37091064453, 56825.95129394531, 56924.85223388672, 56940.65270996094, 57018.100830078125, 57398.15447998047, 57462.07573699951, 58062.07727050781, 58148.953857421875, 58149.086853027344, 58468.46221923828, 58578.681884765625, 58651.26953125, 58801.921813964844, 59075.498107910156, 59098.161224365234, 59284.31024169922, 59307.3076171875, 59364.22375488281, 59420.488708496094, 59503.769439697266, 59535.085205078125, 59632.369079589844, 59652.85583496094, 59709.83605957031, 59869.72130584717, 59870.8762512207, 59883.48068237305, 59975.15791320801, 59977.34272766113, 60183.9013671875, 60198.86865234375, 60342.448822021484, 60463.28960418701, 60468.269775390625, 60631.954833984375, 60660.257568359375, 60739.54571533203, 60849.327697753906, 60860.501525878906, 60975.854431152344, 61004.005798339844, 61064.50890350342, 61140.651123046875, 61201.364990234375, 61232.2094039917, 61307.700370788574, 61362.7626953125, 61412.70202636719, 61469.92672729492, 61567.635986328125, 61632.01824951172, 61642.42436218262, 61644.22119140625, 61645.0361328125, 61731.078857421875, 61923.342948913574, 62015.718254089355, 62080.178955078125, 62124.23449707031, 62175.01875305176, 62261.498474121094, 62266.245178222656, 62393.30743408203, 62444.48693847656, 62544.163635253906, 62568.11406707764, 62587.01006317139, 62653.22644042969, 62670.677001953125, 62682.71813964844, 62729.94061279297, 62749.01135253906, 62762.576736450195, 62820.880859375, 62866.15808105469, 62872.390563964844, 62941.570556640625, 62993.81481933594, 63033.84521484375, 63043.07275390625, 63047.404235839844, 63113.67639160156], [39555.32258605957, 40222.764068603516, 40288.33331298828, 40514.000900268555, 40683.662170410156, 40878.095275878906, 40963.16516113281, 41461.323959350586, 42453.221420288086, 43154.190002441406, 43255.636657714844, 43339.9580078125, 43363.49545288086, 43513.54263305664, 43594.81675720215, 43850.8092956543, 43866.30889892578, 43882.81887817383, 44066.743408203125, 44307.978271484375, 44366.70132446289, 44382.24060058594, 44454.61227416992, 44524.064361572266, 44561.41957092285, 44698.554595947266, 44916.24850463867, 44995.53778076172, 45246.77461242676, 45515.403747558594, 45543.29870605469, 45555.30041503906, 45689.48922729492, 45729.85774230957, 45881.169036865234, 45887.828552246094, 45979.76037597656, 46162.65393066406, 46295.69909667969, 46489.021728515625, 46493.56433105469, 46528.49221801758, 46559.20001220703, 46658.23486328125, 46737.82958984375, 46756.42712402344, 46782.11492919922, 46844.995544433594, 46848.2607421875, 46849.445220947266, 47179.19631958008, 47190.164459228516, 47301.87910461426, 47342.85174560547, 47357.226318359375, 47374.20407104492, 47406.877380371094, 47530.607666015625, 47553.669372558594, 47554.20849609375, 47686.96420288086, 47774.914627075195, 47840.746032714844, 47888.68955993652, 47893.5934753418, 47946.52671813965, 48213.00938415527, 48239.64074707031, 48242.62950134277, 48324.16931152344, 48352.136642456055, 48406.05111694336, 48407.09689331055, 48412.321868896484, 48443.12045288086, 48476.94128417969, 48556.47738647461, 48693.98947143555, 48702.1438293457, 48834.15460205078, 48918.14682006836, 48936.68786621094, 48991.892333984375, 49007.2682800293, 49072.69430541992, 49074.880294799805, 49083.45701599121, 49187.33706665039, 49200.39147949219, 49251.19787597656, 49260.67630004883, 49285.9924621582, 49289.76628112793, 49300.350524902344, 49357.45770263672, 49359.08947753906, 49370.24543762207, 49374.41207885742, 49400.918884277344, 49401.74082946777], [29282.408935546875, 30931.755111694336, 31844.434448242188, 32037.92108154297, 33218.50256347656, 33267.281311035156, 33434.90396118164, 35091.327697753906, 35251.62561035156, 35581.684997558594, 35698.49932861328, 35704.705993652344, 35948.965270996094, 36559.63735961914, 36582.73677062988, 36620.85403442383, 36661.10989379883, 36890.83679199219, 36936.369537353516, 37061.00909423828, 37158.664489746094, 37810.12530517578, 37939.85467529297, 37961.14584350586, 38095.978759765625, 38275.48989868164, 38353.541442871094, 38483.90295410156, 38523.36489868164, 38535.694396972656, 38578.09893798828, 38733.407653808594, 38964.75100708008, 39096.038513183594, 39222.13757324219, 39291.36975097656, 39294.11163330078, 39335.84262084961, 39455.45593261719, 39502.95230102539, 39628.33935546875, 39633.478088378906, 39710.38623046875, 39742.0602722168, 39814.67639160156, 39926.47540283203, 40002.32678222656, 40027.661193847656, 40103.56326293945, 40185.624755859375, 40245.65399169922, 40247.53952026367, 40278.33947753906, 40401.37615966797, 40438.65106201172, 40441.96179199219, 40488.34069824219, 40552.891052246094, 40651.417083740234, 40701.19299316406, 40803.96321105957, 40870.00598144531, 40934.18966674805, 40953.06594848633, 40972.14923095703, 41017.46893310547, 41019.21484375, 41066.58874511719, 41069.99737548828, 41184.37530517578, 41193.27282714844, 41220.51724243164, 41295.39373779297, 41317.935607910156, 41350.439880371094, 41362.85237121582, 41403.351318359375, 41466.73059082031, 41683.55407714844, 41690.70587158203, 41776.59669494629, 41790.30187988281, 41833.466247558594, 41841.21990966797, 41848.809509277344, 42052.68786621094, 42148.15655517578, 42185.60494995117, 42225.145904541016, 42230.81848144531, 42236.37176513672, 42266.233642578125, 42334.07312011719, 42388.994140625, 42391.6457824707, 42428.1123046875, 42443.35888671875, 42453.052001953125, 42576.85333251953, 42589.47299194336], [64612.81561279297, 67315.36358642578, 67948.82781982422, 68725.1157836914, 68791.8617553711, 69064.16137695312, 69359.56176757812, 69422.0654296875, 70480.27575683594, 70802.28457641602, 70878.86822509766, 71334.26086425781, 71403.67431640625, 71546.083984375, 71561.65161132812, 71965.7396850586, 72058.87963867188, 72418.38842773438, 72519.28833007812, 72623.83410644531, 73528.53002929688, 73628.68054199219, 73929.16040039062, 74412.81494140625, 74431.34375, 74507.93518066406, 74910.55603027344, 75127.94592285156, 75149.62390136719, 75187.56530761719, 75200.04571533203, 75238.50634765625, 75249.77697753906, 75344.93798828125, 75366.11932373047, 75625.57580566406, 75770.72131347656, 75969.35607910156, 75979.84576416016, 76091.18939208984, 76325.10009765625, 76591.89453125, 76612.99938964844, 76657.078125, 76668.64086914062, 76711.564453125, 76760.7738647461, 76890.69128417969, 77095.29467773438, 77198.97021484375, 77222.96728515625, 77240.57934570312, 77268.30126953125, 77309.75268554688, 77385.0267944336, 77410.13403320312, 77464.02844238281, 77521.03839111328, 77556.09059143066, 77578.78833007812, 77598.02642822266, 77609.76354980469, 77688.66711425781, 77694.94494628906, 77771.21716308594, 77799.37243652344, 77807.70141601562, 77916.14733886719, 78284.64367675781, 78299.46875, 78320.08117675781, 78599.4146118164, 78876.17224121094, 78886.68788146973, 78891.42919921875, 78902.08898925781, 78924.35083007812, 79009.97094726562, 79018.21948242188, 79066.12969970703, 79194.61572265625, 79206.37634277344, 79212.45397949219, 79261.3134765625, 79264.3544921875, 79278.6587524414, 79294.08911132812, 79492.74645996094, 79517.82531738281, 79607.24774169922, 79624.52917480469, 79705.78039550781, 79718.66165161133, 79799.16259765625, 79801.28527832031, 79847.17700195312, 79891.8364868164, 79914.60046386719, 79947.92163085938, 79949.12036132812], [36476.09619140625, 36527.01086425781, 36697.35501098633, 37515.29348754883, 39304.67639160156, 40447.700622558594, 41204.626525878906, 41645.35461425781, 42112.02282714844, 42201.76931762695, 42238.47247314453, 42594.350646972656, 42667.85223388672, 42759.98587036133, 42870.686767578125, 43098.154357910156, 43154.72393798828, 43653.832580566406, 43828.806579589844, 44113.57043457031, 44462.488830566406, 44621.48748779297, 44895.618896484375, 44961.66296386719, 45581.62533569336, 45616.809020996094, 45691.5546875, 45765.19107055664, 46062.30676269531, 46080.14356994629, 46155.61993408203, 46165.290771484375, 46179.35916137695, 46329.24987792969, 46381.16763305664, 46405.33215332031, 46674.85689544678, 46911.233459472656, 46928.355407714844, 46928.860748291016, 46938.121910095215, 46968.63702392578, 47167.363037109375, 47193.474853515625, 47219.41864013672, 47231.86849975586, 47249.42889404297, 47338.270568847656, 47341.108947753906, 47368.76403808594, 47444.954010009766, 47519.65319824219, 47568.79736328125, 47640.42810058594, 47666.722106933594, 47735.091735839844, 47742.38153076172, 48002.35070800781, 48023.76843261719, 48107.59310913086, 48212.610290527344, 48273.85119628906, 48413.39309692383, 48434.33233642578, 48469.5979309082, 48486.20263671875, 48519.24255371094, 48557.1728515625, 48748.10412597656, 48767.28045654297, 48794.24395751953, 48842.68377685547, 48882.905517578125, 48912.56790161133, 48914.22966003418, 49140.29200744629, 49145.7578125, 49155.7282409668, 49173.04870605469, 49259.18426513672, 49332.81329345703, 49670.182861328125, 49695.841796875, 49776.793685913086, 49784.850189208984, 49804.15466308594, 49841.28845214844, 49856.593200683594, 49904.553955078125, 49932.619720458984, 49934.43719482422, 49951.74136352539, 49958.118896484375, 50020.29913330078, 50066.96472167969, 50101.767333984375, 50112.413024902344, 50117.119079589844, 50150.825439453125, 50157.772789001465], [30878.36752319336, 32580.432739257812, 33465.90817260742, 34252.7663269043, 34335.72766113281, 34596.695220947266, 35867.94032287598, 36007.99060058594, 36540.23547363281, 36816.82897949219, 36837.920837402344, 37229.2458190918, 37431.10009765625, 37495.45217895508, 37558.96691894531, 37648.97723388672, 38081.27734375, 38208.7724609375, 38407.899475097656, 38448.41473388672, 39004.52264404297, 39146.39367675781, 39151.24313354492, 39433.47137451172, 39439.33267211914, 39466.22854614258, 39544.072204589844, 39814.23580932617, 40024.14942932129, 40044.26058959961, 40130.144104003906, 40134.135681152344, 40229.099060058594, 40237.96487426758, 40272.271423339844, 40301.25421142578, 40330.30856323242, 40519.77536010742, 40539.64529418945, 40598.64614868164, 40811.80392456055, 40813.11682128906, 40830.60284423828, 40990.11749267578, 41035.236328125, 41125.678619384766, 41165.24215698242, 41183.435302734375, 41302.91079711914, 41319.262298583984, 41348.892333984375, 41420.92558288574, 41421.63073730469, 41423.63919067383, 41619.665954589844, 41632.55108642578, 41635.5078125, 41654.055755615234, 41655.665618896484, 41658.32604980469, 41658.812103271484, 41689.222717285156, 41723.2839050293, 41776.295959472656, 41826.060607910156, 41884.041748046875, 41937.71896362305, 41947.19348144531, 42072.49676513672, 42099.3818359375, 42133.70947265625, 42179.173583984375, 42207.33117675781, 42208.48272705078, 42242.4031829834, 42385.887756347656, 42389.79864501953, 42465.20358276367, 42489.285888671875, 42497.49005126953, 42533.494384765625, 42621.40997314453, 42672.87536621094, 42688.427307128906, 42767.27197265625, 42775.643005371094, 42775.87969970703, 42777.2707824707, 42792.380462646484, 42841.622497558594, 42846.61486816406, 42922.38284301758, 42934.54382324219, 42979.04431152344, 42991.07507324219, 42991.07507324219, 43079.918395996094, 43099.855712890625, 43115.46304321289, 43133.65856933594], [33698.97969818115, 34412.97469329834, 35960.90050506592, 36848.12063598633, 37169.278465270996, 38382.636291503906, 39284.47218322754, 39294.96206665039, 39618.433349609375, 39783.26672363281, 39801.40252685547, 39986.30438232422, 40447.59442138672, 40752.94631195068, 40990.561767578125, 41144.53140258789, 41184.947090148926, 41385.9098739624, 41507.38720703125, 41536.08932495117, 42027.047302246094, 42036.97705078125, 42098.56170654297, 42226.67156982422, 42256.111328125, 42289.38983154297, 42400.57809448242, 42409.16943359375, 42830.63830566406, 43192.455505371094, 43356.106384277344, 43502.98846435547, 43739.36505126953, 43782.709228515625, 43918.92901611328, 43943.539306640625, 43943.83026123047, 43979.510192871094, 44020.53057861328, 44045.13830566406, 44050.34033203125, 44095.91717529297, 44275.846740722656, 44305.04705810547, 44388.082275390625, 44397.387451171875, 44494.32470703125, 44538.3701171875, 44706.631103515625, 44762.71279144287, 44818.45137786865, 44824.36269378662, 44838.792724609375, 44918.659606933594, 44940.65222167969, 44949.61489868164, 45084.27392578125, 45178.64764404297, 45238.703857421875, 45241.3720703125, 45328.699768066406, 45348.708435058594, 45354.098876953125, 45362.10916137695, 45383.97444152832, 45479.77380371094, 45492.69647216797, 45517.1212310791, 45529.42721557617, 45563.50026702881, 45616.973571777344, 45702.44881439209, 45709.48016357422, 45743.109313964844, 45744.48846435547, 45814.893981933594, 45876.172607421875, 45906.24719238281, 45942.411682128906, 45997.733947753906, 46050.28601074219, 46084.62636566162, 46112.21075439453, 46114.10329437256, 46146.92694091797, 46150.47634887695, 46174.96716308594, 46306.50490570068, 46310.67608642578, 46360.01007080078, 46385.67275238037, 46387.156188964844, 46398.14953613281, 46514.00549316406, 46517.717041015625, 46563.79083251953, 46566.98571777344, 46675.61428833008, 46696.11755371094, 46702.50402832031], [26695.89884185791, 33697.22723388672, 35356.98165893555, 36771.373962402344, 36814.33996582031, 36980.08724975586, 38109.708892822266, 38334.568603515625, 38354.649978637695, 38455.689025878906, 38464.13293457031, 38549.56384277344, 38945.69396972656, 39368.29814147949, 39550.71154785156, 39927.884033203125, 40321.6418762207, 40540.71726989746, 40556.533203125, 40949.17784118652, 41125.88181304932, 41167.139099121094, 41298.48107910156, 41412.39367675781, 41500.25048828125, 41539.97957611084, 41649.35107421875, 41787.293212890625, 41885.69982910156, 42033.150451660156, 42054.125549316406, 42076.109375, 42084.46853637695, 42150.584411621094, 42399.4716796875, 42421.50796508789, 42520.52001953125, 42870.9108581543, 42934.5671081543, 42935.64422607422, 42970.17758178711, 43149.48483276367, 43321.007095336914, 43401.29071044922, 43460.263427734375, 43544.11912536621, 43585.03405761719, 43645.172302246094, 43654.20556640625, 43705.278381347656, 43810.21838378906, 43923.34149169922, 43944.69909667969, 43958.7744140625, 43986.16442871094, 44033.07443237305, 44064.122985839844, 44246.56869506836, 44423.46774291992, 44463.60794067383, 44470.767028808594, 44500.40069580078, 44665.09143066406, 44668.902099609375, 44693.364501953125, 44695.78405761719, 44775.740295410156, 44846.652770996094, 44861.19137573242, 44902.75067138672, 44953.65670776367, 44964.26690673828, 45057.985595703125, 45151.52014160156, 45152.27917480469, 45184.467376708984, 45186.05236816406, 45213.388732910156, 45267.225036621094, 45333.60610961914, 45350.823669433594, 45357.53421020508, 45485.7516784668, 45505.35287475586, 45545.950286865234, 45679.36315917969, 45705.72180175781, 45706.42395019531, 45717.94218444824, 45739.105529785156, 45856.825942993164, 45861.76923370361, 45866.35266113281, 45924.260192871094, 45934.782470703125, 45971.478759765625, 46018.978759765625, 46029.22235107422, 46094.47137451172, 46099.063232421875], [43343.00244140625, 44147.61340332031, 44915.47497558594, 45801.10708618164, 45932.99304199219, 47620.62762451172, 47722.52459716797, 47787.4953918457, 48205.81921386719, 48217.220458984375, 48239.4948425293, 48317.64678955078, 48319.90441894531, 48587.05317687988, 48969.93896484375, 49039.74334716797, 49100.14047241211, 49187.22283935547, 49302.728515625, 49316.89581298828, 49421.36228942871, 49481.646057128906, 49650.21286010742, 49692.97671508789, 49799.381591796875, 49857.98889160156, 49901.440032958984, 49926.265563964844, 49957.577880859375, 49958.54209899902, 49977.60340881348, 50004.91963195801, 50101.79052734375, 50115.55944824219, 50373.25207519531, 50732.392150878906, 50805.10144042969, 50938.35778808594, 50942.70797729492, 51010.61413574219, 51146.741119384766, 51226.67549133301, 51346.99690246582, 51610.62268066406, 51619.80029296875, 51669.48504638672, 51677.78384399414, 51767.827056884766, 51776.55342102051, 51802.47445678711, 51814.14291381836, 51815.25622558594, 51830.00830078125, 51897.80783081055, 51966.647888183594, 51983.88397216797, 52053.153381347656, 52070.33087158203, 52099.5071105957, 52243.48178100586, 52388.63278198242, 52466.333984375, 52501.6755065918, 52510.24670410156, 52668.52729797363, 52677.31475830078, 52696.10134887695, 52714.65838623047, 52766.34225463867, 52801.46075439453, 52833.762603759766, 52880.61608886719, 52910.74792480469, 52915.692138671875, 52957.914611816406, 53077.12551879883, 53188.330169677734, 53214.31787109375, 53226.70983886719, 53343.302673339844, 53382.0595703125, 53509.930725097656, 53564.79998779297, 53615.901123046875, 53653.660232543945, 53661.84423828125, 53690.885986328125, 53728.6494140625, 53776.330322265625, 53783.20153808594, 53792.71667480469, 53797.00079345703, 53820.82727050781, 53865.06628417969, 53867.38073730469, 53941.86688232422, 53944.08283996582, 53951.423278808594, 53971.240783691406, 53991.099182128906], [37027.56343078613, 39858.544677734375, 41610.726806640625, 42134.67059326172, 43136.10902404785, 43964.070739746094, 44693.125061035156, 44822.59753417969, 45563.23239135742, 45952.61901855469, 45992.520263671875, 46437.50671386719, 46465.372634887695, 47143.207778930664, 47330.57275390625, 47346.30291748047, 47586.81036376953, 47625.53283691406, 47919.17889404297, 48197.90087890625, 48394.18310546875, 48535.190368652344, 48731.42889404297, 48942.132568359375, 49303.23034667969, 49400.926818847656, 49438.120178222656, 49518.384216308594, 49854.83996582031, 50035.89569091797, 50070.59735107422, 50172.056884765625, 50227.37127685547, 50332.520599365234, 50615.200134277344, 50646.64440917969, 50686.80987548828, 50840.88879394531, 51315.77217102051, 51329.40673828125, 51352.17156982422, 51510.82580566406, 51591.39044189453, 51722.670166015625, 51812.374267578125, 51894.33447265625, 51965.87127685547, 52048.84484863281, 52132.632080078125, 52578.817443847656, 52713.438720703125, 52831.897888183594, 52971.47589111328, 52988.764556884766, 53132.7392578125, 53248.584899902344, 53259.714416503906, 53353.306213378906, 53425.85510253906, 53429.35986328125, 53441.38836669922, 53465.015625, 53676.51382446289, 53690.15771484375, 53724.08575439453, 53750.48400878906, 53790.86796569824, 54011.857360839844, 54192.45477294922, 54266.941833496094, 54298.800354003906, 54530.81819152832, 54600.38818359375, 54600.788146972656, 54673.327697753906, 54794.747009277344, 54859.44152832031, 54875.903228759766, 55044.07147216797, 55068.53381347656, 55163.85607910156, 55176.49482727051, 55182.351623535156, 55211.44030761719, 55264.018493652344, 55283.96514892578, 55314.235107421875, 55393.057525634766, 55415.44836425781, 55576.24981689453, 55633.952575683594, 55691.733337402344, 55708.83221435547, 55747.2815246582, 55785.59680175781, 55788.95849609375, 55800.67266845703, 55909.28706359863, 56016.609619140625, 56051.04754638672], [40001.135803222656, 40003.00177001953, 40957.611572265625, 41114.73043823242, 42065.01577758789, 42567.761169433594, 43224.68835449219, 43971.752532958984, 44127.76885986328, 44704.803283691406, 45199.94201660156, 46477.620361328125, 46946.8039855957, 47265.849609375, 47472.45703125, 47514.24627685547, 47561.15417480469, 47906.893951416016, 47930.76501464844, 48198.805236816406, 48295.72766113281, 48310.35412597656, 48498.85382080078, 48804.76779174805, 48834.70910644531, 48955.294677734375, 49011.07633972168, 49054.870666503906, 49057.05047607422, 49251.99559020996, 49347.56915283203, 49368.56982421875, 49433.75485229492, 49522.78466796875, 49529.29382324219, 49533.61651611328, 49605.46240234375, 49745.41094970703, 49760.195861816406, 49825.38586425781, 49827.99011230469, 49905.038330078125, 50081.687072753906, 50086.16418457031, 50201.63706970215, 50228.13934326172, 50262.515228271484, 50324.55749511719, 50430.281677246094, 50433.96276855469, 50515.78796386719, 50644.58728027344, 50742.41189575195, 50773.23254394531, 50800.882385253906, 50871.698669433594, 51039.94177246094, 51061.717529296875, 51173.10203552246, 51203.68933105469, 51230.57078552246, 51305.040771484375, 51374.84442138672, 51397.65092468262, 51489.37097167969, 51503.138275146484, 51521.05847167969, 51557.411193847656, 51602.57403564453, 51638.065002441406, 51644.81639099121, 51686.0061340332, 51694.23083496094, 51726.36022949219, 51766.64764404297, 51777.11642456055, 51781.591735839844, 51861.38751220703, 51865.99118041992, 51904.06201171875, 51915.473693847656, 51935.498291015625, 52010.11102294922, 52025.10153198242, 52108.02374267578, 52123.36877441406, 52139.349060058594, 52161.69903564453, 52206.90542602539, 52222.35827636719, 52252.75537109375, 52294.032775878906, 52357.487731933594, 52365.468017578125, 52370.36148071289, 52394.03594970703, 52469.76385498047, 52478.774169921875, 52524.505615234375, 52535.785888671875], [35907.02099609375, 36017.37258911133, 37673.80065917969, 37859.4289855957, 39220.584045410156, 39321.885345458984, 39993.194732666016, 40328.608879089355, 40484.81024169922, 41027.69451904297, 41149.22918701172, 41156.29446411133, 41426.8918762207, 41445.71337890625, 41729.249755859375, 42079.71879577637, 42222.648681640625, 42502.62127685547, 42611.44415283203, 42874.818756103516, 42903.747650146484, 42930.88507080078, 42992.60809326172, 43020.80325317383, 43233.69982910156, 43258.78497314453, 43260.32861328125, 43261.64782714844, 43404.4987487793, 43443.926208496094, 43488.65020751953, 43501.890563964844, 43627.07442474365, 43637.56607055664, 43676.13009643555, 43681.708984375, 43681.96594238281, 43781.82843017578, 44002.873947143555, 44046.497314453125, 44390.305908203125, 44466.07116699219, 44475.23681640625, 44493.785705566406, 44510.92785644531, 44513.41174316406, 44534.15460205078, 44536.92459106445, 44574.090393066406, 44722.97409057617, 44756.79724121094, 44794.41796875, 44824.61248779297, 44852.94659423828, 44882.72351074219, 44970.58377075195, 45059.902740478516, 45093.83477783203, 45099.62673950195, 45154.58987426758, 45218.904876708984, 45310.64147949219, 45377.403747558594, 45405.34796142578, 45430.40447998047, 45596.69055175781, 45607.3844909668, 45611.124420166016, 45646.043518066406, 45774.20837402344, 45892.96212768555, 46059.00694274902, 46093.99221801758, 46100.40139770508, 46158.07832336426, 46328.584045410156, 46362.390380859375, 46477.14129638672, 46490.32670593262, 46495.39971923828, 46543.317123413086, 46545.39910888672, 46606.19128417969, 46646.4362487793, 46767.894470214844, 46780.01416015625, 46810.66687011719, 46817.16223144531, 46819.37503051758, 46884.496154785156, 46967.87841796875, 46998.00946044922, 47040.46081542969, 47048.6162109375, 47075.04489135742, 47218.515869140625, 47228.93169403076, 47258.3415222168, 47316.34069824219, 47371.20153808594]]\n",
      "\n"
     ]
    }
   ],
   "source": [
    "id_list, dist_list = search_batch_query(my_multi_q, nprobe, topk, coarse_cen, sub_cen)\n",
    "print(\"==== Vector IDs ====\\n\\n{}\\n\".format(id_list))\n",
    "print(\"==== Distances ====\\n\\n{}\\n\".format(dist_list))"
   ]
  },
  {
   "cell_type": "code",
   "execution_count": 40,
   "metadata": {},
   "outputs": [
    {
     "name": "stdout",
     "output_type": "stream",
     "text": [
      "i = 0\tID Correct? True\n",
      "i = 1\tID Correct? True\n",
      "i = 2\tID Correct? True\n",
      "i = 3\tID Correct? True\n",
      "i = 4\tID Correct? True\n",
      "i = 5\tID Correct? False\n",
      "i = 6\tID Correct? True\n",
      "i = 7\tID Correct? True\n",
      "i = 8\tID Correct? True\n",
      "i = 9\tID Correct? True\n",
      "i = 10\tID Correct? True\n",
      "i = 11\tID Correct? True\n",
      "i = 12\tID Correct? True\n",
      "i = 13\tID Correct? True\n",
      "i = 14\tID Correct? True\n",
      "i = 15\tID Correct? True\n",
      "i = 16\tID Correct? True\n",
      "i = 17\tID Correct? True\n",
      "i = 18\tID Correct? False\n",
      "i = 19\tID Correct? True\n",
      "i = 20\tID Correct? True\n",
      "i = 21\tID Correct? True\n",
      "i = 22\tID Correct? True\n",
      "i = 23\tID Correct? True\n",
      "i = 24\tID Correct? True\n",
      "i = 25\tID Correct? False\n",
      "i = 26\tID Correct? True\n",
      "i = 27\tID Correct? True\n",
      "i = 28\tID Correct? True\n",
      "i = 29\tID Correct? True\n",
      "i = 30\tID Correct? True\n",
      "i = 31\tID Correct? True\n",
      "ID Correct?  False\n",
      "Distance Correct?  False\n"
     ]
    }
   ],
   "source": [
    "# Faiss result for 10000 items: D, I\n",
    "faiss_D = D[:batch_size]\n",
    "faiss_I = I[:batch_size]\n",
    "for i in range(batch_size):\n",
    "    print(\"i = {}\\tID Correct? {}\".format(i, np.allclose(id_list[i], faiss_I[i], rtol=1e-02, atol=10)))\n",
    "          \n",
    "print(\"ID Correct? \", np.allclose(id_list, faiss_I, rtol=1e-02, atol=10))\n",
    "print(\"Distance Correct? \", np.allclose(dist_list, faiss_D))"
   ]
  },
  {
   "cell_type": "code",
   "execution_count": 51,
   "metadata": {},
   "outputs": [
    {
     "name": "stdout",
     "output_type": "stream",
     "text": [
      "i = 94\tmy result: 98539638\tfaiss result:905529872\n",
      "i = 95\tmy result: 905529872\tfaiss result:98539638\n"
     ]
    }
   ],
   "source": [
    "\"\"\"\n",
    "This sort of error has no problem, just because of the computation precision, \n",
    "e.g.\n",
    "i = 34\tmy result: 651781686\tfaiss result:186994121\n",
    "i = 35\tmy result: 186994121\tfaiss result:651781686\n",
    "\"\"\"\n",
    "error_query_id = 25\n",
    "for i in range(topk):\n",
    "    if id_list[error_query_id][i] != faiss_I[error_query_id][i]:\n",
    "        print(\"i = {}\\tmy result: {}\\tfaiss result:{}\".format(\n",
    "            i, id_list[error_query_id][i], faiss_I[error_query_id][i]))"
   ]
  },
  {
   "cell_type": "code",
   "execution_count": 72,
   "metadata": {},
   "outputs": [],
   "source": [
    "\"\"\"\n",
    "Functions to get the debugging information for node 1:\n",
    "    cell IDs that should be searched (nprobe)\n",
    "    the center distance between the query vector and those cells\n",
    "    the distance table constructed for each cell\n",
    "\"\"\"\n",
    "\n",
    "def get_node0_info_single_query(q_vec, nprobe, coarse_cen, sub_cen):\n",
    "    \"\"\"\n",
    "    Given a batch of query vectors\n",
    "    Return:\n",
    "        the cell IDs that should be searched\n",
    "        the center distance between the query vector and those cells\n",
    "        the distance table constructed for each cell, shape=(M, ksub)\n",
    "    input: q_vecs shape -> (batch_size, d)\n",
    "    \"\"\"\n",
    "    \n",
    "    # dist_table = np.zeros()\n",
    "        # Compute the closest centroids\n",
    "    coarse_dist_ls = []\n",
    "    for i, c in enumerate(coarse_cen):\n",
    "        dist = distance_full_vec(q_vec, c)\n",
    "        coarse_dist_ls.append((dist, i)) # (distance, cell_id)\n",
    "        \n",
    "    coarse_dist_ls.sort(key=lambda x: x[0])\n",
    "    cell_ids = [cd[1] for cd in coarse_dist_ls][:nprobe]\n",
    "    cell_dists = [cd[0] for cd in coarse_dist_ls][:nprobe]\n",
    "    dist_tables = []\n",
    "    \n",
    "    closest_cell_list = coarse_dist_ls[:nprobe]\n",
    "    for cell in closest_cell_list:\n",
    "        cell_id = cell[1]\n",
    "        q_res = q_vec - coarse_cen[cell_id]\n",
    "        dist_table = construct_distance_table(q_res, sub_cen)\n",
    "        dist_tables.append(dist_table)\n",
    "    \n",
    "    return cell_ids, cell_dists, dist_tables\n",
    "\n",
    "\n",
    "def get_node0_info_batch_query(q_vecs, nprobe, coarse_cen, sub_cen):\n",
    "    \"\"\"\n",
    "    The wrapper of \"get_node0_info_single_query\", search a batch of vectors\n",
    "    input: q_vecs shape -> (batch_size, d)\n",
    "    Return: \n",
    "        cell_ids_batch: list of list, shape = (batch_size, nprobe)\n",
    "        cell_dists_batch: list of list, shape = (batch_size, nprobe)\n",
    "        dist_tables: nested list, shape = (batch_size, nprobe, (M, ksub))\n",
    "            each element is an np array of shape (M, ksub)\n",
    "    \"\"\"\n",
    "    cell_ids_batch = [] \n",
    "    cell_dists_batch = [] \n",
    "    dist_tables_batch = []\n",
    "    for q_vec in q_vecs:\n",
    "        cell_ids, cell_dists, dist_tables = \\\n",
    "            get_node0_info_single_query(q_vec, nprobe, coarse_cen, sub_cen)\n",
    "        cell_ids_batch.append(cell_ids)\n",
    "        cell_dists_batch.append(cell_dists)\n",
    "        dist_tables_batch.append(dist_tables)\n",
    "        \n",
    "    return cell_ids_batch, cell_dists_batch, dist_tables_batch"
   ]
  },
  {
   "cell_type": "code",
   "execution_count": 64,
   "metadata": {},
   "outputs": [],
   "source": [
    "cell_ids, cell_dists, dist_tables = \\\n",
    "    get_node0_info_single_query(my_single_q, nprobe, coarse_cen, sub_cen)"
   ]
  },
  {
   "cell_type": "code",
   "execution_count": 70,
   "metadata": {},
   "outputs": [
    {
     "name": "stdout",
     "output_type": "stream",
     "text": [
      "Cell ids:\n",
      "[4121, 3860, 4300, 1058, 1787, 4257, 248, 4861, 2883, 2856, 3890, 494, 6522, 1211, 7419, 6119, 132, 6288, 455, 7196, 6448, 3351, 1741, 6323, 7233, 3389, 6776, 7171, 3448, 2742, 2458, 5387]\n",
      "\n",
      "Cell distances:\n",
      "[71414.47, 71604.61, 72159.05, 72904.22, 73240.64, 74403.83, 76753.69, 79598.24, 81912.64, 82047.98, 83197.89, 84027.14, 84515.89, 85231.266, 86173.06, 86581.38, 87116.695, 87167.7, 87184.2, 87758.95, 87929.266, 87974.33, 88263.78, 88283.66, 88321.09, 88603.34, 88862.984, 88873.734, 89499.625, 89657.016, 89919.484, 90270.76]\n",
      "\n",
      "Distance Tables:\n",
      "len: 32\n",
      "shape of each element: (16, 256)\n",
      "\n",
      "Sample Distance Table:\n",
      "[[19250.63867188  6771.10742188  2142.56591797 ... 10111.23339844\n",
      "   5567.69726562  6488.74511719]\n",
      " [14268.57714844  2025.87194824  7582.63085938 ... 15705.42773438\n",
      "  12283.08007812 12067.70117188]\n",
      " [ 3969.4128418   3256.88647461  3567.9699707  ... 14188.60742188\n",
      "   4356.26025391  1646.32348633]\n",
      " ...\n",
      " [ 6585.92236328  6152.34765625  5013.48779297 ... 18925.0625\n",
      "   5484.88476562 25901.171875  ]\n",
      " [ 6474.69042969  4997.51611328  5631.18652344 ... 13556.43554688\n",
      "  19919.09960938 15219.77929688]\n",
      " [ 1073.19775391  2141.36132812  3192.18945312 ... 14815.79785156\n",
      "  11719.88476562 14570.74902344]]\n",
      "\n"
     ]
    }
   ],
   "source": [
    "print(\"Cell ids:\\n{}\\n\".format(cell_ids))\n",
    "print(\"Cell distances:\\n{}\\n\".format(cell_dists))\n",
    "print(\"Distance Tables:\\nlen: {}\\nshape of each element: {}\\n\".format(len(dist_tables), dist_tables[0].shape))\n",
    "print(\"Sample Distance Table:\\n{}\\n\".format(dist_tables[0]))"
   ]
  },
  {
   "cell_type": "code",
   "execution_count": 73,
   "metadata": {},
   "outputs": [],
   "source": [
    "# my_multi_q batch size = 32\n",
    "cell_ids_batch, cell_dists_batch, dist_tables_batch = \\\n",
    "    get_node0_info_batch_query(my_multi_q, nprobe, coarse_cen, sub_cen)"
   ]
  },
  {
   "cell_type": "code",
   "execution_count": 84,
   "metadata": {},
   "outputs": [
    {
     "name": "stdout",
     "output_type": "stream",
     "text": [
      "Shape of cell_ids_batch:\n",
      "first dimension (batch_size): 32\n",
      "second dimension(nprobe): 32\n",
      "\n",
      "Shape of cell_dists_batch:\n",
      "first dimension (batch_size): 32\n",
      "second dimension(nprobe): 32\n",
      "\n",
      "Shape of dist_tables_batch:\n",
      "first dimension (batch_size): 32\n",
      "second dimension (nprobe): 32\n",
      "each element (M, ksub): (16, 256)\n",
      "\n"
     ]
    }
   ],
   "source": [
    "print(\"Shape of cell_ids_batch:\\nfirst dimension (batch_size): {}\\nsecond dimension(nprobe): {}\\n\".format(\n",
    "    len(cell_ids_batch), len(cell_ids_batch[0])))\n",
    "print(\"Shape of cell_dists_batch:\\nfirst dimension (batch_size): {}\\nsecond dimension(nprobe): {}\\n\".format(\n",
    "    len(cell_dists_batch), len(cell_dists_batch[0])))\n",
    "print(\"Shape of dist_tables_batch:\\nfirst dimension (batch_size): {}\\nsecond dimension (nprobe): {}\\neach element (M, ksub): {}\\n\".format(\n",
    "    len(dist_tables_batch), len(dist_tables_batch[0]), dist_tables_batch[0][0].shape))\n",
    "      "
   ]
  },
  {
   "cell_type": "code",
   "execution_count": 89,
   "metadata": {},
   "outputs": [],
   "source": [
    "\"\"\"\n",
    "Save these debugging information as np arrays\n",
    "\"\"\"\n",
    "np_cell_ids_batch = np.array(cell_ids_batch, dtype=np.int32).reshape(batch_size, nprobe)\n",
    "np_cell_dists_batch = np.array(cell_dists_batch, dtype=np.float32).reshape(batch_size, nprobe)\n",
    "m, ksub = dist_tables_batch[0][0].shape\n",
    "assert m == 16 and ksub == 256\n",
    "np_dist_tables_batch = np.array(dist_tables_batch, dtype=np.float32).reshape(batch_size, nprobe, m, ksub)"
   ]
  },
  {
   "cell_type": "code",
   "execution_count": 90,
   "metadata": {},
   "outputs": [],
   "source": [
    "# assert this form conversion is correct\n",
    "for i in range(batch_size):\n",
    "    for j in range(nprobe):\n",
    "        assert np_cell_ids_batch[i][j] == cell_ids_batch[i][j] \n",
    "        assert np_cell_dists_batch[i][j] == cell_dists_batch[i][j] \n",
    "        for k in range(m):\n",
    "            for l in range(ksub):\n",
    "                assert np_dist_tables_batch[i][j][k][l] == dist_tables_batch[i][j][k][l]"
   ]
  },
  {
   "cell_type": "code",
   "execution_count": 91,
   "metadata": {},
   "outputs": [],
   "source": [
    "np.save(\"./node0_info/np_cell_ids_batch.npy\", np_cell_ids_batch)\n",
    "np.save(\"./node0_info/np_cell_dists_batch.npy\", np_cell_dists_batch)\n",
    "np.save(\"./node0_info/np_dist_tables_batch.npy\", np_dist_tables_batch)"
   ]
  },
  {
   "cell_type": "code",
   "execution_count": 92,
   "metadata": {},
   "outputs": [
    {
     "name": "stdout",
     "output_type": "stream",
     "text": [
      "True\n",
      "True\n",
      "True\n"
     ]
    }
   ],
   "source": [
    "load_np_cell_ids_batch = np.load(\"./node0_info/np_cell_ids_batch.npy\")\n",
    "load_np_cell_dists_batch = np.load(\"./node0_info/np_cell_dists_batch.npy\")\n",
    "load_np_dist_tables_batch = np.load(\"./node0_info/np_dist_tables_batch.npy\")\n",
    "\n",
    "print(np.allclose(load_np_cell_ids_batch, np_cell_ids_batch))\n",
    "print(np.allclose(load_np_cell_dists_batch, np_cell_dists_batch))\n",
    "print(np.allclose(load_np_dist_tables_batch, np_dist_tables_batch))"
   ]
  },
  {
   "cell_type": "code",
   "execution_count": null,
   "metadata": {},
   "outputs": [],
   "source": []
  }
 ],
 "metadata": {
  "kernelspec": {
   "display_name": "Python 3",
   "language": "python",
   "name": "python3"
  },
  "language_info": {
   "codemirror_mode": {
    "name": "ipython",
    "version": 3
   },
   "file_extension": ".py",
   "mimetype": "text/x-python",
   "name": "python",
   "nbconvert_exporter": "python",
   "pygments_lexer": "ipython3",
   "version": "3.7.9"
  }
 },
 "nbformat": 4,
 "nbformat_minor": 4
}
