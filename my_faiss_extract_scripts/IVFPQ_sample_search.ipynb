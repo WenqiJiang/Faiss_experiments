{
 "cells": [
  {
   "cell_type": "code",
   "execution_count": 1,
   "metadata": {},
   "outputs": [
    {
     "data": {
      "text/plain": [
       "'\\nThis file replicates the querying process of IVF_PQ index. \\nIt also provides function that can retrieve \\nthe coarse grained cluster centroids, the sub-quantizer centroids，\\nand the PQ codes of each Voronoi cells.\\n'"
      ]
     },
     "execution_count": 1,
     "metadata": {},
     "output_type": "execute_result"
    }
   ],
   "source": [
    "\"\"\"\n",
    "This file replicates the querying process of IVF_PQ index. \n",
    "It also provides function that can retrieve \n",
    "the coarse grained cluster centroids, the sub-quantizer centroids，\n",
    "and the PQ codes of each Voronoi cells.\n",
    "\"\"\""
   ]
  },
  {
   "cell_type": "code",
   "execution_count": 3,
   "metadata": {},
   "outputs": [],
   "source": [
    "import numpy as np\n",
    "import faiss\n",
    "import sys\n",
    "from matplotlib import pyplot"
   ]
  },
  {
   "cell_type": "code",
   "execution_count": 4,
   "metadata": {},
   "outputs": [],
   "source": [
    "# Set parameters\n",
    "nlist = 1024\n",
    "m = 16\n",
    "kbits = 8 # 2^5 = 32, 2^8 = 256\n",
    "d = 128\n",
    "\n",
    "# Create an IVFPQ index\n",
    "coarse_quantizer = faiss.IndexFlatL2(d)\n",
    "index = faiss.IndexIVFPQ(coarse_quantizer, d, nlist, m, kbits)\n",
    "\n",
    "# Fill in training vectors\n",
    "db_size = 100000\n",
    "xb = faiss.rand((db_size, d), 1234)\n",
    "index.train(xb)\n",
    "index.add(xb)"
   ]
  },
  {
   "cell_type": "code",
   "execution_count": 5,
   "metadata": {},
   "outputs": [
    {
     "data": {
      "text/plain": [
       "'\\nhttps://github.com/facebookresearch/faiss/blob/master/faiss/IndexIVFPQ.h\\n\\nIndexIVFPQ (\\n        Index * quantizer, size_t d, size_t nlist,\\n        size_t M, size_t nbits_per_idx, MetricType metric = METRIC_L2);\\n'"
      ]
     },
     "execution_count": 5,
     "metadata": {},
     "output_type": "execute_result"
    }
   ],
   "source": [
    "\"\"\"\n",
    "https://github.com/facebookresearch/faiss/blob/master/faiss/IndexIVFPQ.h\n",
    "\n",
    "IndexIVFPQ (\n",
    "        Index * quantizer, size_t d, size_t nlist,\n",
    "        size_t M, size_t nbits_per_idx, MetricType metric = METRIC_L2);\n",
    "\"\"\""
   ]
  },
  {
   "cell_type": "code",
   "execution_count": 5,
   "metadata": {},
   "outputs": [],
   "source": [
    "def get_sub_quantizer_centroids(index):\n",
    "    \"\"\"\n",
    "    return the sub-quantizer centroids, \n",
    "    shape = (m, 256, d / m)\n",
    "    e.g., d=128, m=16 -> (16, 256, 8)\n",
    "    \"\"\"\n",
    "    pq = index.pq\n",
    "    cen = faiss.vector_to_array(pq.centroids)\n",
    "    cen = cen.reshape(pq.M, pq.ksub, pq.dsub)\n",
    "    \n",
    "    return cen"
   ]
  },
  {
   "cell_type": "code",
   "execution_count": 6,
   "metadata": {},
   "outputs": [],
   "source": [
    "def get_coarse_quantizer_centroids(coarse_quantizer):\n",
    "    \"\"\"\n",
    "    return the coarse-grained quantizer centroids,\n",
    "    shape = (nlist, d),\n",
    "    e.g., nlist=1024, d=128 -> (1024, 128)\n",
    "    \"\"\"\n",
    "    coarse_cen = faiss.vector_to_array(coarse_quantizer.xb)\n",
    "#     print(\"coarse_cen.shape\", coarse_cen.shape) # 1024 * 64 = 65536\n",
    "#     print(\"coarse_quantizer.ntotal\", coarse_quantizer.ntotal)\n",
    "#     print(\"coarse_quantizer.d\", coarse_quantizer.d)\n",
    "\n",
    "    coarse_cen = coarse_cen.reshape(coarse_quantizer.ntotal, coarse_quantizer.d)\n",
    "    return coarse_cen"
   ]
  },
  {
   "cell_type": "code",
   "execution_count": 17,
   "metadata": {},
   "outputs": [
    {
     "name": "stdout",
     "output_type": "stream",
     "text": [
      "==== Sub-quantizer ====\n",
      "[[[ 0.17924231 -0.2749313   0.29144537 ... -0.29495844 -0.18699668\n",
      "   -0.20414156]\n",
      "  [-0.07844483  0.30854055  0.34186772 ... -0.12987636 -0.33454713\n",
      "    0.02798734]\n",
      "  [-0.24824859 -0.20259492 -0.2560874  ... -0.18432462 -0.20422956\n",
      "    0.2681094 ]\n",
      "  ...\n",
      "  [-0.35703084 -0.19456549 -0.21670225 ... -0.20177144 -0.13965316\n",
      "    0.2969404 ]\n",
      "  [ 0.00852142 -0.23655796  0.35761082 ...  0.2068314   0.24348426\n",
      "    0.14710034]\n",
      "  [ 0.34853867  0.24494384 -0.20898949 ... -0.07019396 -0.13175721\n",
      "    0.31903544]]\n",
      "\n",
      " [[-0.2141963   0.27197307  0.01220241 ... -0.24688241 -0.3274523\n",
      "    0.230294  ]\n",
      "  [ 0.25678748 -0.24011876 -0.18555477 ...  0.26959166  0.28371984\n",
      "   -0.21465817]\n",
      "  [ 0.17304586  0.09377105  0.2553503  ... -0.38982227 -0.07005366\n",
      "   -0.26379895]\n",
      "  ...\n",
      "  [-0.25902578 -0.19465874 -0.31856865 ...  0.24783067  0.23450364\n",
      "    0.2573352 ]\n",
      "  [-0.23139088  0.28276306  0.24413203 ... -0.180948   -0.17281164\n",
      "   -0.24686007]\n",
      "  [ 0.25360247  0.16767755 -0.32378525 ...  0.25678098 -0.0997043\n",
      "   -0.29117903]]\n",
      "\n",
      " [[-0.2670531   0.18743291  0.31398693 ...  0.1833108  -0.29323623\n",
      "   -0.24596764]\n",
      "  [ 0.24125718 -0.29114276 -0.30170006 ...  0.018714    0.26578426\n",
      "   -0.21642055]\n",
      "  [ 0.23916182  0.25064096  0.20135987 ...  0.23460059 -0.23510744\n",
      "    0.29282737]\n",
      "  ...\n",
      "  [-0.28430837 -0.24270195  0.23718423 ...  0.19173044 -0.2693743\n",
      "   -0.22460863]\n",
      "  [ 0.17891356  0.2505153   0.30157512 ...  0.24299037  0.32683864\n",
      "    0.13678615]\n",
      "  [-0.26745003 -0.2895911  -0.27297756 ... -0.23699473 -0.0220359\n",
      "   -0.19709764]]\n",
      "\n",
      " ...\n",
      "\n",
      " [[ 0.26331347  0.19742033 -0.14461376 ...  0.24625953 -0.2285545\n",
      "    0.23491551]\n",
      "  [ 0.27918804  0.02032326  0.23071477 ... -0.2008206  -0.26253217\n",
      "   -0.30511153]\n",
      "  [ 0.3394358  -0.16588597  0.13585839 ... -0.23356284  0.19633879\n",
      "    0.23075588]\n",
      "  ...\n",
      "  [ 0.22555085 -0.34604234 -0.02435083 ...  0.01736614  0.35408857\n",
      "    0.04354667]\n",
      "  [-0.31269583 -0.28476086 -0.219752   ...  0.30582333  0.04432363\n",
      "    0.2024916 ]\n",
      "  [ 0.01154568  0.32288814 -0.19603664 ...  0.21893296 -0.21124865\n",
      "   -0.32201603]]\n",
      "\n",
      " [[-0.20472431 -0.3710197   0.17166042 ...  0.00153986 -0.18815783\n",
      "   -0.12628075]\n",
      "  [-0.2744622   0.01316545 -0.20907517 ... -0.1981099  -0.26435563\n",
      "   -0.18311785]\n",
      "  [ 0.29360956  0.1066285   0.03283476 ... -0.18300363  0.25644445\n",
      "   -0.23509648]\n",
      "  ...\n",
      "  [-0.19957703 -0.2058783   0.24590088 ... -0.11237438 -0.30619\n",
      "    0.14262566]\n",
      "  [-0.27347505 -0.10429924  0.04940492 ...  0.00810114 -0.32613856\n",
      "   -0.27525854]\n",
      "  [ 0.01797753  0.2745049   0.03170624 ... -0.20693153 -0.18317325\n",
      "   -0.33240736]]\n",
      "\n",
      " [[ 0.13272358  0.12937312  0.21362735 ... -0.03394717 -0.34818906\n",
      "   -0.27547425]\n",
      "  [-0.33314973  0.2940389   0.11312059 ... -0.11530136 -0.2086047\n",
      "   -0.24084017]\n",
      "  [-0.0593009   0.24619809 -0.06698026 ... -0.03180005 -0.17269924\n",
      "   -0.04632059]\n",
      "  ...\n",
      "  [ 0.21142222  0.10955881 -0.32972577 ...  0.226278   -0.18910967\n",
      "   -0.21073368]\n",
      "  [-0.2490828   0.23984861 -0.21124922 ...  0.3012187  -0.21674262\n",
      "    0.25190032]\n",
      "  [ 0.20742482  0.22537376 -0.32609242 ... -0.02918775  0.25562468\n",
      "   -0.14493468]]]\n",
      "\n",
      "shape:(16, 256, 8)\n",
      "\n",
      "==== Coarse-quantizer ====\n",
      "[[0.69513786 0.49376446 0.24993771 ... 0.30161506 0.42493978 0.50562596]\n",
      " [0.6070725  0.5786927  0.42470968 ... 0.40222412 0.4756189  0.5755957 ]\n",
      " [0.5525428  0.6083228  0.5349039  ... 0.6702317  0.48504394 0.45539764]\n",
      " ...\n",
      " [0.524119   0.3558223  0.54304016 ... 0.39233685 0.44182712 0.39164513]\n",
      " [0.45080295 0.576836   0.33762017 ... 0.68018967 0.613353   0.51994693]\n",
      " [0.5341196  0.51835054 0.41743132 ... 0.64330965 0.6131909  0.6079172 ]]\n",
      "\n",
      "shape:(1024, 128)\n",
      "\n"
     ]
    }
   ],
   "source": [
    "# Get Sub quantizer info\n",
    "sub_cen = get_sub_quantizer_centroids(index)\n",
    "print(\"==== Sub-quantizer ====\\n{}\\n\\nshape:{}\\n\".format(sub_cen, sub_cen.shape))\n",
    "\n",
    "# Get Coarse quantizer info\n",
    "coarse_cen = get_coarse_quantizer_centroids(coarse_quantizer)\n",
    "print(\"==== Coarse-quantizer ====\\n{}\\n\\nshape:{}\\n\".format(coarse_cen, coarse_cen.shape))"
   ]
  },
  {
   "cell_type": "code",
   "execution_count": 15,
   "metadata": {},
   "outputs": [
    {
     "name": "stdout",
     "output_type": "stream",
     "text": [
      "<class 'faiss.swigfaiss_avx2.IndexFlatL2'>\n",
      "['__class__', '__del__', '__delattr__', '__dict__', '__dir__', '__doc__', '__eq__', '__format__', '__ge__', '__getattr__', '__getattribute__', '__gt__', '__hash__', '__init__', '__init_subclass__', '__le__', '__lt__', '__module__', '__ne__', '__new__', '__reduce__', '__reduce_ex__', '__repr__', '__setattr__', '__sizeof__', '__str__', '__subclasshook__', '__swig_destroy__', '__swig_getmethods__', '__swig_setmethods__', '__weakref__', '_s', 'add', 'add_c', 'add_with_ids', 'add_with_ids_c', 'assign', 'assign_c', 'compute_distance_subset', 'compute_residual', 'compute_residual_n', 'd', 'get_distance_computer', 'is_trained', 'metric_arg', 'metric_type', 'ntotal', 'range_search', 'range_search_c', 'reconstruct', 'reconstruct_c', 'reconstruct_n', 'reconstruct_n_c', 'remove_ids', 'remove_ids_c', 'reset', 'sa_code_size', 'sa_decode', 'sa_decode_c', 'sa_encode', 'sa_encode_c', 'search', 'search_and_reconstruct', 'search_and_reconstruct_c', 'search_c', 'this', 'train', 'train_c', 'verbose', 'xb']\n"
     ]
    }
   ],
   "source": [
    "print(type(coarse_quantizer))\n",
    "print(dir(coarse_quantizer))"
   ]
  },
  {
   "cell_type": "code",
   "execution_count": 9,
   "metadata": {},
   "outputs": [],
   "source": [
    "def get_invlist(invlists, l):\n",
    "    \"\"\" \n",
    "    returns the (vector IDs set, PQ cose set) of list ID \"l\"\n",
    "    list_ids: (#vec_in_list, ), e.g., #vec_in_list=10 -> (10, )\n",
    "    list_codes: (#vec_in_list, m), e.g., #vec_in_list=10, m=16 -> (10, 16)\n",
    "    \n",
    "    That the data is *NOT* copied: if the inverted index is deallocated or changes, accessing the array may crash.\n",
    "    To avoid this, just clone the output arrays on output. \n",
    "    \"\"\"\n",
    "    ls = invlists.list_size(l)\n",
    "    list_ids = faiss.rev_swig_ptr(invlists.get_ids(l), ls)\n",
    "    list_codes = faiss.rev_swig_ptr(invlists.get_codes(l), ls * invlists.code_size)\n",
    "    list_codes = list_codes.reshape(-1, invlists.code_size)\n",
    "    return list_ids, list_codes"
   ]
  },
  {
   "cell_type": "code",
   "execution_count": 14,
   "metadata": {},
   "outputs": [
    {
     "name": "stdout",
     "output_type": "stream",
     "text": [
      "==== Vector IDs ====\n",
      "[ 1854  2205  2782  4419  4924  5751  8629  9319  9757  9771  9947 11158\n",
      " 13424 15397 17386 17448 18355 18403 18944 19188 21068 22108 22846 24542\n",
      " 25870 26680 27304 27993 29243 30833 31495 31574 32347 32532 32859 33540\n",
      " 33569 35466 36036 36943 39222 40446 41591 41964 42397 43282 45791 46308\n",
      " 46459 46573 46595 47319 50184 50907 53231 53444 54099 54472 56151 56698\n",
      " 57223 57462 59261 61652 62738 63406 64196 64795 68244 70205 70317 70387\n",
      " 70589 71626 72616 73361 73758 74577 75744 77104 77191 77860 78009 78801\n",
      " 79891 80119 81488 82338 82367 82425 83562 83719 84576 84889 85519 88669\n",
      " 89512 89555 90840 92470 92989 93456 93604 94566 95142 96076 97779 97990\n",
      " 98107 98432 99780]\n",
      "\n",
      "shape: (111,)\n",
      "\n",
      "==== PQ codes ====\n",
      "[[154 114 204 ... 116 237  44]\n",
      " [173 206 105 ... 107 196 197]\n",
      " [ 37 250 175 ... 211 113 193]\n",
      " ...\n",
      " [141 164 145 ...  25 224 196]\n",
      " [177  75 124 ...   6 163  47]\n",
      " [136 135 192 ...  64 187  33]]\n",
      "\n",
      "shape: (111, 16)\n",
      "\n"
     ]
    }
   ],
   "source": [
    "invlists = index.invlists\n",
    "\n",
    "# Example of using function \"get_invlist\"\n",
    "list_id = 124\n",
    "list_ids, list_codes = get_invlist(invlists, list_id)\n",
    "print(\"==== Vector IDs ====\\n{}\\n\\nshape: {}\\n\".format(list_ids, list_ids.shape))\n",
    "print(\"==== PQ codes ====\\n{}\\n\\nshape: {}\\n\".format(list_codes, list_codes.shape))"
   ]
  },
  {
   "cell_type": "code",
   "execution_count": 15,
   "metadata": {},
   "outputs": [
    {
     "data": {
      "image/png": "[encoded data removed]",
      "text/plain": [
       "<Figure size 432x288 with 1 Axes>"
      ]
     },
     "metadata": {
      "needs_background": "light"
     },
     "output_type": "display_data"
    }
   ],
   "source": [
    "# Show size Distribution of all cells (inverted lists)\n",
    "bc = np.bincount([invlists.list_size(l) for l in range(invlists.nlist)])\n",
    "pyplot.step(np.arange(bc.size), bc)\n",
    "pyplot.xlabel('size of invlist')\n",
    "pyplot.ylabel('nb of invlists')\n",
    "pyplot.grid()"
   ]
  },
  {
   "cell_type": "code",
   "execution_count": 81,
   "metadata": {},
   "outputs": [],
   "source": [
    "# Set Paramter Space\n",
    "# parametersets = sys.argv[3:] -> nprobe=1 nprobe=2 nprobe=4 \n",
    "# python bench_polysemous_1bn.py SIFT1000M OPQ8,IVF262144,PQ8 nprobe=1 nprobe=2 nprobe=4 \n",
    "\n",
    "ps = faiss.ParameterSpace()\n",
    "ps.initialize(index)\n",
    "\n",
    "# for param in parametersets:\n",
    "#         print(param, '\\t', end=' ')\n",
    "#         sys.stdout.flush()\n",
    "#         ps.set_index_parameters(index, param)\n",
    "\n",
    "def set_nprobe(index, nprobe):\n",
    "    param = 'nprobe={}'.format(nprobe)\n",
    "    ps.set_index_parameters(index, param)\n",
    "    \n",
    "nprobe = 16\n",
    "set_nprobe(index, nprobe)"
   ]
  },
  {
   "cell_type": "code",
   "execution_count": 122,
   "metadata": {},
   "outputs": [
    {
     "name": "stdout",
     "output_type": "stream",
     "text": [
      "======= Query Vector ========\n",
      "\n",
      "[[0.75718063 0.3194483  0.00431789 ... 0.38341647 0.88752866 0.04687348]\n",
      " [0.8086562  0.35178575 0.2990955  ... 0.18595378 0.8855425  0.23872687]\n",
      " [0.37312934 0.09708098 0.00955685 ... 0.28287494 0.7812909  0.9145271 ]\n",
      " ...\n",
      " [0.4019066  0.23548792 0.2437029  ... 0.9850208  0.59467167 0.9535872 ]\n",
      " [0.55136377 0.71406645 0.83495665 ... 0.6054929  0.2561835  0.37356353]\n",
      " [0.25708562 0.67164904 0.5520859  ... 0.2899048  0.43975452 0.5190886 ]]\n",
      "\n",
      "======= Vector ID ========\n",
      "\n",
      "[[  884 95320 27561 53369 63624  1907 42982 50223 17714 61144]\n",
      " [62513 90384 25844 54475 71406 81490 81139  3828 24723 11213]\n",
      " [99308 26566 81538 19836 80841 95568 22448 13195 30934 12019]\n",
      " [12413 90306 95220 77171 52601  6166 78366 18901 71815 55414]]\n",
      "\n",
      "======= Distance ========\n",
      "\n",
      "[[11.610527 12.416188 12.445366 12.559515 12.660251 12.713934 12.836206\n",
      "  12.840525 12.870458 12.891409]\n",
      " [12.090574 12.944919 13.334971 13.408017 13.494866 13.507541 13.621208\n",
      "  13.837109 13.842428 13.847662]\n",
      " [13.701537 13.820447 13.83121  13.924089 14.012687 14.055279 14.139063\n",
      "  14.168261 14.177904 14.260893]\n",
      " [11.020613 12.104823 12.332581 12.500315 12.547085 12.565901 12.592893\n",
      "  12.781424 13.009505 13.038458]]\n",
      "\n"
     ]
    }
   ],
   "source": [
    "# Generate query vector and perform search\n",
    "\n",
    "batch_size = 4\n",
    "q_vecs = faiss.rand((batch_size, d), 123)\n",
    "\n",
    "topk = 10\n",
    "distance, vector = index.search(q_vecs, k=topk)\n",
    "\n",
    "print(\"======= Query Vector ========\\n\\n{}\\n\".format(q))\n",
    "print(\"======= Vector ID ========\\n\\n{}\\n\".format(vector))\n",
    "print(\"======= Distance ========\\n\\n{}\\n\".format(distance))"
   ]
  },
  {
   "cell_type": "code",
   "execution_count": 126,
   "metadata": {},
   "outputs": [],
   "source": [
    "\"\"\"\n",
    "Self-implemented functions to search a query vectors\n",
    "\"\"\"\n",
    "\n",
    "def distance_full_vec(v1, v2):\n",
    "    \"\"\"Given 2 full vector, return their L2 distance\"\"\"\n",
    "    assert len(v1) == len(v2)\n",
    "    v_diff = v1 - v2\n",
    "    dist = np.sum(v_diff * v_diff)\n",
    "    return dist\n",
    "\n",
    "def construct_distance_table(q_res, sub_cen):\n",
    "    \"\"\"\n",
    "    q_res: a full precision query vector, shape = (d, ), e.g., (128, )\n",
    "    sub_cen: sub-quantizer center, shape = (m, 256, d / m), e.g., d=128, m=16 -> (16, 256, 8)\n",
    "    \"\"\"\n",
    "    M, ksub, dsub = sub_cen.shape\n",
    "    dist_table = np.zeros(shape=(M, ksub))\n",
    "    \n",
    "    for m in range(M):\n",
    "        q_res_part = q_res[m * dsub: (m + 1) * dsub]\n",
    "        for k in range(ksub):\n",
    "            PQ_cent = sub_cen[m][k]\n",
    "            res_dist = PQ_cent - q_res_part\n",
    "            dist = np.sum(res_dist * res_dist)\n",
    "            \n",
    "            dist_table[m, k] = dist\n",
    "            \n",
    "    return dist_table\n",
    "\n",
    "def estimate_distance(pq_code, dist_table):\n",
    "    \"\"\"\n",
    "    given single PQ code and its distance table, compute the estimated distance\n",
    "    \"\"\"\n",
    "    # pq_cen -> (pq.M 8, pq.ksub 256, pq.dsub D/M=64/8=8)\n",
    "    M = dist_table.shape[0]\n",
    "    assert M == len(pq_code)\n",
    "    \n",
    "    dist = 0\n",
    "    for m in range(M):\n",
    "        dist += dist_table[m][pq_code[m]]\n",
    "        \n",
    "    return dist\n",
    "\n",
    "def estimate_distances(vec_ids, pq_codes, dist_table):\n",
    "    \"\"\"\n",
    "    A wrapper of \"estimate_distance\", estimating the distance of a batch\n",
    "      of PQ codes\n",
    "    vec_ids, pq_codes: get_invlist(invlists, closest_cell)\n",
    "    center_dist: the distance from query vector to the coarse-grained\n",
    "      cluster centroid.\n",
    "      \n",
    "    Return: an sorted list of pair (vec_id, distance)\n",
    "       [(vec0, dist0), ... (vecN, distN)]\n",
    "    \"\"\"\n",
    "    assert len(vec_ids) == len(pq_codes)\n",
    "    vec_dist_list = []\n",
    "    \n",
    "    for i in range(len(vec_ids)):\n",
    "        pq_code = pq_codes[i]\n",
    "        vec_id = vec_ids[i]\n",
    "        dist = estimate_distance(pq_code, dist_table)# + center_dist\n",
    "        vec_dist_list.append((vec_id, dist))\n",
    "        \n",
    "    vec_dist_list.sort(key=lambda x:x[1])\n",
    "    \n",
    "    return vec_dist_list\n",
    "\n",
    "def search_single_query(q_vec, nprobe, topk, coarse_cen, sub_cen):\n",
    "    \"\"\"\n",
    "    Search a single query vector, shape = (d, )\n",
    "    \"\"\"\n",
    "    \n",
    "    # Compute the closest centroids\n",
    "    coarse_dist_ls = []\n",
    "    for i, c in enumerate(coarse_cen):\n",
    "        dist = distance_full_vec(q_vec, c)\n",
    "        coarse_dist_ls.append((dist, i)) # (distance, cell_id)\n",
    "        \n",
    "    coarse_dist_ls.sort(key=lambda x: x[0])\n",
    "\n",
    "    # Estimate distance by ADC\n",
    "    closest_cell_list = coarse_dist_ls[:nprobe]\n",
    "    vec_dist_id_list = []\n",
    "    for cell in closest_cell_list:\n",
    "        cell_id = cell[1]\n",
    "        center_dist = cell[0]\n",
    "        list_ids, list_codes = get_invlist(invlists, cell_id)\n",
    "        q_res = q_vec - coarse_cen[cell_id]\n",
    "        # Note! store sub-quantizer once, but the number of compute = nprobe \n",
    "        dist_table = construct_distance_table(q_res, sub_cen)\n",
    "        vec_dist_id_list_single_cell = estimate_distances(list_ids, list_codes, dist_table)\n",
    "        vec_dist_id_list += vec_dist_id_list_single_cell\n",
    "        \n",
    "    vec_dist_id_list.sort(key=lambda x:x[1])\n",
    "    vec_dist_id_list = vec_dist_id_list[:topk]\n",
    "    id_list = [pair[0] for pair in vec_dist_id_list]\n",
    "    dist_list = [pair[1] for pair in vec_dist_id_list]\n",
    "    \n",
    "    return id_list, dist_list\n",
    "\n",
    "def search_batch_query(q_vecs, nprobe, coarse_cen, sub_cen):\n",
    "    \"\"\"\n",
    "    The wrapper of \"search_single_query\", search a batch of vectors\n",
    "    \"\"\"\n",
    "    id_list_batch = []\n",
    "    dist_list_batch = []\n",
    "    for q_vec in q_vecs:\n",
    "        id_list, dist_list = search_single_query(q_vec, nprobe, topk, coarse_cen, sub_cen)\n",
    "        id_list_batch.append(id_list)\n",
    "        dist_list_batch.append(dist_list)\n",
    "        \n",
    "    return id_list_batch, dist_list_batch"
   ]
  },
  {
   "cell_type": "code",
   "execution_count": 127,
   "metadata": {},
   "outputs": [
    {
     "name": "stdout",
     "output_type": "stream",
     "text": [
      "==== Vector IDs ====\n",
      "\n",
      "[884, 95320, 27561, 53369, 63624, 1907, 42982, 50223, 17714, 61144]\n",
      "\n",
      "==== Distances ====\n",
      "\n",
      "[11.610528707504272, 12.416190445423126, 12.445367276668549, 12.559513688087463, 12.660250276327133, 12.713933110237122, 12.836208432912827, 12.840526193380356, 12.870455980300903, 12.891409903764725]\n",
      "\n"
     ]
    }
   ],
   "source": [
    "# Single query search\n",
    "q_vec = q_vecs[0]\n",
    "\n",
    "id_list, dist_list = search_single_query(q_vec, nprobe, topk, coarse_cen, sub_cen)\n",
    "print(\"==== Vector IDs ====\\n\\n{}\\n\".format(id_list))\n",
    "print(\"==== Distances ====\\n\\n{}\\n\".format(dist_list))"
   ]
  },
  {
   "cell_type": "code",
   "execution_count": 128,
   "metadata": {},
   "outputs": [
    {
     "name": "stdout",
     "output_type": "stream",
     "text": [
      "==== Vector IDs ====\n",
      "\n",
      "[[  884 95320 27561 53369 63624  1907 42982 50223 17714 61144]\n",
      " [62513 90384 25844 54475 71406 81490 81139  3828 24723 11213]\n",
      " [99308 26566 81538 19836 80841 95568 22448 13195 30934 12019]\n",
      " [12413 90306 95220 77171 52601  6166 78366 18901 71815 55414]]\n",
      "\n",
      "==== Distances ====\n",
      "\n",
      "[[11.61052871 12.41619045 12.44536728 12.55951369 12.66025028 12.71393311\n",
      "  12.83620843 12.84052619 12.87045598 12.8914099 ]\n",
      " [12.09057298 12.94492209 13.33497161 13.40802002 13.49486633 13.50754137\n",
      "  13.62120849 13.83710781 13.84242672 13.84766155]\n",
      " [13.7015377  13.82044643 13.83121002 13.92408744 14.01268654 14.05528095\n",
      "  14.13906267 14.16826037 14.17790705 14.26089627]\n",
      " [11.02061656 12.10482168 12.33258024 12.50031289 12.54708323 12.56589916\n",
      "  12.59289175 12.78142619 13.00950569 13.03845951]]\n",
      "\n"
     ]
    }
   ],
   "source": [
    "# Batch query search\n",
    "\n",
    "id_list_batch, dist_list_batch = search_batch_query(q_vecs, nprobe, coarse_cen, sub_cen)\n",
    "print(\"==== Vector IDs ====\\n\\n{}\\n\".format(np.array(id_list_batch)), sep=\"]\")\n",
    "print(\"==== Distances ====\\n\\n{}\\n\".format(np.array(dist_list_batch)))"
   ]
  },
  {
   "cell_type": "code",
   "execution_count": 129,
   "metadata": {},
   "outputs": [
    {
     "name": "stdout",
     "output_type": "stream",
     "text": [
      "True\n",
      "True\n"
     ]
    }
   ],
   "source": [
    "print(np.allclose(id_list_batch, vector))\n",
    "print(np.allclose(dist_list_batch, distance))\n",
    "\n",
    "# Faiss Result\n",
    "\n",
    "# ======= Vector ID ========\n",
    "\n",
    "# [[  884 95320 27561 53369 63624  1907 42982 50223 17714 61144]\n",
    "#  [62513 90384 25844 54475 71406 81490 81139  3828 24723 11213]\n",
    "#  [99308 26566 81538 19836 80841 95568 22448 13195 30934 12019]\n",
    "#  [12413 90306 95220 77171 52601  6166 78366 18901 71815 55414]]\n",
    "\n",
    "# ======= Distance ========\n",
    "\n",
    "# [[11.610527 12.416188 12.445366 12.559515 12.660251 12.713934 12.836206\n",
    "#   12.840525 12.870458 12.891409]\n",
    "#  [12.090574 12.944919 13.334971 13.408017 13.494866 13.507541 13.621208\n",
    "#   13.837109 13.842428 13.847662]\n",
    "#  [13.701537 13.820447 13.83121  13.924089 14.012687 14.055279 14.139063\n",
    "#   14.168261 14.177904 14.260893]\n",
    "#  [11.020613 12.104823 12.332581 12.500315 12.547085 12.565901 12.592893\n",
    "#   12.781424 13.009505 13.038458]]"
   ]
  },
  {
   "cell_type": "code",
   "execution_count": 132,
   "metadata": {},
   "outputs": [
    {
     "data": {
      "text/plain": [
       "'\\nWhy NOT adding distance(cell center, query vector) to the estimated distance by LUT?\\nAnswer: When constructing distance table, we already use (q - center) as input. \\nThus, the resulting lookup table already includes information of cell centroids\\n'"
      ]
     },
     "execution_count": 132,
     "metadata": {},
     "output_type": "execute_result"
    }
   ],
   "source": [
    "\"\"\"\n",
    "Why NOT adding distance(cell center, query vector) to the estimated distance by LUT?\n",
    "Answer: When constructing distance table, we already use (q - center) as input. \n",
    "Thus, the resulting lookup table already includes information of cell centroids\n",
    "\"\"\""
   ]
  },
  {
   "cell_type": "code",
   "execution_count": null,
   "metadata": {},
   "outputs": [],
   "source": []
  }
 ],
 "metadata": {
  "kernelspec": {
   "display_name": "Python 3",
   "language": "python",
   "name": "python3"
  },
  "language_info": {
   "codemirror_mode": {
    "name": "ipython",
    "version": 3
   },
   "file_extension": ".py",
   "mimetype": "text/x-python",
   "name": "python",
   "nbconvert_exporter": "python",
   "pygments_lexer": "ipython3",
   "version": "3.7.9"
  }
 },
 "nbformat": 4,
 "nbformat_minor": 4
}
