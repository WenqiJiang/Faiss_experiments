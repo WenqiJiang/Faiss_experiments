{
 "cells": [
  {
   "cell_type": "code",
   "execution_count": 3,
   "metadata": {},
   "outputs": [],
   "source": [
    "from __future__ import print_function\n",
    "import os\n",
    "import sys\n",
    "import time\n",
    "import numpy as np\n",
    "import re\n",
    "import faiss\n",
    "from multiprocessing.dummy import Pool as ThreadPool\n",
    "from matplotlib import pyplot"
   ]
  },
  {
   "cell_type": "code",
   "execution_count": 4,
   "metadata": {},
   "outputs": [],
   "source": [
    "dbname        = 'SIFT100M'\n",
    "cluster_num   = 8192\n",
    "PQ_bytes      = 16\n",
    "index_key     = 'IVF{},PQ{}'.format(cluster_num, PQ_bytes)\n",
    "topK          = 10\n",
    "parametersets = ['nprobe=22']\n",
    "HBM_bank_num = int(10) "
   ]
  },
  {
   "cell_type": "code",
   "execution_count": 5,
   "metadata": {},
   "outputs": [],
   "source": [
    "output_dir = '/home/wejiang/'"
   ]
  },
  {
   "cell_type": "code",
   "execution_count": 6,
   "metadata": {},
   "outputs": [
    {
     "name": "stdout",
     "output_type": "stream",
     "text": [
      "Preparing dataset SIFT100M\n",
      "sizes: B (100000000, 128) Q (10000, 128) T (100000000, 128) gt (10000, 1000)\n"
     ]
    }
   ],
   "source": [
    "def mmap_fvecs(fname):\n",
    "    x = np.memmap(fname, dtype='int32', mode='r')\n",
    "    d = x[0]\n",
    "    return x.view('float32').reshape(-1, d + 1)[:, 1:]\n",
    "\n",
    "\n",
    "def mmap_bvecs(fname):\n",
    "    x = np.memmap(fname, dtype='uint8', mode='r')\n",
    "    d = x[:4].view('int32')[0]\n",
    "    return x.reshape(-1, d + 4)[:, 4:]\n",
    "\n",
    "def ivecs_read(fname):\n",
    "    a = np.fromfile(fname, dtype='int32')\n",
    "    d = a[0]\n",
    "    return a.reshape(-1, d + 1)[:, 1:].copy()\n",
    "\n",
    "\n",
    "assert PQ_bytes == 16 # (only supports PQ 16 in this script)\n",
    "\n",
    "\n",
    "tmpdir = '../trained_CPU_indexes/bench_cpu_{}_{}'.format(dbname, index_key)\n",
    "\n",
    "if not os.path.isdir(tmpdir):\n",
    "    raise(\"%s does not exist\")\n",
    "\n",
    "\n",
    "#################################################################\n",
    "# Prepare dataset\n",
    "#################################################################\n",
    "\n",
    "\n",
    "print(\"Preparing dataset\", dbname)\n",
    "\n",
    "if dbname.startswith('SIFT'):\n",
    "    # SIFT1M to SIFT1000M\n",
    "    dbsize = int(dbname[4:-1])\n",
    "    xb = mmap_bvecs('../bigann/bigann_base.bvecs')\n",
    "    xq = mmap_bvecs('../bigann/bigann_query.bvecs')\n",
    "    xt = mmap_bvecs('../bigann/bigann_learn.bvecs')\n",
    "\n",
    "    # trim xb to correct size\n",
    "    xb = xb[:dbsize * 1000 * 1000]\n",
    "\n",
    "    gt = ivecs_read('../bigann/gnd/idx_%dM.ivecs' % dbsize)\n",
    "\n",
    "elif dbname == 'Deep1B':\n",
    "    xb = mmap_fvecs('../deep1b/base.fvecs')\n",
    "    xq = mmap_fvecs('../deep1b/deep1B_queries.fvecs')\n",
    "    xt = mmap_fvecs('../deep1b/learn.fvecs')\n",
    "    # deep1B's train is is outrageously big\n",
    "    xt = xt[:10 * 1000 * 1000]\n",
    "    gt = ivecs_read('../deep1b/deep1B_groundtruth.ivecs')\n",
    "\n",
    "else:\n",
    "    print('unknown dataset', dbname, file=sys.stderr)\n",
    "    sys.exit(1)\n",
    "\n",
    "\n",
    "print(\"sizes: B %s Q %s T %s gt %s\" % (\n",
    "    xb.shape, xq.shape, xt.shape, gt.shape))\n",
    "\n",
    "nq, d = xq.shape\n",
    "nb, d = xb.shape\n",
    "assert gt.shape[0] == nq\n",
    "\n",
    "\n",
    "#################################################################\n",
    "# Load Index\n",
    "#################################################################\n",
    "\n",
    "def get_populated_index():\n",
    "\n",
    "    filename = \"%s/%s_%s_populated.index\" % (\n",
    "        tmpdir, dbname, index_key)\n",
    "\n",
    "    if not os.path.exists(filename):\n",
    "        raise(\"Index does not exist!\")\n",
    "    else:\n",
    "        print(\"loading\", filename)\n",
    "        index = faiss.read_index(filename)\n",
    "    return index\n"
   ]
  },
  {
   "cell_type": "code",
   "execution_count": 7,
   "metadata": {},
   "outputs": [
    {
     "name": "stdout",
     "output_type": "stream",
     "text": [
      "loading ../trained_CPU_indexes/bench_cpu_SIFT100M_IVF8192,PQ16/SIFT100M_IVF8192,PQ16_populated.index\n",
      "          \t R@10   time    %pass\n",
      "nprobe=22 \t 0.8012    3.870    0.00\n"
     ]
    }
   ],
   "source": [
    "#################################################################\n",
    "# Perform searches\n",
    "#################################################################\n",
    "\n",
    "\n",
    "index = get_populated_index()\n",
    "\n",
    "ps = faiss.ParameterSpace()\n",
    "ps.initialize(index)\n",
    "\n",
    "# make sure queries are in RAM\n",
    "xq = xq.astype('float32').copy()\n",
    "\n",
    "# a static C++ object that collects statistics about searches\n",
    "ivfpq_stats = faiss.cvar.indexIVFPQ_stats\n",
    "ivf_stats = faiss.cvar.indexIVF_stats\n",
    "\n",
    "\n",
    "# we do queries in a single thread\n",
    "faiss.omp_set_num_threads(1)\n",
    "\n",
    "print(' ' * len(parametersets[0]), '\\t', 'R@10   time    %pass')\n",
    "# print(' ' * len(parametersets[0]), '\\t', 'R@1    R@10   R@100     time    %pass')\n",
    "\n",
    "D = None\n",
    "I = None\n",
    "\n",
    "for param in parametersets:\n",
    "    print(param, '\\t', end=' ')\n",
    "    sys.stdout.flush()\n",
    "    ps.set_index_parameters(index, param)\n",
    "    t0 = time.time()\n",
    "    ivfpq_stats.reset()\n",
    "    ivf_stats.reset()\n",
    "    D, I = index.search(xq, topK)\n",
    "    t1 = time.time()\n",
    "    for rank in [topK]:\n",
    "        n_ok = (I[:, :rank] == gt[:, :1]).sum()\n",
    "        print(\"%.4f\" % (n_ok / float(nq)), end=' ')\n",
    "    print(\"%8.3f  \" % ((t1 - t0) * 1000.0 / nq), end=' ')\n",
    "    print(\"%5.2f\" % (ivfpq_stats.n_hamming_pass * 100.0 / ivf_stats.ndis))"
   ]
  },
  {
   "cell_type": "code",
   "execution_count": 9,
   "metadata": {},
   "outputs": [
    {
     "name": "stdout",
     "output_type": "stream",
     "text": [
      "==== Distance ====\n",
      "\n",
      "[[63253.44  63354.066 64101.27  ... 65276.586 65290.062 65327.3  ]\n",
      " [30681.17  32937.59  34951.28  ... 36604.473 36795.836 36928.688]\n",
      " [38950.06  39540.977 39613.273 ... 43175.367 43385.14  43448.914]\n",
      " ...\n",
      " [51819.89  52301.04  52971.11  ... 56143.484 56264.5   57138.074]\n",
      " [47280.098 51085.88  51243.496 ... 54629.902 54771.11  54852.91 ]\n",
      " [44446.645 47224.453 48883.477 ... 50725.137 51028.46  51033.734]]\n",
      "shape: (10000, 10)\n",
      "\n",
      "==== Index ====\n",
      "\n",
      "[[40642738 28539420 40156538 ... 79311056 96419792 63974387]\n",
      " [33176630 23668085 31792502 ...  4369541 42617250 44060661]\n",
      " [17844338 23353312 95657237 ... 23365439 27633542 67818653]\n",
      " ...\n",
      " [ 9286338 46354463 46817758 ... 29105763 55073159 50719824]\n",
      " [74291030  3887666  8126413 ... 67987096 71671668 98913486]\n",
      " [ 7703493 53564217  7681219 ...  7204070 46610790 30587893]]\n",
      "shape: (10000, 10)\n",
      "\n"
     ]
    }
   ],
   "source": [
    "print(\"==== Distance ====\\n\\n{}\\nshape: {}\\n\".format(D, D.shape))\n",
    "print(\"==== Index ====\\n\\n{}\\nshape: {}\\n\".format(I, I.shape))"
   ]
  },
  {
   "cell_type": "code",
   "execution_count": 7,
   "metadata": {},
   "outputs": [
    {
     "name": "stdout",
     "output_type": "stream",
     "text": [
      "Query vector example\n",
      "xq\ttype: <class 'numpy.memmap'>\tshape: (10000, 128)\n",
      "\n",
      "[  3.   9.  17.  78.  83.  15.  10.   8. 101. 109.  21.   8.   3.   2.\n",
      "   9.  64.  39.  31.  18.  80.  55.  10.   2.  12.   7.   7.  26.  58.\n",
      "  32.   6.   4.   3.  14.   2.  13.  28.  37.  19.  47.  59. 109.  22.\n",
      "   2.   6.  18.  15.  20. 109.  30.   8.  11.  44. 109.  54.  19.  32.\n",
      "  17.  21.  15.  22.  12.  28. 101.  35.  66.  11.   9.  30.  68.  35.\n",
      "  30.  75. 106. 103.  26.  50.  76.  20.   8.  13.  51.  41.  63. 109.\n",
      "  40.   2.   3.  15.  36.  49.  21.  13.  12.   9.  36.  37.  52.  37.\n",
      "  24.  34.  19.   3.  13.  23.  21.   8.   3.  20.  68.  56.  79.  60.\n",
      "  99.  36.   7.  28.  78.  41.   7.  21.  74.  26.   3.  15.  34.  15.\n",
      "  12.  27.] (128,)\n",
      "3.0\n"
     ]
    }
   ],
   "source": [
    "print(\"Query vector example\\nxq\\ttype: {}\\tshape: {}\\n\".format(type(xq), xq.shape))\n",
    "print(xq[0], xq[0].shape) \n",
    "# Why like integers? -> The sift1b dataset actually stores vector in uint8 format, to save space\n",
    "#   size = 132000000000 bytes = (128 bytes vector + 4 bytes index) * 1B\n",
    "print(xq[0][0])"
   ]
  },
  {
   "cell_type": "code",
   "execution_count": 8,
   "metadata": {},
   "outputs": [
    {
     "name": "stdout",
     "output_type": "stream",
     "text": [
      "(10000, 10) (10000, 10) (10000, 128)\n"
     ]
    }
   ],
   "source": [
    "# D -> result distances \n",
    "# I -> result vector indexes\n",
    "\n",
    "folder_name = 'FPGA_data_{}_{}_HBM_{}_banks'.format(dbname, index_key, HBM_bank_num)\n",
    "if not os.path.exists(output_dir + 'saved_npy_data/' + folder_name):\n",
    "    os.mkdir(output_dir + 'saved_npy_data/' + folder_name)\n",
    "    \n",
    "D = np.array(D, dtype=np.float32)\n",
    "I = np.array(I, dtype=np.int32)\n",
    "xq = np.array(xq, dtype=np.float32)\n",
    "print(D.shape, I.shape, xq.shape)\n",
    "\n",
    "D.tofile(\"/home/wejiang/saved_npy_data/{}/result_nprobe_{}_distance_float32_{}_{}_raw\".format(\n",
    "    folder_name, param[-2:], D.shape[0], D.shape[1]))\n",
    "I.tofile(\"/home/wejiang/saved_npy_data/{}/result_nprobe_{}_index_int32_{}_{}_raw\".format(\n",
    "    folder_name, param[-2:], I.shape[0], I.shape[1]))\n",
    "# D.tofile(output_dir + \"saved_npy_data/{}/result_distance_float32_{}_{}_raw\".format(folder_name, D.shape[0], D.shape[1]))\n",
    "# I.tofile(output_dir + \"saved_npy_data/{}/result_index_int32_{}_{}_raw\".format(folder_name, I.shape[0], I.shape[1]))\n",
    "xq.tofile(output_dir + \"saved_npy_data/{}/query_vectors_float32_{}_{}_raw\".format(folder_name, xq.shape[0], xq.shape[1]))"
   ]
  },
  {
   "cell_type": "code",
   "execution_count": 13,
   "metadata": {},
   "outputs": [],
   "source": [
    "\"\"\"\n",
    "My Search Functions\n",
    "\"\"\"\n",
    "\n",
    "coarse_quantizer = faiss.downcast_index(index.quantizer)\n",
    "\n",
    "def get_sub_quantizer_centroids(index):\n",
    "    \"\"\"\n",
    "    return the sub-quantizer centroids, \n",
    "    shape = (m, 256, d / m)\n",
    "    e.g., d=128, m=16 -> (16, 256, 8)\n",
    "    \"\"\"\n",
    "    pq = index.pq\n",
    "    cen = faiss.vector_to_array(pq.centroids)\n",
    "    cen = cen.reshape(pq.M, pq.ksub, pq.dsub)\n",
    "    \n",
    "    return cen\n",
    "\n",
    "def get_coarse_quantizer_centroids(coarse_quantizer):\n",
    "    \"\"\"\n",
    "    return the coarse-grained quantizer centroids,\n",
    "    shape = (nlist, d),\n",
    "    e.g., nlist=1024, d=128 -> (1024, 128)\n",
    "    \"\"\"\n",
    "    coarse_cen = faiss.vector_to_array(coarse_quantizer.xb)\n",
    "#     print(\"coarse_cen.shape\", coarse_cen.shape) # 1024 * 64 = 65536\n",
    "#     print(\"coarse_quantizer.ntotal\", coarse_quantizer.ntotal)\n",
    "#     print(\"coarse_quantizer.d\", coarse_quantizer.d)\n",
    "\n",
    "    coarse_cen = coarse_cen.reshape(coarse_quantizer.ntotal, coarse_quantizer.d)\n",
    "    return coarse_cen"
   ]
  },
  {
   "cell_type": "code",
   "execution_count": 14,
   "metadata": {},
   "outputs": [
    {
     "name": "stdout",
     "output_type": "stream",
     "text": [
      "==== Sub-quantizer ====\n",
      "[[[-1.39830580e+01 -9.50784492e+00 -3.96348667e+00 ...  5.86917877e+00\n",
      "    1.04514023e+02  1.04102793e+01]\n",
      "  [-6.90511627e+01 -2.03367958e+01  2.62607670e+00 ...  2.83390975e+00\n",
      "    1.95819175e+00 -8.36786938e+00]\n",
      "  [-4.25987320e+01 -9.93877316e+00  1.04937162e+01 ... -1.98086727e+00\n",
      "   -6.30460835e+00 -2.12152977e+01]\n",
      "  ...\n",
      "  [ 1.92724438e+01  2.98870945e+00 -6.91194391e+00 ...  1.94331989e+01\n",
      "   -9.75370109e-01 -8.94906640e-01]\n",
      "  [ 2.05092468e+01 -1.09992886e+00 -9.42241001e+00 ...  9.38970661e+00\n",
      "   -7.21518993e+00 -4.89512920e+00]\n",
      "  [ 1.51460276e+01  1.51528549e+00 -1.98966455e+00 ... -1.96080756e+00\n",
      "   -1.24802208e+00  4.54244643e-01]]\n",
      "\n",
      " [[-1.38893576e+01 -1.30567741e+01  1.27895641e+01 ... -1.25062037e+00\n",
      "    4.34972916e+01  7.75580406e+00]\n",
      "  [ 1.04570885e+01  3.74349747e+01  1.84257901e+00 ... -4.78825521e+00\n",
      "    1.15119820e+01  5.44087677e+01]\n",
      "  [-1.12493572e+01 -3.95343399e+00  1.05285339e+01 ... -1.15094595e+01\n",
      "   -1.70058894e+00 -4.81053877e+00]\n",
      "  ...\n",
      "  [-1.45363636e+01 -2.57107544e+00 -2.13399506e+00 ...  6.51664886e+01\n",
      "    3.38337021e+01 -2.34070911e+01]\n",
      "  [-4.51597137e+01 -1.86635551e+01 -4.86111498e+00 ... -3.64628577e+00\n",
      "   -4.01028728e+00 -1.62384109e+01]\n",
      "  [-8.78682709e+00 -2.58394480e+00 -2.25861883e+00 ...  6.20042839e+01\n",
      "   -2.68067694e+00 -1.36302748e+01]]\n",
      "\n",
      " [[ 1.50219755e+01 -3.64422150e+01 -1.31149569e+01 ...  4.52723265e+00\n",
      "   -3.92153049e+00 -8.07479694e-02]\n",
      "  [ 2.34784241e+01 -1.09266796e+01 -9.69498158e+00 ... -9.77621365e+00\n",
      "   -9.20478249e+00  2.73949432e+01]\n",
      "  [ 9.73505878e+00 -5.11525955e+01 -7.90814066e+00 ... -9.25494611e-01\n",
      "   -1.83011734e+00  1.24358988e+00]\n",
      "  ...\n",
      "  [-1.19509993e+01 -9.42717648e+00 -9.59700489e+00 ...  3.55483437e+01\n",
      "    8.65351410e+01  3.91368246e+00]\n",
      "  [-6.73561764e+00  2.39687943e+00  2.83320999e+01 ... -1.64496269e+01\n",
      "   -2.04016972e+00 -3.16627145e+00]\n",
      "  [-1.28539104e+01 -6.06115818e+00 -2.63195109e+00 ... -2.12953644e+01\n",
      "   -5.24850726e-01 -3.74402285e+00]]\n",
      "\n",
      " ...\n",
      "\n",
      " [[-2.10359383e+01 -1.25368586e+01 -1.35879505e+00 ... -2.62280416e+00\n",
      "   -3.78243542e+00 -8.22578526e+00]\n",
      "  [-4.55713940e+00 -6.63353109e+00 -2.11198545e+00 ... -1.00038815e+00\n",
      "   -3.12741494e+00  3.04298013e-01]\n",
      "  [-1.67997265e+01 -2.14599323e+01 -1.43413525e+01 ...  6.61805868e+00\n",
      "   -4.48725271e+00 -9.96455288e+00]\n",
      "  ...\n",
      "  [-2.51692653e-01  5.50721817e+01  2.76219540e+01 ... -9.14924240e+00\n",
      "   -3.95090652e+00 -6.13221455e+00]\n",
      "  [-1.53377466e+01 -7.45878410e+00 -5.16760445e+00 ...  3.75509911e+01\n",
      "    8.56919785e+01 -2.26916528e+00]\n",
      "  [ 4.54560127e+01  7.67166367e+01 -1.61707067e+00 ... -9.61367893e+00\n",
      "   -1.15727358e+01 -1.39367676e+01]]\n",
      "\n",
      " [[ 2.12288361e+01 -1.35925102e+01 -4.62672758e+00 ... -2.50050759e+00\n",
      "   -4.41830111e+00  3.15275097e+01]\n",
      "  [ 2.09973545e+01  2.61106091e+01 -4.88965321e+00 ... -5.14063263e+00\n",
      "   -8.27642977e-01  2.10256290e+01]\n",
      "  [ 4.77137566e+01 -1.95083580e+01 -1.30783596e+01 ... -4.46485567e+00\n",
      "   -1.23386741e+00  3.38791046e+01]\n",
      "  ...\n",
      "  [-3.84159431e+01  1.65283337e+01  4.91031408e+00 ... -3.00505185e+00\n",
      "   -1.82707655e+00 -6.87191916e+00]\n",
      "  [-3.10364799e+01 -1.11609125e+01 -4.58943748e+00 ...  2.22289848e+01\n",
      "    5.47353020e+01 -2.33923492e+01]\n",
      "  [-1.90699005e+01 -5.17552567e+00 -3.60161138e+00 ...  4.51280594e+01\n",
      "    1.47654848e+01 -4.10555687e+01]]\n",
      "\n",
      " [[ 2.18617592e+01  2.10718822e+01 -5.96659613e+00 ... -4.82969189e+00\n",
      "   -5.85421467e+00 -9.71733665e+00]\n",
      "  [-6.12362862e+00  1.25108023e+01 -3.80048585e+00 ... -3.41598058e+00\n",
      "   -4.41514874e+00 -8.99769783e+00]\n",
      "  [-1.54819107e+01  2.26406479e+01  3.15563083e+00 ... -2.73708797e+00\n",
      "   -8.00657845e+00 -1.56741676e+01]\n",
      "  ...\n",
      "  [-5.25303984e+00 -4.31598711e+00 -7.85225093e-01 ... -1.88824501e+01\n",
      "    8.34047928e+01  2.92458382e+01]\n",
      "  [-1.46619177e+01 -3.94590340e+01 -9.08632565e+00 ... -4.75075722e+00\n",
      "   -3.08909440e+00 -3.63624597e+00]\n",
      "  [-1.52968855e+01 -1.41353693e+01 -1.18923492e+01 ...  7.68574333e+00\n",
      "    8.98725510e+01  2.26508560e+01]]]\n",
      "\n",
      "shape:(16, 256, 8)\n",
      "\n",
      "==== Coarse-quantizer ====\n",
      "[[ 16.108433   16.3253     21.036144  ...  11.168674   16.012047\n",
      "   24.421686 ]\n",
      " [ 38.401962   35.882355   14.813726  ...   5.039216    4.637255\n",
      "    7.6764708]\n",
      " [ 14.949153   14.779661   21.474577  ...  67.0339    115.76271\n",
      "   52.508476 ]\n",
      " ...\n",
      " [  2.5777779   2.2222223   2.6000001 ...   4.1222224   2.8777778\n",
      "    7.277778 ]\n",
      " [ 22.75       10.321428    9.928572  ...   7.0833335  18.761906\n",
      "   19.285715 ]\n",
      " [ 15.594203   10.521739   18.144928  ...   8.130435    6.4492755\n",
      "    9.463768 ]]\n",
      "\n",
      "shape:(8192, 128)\n",
      "\n"
     ]
    }
   ],
   "source": [
    "# Get Sub quantizer info\n",
    "sub_cen = get_sub_quantizer_centroids(index)\n",
    "print(\"==== Sub-quantizer ====\\n{}\\n\\nshape:{}\\n\".format(sub_cen, sub_cen.shape))\n",
    "\n",
    "# Get Coarse quantizer info\n",
    "coarse_cen = get_coarse_quantizer_centroids(coarse_quantizer)\n",
    "print(\"==== Coarse-quantizer ====\\n{}\\n\\nshape:{}\\n\".format(coarse_cen, coarse_cen.shape))"
   ]
  },
  {
   "cell_type": "code",
   "execution_count": 15,
   "metadata": {},
   "outputs": [
    {
     "name": "stdout",
     "output_type": "stream",
     "text": [
      "(16, 256, 8) (8192, 128)\n"
     ]
    }
   ],
   "source": [
    "# Save the coarse quantizer and the product quantizer\n",
    "\n",
    "PQ_quantizer = np.array(sub_cen, dtype=np.float32)\n",
    "coarse_cen = np.array(coarse_cen, dtype=np.float32)\n",
    "\n",
    "# 16, 256, 8 -> (0,0,0:8) the first row of the subquantizer of the first sub-vector \n",
    "print(PQ_quantizer.shape, coarse_cen.shape)\n",
    "\n",
    "\n",
    "PQ_quantizer.tofile(output_dir + \"saved_npy_data/{}/product_quantizer_float32_{}_{}_{}_raw\".format(\n",
    "    folder_name, PQ_quantizer.shape[0], PQ_quantizer.shape[1], PQ_quantizer.shape[2]))\n",
    "coarse_cen.tofile(output_dir + \"saved_npy_data/{}/vector_quantizer_float32_{}_{}_raw\".format(\n",
    "    folder_name, coarse_cen.shape[0], coarse_cen.shape[1]))"
   ]
  },
  {
   "cell_type": "code",
   "execution_count": 16,
   "metadata": {},
   "outputs": [],
   "source": [
    "invlists = index.invlists\n",
    "\n",
    "def get_invlist(invlists, cluster_id):\n",
    "    \"\"\" \n",
    "    returns the (vector IDs set, PQ cose set) of list ID \"l\"\n",
    "    list_ids: (#vec_in_list, ), e.g., #vec_in_list=10 -> (10, )\n",
    "    list_codes: (#vec_in_list, m), e.g., #vec_in_list=10, m=16 -> (10, 16)\n",
    "    \n",
    "    That the data is *NOT* copied: if the inverted index is deallocated or changes, accessing the array may crash.\n",
    "    To avoid this, just clone the output arrays on output. \n",
    "    \"\"\"\n",
    "    ls = invlists.list_size(cluster_id)\n",
    "    list_vec_ids = faiss.rev_swig_ptr(invlists.get_ids(cluster_id), ls)\n",
    "    list_PQ_codes = faiss.rev_swig_ptr(invlists.get_codes(cluster_id), ls * invlists.code_size)\n",
    "    list_PQ_codes = list_PQ_codes.reshape(-1, invlists.code_size)\n",
    "    \n",
    "    return list_vec_ids, list_PQ_codes"
   ]
  },
  {
   "cell_type": "code",
   "execution_count": 17,
   "metadata": {},
   "outputs": [
    {
     "name": "stdout",
     "output_type": "stream",
     "text": [
      "==== Vector IDs ====\n",
      "[    2640     7939    14687 ... 99975504 99983424 99987628]\n",
      "\n",
      "shape: (12973,)\n",
      "\n",
      "==== PQ codes ====\n",
      "[[230  95 207 ... 206   0 235]\n",
      " [131 231  68 ... 232 172  55]\n",
      " [ 78 161  35 ...  26 166 197]\n",
      " ...\n",
      " [217 235  57 ... 190 134  89]\n",
      " [ 45  82  57 ... 112  86  87]\n",
      " [102 220 191 ... 101   5 143]]\n",
      "\n",
      "shape: (12973, 16)\n",
      "dtype:uint8\n",
      "\n"
     ]
    }
   ],
   "source": [
    "# Example of using function \"get_invlist\"\n",
    "list_id = 1\n",
    "list_vec_ids, list_PQ_codes = get_invlist(invlists, list_id)\n",
    "print(\"==== Vector IDs ====\\n{}\\n\\nshape: {}\\n\".format(list_vec_ids, list_vec_ids.shape))\n",
    "print(\"==== PQ codes ====\\n{}\\n\\nshape: {}\\ndtype:{}\\n\".format(list_PQ_codes, list_PQ_codes.shape, list_PQ_codes.dtype))"
   ]
  },
  {
   "cell_type": "code",
   "execution_count": 21,
   "metadata": {},
   "outputs": [
    {
     "name": "stdout",
     "output_type": "stream",
     "text": [
      "vec_ID: 2640, bytes: b'\\x00\\x00\\nP'\n",
      "list_codes: [230  95 207 201 176 221 163  85 163 234 238   7   9 206   0 235], bytes: b'\\xe6_\\xcf\\xc9\\xb0\\xdd\\xa3U\\xa3\\xea\\xee\\x07\\t\\xce\\x00\\xeb'\n",
      "<class 'bytes'> <class 'bytes'>\n",
      "bytearray(b'\\x00\\x00\\nP\\xe6_\\xcf\\xc9\\xb0\\xdd\\xa3U\\xa3\\xea\\xee\\x07\\t\\xce\\x00\\xeb') 20\n"
     ]
    }
   ],
   "source": [
    "# Play with the python byte objects\n",
    "\n",
    "a = int(list_vec_ids[0])\n",
    "partial_list_ids_bytes = a.to_bytes(length=4, byteorder='big', signed=True)\n",
    "\n",
    "print(\"vec_ID: {}, bytes: {}\".format(a, partial_list_ids_bytes))\n",
    "partial_list_codes_bytes = bytes(list_PQ_codes[0])\n",
    "print(\"list_codes: {}, bytes: {}\".format(list_PQ_codes[0], partial_list_codes_bytes))\n",
    "\n",
    "partial_list_id_and_code = partial_list_ids_bytes + partial_list_codes_bytes# concate by \"+\"\n",
    "print(type(partial_list_ids_bytes), type(partial_list_codes_bytes))\n",
    "ls = bytearray(partial_list_id_and_code)\n",
    "print(ls, len(ls))"
   ]
  },
  {
   "cell_type": "code",
   "execution_count": 22,
   "metadata": {},
   "outputs": [],
   "source": [
    "def get_contents_to_HBM(invlists, cluster_id, HBM_bank_num=int(21)):\n",
    "    \"\"\"\n",
    "    For a single cluster (list), extract the contents in the format that HBM loads\n",
    "      inputs:\n",
    "        invlists: the Faiss index.invlists object\n",
    "        cluster_id: e.g., 0~8191 for nlist=8192\n",
    "        HBM_bank_num: 21 for default, athough there are 32 banks on U280, \n",
    "                    we don't have enough hardware logic to load and compute at that rate\n",
    "      outputs:\n",
    "        HBM_bank_contents( content of 21 banks): a list of 21 element\n",
    "            each element is a byte object with a set of contents\n",
    "            the size of the content is m * 64 bytes\n",
    "            the contents includes (3 * (int32 vector ID) (16 byte PQ code)) + 4byte padding\n",
    "        entries_per_bank: int, all HBM shares the same number of 512-bit items to scan\n",
    "        last_valid_element: int from 0 to 62 (63 numbers in total given 21 HBM channels)\n",
    "            some of the elements in the last row are paddings, which of them is the last non-padding (valid) \n",
    "            \n",
    "      term:\n",
    "        entry: a 512-bit entry containing 3 PQ codes\n",
    "        vector: a 20-byte vector containing 4 byte vector ID + 16 byte PQ code\n",
    "    \"\"\"\n",
    "    \n",
    "    list_vec_ids, list_PQ_codes = get_invlist(invlists, cluster_id)\n",
    "#     print(\"list_vec_ids\", list_vec_ids.shape)\n",
    "#     print(\"list_PQ_codes\", list_PQ_codes.shape)\n",
    "    num_vec = list_vec_ids.shape[0]\n",
    "    assert list_vec_ids.shape[0] == list_PQ_codes.shape[0]\n",
    "    \n",
    "#     print(\"num_vec\", num_vec)\n",
    "    \n",
    "    if num_vec % (HBM_bank_num * 3) == 0:\n",
    "        # no padding\n",
    "        entries_per_bank = num_vec / (HBM_bank_num * 3)\n",
    "        last_valid_element = HBM_bank_num * 3 - 1\n",
    "        num_vec_per_HBM = [int(num_vec / HBM_bank_num)] * HBM_bank_num\n",
    "        num_pad_per_HBM = [0] * HBM_bank_num\n",
    "    else:\n",
    "        # with padding\n",
    "        entries_per_bank = int(num_vec / (HBM_bank_num * 3)) + 1\n",
    "        last_valid_element = num_vec % (HBM_bank_num * 3) - 1\n",
    "        num_vec_per_HBM = []\n",
    "        num_pad_per_HBM = []\n",
    "        \n",
    "        counted_banks = 0\n",
    "        # bank with full valid elements\n",
    "        for i in range(int((last_valid_element + 1) / 3)):\n",
    "            num_vec_per_HBM += [entries_per_bank * 3]\n",
    "            num_pad_per_HBM += [0]\n",
    "        counted_banks += int((last_valid_element + 1) / 3)\n",
    "        \n",
    "        # (optional) bank with some valid elements and some padding in the last entry\n",
    "        if (last_valid_element + 1) % 3 != 0:\n",
    "            num_vec_per_HBM += [(entries_per_bank - 1) * 3 + (last_valid_element + 1) % 3]\n",
    "            num_pad_per_HBM += [3 - (last_valid_element + 1) % 3]\n",
    "            counted_banks += 1\n",
    "        \n",
    "        # (optional) bank with full padding in the last entry\n",
    "        for i in range(HBM_bank_num - counted_banks):\n",
    "            num_vec_per_HBM += [int((entries_per_bank - 1) * 3)]\n",
    "            num_pad_per_HBM += [3]\n",
    "            \n",
    "    assert np.sum(np.array(num_vec_per_HBM)) == num_vec\n",
    "    assert entries_per_bank * HBM_bank_num * 3 - np.sum(np.array(num_pad_per_HBM)) == num_vec\n",
    "    \n",
    "    HBM_bank_contents = []\n",
    "    \n",
    "    start = int(0)\n",
    "    \n",
    "    zero = int(0)\n",
    "    empty_byte = zero.to_bytes(1, \"little\", signed=True)\n",
    "    \n",
    "#     print(\"num_vec_per_HBM:\", num_vec_per_HBM)\n",
    "#     print(\"num_pad_per_HBM:\", num_pad_per_HBM)\n",
    "    \n",
    "    for i in range(HBM_bank_num):\n",
    "        \n",
    "        # add valid vectors first\n",
    "        end = start + num_vec_per_HBM[i]\n",
    "        vec_per_bank_count = 0\n",
    "        byte_obj = bytes()\n",
    "        \n",
    "#         print(start, end)\n",
    "        \n",
    "        for vec_id_per_bank in range(start, end):\n",
    "            \n",
    "            # Vec ID = signed int\n",
    "            vec_id = int(list_vec_ids[vec_id_per_bank])\n",
    "            # Xilinx's ap int use little endian\n",
    "            # Linux on X86 use little endian\n",
    "            # https://serverfault.com/questions/163487/how-to-tell-if-a-linux-system-is-big-endian-or-little-endian\n",
    "            byte_obj += vec_id.to_bytes(4, \"little\", signed=True)\n",
    "            \n",
    "            # PQ code = unsigned char\n",
    "            PQ_codes = list_PQ_codes[vec_id_per_bank]\n",
    "            for code in PQ_codes:\n",
    "                code = int(code)\n",
    "                # Xilinx's ap int use little endian\n",
    "                byte_obj += code.to_bytes(1, \"little\", signed=False)\n",
    "            \n",
    "            vec_per_bank_count += 1\n",
    "            if vec_per_bank_count % 3 == 0:\n",
    "                byte_obj += empty_byte * 4\n",
    "        \n",
    "        start = end\n",
    "        \n",
    "        # then add paddings\n",
    "        if num_pad_per_HBM[i] > 0:\n",
    "            for pad_id in range(num_pad_per_HBM[i]):\n",
    "                byte_obj += empty_byte * 20\n",
    "            byte_obj += empty_byte * 4\n",
    "        \n",
    "        HBM_bank_contents += [byte_obj]\n",
    "       \n",
    "    for i in range(HBM_bank_num):\n",
    "        assert len(HBM_bank_contents[i]) == len(HBM_bank_contents[0])\n",
    "        assert len(HBM_bank_contents[i]) == 64 * entries_per_bank\n",
    "    \n",
    "    return HBM_bank_contents, entries_per_bank, last_valid_element"
   ]
  },
  {
   "cell_type": "code",
   "execution_count": 23,
   "metadata": {},
   "outputs": [],
   "source": [
    "# Get HBM contents from all clusters\n",
    "\n",
    "list_HBM_bank_contents = [] # array of cluster_num * HBM_bank_num elements\n",
    "list_entries_per_bank = []\n",
    "list_last_valid_element = []\n",
    "\n",
    "\n",
    "for c in range(cluster_num):\n",
    "    HBM_bank_contents, entries_per_bank, last_valid_element = get_contents_to_HBM(invlists, c, HBM_bank_num)\n",
    "    list_HBM_bank_contents += HBM_bank_contents\n",
    "    list_entries_per_bank += [entries_per_bank]\n",
    "    list_last_valid_element += [last_valid_element]"
   ]
  },
  {
   "cell_type": "code",
   "execution_count": 24,
   "metadata": {},
   "outputs": [
    {
     "name": "stdout",
     "output_type": "stream",
     "text": [
      "81920\n",
      "list_entries_per_bank:\n",
      " [316, 433, 296, 507, 513, 215, 442, 360, 527, 390, 449.0, 89, 322, 381, 425.0, 328, 451, 345, 425, 327, 337.0, 397, 188, 282, 339, 660, 501, 285, 379, 311, 395, 329, 357, 302, 239, 381, 277, 301, 514, 344, 278.0, 350, 1396, 380, 514, 357, 114, 357, 396, 354, 430, 351, 378, 328, 468, 722, 742, 402, 473, 249, 393, 364, 362, 435.0, 284, 248, 457, 747, 393, 368, 378, 292, 620, 385, 339, 318, 343, 371, 472, 393, 340, 427, 584, 357, 284, 286, 321, 352, 408, 417, 1071, 275, 1023, 417, 687, 499, 369, 310, 243, 462, 451, 418, 412, 366, 410, 819, 381, 480, 316, 344, 432, 440, 275, 410, 299, 186, 335, 1060, 599, 334, 311, 431, 270, 759, 272, 366, 488, 426.0, 406, 315, 374, 368, 340, 362, 305, 344, 663, 380, 413.0, 556, 210, 321, 391, 362, 354, 580, 615, 357, 283, 308, 261, 394, 380, 285, 397, 341, 269, 379, 416, 334, 333, 379, 443, 60, 478, 237, 298, 418, 332, 554, 368, 514, 396, 462, 312, 367, 285, 310, 345, 324, 342, 422, 377, 417.0, 384, 376, 243, 292, 445, 208, 491, 400, 332, 333, 583, 347, 612, 308, 395, 332, 549, 412, 511, 1272, 366, 429, 349, 373, 180, 496, 408, 366, 207, 394, 398, 583, 393, 344, 369, 256, 413, 536, 413.0, 349, 577, 752, 1619, 327, 359, 356, 328, 293, 385, 328, 420, 632, 524, 434, 431, 410, 1097, 596, 323, 388, 318, 253, 294, 334, 358, 508, 428, 445, 290, 462, 406, 343, 338, 473, 315, 313, 327, 457, 304, 423, 497, 386, 520, 466, 627, 382, 282, 375, 416, 463, 467, 300, 395, 287, 299, 336, 324, 362, 226, 304, 499, 342, 317, 519, 355, 399, 368, 312, 360.0, 521, 339, 363, 485, 394, 489, 518, 595, 300.0, 369, 502, 248, 345, 337, 286, 420, 674, 265, 511, 467, 380, 370, 490, 348, 544, 313, 213, 566, 441, 356, 811.0, 224, 380, 345, 352, 584, 640, 291, 233, 363.0, 476, 291, 233, 553, 332, 256, 713, 387, 599, 394, 373, 311, 323, 411, 397, 1255, 508, 400, 423, 328, 513, 328, 352, 377, 390, 339, 333, 610, 675, 357, 387, 467, 156.0, 824, 431, 393, 339, 464, 493, 309, 234, 470, 417, 134, 373, 522, 606, 320, 309, 426, 297, 376, 290, 341, 303, 326, 362, 377, 571, 424, 328.0, 676, 477, 294, 631.0, 530, 503, 309, 282, 357, 368, 500, 417, 304, 391, 309, 548, 479, 453, 305, 413, 285, 299.0, 498, 334, 421, 351, 555, 281, 522, 595, 402, 459, 443, 310, 400, 519, 657, 373, 502, 536, 400, 418, 354, 385, 287, 385, 388, 337, 451, 345, 479, 252, 1157, 418, 344, 394, 471, 398, 279, 382, 323, 322, 248, 311, 413, 262, 492, 381, 448, 426, 523, 430, 332.0, 197, 397, 425, 331, 432.0, 293, 409, 477, 488, 343, 517, 432, 372, 219, 345, 435, 412, 323, 324, 579, 409, 314, 279, 489, 258, 892, 275, 288, 272, 396, 297, 312, 398, 339, 722, 300, 297, 359, 380, 468, 342, 313, 48, 284, 141, 457, 305, 372, 349, 299, 387, 309, 368, 612, 523, 315, 288, 352, 456, 459, 401, 514, 249, 364, 410, 305, 434, 581, 349, 377, 472, 309, 420, 388, 335, 409, 288, 279, 564, 915, 356, 311, 370, 425.0, 360, 659, 361, 299, 439, 470, 307, 369, 646.0, 486, 369, 390, 294, 394, 406, 392, 364, 181, 325, 390, 472, 352, 403, 424, 395, 423, 750, 380, 358, 339, 339, 496, 346, 325, 609, 296, 326, 405, 338, 1117, 389, 478, 551, 366, 582, 360, 411, 742, 262, 354, 367, 517, 366, 290, 482, 643, 250, 391, 389, 429, 424, 882, 381, 304, 224, 360, 386, 707, 387, 325, 331, 781, 400, 399, 385, 354, 324, 313, 382, 411, 341, 216, 315, 365, 322, 407, 518, 949, 324, 367, 405, 645, 357, 340, 315.0, 283, 1014, 621, 328, 375, 411, 567, 472, 344, 304, 332, 500, 377, 490, 423, 648, 336.0, 414, 342, 361, 465, 546, 387, 238, 613, 448, 276, 226, 550, 447.0, 648, 441, 277, 773, 320, 390, 358, 419, 413, 401, 294, 323, 270, 304, 379, 560, 340, 457, 416, 380, 430, 369, 428, 357, 478, 328, 624, 434, 266, 298, 400, 474, 428, 381, 361, 515, 525, 430, 292, 317, 299, 407, 272, 366, 495, 275, 463, 306, 439, 688, 414, 593, 471, 331, 296.0, 404, 264, 481, 369, 418, 375, 288, 340, 336, 383, 401, 361, 553, 392, 335, 852, 260, 428, 444, 462, 422, 333, 316, 322, 393, 266, 391, 402, 263, 462, 376.0, 166, 337, 351, 412, 286, 401, 266, 493, 405, 350, 351, 359, 395, 402, 753, 361, 368, 650, 254, 410, 372, 424, 487, 466, 445, 683, 412, 491, 275, 404, 545, 415, 76, 178, 353, 312, 298, 515, 531.0, 353, 402, 297, 411.0, 497, 486, 310, 322, 406.0, 378, 329, 313, 268, 332, 367, 552.0, 420, 254, 414, 274, 353, 312, 345, 574, 373.0, 412, 382, 441, 446, 324, 316, 413, 307, 427, 245, 306, 466, 264.0, 281, 1172, 957, 468, 233, 441, 334, 268, 390, 381, 352, 537, 418, 390, 496, 421, 492, 407, 471, 333, 324, 362, 547, 494, 310, 448, 280, 326, 406, 440, 429.0, 504, 301, 438, 394, 322, 424, 219, 375, 498, 285, 386, 425, 270, 370, 315, 772, 439, 299, 430, 503, 501, 293, 450, 461, 312, 321, 415, 415, 355.0, 342, 331, 248, 263.0, 340, 387, 442, 236, 744, 309, 690, 308, 384, 475, 345, 384, 385, 305, 426, 338, 391, 398, 385, 590, 770, 479, 736, 436, 389, 362, 279, 250, 312, 251, 303, 340, 606, 446, 546, 335, 317, 429, 403, 269, 496, 441, 343, 396, 433, 278, 335, 517, 450, 238, 525, 697, 266, 749, 1033, 380, 307, 278, 448, 479, 325, 433, 435, 315, 548, 535.0, 352, 577, 288, 656, 510, 378, 364, 293, 304, 385, 424, 306, 348, 170, 390.0, 597, 414, 490, 238, 427, 492, 805, 408, 463, 262, 421, 416, 330, 436, 382, 469, 347, 585, 627, 451, 261, 508, 395, 358, 362, 366, 303, 537, 446, 352, 366, 344, 563, 371, 228, 338, 571, 1032, 292, 304, 329, 294, 742, 464.0, 575, 360, 346, 309, 325, 534, 329, 628, 442, 480, 517, 291, 717, 432, 282, 280, 341, 313, 290, 253, 305, 290, 536, 310, 424, 359, 340, 566, 349, 569, 332, 121, 719, 1175, 432, 411, 297, 535, 285, 391, 525, 387, 498, 490, 420, 361, 476, 385, 323, 318, 417, 386, 445, 453, 636, 569, 324, 413, 352, 255, 289, 326, 549, 329, 419, 315, 240.0, 513, 361, 329, 377, 296, 382, 284, 530, 710, 686, 346, 318, 555, 300, 405, 317, 384, 241, 334, 307, 540, 370, 360, 305, 342, 173, 692, 318, 290, 483, 357, 305, 270, 721, 390, 334, 414, 341, 405, 344, 449, 357, 375, 744, 242, 371, 263, 425, 405, 359, 322, 282, 312, 485, 266, 287, 284, 347, 373, 426, 559, 418.0, 452, 424, 396, 364, 484, 356, 545, 310, 561, 637, 311, 618, 403, 418, 709, 375.0, 351, 456, 370, 1295, 337.0, 253.0, 271, 375, 289, 589, 410, 367, 362, 329, 362, 633, 338, 354, 459, 435, 439, 623, 256, 334, 516, 334, 375, 393, 359, 354, 201, 315, 360, 456, 385, 431, 334, 568, 371, 381, 334, 254, 447, 294, 344, 338, 377, 409, 373, 350, 400, 621, 420, 340, 415, 372, 1303, 324, 295, 322, 348, 400, 724, 339, 669, 373, 404, 366, 409, 569, 327, 287, 566, 342.0, 352, 554, 278, 368, 434, 505, 389, 444, 414, 351, 772, 277, 400, 608, 228, 323, 370, 391, 378, 435, 532, 350, 346, 382, 494, 272, 372, 361, 266, 267, 532, 601, 460, 454, 621, 374, 375, 626, 332, 498, 874, 177, 272, 207, 410, 517, 365, 407, 361, 322, 508, 295, 510, 341, 213, 328, 441, 57.0, 405, 1048, 337, 418, 757, 389, 400, 362, 463, 632, 444, 360, 453, 479, 427, 307, 336, 384, 60, 319, 452, 370, 344, 345, 204, 420, 318, 366, 400, 407, 460, 456, 86, 334, 332, 227, 442, 201, 331, 277, 258, 403, 259, 531, 322, 641.0, 285, 456, 346, 326, 428, 541, 426, 378, 170, 459, 386, 349, 354, 318, 330, 388, 513, 452, 449, 337, 349, 302, 357, 441, 299, 421, 397, 306, 294, 234, 350, 459.0, 327, 475, 476, 315, 451, 356, 313, 328, 408, 453, 842.0, 392, 372, 138, 380, 168, 298, 324, 473, 456, 309, 335, 605, 463, 285, 257, 319, 323, 211, 350, 397, 451, 548.0, 459, 394.0, 334.0, 621, 359, 419, 321, 401, 413, 493, 649, 532, 461, 353, 231, 366, 369, 305, 305, 720, 318.0, 560, 256, 435, 417, 404, 351, 430, 386, 386, 344, 317, 410, 626, 96, 301, 295, 335, 409, 285, 279, 411, 402, 253, 248, 930, 331, 644, 291, 341, 238, 480, 364, 368, 366, 518, 422, 493, 390, 440, 439, 360, 787, 376, 411, 225, 557, 547, 424, 281, 276, 307, 385, 558, 363, 297, 353, 391, 310, 516, 404, 342, 438, 362, 349, 364, 71, 292, 391, 325, 359, 397, 550, 238, 445, 448, 201, 330, 348, 307, 377, 608, 329, 214, 304, 375, 420, 318, 346, 310, 516, 328, 581, 220, 391, 420, 397, 367, 561, 405, 357, 302, 362, 744, 332, 319, 260, 653, 442, 435, 471, 330, 391, 234, 673, 459, 464, 280, 388, 406, 217, 345, 372, 283, 488, 348, 379, 444, 417, 495, 392, 450, 427, 313, 394, 302, 380.0, 700, 334, 651, 315, 130, 395.0, 548, 290, 419, 451, 352, 554.0, 301, 309, 248, 750, 356, 313, 326, 293, 332, 288, 314, 374, 255, 298, 608, 470, 343, 393, 64, 687, 265, 297, 307, 282, 370, 418, 281, 571, 417, 393, 508, 436, 450, 433, 396, 362, 466, 389, 392, 441, 373, 523, 583, 390, 532, 377, 635, 302, 270, 452, 463, 366, 197, 473, 421, 475, 324, 413, 537, 316, 390, 265, 545, 358, 440, 214, 256, 282, 330, 563, 453, 391, 474, 504, 360, 866, 360, 264, 413, 356, 411, 559, 418, 394, 276, 508, 382, 465, 331, 582, 541, 326, 313, 314, 285, 586, 307, 349, 553, 279, 354, 214, 405, 265, 363, 261, 321, 96, 185, 318, 411.0, 308, 289, 407, 351, 300, 473, 349, 656, 629, 332, 369, 285, 430, 236, 255, 340, 396, 513, 291, 357, 618, 166, 318, 356, 272, 371, 207, 440, 663, 274, 334, 410, 380, 310, 444, 440, 484, 301, 288, 325, 464, 175, 449, 555, 360, 307, 409.0, 195, 375, 297, 338, 55, 450, 320, 541, 293, 511, 330, 240, 395, 378, 336, 357, 341, 403, 337, 445, 435, 323, 502, 307, 348, 692, 326, 462, 363, 544, 283, 467, 504, 430, 353, 463, 380, 558, 591, 508, 472, 176, 214, 418, 442, 285.0, 485, 309, 409, 352, 585, 446, 339, 273, 399, 151, 496, 192, 336, 529, 393, 368.0, 492, 437, 414, 383, 425, 407, 774, 412.0, 302, 308, 205.0, 476, 251.0, 395, 363, 475, 340, 466, 429, 384, 400, 609, 344, 530, 343, 354, 398, 297, 448, 578, 355, 410, 277, 384, 269, 364, 347, 695, 436, 413, 338, 302, 387, 377, 350, 534, 326, 353, 241, 391, 436, 397, 311, 313, 308, 351, 372, 342, 308, 492, 301, 497, 255, 339, 514, 414, 299, 353, 407, 351, 619, 362, 326, 280, 336, 461, 303, 339, 331, 279, 340, 490, 251, 378, 199, 351, 349, 514, 368, 389, 472, 355, 768, 306, 342, 211, 431, 548, 136, 615, 397, 636, 293, 374, 317, 417, 413, 401, 296, 221, 253, 399, 263, 515, 395.0, 411, 260, 448, 256, 693, 341, 278, 229, 320, 487, 499, 645, 595, 451, 380, 306, 670, 771, 335, 435, 324, 382, 915, 391, 482, 319, 701, 366, 58, 215, 329, 717, 236, 323, 338, 416, 506, 323, 340, 491, 720, 340, 382, 421, 558, 600, 437, 817, 547, 415, 418, 388, 356, 1107, 531, 368, 383, 794, 500, 369, 581, 567, 323, 401.0, 409, 217, 702, 445, 508, 623, 371, 385, 335, 325, 571, 338, 300, 309, 432, 357, 345, 329, 296, 387, 314, 313, 462, 542, 431, 410, 321, 259, 272, 414, 567, 858, 358, 325, 499, 406, 445, 357, 465, 379, 289, 396, 369, 220, 418, 316, 321, 528, 481, 265, 339, 404.0, 409, 304, 378, 597, 408, 381, 504, 176, 341, 394, 281, 378, 446, 317, 385, 256, 432, 374, 502, 315, 393, 393, 319, 438, 295, 440, 341.0, 630, 527, 564, 441, 402, 305.0, 452, 317, 342, 276, 364, 281, 422, 333, 343, 366, 312, 327, 377, 326, 442, 339, 353, 272, 378, 446, 427, 372, 294, 317, 586, 544, 299, 317, 307, 364, 774.0, 260, 388, 507, 408, 315, 406, 378, 439, 510, 503, 510, 368, 415, 393, 755, 396, 252, 431, 382, 395, 248, 228, 752, 449, 504, 277, 436, 320, 420, 297, 405, 444, 468, 300, 330, 335, 337, 356, 348, 297, 284, 325, 688, 657, 398, 355, 490, 608, 361, 572, 310, 457, 589, 225.0, 371, 465, 521, 333, 338, 357, 363, 366, 544, 321, 438, 477, 567, 404, 357, 455, 355, 337, 363, 507, 345, 458, 367, 613, 478, 458, 371, 311, 311, 372, 429, 636, 242, 343, 365, 355, 369, 287, 348, 355, 350, 296, 638, 386, 315, 368, 523, 375, 364, 344, 326, 467, 470, 512, 409, 521, 535, 385, 359, 1090, 360, 364, 414, 338, 376, 536, 575, 472, 380, 257, 323, 417, 341, 312, 724, 413, 561, 369, 421, 356, 345, 647, 364.0, 1366.0, 572, 278, 392, 401, 465, 484, 548, 311, 413, 239, 395, 504, 18, 285, 477, 339, 353, 301, 369, 431, 226, 344, 380, 382.0, 386, 319.0, 576, 216, 479, 375, 432, 323, 453, 439, 361, 408, 432, 566, 301, 260, 491, 319, 402, 331, 306, 206, 307, 359, 367, 304, 352, 482, 372, 339, 441, 374, 415, 400, 302, 499, 434, 321, 364, 503, 390, 415, 417, 425, 311, 425, 328, 918, 373, 406, 332, 419, 489, 442, 372, 796, 247, 267, 324, 267, 310, 772, 291, 408.0, 269, 296.0, 629, 444, 291, 631, 492, 299, 236, 356, 463, 341, 575, 206, 743, 353, 300, 513, 519, 617, 455, 375, 325, 310, 569, 864, 369, 317, 351, 99, 255, 338, 450, 351, 353, 628, 376, 193, 256, 346, 334, 312, 423, 280, 1866, 340, 295, 308, 339, 492, 291, 441.0, 469, 325, 358, 368, 506, 401, 168, 267.0, 403, 412, 481, 431.0, 369, 268, 407, 430, 333, 606, 420, 364, 342, 271, 407.0, 444, 582, 308, 422.0, 181, 784, 302, 267, 410, 558, 309, 449.0, 213, 299, 506, 479.0, 296, 356, 626, 385, 482, 480, 311, 204, 398, 636, 317, 307.0, 451, 841, 309, 366, 279, 387, 333, 417, 292, 397, 421, 332, 268, 387, 524, 406, 774, 427, 446, 545, 423, 404, 1152, 320, 409, 270.0, 409, 360, 324, 371, 401, 371, 408, 454, 248, 430, 284, 500, 352, 459, 280, 205, 386, 279, 420, 463, 386, 485, 331, 897, 360, 441.0, 311, 459, 410, 434.0, 542, 255, 320, 518, 444, 388, 271, 307, 597, 238, 529, 224, 391, 372, 78, 482, 576, 357, 254, 590, 693, 357, 599, 462, 750, 525, 420, 311, 411, 331, 319, 354, 278, 380, 669, 294, 479, 444, 345, 447, 398, 606, 478, 370, 406, 423, 412, 297.0, 1067, 337, 385, 368, 404, 1017, 417.0, 453, 481, 391, 507, 305, 332, 450, 299, 485, 555, 310, 446, 342, 454, 806, 175, 398, 366, 295, 432, 298, 531, 204, 411, 478, 632, 405, 584, 315, 220, 598, 574, 491, 292, 653, 314, 416, 647, 274, 381, 296, 275, 337, 297, 322, 301, 649, 511, 310, 373, 461.0, 471, 290, 297, 332.0, 355, 563, 368, 299, 464, 320, 386, 278, 550, 429, 276, 326, 292, 372, 336, 78, 1280, 360, 453, 467, 394, 587, 334, 350, 442, 226, 407, 321, 314, 381, 435, 380, 335.0, 395, 378, 578, 268, 373, 385, 631, 222, 341.0, 283, 360, 362, 364, 632, 334, 409, 341, 799, 370, 354, 336, 356, 517, 309, 541, 443, 279, 247, 594, 555, 319, 488, 260, 265, 819.0, 393, 283, 389, 503, 274, 323, 458, 269, 441, 329, 478, 167, 224, 349, 820, 378, 325, 448.0, 323.0, 355, 499, 396, 272, 397, 283, 196.0, 447, 441, 265, 434, 340, 589, 374, 337, 378, 408, 388, 305, 379, 777, 350, 741, 293, 383, 340, 359, 354, 385, 311, 433, 325, 821, 291, 539, 367, 307, 292, 309, 471.0, 534, 544, 400, 396, 427, 340, 398, 415, 448, 355, 489, 291, 326, 453, 293, 360, 331, 496, 318, 340.0, 273, 643, 354, 413, 326, 443, 346, 268, 319, 443, 572, 1120, 378, 354, 466, 249, 336, 376, 517, 636, 301, 278, 428.0, 410, 1159, 434, 343, 548, 414, 498, 360, 576, 349, 419, 366, 410, 338, 391, 350, 370, 457, 400, 336, 270, 396, 323, 402, 505, 387, 360, 519, 317, 518, 478, 347, 313, 524, 349, 118, 280, 170, 367, 305, 298, 556, 517.0, 351, 388, 508, 309, 414, 321, 465, 350, 328, 267, 321, 365, 324, 319, 274, 518, 272, 678, 393, 440, 390, 569, 302, 270, 391, 493, 401, 746, 382, 306, 271, 462, 94, 395, 320.0, 286, 388, 501, 345, 356, 276, 259, 280, 375.0, 569, 327, 379, 525, 344, 380, 765, 315, 430.0, 316, 293, 339, 406, 452, 337.0, 380, 586, 328, 244, 508, 345, 473, 285, 307, 391, 347, 444, 556, 391, 587, 300, 393, 355, 396, 393, 499, 408, 332, 351, 409, 682, 555, 283, 183, 352, 409, 462, 304, 498, 326, 331, 328, 427, 506, 233, 338, 292, 317, 336, 460.0, 526, 440, 314, 225, 284, 389, 406, 385, 391, 370, 379, 406, 482, 654, 285, 355, 352, 330, 954, 434, 341, 308, 354, 356, 542, 647.0, 364, 341, 342, 264, 452, 406, 362, 319.0, 418, 312, 650, 413.0, 380, 395, 278, 354, 392, 275, 503, 730, 346, 330, 551, 394, 528, 325, 418, 467, 386, 1623, 367, 1399, 328, 289, 347, 317, 437, 393, 459, 380, 556, 401, 442, 433, 965.0, 197, 281, 629, 349, 429, 475, 296, 660, 448, 606, 256, 529, 310, 274, 290, 327, 378, 229, 338, 332, 671.0, 320, 372, 373, 331, 262, 400, 322.0, 328, 502, 382, 341, 332, 268, 601, 257, 710, 442, 609, 344, 346, 507, 318, 405, 392, 318, 519, 303, 339, 443, 338, 363, 349, 292, 461, 302, 755, 564, 427, 431.0, 471, 407, 457, 313, 278, 332, 428, 282, 377, 987, 273, 332, 350, 349.0, 472, 368, 395, 67, 342, 450, 682, 343, 667, 296, 384, 253, 305, 350, 314, 491, 545, 334, 459, 548, 419, 1054, 365, 339, 372, 332, 324, 392, 407, 369, 154, 325, 279, 398, 319, 472, 361, 382, 324, 356, 320, 340, 406, 310, 300, 314, 444, 372, 352, 653, 394, 406, 323.0, 519.0, 280, 412, 443, 376, 392, 842, 512, 446, 380, 439, 464, 411, 445, 332, 304, 453, 410, 421, 308, 387, 721, 453, 326, 427, 407, 236, 342, 430, 390, 432, 355, 392, 765, 379, 387, 628, 340, 406, 316, 266, 347, 376, 427, 680, 404, 393, 285, 377.0, 319, 382, 318, 487, 339, 351, 608, 318, 318, 652, 601, 324, 410, 397, 356.0, 352, 402, 405, 471, 399, 265, 363, 362, 452, 394, 378, 252, 375, 360, 329, 505, 322, 355, 392, 394, 370, 295, 555, 299, 302, 265, 621, 263, 819, 352, 280, 470, 496, 337, 237, 405, 191, 530, 51, 390, 430, 268, 547, 327, 307, 320, 508, 329, 404, 405, 421, 222, 316, 490, 153, 1407, 636, 338, 376, 422, 344, 346, 384, 502, 457, 584, 731, 242, 998, 315, 353, 354.0, 577, 506, 260, 404, 340, 337, 294, 152, 542, 413, 255, 406, 300, 403, 651, 450, 324, 350, 539, 717, 241, 321, 318, 523, 392, 436, 362, 414, 298, 247, 508, 495, 320, 306, 266, 276, 565, 358, 332, 416, 495, 267, 488, 346, 313.0, 364.0, 86, 514, 548, 356, 327, 317, 444, 301, 309, 556, 495, 474, 948, 377, 1206, 439, 458, 464, 417, 1031, 362, 319, 431.0, 412, 336, 373, 349, 315, 398, 437, 539, 474, 320, 345, 343, 604, 259, 337, 354, 471, 347, 283, 335, 386, 602, 388, 831, 437, 350, 695, 363, 497, 318, 504, 347, 340, 403, 379, 337, 299, 503, 318, 355, 460, 342, 359, 658, 354.0, 321, 461, 388, 352, 360, 1134, 357, 391, 530, 293, 639, 493.0, 331, 334, 314, 446, 345, 321, 315, 336, 398, 299, 335, 507, 355, 418, 355, 362, 378, 346, 454, 439, 349, 290, 533.0, 363, 334, 384, 378, 373, 427, 225, 275, 715, 424.0, 442, 300, 234, 382, 272, 363, 316, 302, 533, 463, 438, 341, 258, 328, 329, 310, 350, 433, 369, 399.0, 280, 282, 289, 204, 566, 348, 354, 373, 366, 492, 579, 364, 588, 331, 342, 345, 564, 424, 412, 845, 344, 341, 301, 330, 339, 869, 571, 341, 223, 392, 264, 462, 615, 435, 300, 536, 474, 381, 347, 727, 366, 458, 468, 383, 250, 457, 305, 299, 366, 455, 346, 474, 231, 229, 489, 443, 915, 558, 337, 360, 476, 320, 305, 480, 340, 351, 369, 357, 568, 335, 464, 320, 304, 359, 527, 411, 364, 572, 100, 292, 264, 408, 386, 630, 344, 368, 269, 347, 475, 241, 336, 327, 456, 429, 513, 888, 343, 439, 388, 420, 792, 490, 408, 292, 342.0, 391.0, 328, 383, 420, 325, 335, 408, 384, 430, 371, 363, 423, 1424, 308, 336, 331, 621, 488, 195, 502, 299, 274, 395, 330, 401, 850, 342, 283, 343, 361, 342, 403, 317, 514, 391, 387, 454, 343, 407, 739, 534, 418, 77, 332, 600, 327, 400, 328, 325, 459, 309, 194, 483, 392, 243, 92, 341, 554, 341, 662, 581, 485, 410, 316, 311, 337, 390, 335, 390, 479, 266, 398, 754, 538, 344, 363, 424, 530, 328, 371, 383, 415, 372, 304, 316, 355, 370, 304, 227, 564, 287, 527, 307, 438, 343, 253, 302, 496.0, 935, 430, 376, 383, 445, 456, 265, 439, 420, 381, 502, 360, 392, 265, 318, 249, 510, 383.0, 380, 212, 493, 1160, 294, 364, 385, 377, 399, 370, 646, 329, 441, 296, 505, 382, 516, 377, 371, 227, 352, 235, 362, 382, 372, 415, 321, 342, 320, 319.0, 352, 451, 414, 266, 436, 301, 243, 348, 347, 486, 478, 723, 568, 498, 225, 324, 336, 474, 362, 375, 367, 324.0, 641, 386, 415, 454, 316, 403, 447, 325, 316, 357, 412, 326, 349, 261, 281, 362, 414, 470, 437, 589, 256, 780.0, 282, 351, 433, 319, 298, 635, 579, 643, 251, 441, 1231, 276, 316, 258, 366, 507, 575, 413, 397, 422, 369, 241, 348, 462, 286, 348, 465, 246, 330, 266, 275, 515, 546, 299, 376, 562, 319, 429, 274, 747, 407, 574, 295, 479, 445, 371, 247, 764, 585, 262, 376, 352, 347.0, 397, 433, 274, 470, 526, 463, 484, 828, 357, 311, 312, 626, 564, 260, 244, 355, 430, 365, 669, 679, 491, 336, 361, 508, 358, 414, 477, 476, 394.0, 349, 425, 582, 323, 279, 413, 371, 444, 399, 212, 324, 1138, 509, 404, 355, 311, 421, 282, 415, 329, 150, 298, 415, 488, 345, 459, 460, 654, 273, 122, 470, 347, 296, 379, 389, 299, 267, 379, 522, 477, 332, 269, 427, 354, 318, 340, 401, 384, 268, 644, 260, 385, 374, 297, 358, 528, 596, 405, 262, 348, 241, 493, 314, 394, 270, 382, 305, 542, 485, 325, 343, 389, 391, 333, 437, 452, 505, 430, 269, 402, 269, 339, 393, 691, 341, 356, 488, 364, 466, 405, 533, 380.0, 315, 450, 334, 343, 399, 285, 341, 424, 107, 386, 664, 306, 483, 565.0, 324, 469.0, 396, 510, 334, 308, 194, 529, 323, 352, 371, 259, 365, 573, 439, 539, 281, 300, 299, 552, 328, 1949, 329, 297, 381, 429, 489, 314, 654, 330, 338, 272, 479, 412, 448, 304, 430, 335, 407, 205, 270, 254, 318, 441, 471, 414, 419, 284, 571.0, 598, 365, 447, 362.0, 472, 425, 346, 191, 461, 380, 823, 412, 343, 431, 492, 309, 341, 350, 523, 367, 454, 348, 323, 327, 123, 329, 321, 422, 672, 449, 397, 461, 689, 420, 420, 894, 403, 384, 407, 514, 531, 307, 377, 486, 445, 276, 633, 257, 482, 375, 436, 443, 389, 266, 1012, 368, 763, 403, 351.0, 324, 350, 354, 359, 195, 432, 316, 333, 391, 411, 423, 385, 340, 345, 231, 254, 489, 450, 412, 369, 394, 296, 497, 370, 446, 372, 357, 323, 416, 471, 273, 1024, 653, 339, 381, 308, 1373, 393, 552, 967, 417, 350, 495, 413, 754, 212, 455, 365, 414.0, 499, 230, 473, 258, 774, 375, 317, 351.0, 206, 214, 335, 291, 229, 951, 168, 327, 362, 250, 547, 206, 336, 357, 371, 360, 449, 360, 282, 337, 416, 544.0, 395, 450, 642, 536, 408, 875, 557, 344, 312, 339, 398, 373, 256, 450, 239, 375, 330, 326, 384, 422, 345, 419, 289, 394, 314, 441, 726, 805, 283, 325, 442, 352, 340, 267, 325, 477, 499, 268, 492, 376, 401, 439, 351, 394, 645, 432, 426, 326, 416, 376, 406, 398, 486, 406, 346, 418, 339, 286, 331, 288, 359.0, 671, 246, 795, 273, 246, 299, 388, 466.0, 423, 346, 468, 357, 546, 321, 499, 321.0, 451, 549, 284, 341, 420, 399, 347, 311, 342, 595, 470, 355, 443, 359, 269, 460.0, 369, 410, 430, 421, 284, 521, 306, 497, 392, 378, 292, 334, 301, 301, 337, 432, 664, 449, 396, 614, 293, 274, 396, 311, 560, 508, 408, 623, 299, 355, 290, 430, 294, 421, 456, 569, 197, 302, 857, 399, 356, 576, 513, 284, 434, 384, 712, 343, 402.0, 296, 345, 295, 371, 292, 419, 293, 507, 218, 406, 627, 214, 374, 373, 346, 350, 190, 290, 343.0, 339, 272, 459, 344.0, 379, 460, 380, 499, 407, 485, 379, 220, 341, 383, 707, 326, 247, 676, 351, 383, 896, 360, 477, 1097, 313, 450, 683, 251, 310, 230, 284, 215, 474, 404, 236, 448, 148, 388, 255, 411.0, 249, 627, 367, 237, 276, 385, 391, 311, 370, 1002, 430, 362, 482, 244, 696, 702, 520, 361, 467, 430, 349, 314, 338, 242, 313, 309, 278, 322, 390, 1003, 400, 436, 325, 304, 255, 381, 273, 357, 298, 351, 389, 503, 393, 817, 366, 375, 496, 359, 377, 386, 348, 393, 412, 353, 443, 386, 383, 553.0, 301, 1202, 365, 381, 335, 300, 384, 270, 455, 361, 463, 398.0, 349, 467, 337.0, 351, 573, 442, 1012, 302.0, 399, 557, 428, 436, 529, 406, 261, 396, 300, 357, 391, 342, 433, 399, 422.0, 528, 391, 274, 328, 447, 249, 180, 227, 363, 314, 471, 509, 478, 428, 385, 464, 527, 422, 280, 616, 428, 254, 401, 530, 399, 323, 388.0, 895, 233, 308, 284, 325, 276, 408, 315, 312, 403, 377.0, 485, 424, 317, 441, 370, 738, 520, 363, 353, 398.0, 611.0, 325, 237, 841, 361, 324, 633, 282, 493, 362, 285, 450, 187.0, 1078, 339, 426, 158, 271, 308, 277, 263, 282, 256, 539, 343, 395, 441, 330, 498, 251, 440, 289.0, 269, 426, 415, 502.0, 257.0, 265, 393, 307, 393, 420, 381, 404, 291, 333, 445, 274, 596, 390, 219, 293, 156, 605, 518, 288, 374, 336, 414, 773, 358, 355, 264, 314, 366, 389, 318, 323, 456.0, 384, 277.0, 354, 366, 638, 340, 302, 321, 584, 297, 357, 439.0, 330, 471, 429, 359, 413, 560, 326, 577, 622, 286, 335, 384, 368, 442, 348, 570, 381, 270, 357, 193, 418.0, 310, 350, 727, 404, 350, 120, 401, 445, 274, 294, 445, 494, 210, 308, 574, 275, 550, 137, 357, 291, 303, 590, 283, 432, 304, 350, 637, 315, 412, 353, 451, 523, 286, 392, 441, 583, 283, 445, 402, 653, 473, 371, 310, 364, 325, 440, 333, 83, 420, 382, 372, 471, 315, 348, 407, 416, 333, 1629, 542, 271, 334, 628, 355, 359, 47, 447, 438, 146, 320, 462, 468, 362, 259, 323, 391, 382, 825, 345, 725, 892, 414, 387, 498, 321, 249, 384, 238, 287, 423, 314, 466, 348, 463, 376, 429, 299, 505, 231, 415, 280, 257, 578, 439, 652, 378, 330, 484, 340, 328, 363, 443, 396, 347, 256, 470, 392, 634, 312, 472, 278, 350, 355, 450, 364, 371, 965, 413, 419, 562, 595, 312, 329, 275, 367, 383, 261, 302, 688, 208, 275, 282, 457, 291, 497, 303, 357, 264, 417, 365, 391, 451, 378, 382, 415, 411, 410, 419, 456, 374, 447, 512, 378, 453, 331, 412, 490, 1070, 413, 241, 406, 496, 251, 345, 617, 455, 362, 516, 287, 304, 312, 254.0, 428, 420, 372, 392, 403, 552, 360, 370, 415, 437, 416, 801, 360, 314, 496, 349, 325, 1170, 475, 536, 447, 282, 38, 320, 418, 624, 181, 768, 352, 436, 432, 358, 296, 393, 552, 311, 282, 285, 330, 350, 489, 429, 391.0, 582, 289, 301, 366, 535, 388, 245, 383, 726, 334, 327, 328, 343, 306, 752, 393, 303, 438, 176, 306, 443, 471, 319, 400, 61, 284, 419, 342, 396, 263, 417, 464, 466, 384, 323, 388, 393, 281, 534, 330, 259, 408, 373, 499, 392, 381, 369, 374, 490, 389, 397, 387, 502, 425, 372, 160, 475, 372, 327, 297, 406, 423, 369, 374, 1075, 291, 265, 482, 353, 400, 940, 320, 283, 393, 306, 302, 363, 285, 337.0, 361, 408, 339, 416, 303, 453, 369, 852, 401, 281, 321, 511, 473, 318, 406, 258, 169, 285, 404, 492, 322, 367, 444, 289, 303, 403, 415, 428, 518, 913, 483, 265, 289, 344, 413, 705, 387, 353, 286, 362, 363, 1015.0, 216, 459, 451, 446, 529, 325, 387, 253, 360, 389, 312, 745, 304, 388, 466, 382, 440, 629, 319, 370, 441, 488, 386, 326, 376, 496, 449, 706, 507, 300, 612, 345.0, 453, 550, 390, 452, 351, 305, 314, 416, 371, 552, 345, 192, 311, 377, 359, 266, 338, 394.0, 413, 455, 382, 411, 218, 566, 397, 402, 333, 334, 371, 309, 426.0, 377, 367, 465, 368, 298, 577, 401.0, 483, 287, 330, 528, 429, 329, 441, 512, 426, 304, 1183, 357, 475, 410, 376, 367, 263, 412, 482, 310, 382, 381, 352, 314.0, 372, 396, 409, 262, 400, 459, 453, 751, 462, 409, 228, 468, 434, 513, 332, 354, 396, 563, 325, 368, 289, 475, 399, 759, 308, 391.0, 543, 182, 341, 266, 364, 467, 1612, 492, 376, 364, 206, 358, 395, 514, 431, 354, 312, 455, 295, 342, 499, 341, 531, 485, 288, 158, 409, 456, 344, 326, 483, 507, 220, 389, 394, 339, 388, 523, 440, 498, 367, 325, 428, 286, 312, 266, 429, 283, 298, 325, 385, 353, 488, 314, 344, 438, 344, 661, 280, 506, 260, 340, 433, 322, 261, 479, 369, 339, 427, 264, 251, 363, 207, 350, 586, 757, 359, 443, 364, 335, 983, 515, 348, 492, 256, 581, 339, 337, 294, 354, 298, 586, 460, 306, 445, 329, 439, 374, 362, 242, 359, 417, 473, 421, 485, 341, 393, 1400, 608, 344, 498.0, 291, 422, 286, 316, 295, 405, 345, 548, 385, 434, 556, 496, 427, 422, 331, 944, 227, 664, 270, 351, 399, 558, 383, 492, 420, 387, 429, 389, 377, 501, 363, 382, 342, 390, 380, 429, 506, 418, 388, 431, 392, 304, 222, 355, 264, 339, 461, 362, 375, 381, 405, 316, 785, 604, 290, 202, 255, 395, 402, 307, 541, 322.0, 391, 346, 465, 423, 472, 401, 223, 326, 309, 243, 334, 235, 556, 172, 394, 305, 199, 575, 342, 426, 294, 289, 634, 357, 532, 409, 363, 381, 471, 327, 284, 254, 233, 448, 319, 269, 337, 359, 411, 185, 725, 654, 256, 315, 901, 294, 938, 431, 398, 408, 307, 339, 311, 289, 439, 274, 675, 764, 361, 344, 340, 302, 426, 250, 251, 325, 373, 429, 276, 632, 472, 266, 551, 313, 469.0, 403, 316, 417, 459, 350, 355, 294, 300, 459, 415, 480, 300, 421, 376, 659, 324, 370, 329, 372, 430, 537, 276, 402, 268, 294, 442, 424, 433, 376, 150, 300, 412, 298, 250, 513, 421, 300, 350, 731, 284, 431, 335, 126, 217, 322, 343, 390, 340, 406, 326, 296, 420, 511, 442.0, 340, 543.0, 423, 306, 371, 348, 212, 554, 474, 316, 475.0, 481, 358, 456, 402, 381, 342, 306, 328, 444, 400, 402, 374, 347.0, 333, 204, 436, 351.0, 367, 487, 527, 323, 440, 332, 302.0, 296, 536, 304, 457, 513, 493, 394, 725, 483, 636, 519, 309, 586, 465, 960, 345, 432, 722, 872, 341, 277, 338, 293, 358, 312.0, 539, 606, 329, 382, 383, 495, 289, 537, 281, 479, 319, 341, 328, 326, 407, 413, 210, 549, 316, 496, 326, 193, 311, 228, 383, 391, 418, 590, 362, 504, 343, 399, 262, 371, 332, 458, 270, 522, 421, 419, 191, 559, 357, 379, 382, 482, 386, 394, 376, 585, 361, 455, 303, 345, 322, 436, 392.0, 428, 321, 556, 261, 457, 372, 246, 445, 359, 266, 396, 462, 285, 344, 740, 375, 604, 333, 345, 357.0, 428, 663, 614, 354, 425, 402, 598, 256, 472, 580, 300, 567, 337, 403, 668, 425, 365, 248, 576, 385, 321, 348, 385, 555, 470, 240, 394, 437, 591, 303, 530, 348, 385, 342, 255, 396, 326, 571, 536, 408, 219, 284, 339, 342, 250, 327, 350, 290, 34, 583, 413, 365, 301, 1607, 308, 326, 411, 569, 465, 279, 323, 464, 420, 270, 890, 286, 313, 237, 376, 278, 358, 212, 383, 352, 473, 359, 679, 497, 342, 419, 363, 472, 508, 658, 493, 1013, 352, 764, 274.0, 485, 440, 445, 510, 325, 392, 671, 386, 357, 336, 511, 244, 550, 355, 461.0, 388, 424, 364, 445, 272, 332, 468, 740, 276.0, 627, 511, 365, 359, 298, 287, 593, 343, 973, 386, 881, 643, 267, 364, 571, 275, 337, 400, 368, 459, 914, 407, 395, 534, 387, 508, 355, 435, 347, 551, 347.0, 618, 462, 424, 622, 325, 304, 434, 341, 388, 395, 304, 396, 298, 408, 193, 493, 412, 486, 369, 378, 558, 362, 422, 361, 321, 373, 397, 386, 655, 413, 480, 319, 443, 1151, 383, 403, 403, 466, 381, 489, 319, 331, 353, 271, 385.0, 198, 394, 332, 590, 344, 361, 444, 269, 497, 269, 575, 643, 350, 520, 577, 514, 564, 447, 261, 328, 313, 418, 356, 554, 393, 169, 232, 229, 357, 265, 707, 459, 535, 282, 351, 445, 496, 386, 216, 585, 354, 350, 484, 496, 740, 235, 540, 403, 409, 356.0, 899, 301, 300, 447, 223, 839, 378, 435, 526, 396.0, 344, 306, 389, 557, 542, 421, 267, 673, 276, 631, 390, 468, 454, 507, 563, 362, 253, 410, 719, 297, 284, 395, 386, 357, 338, 356.0, 382, 446, 958, 351, 354, 357, 329, 447, 354, 483, 366, 178, 430, 318, 457, 491, 364, 295, 453, 364, 620, 183, 391, 285, 342, 364, 343, 661, 422, 362, 297, 482, 375, 432, 277, 372, 253.0, 294, 389, 324, 444, 317, 379, 532, 882, 581, 453, 515, 417, 337, 274, 366, 417, 428, 408, 551, 486, 326, 321, 850, 254, 315, 456, 476, 689, 253, 1444, 406, 299, 389, 415, 337, 461, 312, 398, 394, 413, 384, 237, 377, 804, 509, 388, 594, 432, 305, 467, 421, 327, 308, 324, 463, 347, 324, 307, 512, 414, 340, 338, 418, 330, 335, 388, 532, 406, 384, 478, 402, 396, 402, 337, 344, 318, 292, 233, 369, 315, 300, 239, 451, 302, 272, 548, 453, 619, 522, 598, 357, 418, 368, 324, 520.0, 312, 252, 373, 485, 282, 587, 440, 614, 258, 591, 351, 695, 419, 235, 269, 336, 330, 343, 408, 483, 303, 413, 444, 316, 289, 275, 285, 284, 628, 233, 344, 483, 483, 343, 341, 660, 302, 748, 234.0, 345, 329, 357, 690, 284, 334, 346, 556, 370, 395, 297, 608, 300, 473, 432, 388, 364, 382, 676, 298, 295, 406.0, 547, 446, 410, 391, 364, 345, 480, 362, 220, 420, 454, 446, 195, 575, 417, 325, 390.0, 284, 455, 528, 422, 482, 483, 375, 338, 827, 725.0, 525, 319, 465, 576, 366, 258, 422, 602, 237, 331, 370, 268, 730, 422, 681, 380, 381, 432, 231, 324, 309, 407, 89, 492, 429, 383, 425, 504, 400, 301, 259, 397, 313, 308, 359, 384, 302, 415, 506, 287, 303.0, 259, 452, 414, 444, 469, 489, 560, 320, 297, 378, 629, 348, 543, 426.0, 423, 271, 458, 361, 142, 443, 372, 259, 290, 311, 210.0, 431, 693, 308, 358, 518, 364, 670, 396, 167, 331, 605, 286, 359, 275, 675, 335, 414, 364, 365, 323, 437, 412, 482, 329, 283, 518, 474, 402, 210, 1309, 337, 393, 245, 357, 308, 368, 456, 368, 491, 313, 265, 375, 343, 343, 281, 291, 439, 371, 413, 438, 365, 418, 319, 464, 290, 918, 453, 449, 341, 339, 371, 326, 439, 552, 411, 449, 452, 390, 487, 392, 354, 326, 345, 269, 437, 615, 246, 390, 671, 285, 25, 358, 332, 470, 373, 378, 577, 370, 308, 428, 338, 268, 314, 400, 353, 519, 379, 1359, 305, 448, 459, 381, 286, 669, 449, 494, 240, 214, 380, 351, 548, 491, 497, 392.0, 298, 378, 401, 435, 404, 345, 449, 466, 279, 378, 416, 404, 623, 618, 266, 466, 883, 386, 328, 252, 466, 396, 545, 686, 415, 498.0, 273, 236, 1417, 549, 203, 442, 403, 590, 438, 339, 157, 228, 490, 304, 440, 349, 433, 473, 425, 392, 303.0, 439, 412, 285, 298, 348, 348, 228, 518, 254, 473, 363, 277, 503, 260, 390, 392, 268, 448, 412, 309, 405.0, 728, 281, 424, 288, 306, 390, 316, 331, 438, 592, 327, 436, 431, 410, 472, 381, 295, 383, 420, 401, 263, 192, 389, 467, 453, 428, 498, 257, 414, 809, 891, 435, 386, 304, 368, 321, 421, 353, 467, 302, 296, 334, 360, 407, 246, 262, 417, 347, 457, 326, 319, 361, 554, 477, 443, 733, 377, 457, 650, 302, 387, 415, 311, 412, 301, 385, 302, 249, 290, 486, 589.0, 298, 315, 383, 475, 474, 440, 330, 412, 666, 383, 364, 234.0, 327, 673, 475.0, 252, 491, 276, 320, 697, 470, 313, 406, 350, 229, 372, 342, 413, 325, 470, 435, 288, 525, 307, 356, 318, 315, 347, 236, 506, 622, 332, 226, 259, 471, 378, 334, 472, 453, 525, 510, 279, 493, 285, 422, 361, 302, 287, 457, 293, 535, 354, 162, 263, 431, 415, 361, 950, 419, 344, 263, 631, 353, 303, 512, 463, 351, 265.0, 307, 667, 310, 354, 321, 349, 414, 439, 414, 368, 453, 371, 458, 363, 567, 294, 329, 297, 257, 311, 403, 590, 473, 400, 359, 420, 323, 288, 399, 332, 369, 343, 452, 373, 250, 249, 483, 351, 301, 436, 408, 331, 369, 384, 409, 531, 343, 319, 389, 785, 435, 352, 33, 989, 369, 378, 976, 327, 297, 463, 346, 428, 345, 372, 443, 306, 455, 503, 378, 472, 439, 262, 289, 299.0, 341, 428, 551, 314, 428, 491, 242, 499, 416, 285, 430, 673.0, 234, 387, 455, 221, 331, 426, 272.0, 594, 393, 699, 370, 469, 356, 307, 303, 301, 230, 477, 271, 334, 450, 346, 468.0, 313, 293, 497, 323, 392, 367, 636, 313, 440, 302, 306, 372, 322, 456, 304, 446, 234, 360, 640, 416, 549, 493, 561, 257, 394, 342, 424, 356, 405, 524, 563, 268, 385, 285, 177, 886, 367, 526, 369, 1532.0, 301, 227, 1009, 483, 349, 534, 300, 374, 345, 333, 375, 284, 703, 401, 363, 454, 420, 340, 393, 501, 383, 344, 290, 320, 246, 367, 451, 403, 632, 294, 374, 370, 482, 458, 383, 349, 448, 442, 309, 276, 408, 368, 329, 495, 389, 460, 302, 459, 250, 335, 296, 378, 480, 276, 355, 330, 412, 418, 350, 373, 339, 281, 432, 418, 349, 369, 381, 502, 433, 432, 71, 312, 302, 394, 594, 432, 453, 466, 307, 373, 611, 279, 379, 315, 252, 366.0, 216, 520, 427, 388, 330, 569, 119, 385, 660, 325, 421, 485, 303, 286, 318, 364, 268, 419, 370, 227, 403, 538, 351, 732.0, 400, 330, 723, 166, 301, 411, 328, 174, 357, 381, 334, 309, 301, 236, 283, 321, 205, 278, 305, 329, 476, 391, 579, 392, 335, 368, 329, 328, 472, 354, 302, 510, 256, 270, 284.0, 472, 540, 312, 344, 310, 257, 292.0, 258, 374.0, 326, 264, 338, 439, 450, 414, 387, 388, 499, 402, 342, 380, 203, 433, 452, 394, 316, 378.0, 245, 367, 410, 406, 304, 393, 381, 528, 312, 484, 288, 450, 407, 398, 534, 405, 428, 59, 313, 389, 459, 405, 404, 469, 361, 458, 381, 691, 288, 298, 420, 370, 499.0, 353, 335, 383, 526, 357, 500, 285, 291, 415.0, 462, 263, 302, 396, 485, 402, 418, 316, 401, 520, 426, 304, 264, 226, 349, 392, 270, 437, 244, 317, 263, 361, 357, 365, 419, 390, 444, 458, 255, 658, 208, 833.0, 1114, 401, 527, 488, 376, 486, 335, 211, 686, 256, 351, 363, 327, 392, 441, 446, 334, 317, 366, 532, 246.0, 565, 342, 542, 570, 262, 290, 212, 374, 917, 513, 342.0, 334, 717, 369, 727, 481, 776, 391, 636, 454, 323, 232, 434, 177, 406, 297, 344, 431, 363, 280, 295, 357, 603, 352, 415.0, 373, 406, 573, 337, 266.0, 515, 416, 294, 503, 324, 658, 412, 178, 296, 357, 603, 355, 858, 347, 270, 481, 385, 433, 487, 370, 333, 333, 306, 269, 873, 394, 331, 388, 661, 310, 511, 265, 345, 281, 386, 330, 334, 481, 266, 583, 418, 409, 487, 403, 553, 263, 292, 416, 302, 276, 376, 290, 586, 470, 442, 283, 286, 298, 485, 350, 375, 945, 369, 302, 492, 380, 337, 482, 344, 346, 386, 374, 420, 378, 401, 414, 341.0, 351, 289, 583, 289, 357, 288, 403, 251, 542, 314.0, 443, 243, 300, 532, 358, 514, 672, 304, 302, 405, 873, 397, 286, 468, 376, 426, 468, 404, 263, 394, 465, 660, 518, 537.0, 444, 346, 480, 366, 392, 397, 441, 301, 381, 193, 472, 418, 672, 337, 373, 305, 362, 446, 529, 469, 265, 563, 199, 406, 456, 297, 353, 429, 362, 748, 1426, 327, 256, 553, 565, 442, 330, 260, 434, 430, 354, 456, 555, 401, 341, 473, 377, 211, 536, 311, 160, 380, 490, 264, 358, 755, 582, 692, 491, 321, 304, 462, 372, 359, 506, 312, 432, 728, 333, 456, 481, 550, 252, 625, 204, 413, 372, 1131, 657.0, 313, 384, 437, 312, 327, 404, 313, 541, 391, 369, 314, 370, 328, 377, 498, 540, 433, 447, 467, 309, 421, 288, 370, 213, 440, 448.0, 378, 651, 766, 329, 175, 355, 388, 357, 288, 354, 490, 546, 745, 415.0, 382, 449, 235, 380, 282, 465, 466, 336, 485, 438, 643, 413, 404, 368, 524, 439.0, 445, 391, 396, 555, 478, 436, 319, 290, 409, 658, 419, 983, 300, 382, 346, 406, 835, 515, 364, 352, 322, 232, 328, 477, 306, 377.0, 390, 368, 436, 429, 418, 231, 441, 409, 383, 185, 355, 474, 362, 361, 468, 320, 370, 285, 347, 286, 252, 341, 268, 383, 466, 342, 324, 368, 792, 321, 368, 301, 274, 674, 351, 333, 277, 675, 395, 400, 371, 466, 487.0, 336, 339, 343, 405, 527, 587, 386.0, 523, 544, 305, 515, 379, 428, 378, 554, 397, 519, 325, 543, 293, 579, 462, 297, 278, 502, 387, 467, 779, 458, 361, 355, 328, 333, 572.0, 355, 339, 693, 331, 268.0, 586, 378, 365, 420, 345, 318, 274, 333, 574, 515, 388, 338, 559, 602, 421, 276, 346, 478.0, 349.0, 445, 347, 398, 705, 476, 400, 379, 375.0, 468, 447, 516, 303, 643.0, 391, 713, 323, 465, 462, 455, 318, 273, 330, 450, 355.0, 297, 313, 421, 393, 415, 368, 304, 371, 287, 420, 187, 479, 219, 300, 444.0, 398, 364, 334, 237, 352, 403, 469, 268, 268, 291, 411, 382, 392, 244, 300, 339, 323, 416, 386, 298, 396, 201, 487, 317, 493, 320, 334, 340, 372, 328, 501, 472, 455, 506.0, 398, 527, 277, 270, 456, 374, 313, 343, 299, 397, 478, 367, 529, 304, 341.0, 447, 545, 337, 832, 552, 266, 370, 570, 354, 426, 407, 427, 334, 584, 386, 462, 384, 340, 375, 288, 808, 469, 333, 449, 337, 123, 300, 368, 388, 333, 460, 1055, 390, 354, 333, 888, 390, 518, 503, 421, 245, 321, 414, 364, 262, 384, 883, 409, 1094, 411, 468, 433, 223, 225, 422, 316, 407, 1019, 290, 319, 361, 318, 337, 309, 653, 461, 335, 586, 273, 464, 352, 367, 664, 406, 385, 391, 276, 302, 398, 315, 445, 435, 323, 383, 700, 378, 410, 343, 645, 431, 226, 407, 455, 312, 396, 477, 402, 349, 330, 235, 336, 364, 280, 611, 329, 459, 40, 336, 489, 361, 469.0, 451, 267, 404, 467, 410, 377, 231.0, 384, 358, 345, 319, 548, 361, 719, 312, 407, 458, 338, 399, 544, 304, 605, 333, 104, 289, 418, 359, 420, 516, 391.0, 269, 438, 420, 392, 417, 518, 368, 470, 395, 574, 393, 651, 436, 405, 420, 545, 287.0, 385, 411, 389, 447, 699, 357, 327, 206, 328, 206, 110, 470, 452, 415, 351, 296, 450, 789, 219, 500, 201, 346, 334, 340, 380, 211, 353, 227, 426, 354, 394, 383, 344.0, 395, 363, 508, 906, 245, 259, 330, 434, 558, 297, 853, 257, 334, 367, 326, 374, 349, 375, 325, 309, 526, 319, 416, 510, 886, 545, 270, 356, 397, 516, 375, 334, 406, 316, 425, 347, 369, 610, 470, 318, 389, 148, 532, 157, 413, 359, 341, 283, 879, 299, 666, 356, 365, 535, 524, 465, 506, 287, 285, 268, 491, 313, 443, 455, 324, 526, 235, 346, 498, 309, 302, 294, 345, 343, 358.0, 288, 396, 354, 368, 160, 358, 807, 332, 340, 328, 373, 346, 262, 393, 564, 290, 237, 435, 497, 351, 558, 395, 274, 495, 276, 773.0, 276, 265, 1307, 441, 319, 631, 437, 450, 383, 475, 514, 489, 356, 561, 297, 406, 471, 413, 273, 569, 245, 321, 424, 368, 360, 47, 355, 455, 428, 470, 364, 416, 553, 379, 403, 276, 587, 333, 444, 502, 955, 299, 347, 376, 422, 323, 403, 563, 598, 521, 386, 319, 324, 153, 523, 355, 536, 453, 492, 1056, 414, 355, 489, 1191, 389, 376, 285, 1447, 280, 281, 377, 632, 422, 315, 660.0, 264, 254, 553, 328, 399, 485, 1238, 457, 383, 264, 212, 515, 530, 309, 320, 515, 361, 331, 617, 468, 286, 592, 475, 556, 393, 447, 754, 459, 482, 236, 272, 303, 376, 373, 617, 359, 277, 331, 251, 362, 390, 389, 382, 279, 538, 348, 636, 341, 599, 462, 297, 334, 451, 338, 436, 339, 257, 410, 485, 519, 329, 388, 359.0, 421, 331, 347, 236, 530, 465, 244, 346, 445, 641, 966, 267, 357, 571, 321, 354, 388, 299, 351, 355, 470, 307, 309, 409, 399, 455, 346, 316, 169, 500, 384, 668, 241, 887, 328, 314, 397, 440, 446, 352, 324, 376, 476, 363, 303, 277, 429.0, 201, 265, 405.0, 408, 395, 309, 641, 236, 496, 311, 326, 268, 331, 302, 351, 381, 445, 584.0, 352, 393, 290, 281, 445, 372, 657, 403, 732, 545, 536, 385, 320, 430, 321, 402, 519, 332, 312, 534, 365, 435, 296, 322, 383.0, 395, 353, 391, 407, 294, 431, 495, 398, 430, 278, 419, 490, 517, 833, 374, 497, 173, 610, 283, 540, 392, 409, 331, 393, 303, 357, 422, 448, 544, 300, 361, 351, 393, 388, 392, 420, 611, 399, 516, 464, 172, 354, 507, 393, 432, 336, 534.0, 566.0, 411, 380, 219, 310, 346, 902, 499, 432, 508, 337, 339, 224, 370, 415, 192, 715, 509, 918, 206, 355.0, 230, 418, 397, 426, 362, 188, 687, 477, 382, 301, 462, 337, 221, 494, 264, 340, 339, 411, 507, 351, 142, 387, 318, 427.0, 357, 303, 184, 369, 280, 396, 389, 299, 413, 343, 347, 307, 551, 322, 524, 299, 379.0, 193, 451, 597, 463, 387, 510, 294, 327, 401, 614, 410, 498, 884, 440, 424, 448, 209, 308, 324, 292, 323, 456, 436, 528, 256, 314, 273, 330, 371, 434, 390, 431, 366, 443, 388, 491, 519, 282, 338, 455, 375, 453, 567, 397, 376, 222, 434, 544, 333, 390, 375, 393, 355, 355, 479, 403, 352, 332, 399, 578, 827, 799, 402, 310, 398, 436, 37, 461, 356, 390, 620, 325, 306, 382, 285, 285, 282, 295, 408, 487, 1082, 358, 415, 472, 289, 261, 290, 913, 341, 284, 379, 406, 583, 424, 595, 386, 385, 431, 334, 473, 214, 518, 27, 327, 456, 389, 181, 369, 420, 673, 384, 354, 445, 457, 311, 567, 311, 480, 599, 386, 1235, 491, 349, 434, 419, 380, 506, 414, 308, 466, 459, 345, 296, 266, 898, 393, 351, 1271, 640, 448, 372, 514, 421, 334, 262, 296, 367, 421, 456, 340, 399, 457, 478, 535, 196, 389, 333, 258, 352, 325, 269, 470, 484, 413, 368, 361, 353, 800, 392, 579, 98, 348, 325, 307, 345, 434, 446, 681, 376, 473, 579, 336, 389, 482, 416, 310, 378, 326, 414, 336, 378, 272, 429, 356, 413, 358, 686, 354, 556, 351, 277, 353, 751, 550, 397, 362, 447, 414, 359, 499, 195, 230, 329, 565, 383, 340, 492, 364, 303, 310, 594, 414, 636, 386, 323, 261.0, 331, 357, 501, 357, 715, 448, 340, 383, 568, 372, 467, 409, 331, 301, 260, 259, 717.0, 315, 349.0, 880, 446, 417, 430, 341, 357, 333, 833, 439, 563, 555, 344, 396, 372, 412, 317, 466, 258, 360, 733, 316, 356, 511, 385, 414, 299, 339, 324, 439, 328.0, 366, 690, 376, 638, 407, 667, 389, 527, 222, 413, 320, 295, 1344, 250, 198, 296, 306, 335, 908, 591, 341, 489, 437, 349, 399, 449, 350, 221.0, 1044, 386, 343, 393, 383, 802, 347, 274]\n",
      "list_last_valid_element:\n",
      " [1, 12, 25, 26, 26, 0, 3, 2, 26, 23, 29, 15, 1, 13, 29, 20, 0, 8, 16, 19, 29, 13, 1, 20, 19, 6, 27, 26, 26, 15, 19, 19, 20, 19, 26, 23, 17, 24, 2, 16, 29, 2, 27, 19, 0, 18, 3, 0, 4, 8, 5, 6, 0, 8, 25, 13, 1, 11, 28, 18, 23, 23, 14, 29, 11, 15, 5, 25, 0, 8, 8, 26, 7, 4, 9, 0, 23, 10, 19, 0, 15, 14, 9, 0, 27, 11, 5, 21, 4, 11, 6, 21, 26, 28, 5, 13, 17, 14, 19, 9, 16, 8, 19, 25, 5, 0, 22, 1, 16, 27, 2, 22, 24, 2, 7, 7, 14, 4, 3, 7, 7, 6, 7, 27, 5, 28, 27, 29, 13, 3, 21, 12, 27, 24, 11, 7, 11, 13, 29, 27, 26, 19, 7, 17, 24, 9, 24, 5, 27, 20, 23, 17, 25, 3, 3, 21, 22, 5, 11, 12, 16, 7, 14, 14, 2, 27, 6, 2, 7, 7, 10, 5, 10, 9, 22, 27, 27, 13, 25, 4, 8, 7, 0, 29, 3, 26, 4, 5, 11, 24, 23, 25, 6, 6, 11, 6, 4, 18, 24, 0, 27, 20, 25, 23, 19, 17, 1, 1, 6, 11, 11, 16, 15, 12, 9, 12, 25, 25, 9, 25, 3, 7, 29, 9, 25, 19, 16, 9, 15, 10, 16, 23, 25, 10, 18, 8, 15, 1, 27, 12, 7, 3, 26, 17, 28, 8, 21, 4, 2, 12, 4, 2, 15, 0, 3, 27, 12, 10, 19, 22, 20, 1, 4, 27, 15, 26, 22, 21, 16, 11, 14, 24, 19, 11, 3, 18, 23, 20, 5, 3, 20, 26, 10, 27, 14, 3, 15, 17, 1, 20, 11, 8, 29, 25, 11, 0, 1, 3, 5, 10, 1, 29, 27, 21, 18, 28, 1, 6, 2, 27, 22, 5, 25, 6, 14, 10, 1, 25, 25, 28, 0, 1, 1, 29, 20, 5, 24, 2, 7, 25, 11, 1, 29, 7, 9, 13, 1, 21, 11, 0, 23, 22, 18, 15, 6, 23, 10, 5, 7, 4, 1, 9, 8, 11, 2, 20, 12, 10, 11, 19, 18, 3, 18, 12, 8, 29, 11, 25, 21, 5, 3, 28, 12, 1, 27, 12, 26, 18, 9, 19, 22, 20, 10, 26, 3, 17, 9, 18, 10, 15, 15, 27, 13, 29, 24, 7, 21, 29, 11, 21, 14, 10, 3, 18, 11, 26, 9, 13, 28, 24, 6, 3, 4, 15, 1, 29, 10, 16, 24, 0, 0, 18, 17, 15, 7, 19, 14, 1, 9, 1, 4, 25, 10, 0, 20, 13, 4, 10, 28, 26, 21, 0, 4, 2, 5, 5, 26, 20, 15, 25, 1, 3, 9, 20, 9, 12, 13, 19, 26, 0, 10, 28, 7, 22, 12, 13, 29, 24, 2, 28, 24, 29, 12, 9, 10, 23, 13, 4, 1, 21, 17, 6, 24, 10, 0, 0, 1, 11, 28, 14, 1, 22, 6, 6, 8, 8, 21, 21, 13, 20, 3, 25, 3, 28, 0, 6, 6, 17, 28, 2, 27, 25, 27, 28, 24, 4, 26, 27, 27, 28, 16, 10, 5, 16, 23, 18, 16, 2, 16, 24, 9, 5, 23, 4, 17, 15, 13, 18, 3, 19, 12, 5, 22, 28, 11, 24, 24, 10, 7, 20, 29, 16, 26, 5, 19, 22, 18, 0, 5, 29, 13, 19, 22, 25, 7, 13, 20, 28, 10, 25, 22, 19, 9, 26, 23, 13, 24, 8, 20, 10, 0, 13, 3, 23, 7, 15, 14, 20, 10, 1, 15, 8, 9, 15, 24, 6, 0, 5, 20, 21, 3, 20, 10, 14, 19, 24, 4, 20, 6, 10, 23, 24, 17, 25, 6, 18, 20, 22, 16, 22, 17, 19, 3, 20, 20, 27, 2, 0, 24, 13, 26, 8, 23, 5, 24, 6, 25, 13, 17, 0, 28, 15, 6, 27, 3, 29, 8, 23, 21, 23, 12, 24, 14, 11, 12, 17, 7, 22, 28, 27, 21, 15, 29, 6, 21, 17, 6, 15, 15, 25, 15, 9, 1, 17, 2, 29, 11, 11, 23, 4, 8, 4, 3, 25, 8, 26, 22, 11, 9, 5, 16, 15, 21, 27, 10, 28, 27, 2, 20, 22, 13, 0, 9, 8, 22, 12, 1, 9, 19, 25, 22, 11, 26, 26, 21, 2, 23, 13, 18, 8, 15, 24, 19, 22, 10, 5, 6, 10, 4, 23, 29, 18, 19, 1, 26, 4, 24, 14, 2, 8, 14, 3, 11, 5, 20, 1, 27, 25, 18, 13, 5, 0, 4, 11, 26, 24, 19, 25, 10, 20, 19, 29, 25, 4, 27, 7, 6, 17, 23, 6, 17, 7, 23, 24, 19, 20, 0, 12, 5, 8, 9, 17, 21, 2, 15, 5, 19, 8, 8, 23, 23, 28, 19, 25, 26, 25, 21, 11, 26, 22, 29, 10, 4, 7, 29, 14, 9, 15, 18, 29, 4, 25, 8, 27, 12, 15, 29, 21, 26, 24, 5, 25, 21, 4, 14, 29, 26, 24, 22, 9, 26, 21, 19, 20, 14, 6, 21, 5, 29, 12, 12, 27, 16, 26, 9, 27, 12, 24, 28, 7, 14, 6, 22, 26, 23, 8, 3, 22, 12, 2, 7, 7, 5, 4, 0, 4, 8, 12, 0, 29, 7, 21, 22, 28, 12, 20, 2, 27, 3, 21, 22, 7, 27, 14, 6, 16, 24, 7, 25, 11, 10, 0, 1, 6, 12, 26, 19, 2, 29, 4, 19, 27, 29, 6, 6, 11, 12, 20, 4, 3, 10, 11, 17, 8, 25, 3, 15, 24, 0, 27, 1, 1, 6, 12, 4, 8, 2, 11, 11, 18, 7, 21, 2, 11, 2, 5, 4, 6, 0, 17, 19, 8, 18, 2, 21, 13, 19, 10, 3, 27, 20, 8, 0, 0, 21, 11, 12, 13, 28, 20, 26, 6, 7, 16, 6, 9, 2, 14, 29, 17, 13, 0, 5, 19, 25, 8, 1, 3, 24, 7, 10, 16, 17, 29, 27, 18, 10, 11, 14, 3, 5, 24, 6, 21, 28, 27, 15, 24, 14, 10, 7, 3, 2, 13, 14, 15, 5, 26, 19, 15, 2, 20, 12, 7, 10, 23, 18, 2, 10, 10, 9, 3, 10, 3, 1, 4, 1, 29, 1, 2, 12, 23, 11, 9, 2, 24, 21, 10, 4, 12, 6, 21, 2, 25, 25, 20, 12, 21, 12, 3, 7, 15, 13, 27, 19, 17, 22, 11, 25, 25, 22, 10, 0, 16, 25, 14, 7, 6, 5, 28, 28, 13, 2, 19, 24, 12, 13, 18, 21, 18, 23, 7, 14, 11, 16, 24, 3, 27, 19, 14, 1, 16, 11, 24, 29, 3, 26, 8, 2, 27, 6, 26, 22, 17, 22, 25, 5, 18, 13, 24, 19, 7, 2, 4, 19, 2, 27, 28, 10, 0, 23, 9, 7, 0, 16, 24, 13, 15, 8, 5, 8, 11, 20, 2, 20, 15, 6, 10, 22, 19, 21, 27, 6, 15, 21, 8, 7, 27, 11, 10, 4, 14, 13, 19, 2, 17, 29, 27, 0, 13, 0, 16, 5, 15, 1, 23, 9, 5, 20, 3, 10, 1, 29, 5, 11, 11, 12, 29, 29, 14, 27, 0, 11, 28, 1, 27, 10, 13, 16, 5, 1, 3, 8, 14, 28, 24, 21, 19, 6, 18, 21, 20, 23, 25, 3, 0, 4, 2, 17, 0, 19, 1, 14, 5, 12, 26, 22, 12, 11, 14, 19, 8, 26, 26, 28, 21, 17, 9, 6, 27, 0, 6, 27, 16, 24, 15, 27, 2, 18, 14, 18, 16, 15, 16, 28, 15, 29, 3, 26, 2, 17, 27, 20, 3, 28, 17, 8, 0, 18, 12, 15, 26, 20, 8, 5, 0, 28, 18, 10, 3, 11, 11, 13, 19, 14, 17, 5, 2, 26, 15, 6, 25, 4, 13, 27, 9, 1, 27, 23, 2, 4, 14, 3, 14, 24, 0, 9, 17, 3, 5, 19, 26, 3, 20, 29, 15, 24, 19, 9, 3, 26, 28, 15, 12, 9, 5, 0, 3, 12, 0, 6, 17, 21, 28, 8, 9, 24, 15, 24, 28, 9, 1, 6, 16, 6, 6, 0, 23, 24, 23, 10, 13, 19, 25, 25, 26, 7, 22, 21, 21, 29, 20, 22, 26, 12, 10, 25, 25, 20, 0, 18, 1, 1, 4, 22, 17, 5, 26, 24, 10, 26, 26, 6, 27, 6, 25, 18, 4, 21, 20, 15, 9, 29, 1, 4, 8, 28, 27, 19, 9, 14, 14, 2, 29, 0, 18, 16, 13, 3, 19, 1, 18, 23, 21, 16, 13, 6, 25, 11, 12, 9, 27, 19, 19, 28, 29, 26, 29, 29, 27, 16, 15, 16, 3, 21, 12, 28, 3, 4, 4, 1, 27, 15, 27, 7, 18, 29, 6, 5, 27, 20, 10, 20, 15, 21, 10, 11, 11, 26, 18, 3, 23, 12, 20, 28, 7, 17, 9, 5, 20, 28, 1, 28, 28, 5, 6, 13, 21, 9, 21, 4, 13, 28, 28, 26, 16, 16, 19, 18, 26, 11, 4, 11, 13, 6, 11, 23, 23, 4, 24, 23, 24, 19, 15, 13, 28, 14, 22, 13, 27, 23, 18, 11, 25, 2, 28, 5, 15, 21, 0, 25, 14, 8, 16, 4, 11, 4, 4, 12, 26, 10, 9, 24, 10, 0, 22, 14, 22, 13, 4, 17, 8, 26, 3, 16, 28, 24, 12, 13, 23, 27, 0, 18, 8, 1, 13, 10, 0, 19, 22, 19, 27, 20, 1, 4, 4, 2, 6, 19, 27, 14, 1, 17, 14, 12, 12, 11, 8, 27, 8, 27, 7, 29, 4, 10, 17, 11, 26, 29, 24, 1, 25, 6, 21, 29, 7, 5, 24, 9, 5, 9, 13, 17, 11, 13, 0, 7, 10, 15, 23, 13, 13, 6, 3, 11, 28, 8, 8, 1, 7, 11, 1, 25, 21, 17, 1, 19, 13, 20, 12, 5, 23, 7, 7, 7, 20, 23, 15, 6, 9, 2, 18, 20, 1, 9, 17, 12, 10, 18, 19, 2, 23, 25, 8, 19, 0, 23, 19, 10, 7, 8, 5, 21, 4, 8, 13, 2, 25, 2, 27, 8, 15, 1, 24, 11, 23, 25, 13, 19, 9, 28, 2, 28, 15, 1, 2, 17, 4, 23, 25, 22, 23, 24, 27, 8, 14, 7, 28, 24, 15, 25, 3, 16, 21, 27, 29, 24, 11, 3, 7, 25, 27, 7, 16, 5, 16, 28, 23, 2, 7, 13, 25, 7, 23, 13, 14, 16, 0, 19, 3, 9, 1, 20, 10, 18, 17, 26, 7, 4, 13, 2, 11, 1, 15, 9, 20, 10, 7, 3, 16, 9, 15, 29, 14, 23, 24, 17, 17, 28, 9, 9, 4, 15, 21, 13, 15, 21, 10, 3, 1, 26, 28, 15, 10, 16, 4, 19, 6, 3, 9, 20, 2, 3, 6, 27, 8, 4, 27, 14, 24, 8, 11, 13, 3, 19, 17, 21, 4, 29, 22, 22, 24, 4, 11, 25, 21, 8, 14, 8, 26, 20, 13, 2, 9, 29, 7, 4, 9, 21, 13, 5, 15, 29, 1, 16, 29, 2, 29, 2, 27, 2, 2, 13, 8, 28, 28, 19, 23, 19, 5, 25, 16, 5, 28, 27, 0, 3, 23, 1, 23, 27, 12, 23, 6, 19, 17, 11, 15, 3, 8, 24, 8, 18, 2, 24, 27, 5, 14, 16, 6, 1, 8, 22, 11, 25, 7, 10, 4, 21, 2, 12, 27, 12, 21, 21, 5, 26, 14, 0, 0, 3, 5, 23, 28, 17, 22, 0, 18, 0, 28, 22, 27, 25, 13, 16, 6, 6, 0, 16, 25, 10, 28, 15, 24, 8, 15, 25, 0, 6, 22, 10, 9, 18, 26, 25, 7, 2, 1, 26, 29, 16, 3, 2, 1, 27, 23, 11, 23, 8, 9, 3, 12, 9, 24, 11, 2, 11, 23, 15, 18, 27, 7, 12, 26, 0, 0, 15, 17, 19, 21, 16, 5, 28, 16, 0, 26, 25, 13, 21, 11, 16, 19, 15, 10, 26, 20, 19, 20, 19, 18, 11, 27, 7, 3, 1, 23, 23, 22, 28, 27, 7, 5, 28, 29, 12, 5, 28, 8, 10, 10, 12, 8, 21, 24, 19, 28, 14, 13, 9, 6, 3, 14, 7, 19, 14, 6, 13, 25, 17, 18, 5, 19, 2, 27, 26, 14, 16, 1, 14, 20, 16, 19, 24, 25, 28, 3, 7, 2, 13, 5, 19, 18, 17, 3, 25, 29, 18, 1, 5, 6, 16, 0, 0, 5, 0, 5, 8, 14, 25, 7, 8, 22, 6, 9, 14, 8, 16, 28, 28, 15, 17, 28, 29, 0, 24, 6, 28, 15, 29, 3, 2, 15, 3, 3, 17, 26, 22, 16, 24, 2, 2, 26, 23, 19, 11, 16, 24, 21, 2, 18, 2, 13, 16, 15, 26, 11, 19, 23, 24, 29, 22, 2, 5, 25, 1, 10, 27, 20, 26, 22, 2, 10, 7, 12, 8, 4, 13, 3, 6, 26, 12, 4, 19, 19, 1, 17, 28, 22, 25, 3, 11, 18, 27, 21, 23, 15, 23, 26, 11, 3, 9, 4, 3, 10, 10, 15, 0, 3, 10, 4, 22, 13, 18, 29, 13, 18, 14, 8, 9, 16, 19, 27, 2, 17, 24, 4, 4, 21, 18, 18, 9, 8, 7, 18, 25, 1, 23, 14, 28, 17, 4, 19, 13, 0, 9, 9, 5, 27, 5, 25, 11, 25, 19, 19, 5, 0, 24, 21, 12, 5, 0, 2, 15, 19, 14, 27, 16, 18, 26, 5, 12, 19, 16, 9, 6, 5, 17, 25, 13, 19, 0, 18, 28, 11, 23, 14, 25, 9, 6, 15, 13, 21, 6, 10, 27, 24, 29, 29, 11, 3, 1, 26, 17, 10, 4, 25, 7, 9, 23, 1, 28, 10, 24, 19, 3, 14, 10, 3, 21, 7, 8, 29, 4, 29, 24, 6, 0, 8, 1, 28, 6, 13, 13, 26, 7, 3, 0, 20, 25, 7, 12, 24, 15, 8, 11, 18, 19, 15, 3, 10, 8, 12, 8, 24, 27, 10, 11, 13, 5, 23, 23, 22, 7, 21, 8, 17, 1, 15, 5, 18, 18, 9, 12, 19, 10, 22, 24, 10, 9, 23, 10, 10, 9, 16, 21, 29, 9, 29, 9, 11, 1, 3, 20, 15, 10, 15, 3, 6, 7, 17, 12, 28, 13, 6, 13, 11, 4, 4, 18, 28, 10, 14, 21, 6, 18, 26, 24, 12, 15, 12, 12, 18, 28, 9, 19, 20, 22, 26, 26, 2, 10, 10, 25, 21, 16, 4, 20, 29, 24, 13, 15, 13, 12, 8, 15, 29, 11, 23, 16, 29, 7, 5, 17, 2, 15, 21, 26, 19, 0, 23, 29, 2, 15, 4, 29, 23, 10, 27, 12, 0, 6, 7, 29, 13, 23, 21, 29, 27, 9, 2, 13, 11, 20, 20, 13, 22, 20, 22, 29, 10, 28, 24, 2, 20, 28, 24, 11, 1, 0, 20, 2, 28, 20, 24, 28, 27, 6, 10, 4, 21, 14, 21, 20, 22, 29, 19, 27, 23, 5, 27, 23, 15, 8, 10, 26, 22, 15, 27, 1, 3, 6, 16, 24, 18, 25, 0, 21, 9, 22, 17, 29, 21, 18, 23, 29, 5, 6, 8, 0, 11, 8, 19, 12, 2, 12, 13, 11, 28, 17, 23, 21, 11, 9, 3, 0, 16, 20, 23, 27, 16, 8, 0, 12, 24, 26, 6, 7, 2, 28, 8, 3, 15, 24, 28, 6, 26, 5, 21, 2, 6, 10, 12, 29, 18, 27, 10, 3, 28, 19, 29, 12, 15, 8, 18, 2, 2, 7, 4, 15, 7, 5, 20, 26, 20, 18, 28, 1, 24, 4, 5, 15, 27, 5, 7, 12, 4, 17, 7, 28, 7, 1, 3, 22, 25, 19, 27, 3, 12, 22, 6, 18, 2, 25, 4, 4, 9, 26, 4, 26, 4, 29, 0, 16, 7, 29, 0, 2, 2, 24, 14, 7, 9, 21, 27, 9, 17, 25, 19, 22, 26, 8, 11, 22, 4, 11, 17, 8, 22, 12, 9, 26, 23, 5, 24, 26, 26, 20, 29, 1, 19, 6, 8, 12, 15, 6, 6, 29, 20, 11, 11, 13, 19, 14, 1, 10, 28, 22, 11, 21, 1, 6, 18, 8, 8, 22, 13, 17, 21, 28, 23, 28, 28, 29, 14, 21, 14, 24, 25, 18, 9, 6, 23, 24, 23, 3, 24, 18, 26, 24, 3, 29, 29, 17, 2, 8, 15, 23, 22, 29, 26, 4, 5, 13, 28, 17, 17, 14, 11, 18, 7, 27, 2, 10, 26, 11, 18, 0, 8, 13, 12, 21, 1, 15, 25, 4, 20, 15, 15, 19, 17, 5, 29, 28, 5, 1, 20, 6, 17, 14, 17, 20, 19, 23, 7, 1, 28, 13, 11, 8, 25, 11, 29, 23, 4, 4, 18, 5, 28, 3, 19, 28, 10, 12, 10, 2, 2, 5, 16, 17, 26, 8, 27, 2, 20, 29, 16, 27, 27, 0, 23, 23, 4, 27, 24, 1, 0, 22, 25, 1, 13, 26, 0, 9, 1, 22, 11, 16, 9, 27, 26, 25, 8, 17, 24, 3, 2, 11, 20, 6, 8, 0, 26, 9, 20, 10, 24, 15, 29, 7, 3, 4, 19, 9, 15, 18, 18, 6, 13, 22, 18, 16, 28, 20, 19, 8, 18, 26, 16, 22, 1, 22, 6, 8, 23, 20, 26, 1, 13, 7, 6, 10, 19, 29, 8, 0, 28, 14, 5, 15, 27, 8, 29, 27, 8, 9, 22, 10, 7, 0, 26, 29, 1, 7, 24, 19, 17, 29, 14, 16, 25, 8, 3, 26, 7, 25, 22, 6, 2, 27, 8, 10, 1, 26, 8, 4, 4, 21, 5, 12, 15, 24, 5, 21, 17, 23, 17, 7, 10, 13, 6, 16, 24, 14, 25, 19, 23, 23, 21, 20, 21, 9, 29, 12, 8, 20, 17, 8, 12, 7, 27, 11, 16, 17, 9, 9, 28, 21, 2, 21, 25, 25, 27, 27, 7, 23, 20, 17, 29, 0, 9, 14, 24, 18, 28, 4, 29, 12, 26, 23, 29, 6, 11, 1, 18, 6, 13, 17, 3, 9, 8, 23, 4, 20, 28, 25, 8, 5, 3, 16, 17, 28, 28, 4, 17, 17, 18, 5, 8, 20, 27, 2, 12, 29, 4, 20, 22, 7, 7, 16, 8, 14, 28, 11, 19, 8, 16, 6, 2, 26, 12, 18, 28, 22, 29, 8, 6, 4, 26, 7, 2, 29, 9, 14, 19, 6, 9, 7, 0, 10, 28, 6, 4, 15, 19, 11, 1, 20, 27, 15, 12, 13, 3, 8, 21, 9, 0, 0, 19, 15, 16, 27, 14, 29, 5, 23, 16, 5, 2, 9, 25, 7, 17, 19, 21, 25, 17, 29, 22, 20, 4, 24, 13, 22, 19, 25, 13, 23, 20, 18, 2, 4, 3, 14, 7, 25, 10, 17, 22, 16, 20, 26, 2, 23, 22, 0, 25, 10, 7, 17, 8, 4, 26, 3, 22, 11, 5, 15, 1, 12, 19, 8, 15, 18, 4, 8, 18, 26, 12, 28, 29, 29, 1, 23, 0, 9, 5, 11, 9, 20, 10, 0, 27, 2, 14, 28, 8, 14, 2, 23, 9, 7, 20, 11, 22, 5, 1, 8, 4, 7, 26, 8, 9, 24, 3, 13, 12, 16, 6, 11, 4, 6, 22, 26, 28, 10, 0, 5, 3, 29, 2, 19, 5, 23, 9, 26, 20, 1, 15, 3, 3, 20, 8, 3, 29, 3, 20, 0, 8, 15, 5, 23, 23, 17, 4, 1, 16, 12, 3, 11, 25, 10, 13, 2, 21, 11, 9, 11, 20, 13, 17, 1, 5, 27, 23, 16, 1, 10, 16, 24, 19, 22, 28, 4, 13, 9, 18, 23, 0, 23, 8, 16, 13, 17, 21, 1, 5, 25, 28, 15, 8, 27, 12, 27, 8, 2, 27, 28, 27, 5, 9, 1, 10, 12, 2, 9, 29, 9, 1, 24, 10, 2, 6, 22, 19, 22, 5, 16, 26, 16, 3, 9, 6, 18, 27, 11, 24, 16, 16, 25, 9, 22, 18, 27, 8, 9, 14, 10, 27, 19, 28, 7, 1, 26, 19, 15, 13, 28, 10, 1, 0, 29, 29, 19, 19, 11, 8, 22, 16, 13, 8, 28, 12, 22, 1, 0, 28, 26, 2, 24, 0, 2, 6, 6, 9, 29, 14, 24, 23, 3, 19, 2, 5, 10, 21, 7, 17, 6, 4, 16, 14, 19, 24, 14, 5, 18, 14, 26, 12, 24, 8, 25, 12, 20, 0, 14, 28, 25, 27, 22, 3, 20, 11, 5, 12, 18, 12, 22, 2, 10, 29, 19, 3, 2, 28, 0, 8, 20, 27, 21, 23, 23, 29, 8, 14, 11, 24, 1, 9, 12, 10, 0, 1, 10, 7, 3, 15, 14, 6, 26, 1, 24, 20, 5, 6, 29, 14, 5, 27, 9, 12, 19, 15, 23, 10, 29, 14, 13, 24, 15, 27, 26, 6, 14, 14, 27, 26, 26, 1, 11, 26, 25, 28, 5, 12, 29, 25, 23, 24, 2, 21, 1, 26, 5, 9, 14, 14, 23, 1, 6, 5, 23, 5, 19, 23, 2, 16, 14, 3, 10, 14, 9, 13, 8, 19, 21, 9, 13, 24, 23, 16, 14, 11, 24, 17, 17, 13, 9, 27, 26, 11, 5, 28, 15, 0, 11, 26, 9, 7, 25, 17, 15, 13, 12, 7, 4, 25, 17, 20, 14, 23, 22, 3, 17, 3, 20, 18, 26, 16, 27, 6, 2, 19, 21, 28, 11, 7, 6, 22, 26, 7, 19, 8, 4, 11, 5, 14, 26, 9, 8, 13, 8, 17, 14, 10, 28, 11, 13, 11, 16, 29, 29, 14, 24, 6, 16, 9, 27, 18, 3, 17, 19, 5, 16, 20, 20, 17, 0, 21, 11, 9, 26, 1, 28, 16, 23, 7, 24, 4, 0, 15, 13, 8, 25, 20, 1, 16, 8, 20, 13, 11, 10, 25, 12, 13, 4, 0, 10, 6, 2, 19, 18, 20, 10, 15, 27, 15, 10, 22, 23, 13, 27, 24, 16, 9, 2, 27, 23, 23, 8, 5, 1, 10, 16, 21, 3, 2, 1, 2, 0, 15, 5, 12, 0, 11, 4, 7, 23, 3, 7, 11, 20, 4, 8, 20, 17, 12, 7, 29, 27, 10, 22, 24, 23, 7, 17, 3, 26, 8, 18, 21, 16, 10, 23, 24, 23, 29, 8, 23, 6, 16, 14, 15, 7, 3, 10, 23, 16, 23, 8, 17, 9, 18, 2, 9, 24, 10, 11, 18, 17, 11, 16, 24, 24, 18, 16, 29, 10, 4, 3, 20, 25, 18, 3, 16, 0, 14, 22, 8, 5, 7, 0, 26, 25, 14, 24, 22, 3, 29, 7, 28, 7, 21, 17, 25, 6, 25, 24, 17, 23, 24, 5, 24, 9, 4, 6, 5, 3, 7, 27, 29, 4, 12, 7, 3, 23, 23, 6, 27, 23, 24, 2, 23, 11, 21, 2, 6, 0, 7, 17, 8, 0, 1, 24, 5, 16, 28, 15, 23, 8, 26, 27, 17, 1, 3, 22, 24, 21, 27, 4, 28, 9, 17, 18, 12, 7, 21, 17, 22, 8, 1, 25, 1, 29, 18, 28, 19, 6, 26, 8, 17, 26, 16, 17, 10, 16, 21, 11, 18, 21, 19, 10, 3, 3, 18, 2, 20, 19, 15, 2, 7, 24, 29, 10, 22, 15, 21, 1, 13, 14, 17, 17, 6, 23, 5, 9, 0, 0, 5, 8, 2, 19, 4, 8, 11, 16, 13, 17, 17, 0, 16, 23, 19, 7, 13, 16, 8, 16, 24, 17, 4, 22, 7, 25, 19, 7, 16, 25, 13, 4, 7, 16, 9, 9, 25, 26, 21, 6, 13, 15, 26, 18, 0, 0, 26, 13, 12, 2, 28, 5, 10, 5, 27, 28, 26, 25, 3, 16, 26, 22, 18, 23, 22, 3, 23, 23, 24, 27, 11, 1, 8, 11, 6, 21, 29, 16, 18, 4, 8, 24, 0, 12, 13, 2, 22, 18, 28, 27, 29, 23, 29, 21, 6, 28, 1, 24, 18, 17, 1, 7, 11, 27, 1, 26, 5, 24, 18, 11, 8, 15, 23, 10, 9, 13, 26, 28, 5, 16, 13, 1, 25, 18, 8, 25, 10, 5, 19, 13, 16, 12, 3, 0, 6, 23, 3, 26, 23, 29, 26, 15, 12, 29, 9, 25, 13, 7, 18, 19, 3, 1, 10, 13, 6, 1, 18, 21, 27, 9, 27, 4, 22, 28, 19, 15, 15, 27, 11, 17, 23, 14, 7, 3, 22, 7, 27, 17, 3, 1, 4, 5, 16, 0, 24, 9, 24, 4, 19, 4, 9, 0, 18, 23, 2, 14, 1, 8, 29, 7, 28, 2, 7, 8, 24, 13, 5, 10, 26, 20, 3, 27, 17, 5, 12, 22, 26, 8, 2, 7, 7, 11, 12, 24, 15, 10, 2, 2, 5, 9, 18, 7, 19, 12, 3, 8, 8, 28, 18, 25, 0, 13, 21, 24, 10, 25, 28, 29, 9, 8, 20, 20, 15, 5, 25, 29, 8, 6, 12, 18, 28, 6, 10, 26, 25, 11, 24, 21, 20, 5, 1, 2, 4, 23, 3, 4, 17, 29, 27, 5, 7, 9, 20, 10, 13, 28, 3, 26, 16, 4, 0, 11, 12, 3, 17, 21, 15, 19, 23, 14, 17, 23, 8, 13, 12, 19, 6, 2, 20, 22, 1, 1, 4, 0, 8, 23, 8, 16, 20, 13, 9, 9, 13, 0, 23, 5, 22, 16, 5, 9, 3, 5, 10, 13, 23, 14, 15, 0, 29, 0, 18, 19, 15, 12, 26, 5, 29, 6, 1, 5, 18, 4, 18, 21, 29, 15, 0, 13, 17, 6, 27, 3, 27, 4, 14, 18, 15, 21, 1, 18, 29, 21, 10, 16, 15, 1, 20, 6, 7, 14, 2, 12, 19, 18, 1, 13, 11, 21, 8, 4, 9, 2, 17, 26, 17, 22, 4, 28, 7, 25, 11, 28, 6, 14, 15, 24, 23, 6, 28, 7, 13, 7, 22, 11, 5, 24, 11, 12, 28, 29, 28, 20, 21, 17, 10, 22, 10, 6, 6, 7, 22, 4, 12, 18, 10, 22, 23, 3, 29, 1, 3, 6, 29, 20, 17, 4, 3, 26, 14, 2, 6, 2, 8, 19, 9, 25, 17, 2, 1, 11, 20, 26, 1, 16, 17, 17, 25, 1, 6, 21, 14, 11, 19, 5, 27, 1, 20, 26, 29, 7, 25, 23, 28, 13, 28, 26, 23, 5, 7, 16, 5, 13, 11, 12, 21, 26, 11, 7, 14, 11, 7, 23, 9, 4, 6, 23, 9, 24, 6, 6, 15, 20, 0, 28, 5, 20, 27, 13, 28, 26, 16, 24, 14, 27, 12, 8, 27, 18, 22, 16, 20, 19, 28, 21, 2, 1, 29, 28, 15, 24, 14, 17, 9, 24, 17, 16, 25, 8, 29, 28, 5, 29, 10, 12, 16, 21, 29, 13, 22, 1, 0, 5, 21, 7, 8, 16, 10, 2, 24, 16, 23, 29, 12, 23, 24, 2, 6, 5, 23, 18, 18, 2, 1, 27, 2, 28, 21, 17, 23, 24, 21, 19, 8, 23, 24, 14, 22, 9, 29, 2, 26, 22, 3, 14, 26, 11, 27, 9, 6, 29, 5, 14, 10, 5, 14, 23, 4, 10, 17, 29, 29, 7, 7, 23, 24, 7, 19, 25, 18, 14, 13, 9, 29, 14, 2, 1, 13, 7, 24, 15, 13, 28, 28, 5, 10, 2, 28, 18, 23, 21, 21, 29, 27, 6, 14, 29, 29, 13, 9, 0, 26, 21, 6, 8, 24, 19, 11, 1, 25, 19, 22, 25, 15, 2, 25, 14, 7, 23, 22, 15, 10, 19, 24, 13, 18, 10, 16, 18, 29, 11, 29, 23, 21, 15, 17, 4, 27, 14, 24, 18, 29, 23, 8, 19, 23, 25, 16, 16, 6, 25, 24, 20, 2, 26, 11, 9, 20, 2, 6, 2, 0, 29, 5, 2, 11, 7, 15, 16, 7, 7, 5, 8, 6, 6, 18, 0, 27, 4, 7, 3, 28, 15, 20, 16, 9, 18, 17, 1, 12, 23, 22, 28, 21, 15, 24, 15, 8, 18, 0, 9, 4, 18, 21, 0, 28, 9, 18, 9, 28, 16, 21, 27, 14, 18, 1, 6, 28, 18, 20, 28, 21, 25, 28, 11, 9, 28, 27, 2, 25, 14, 21, 14, 17, 28, 6, 13, 13, 3, 21, 28, 4, 25, 24, 26, 1, 1, 24, 5, 8, 5, 24, 20, 3, 20, 17, 6, 20, 3, 14, 10, 24, 2, 12, 7, 10, 12, 1, 19, 26, 9, 23, 15, 16, 27, 3, 10, 28, 9, 25, 22, 20, 8, 9, 9, 9, 25, 20, 3, 1, 2, 14, 15, 22, 25, 5, 11, 25, 21, 21, 14, 19, 13, 21, 27, 17, 16, 13, 26, 26, 16, 22, 17, 15, 21, 2, 12, 14, 4, 22, 24, 4, 22, 13, 11, 27, 22, 0, 20, 0, 2, 19, 25, 27, 24, 5, 16, 14, 10, 26, 22, 11, 15, 29, 5, 12, 1, 7, 20, 9, 7, 3, 10, 1, 19, 3, 0, 9, 21, 8, 26, 23, 4, 0, 6, 9, 6, 22, 17, 7, 26, 0, 27, 4, 0, 0, 19, 26, 21, 22, 12, 18, 7, 6, 8, 13, 29, 11, 7, 2, 15, 5, 10, 26, 18, 19, 7, 18, 3, 2, 28, 25, 6, 23, 14, 27, 28, 11, 15, 11, 18, 16, 25, 11, 21, 10, 7, 22, 4, 16, 8, 23, 3, 20, 21, 17, 7, 20, 18, 3, 24, 17, 28, 16, 26, 6, 28, 28, 18, 23, 23, 0, 28, 21, 11, 13, 22, 10, 14, 20, 20, 26, 8, 6, 21, 14, 28, 15, 15, 3, 18, 6, 5, 1, 0, 29, 26, 3, 15, 7, 28, 27, 19, 22, 12, 11, 16, 20, 19, 0, 14, 20, 5, 10, 17, 5, 19, 12, 17, 17, 21, 28, 17, 24, 20, 28, 8, 3, 4, 9, 6, 23, 20, 12, 27, 12, 24, 29, 11, 4, 15, 26, 26, 17, 15, 23, 20, 13, 14, 16, 5, 4, 5, 17, 17, 2, 15, 2, 11, 20, 8, 14, 10, 10, 20, 26, 22, 18, 26, 29, 14, 13, 25, 19, 28, 27, 11, 25, 0, 28, 18, 22, 28, 4, 11, 8, 26, 29, 9, 6, 16, 12, 23, 24, 13, 17, 4, 22, 4, 23, 29, 27, 23, 17, 28, 16, 23, 29, 20, 27, 27, 1, 4, 16, 1, 27, 17, 6, 7, 4, 27, 12, 23, 6, 27, 10, 5, 20, 20, 21, 28, 29, 13, 10, 8, 9, 13, 3, 27, 0, 14, 0, 14, 23, 23, 4, 15, 23, 17, 8, 12, 27, 6, 17, 18, 9, 5, 29, 27, 10, 8, 22, 5, 23, 26, 28, 5, 10, 14, 0, 24, 2, 13, 10, 13, 5, 16, 16, 22, 11, 12, 23, 18, 10, 26, 8, 13, 11, 27, 8, 0, 17, 17, 6, 13, 16, 2, 28, 6, 1, 28, 13, 19, 10, 25, 6, 6, 12, 15, 18, 27, 7, 9, 11, 2, 24, 4, 25, 26, 18, 26, 28, 27, 15, 12, 27, 19, 9, 15, 12, 4, 25, 2, 18, 26, 22, 13, 9, 23, 13, 28, 19, 2, 16, 11, 14, 19, 9, 23, 22, 11, 12, 15, 9, 7, 26, 21, 24, 26, 1, 3, 11, 27, 9, 11, 17, 24, 5, 29, 23, 15, 0, 22, 5, 12, 14, 6, 6, 14, 2, 2, 17, 14, 11, 1, 20, 17, 23, 17, 9, 21, 16, 16, 9, 4, 3, 13, 26, 2, 6, 22, 12, 0, 9, 28, 27, 8, 4, 4, 27, 2, 19, 22, 13, 4, 7, 4, 8, 5, 12, 12, 17, 22, 19, 24, 12, 25, 12, 0, 1, 29, 12, 25, 10, 2, 11, 6, 11, 22, 19, 10, 17, 21, 21, 0, 7, 16, 26, 3, 21, 24, 14, 13, 18, 16, 6, 5, 19, 5, 23, 22, 24, 1, 21, 25, 13, 23, 14, 28, 27, 16, 18, 18, 7, 28, 1, 22, 27, 15, 22, 0, 18, 25, 9, 26, 17, 18, 4, 15, 25, 9, 18, 0, 2, 13, 27, 20, 4, 6, 27, 27, 23, 3, 17, 1, 29, 0, 9, 6, 8, 5, 3, 4, 9, 28, 20, 4, 4, 25, 8, 19, 12, 22, 5, 2, 22, 26, 9, 22, 2, 28, 28, 15, 18, 17, 22, 1, 17, 3, 2, 25, 8, 26, 18, 16, 6, 14, 0, 14, 5, 20, 23, 8, 22, 4, 23, 4, 28, 18, 29, 3, 29, 18, 20, 12, 15, 28, 27, 16, 17, 29, 6, 11, 16, 4, 22, 20, 14, 12, 4, 21, 28, 22, 29, 17, 3, 27, 29, 14, 15, 11, 13, 13, 3, 29, 6, 22, 8, 6, 10, 4, 21, 8, 2, 23, 17, 4, 10, 3, 2, 14, 0, 4, 7, 9, 27, 3, 2, 13, 29, 3, 27, 15, 17, 25, 20, 16, 9, 5, 16, 1, 19, 16, 6, 27, 22, 10, 21, 5, 11, 4, 18, 14, 2, 5, 10, 5, 22, 2, 21, 22, 28, 17, 24, 28, 19, 9, 24, 24, 26, 3, 12, 25, 21, 3, 11, 2, 23, 24, 6, 26, 28, 14, 22, 26, 21, 29, 8, 7, 23, 16, 21, 3, 2, 15, 17, 27, 12, 16, 6, 9, 6, 18, 27, 3, 16, 29, 26, 13, 6, 3, 10, 7, 25, 10, 26, 7, 12, 5, 15, 22, 7, 1, 25, 19, 23, 8, 10, 4, 11, 14, 6, 19, 15, 15, 20, 4, 19, 16, 8, 13, 3, 10, 22, 8, 15, 13, 10, 4, 0, 19, 18, 2, 23, 6, 5, 1, 19, 4, 21, 0, 12, 18, 21, 13, 24, 15, 20, 4, 24, 2, 18, 9, 10, 11, 0, 15, 3, 21, 20, 20, 18, 23, 27, 27, 1, 0, 3, 0, 16, 12, 2, 26, 0, 12, 29, 26, 4, 22, 22, 20, 2, 28, 28, 28, 4, 16, 21, 20, 17, 29, 21, 15, 8, 16, 26, 23, 2, 16, 29, 27, 20, 19, 14, 13, 21, 22, 16, 26, 26, 2, 20, 11, 7, 28, 8, 4, 13, 19, 10, 3, 28, 25, 12, 8, 2, 24, 12, 20, 27, 29, 21, 12, 24, 3, 4, 6, 27, 16, 20, 18, 3, 20, 0, 22, 16, 19, 28, 11, 8, 8, 24, 3, 26, 23, 24, 22, 16, 2, 10, 26, 6, 24, 14, 14, 5, 11, 22, 27, 0, 2, 20, 13, 15, 9, 29, 7, 17, 7, 1, 15, 21, 26, 14, 26, 7, 7, 15, 19, 7, 1, 10, 19, 6, 5, 19, 22, 4, 8, 18, 4, 25, 19, 25, 19, 25, 22, 9, 14, 8, 26, 1, 19, 13, 23, 18, 16, 12, 15, 1, 2, 22, 9, 9, 8, 29, 20, 13, 9, 13, 16, 27, 1, 15, 17, 29, 23, 4, 5, 18, 2, 16, 14, 21, 6, 18, 28, 26, 27, 22, 7, 13, 2, 1, 5, 12, 20, 4, 7, 7, 10, 29, 7, 19, 19, 4, 16, 8, 26, 10, 15, 21, 10, 3, 14, 3, 14, 19, 17, 27, 14, 26, 21, 0, 0, 13, 24, 10, 16, 14, 20, 22, 18, 14, 1, 8, 25, 6, 29, 6, 23, 17, 14, 10, 16, 21, 23, 6, 21, 22, 3, 13, 1, 12, 5, 18, 18, 23, 3, 24, 8, 19, 17, 7, 25, 3, 10, 12, 27, 26, 20, 28, 23, 14, 6, 8, 12, 11, 8, 13, 7, 0, 25, 16, 5, 6, 24, 9, 13, 28, 6, 8, 16, 20, 25, 23, 21, 22, 11, 22, 18, 6, 22, 25, 15, 18, 19, 22, 7, 26, 25, 15, 10, 0, 10, 28, 27, 8, 13, 10, 15, 7, 1, 26, 16, 23, 15, 21, 12, 17, 5, 22, 17, 29, 27, 11, 12, 13, 24, 14, 3, 23, 15, 17, 17, 1, 7, 23, 19, 3, 24, 18, 15, 3, 19, 21, 26, 25, 19, 7, 17, 26, 22, 15, 28, 19, 2, 16, 16, 14, 2, 9, 29, 15, 5, 25, 4, 3, 13, 14, 28, 3, 11, 25, 3, 8, 10, 12, 5, 14, 14, 28, 24, 23, 29, 4, 16, 19, 28, 18, 2, 2, 4, 11, 5, 23, 28, 11, 28, 18, 17, 29, 3, 1, 15, 19, 20, 8, 0, 19, 2, 29, 0, 12, 5, 11, 15, 1, 10, 23, 22, 3, 11, 10, 6, 17, 8, 16, 0, 1, 12, 1, 6, 25, 18, 19, 23, 2, 25, 5, 8, 25, 26, 0, 18, 23, 2, 15, 2, 5, 18, 8, 29, 16, 17, 2, 16, 19, 20, 24, 18, 19, 3, 21, 5, 4, 29, 14, 15, 3, 17, 7, 10, 13, 11, 3, 14, 29, 2, 14, 28, 15, 18, 16, 28, 14, 21, 12, 5, 9, 9, 13, 28, 2, 15, 23, 17, 15, 1, 7, 15, 5, 1, 13, 5, 1, 25, 6, 28, 5, 8, 0, 9, 8, 26, 12, 5, 10, 22, 26, 21, 0, 19, 14, 6, 22, 15, 24, 28, 8, 15, 16, 8, 13, 3, 1, 15, 16, 19, 11, 13, 22, 6, 13, 7, 15, 2, 18, 8, 1, 4, 5, 10, 3, 11, 26, 17, 0, 2, 5, 5, 7, 23, 2, 19, 5, 7, 4, 19, 6, 17, 19, 14, 14, 18, 15, 17, 20, 17, 26, 8, 1, 11, 18, 18, 11, 2, 19, 10, 6, 18, 29, 18, 21, 6, 13, 12, 25, 11, 5, 27, 1, 23, 24, 3, 9, 27, 18, 3, 10, 4, 7, 13, 10, 7, 22, 22, 29, 14, 24, 24, 6, 28, 21, 2, 12, 2, 5, 18, 2, 1, 6, 12, 6, 23, 14, 8, 28, 29, 19, 19, 23, 12, 22, 10, 24, 18, 8, 17, 20, 23, 16, 12, 15, 14, 9, 13, 14, 26, 29, 3, 6, 24, 11, 4, 6, 9, 16, 26, 3, 21, 25, 7, 5, 0, 4, 8, 17, 6, 14, 0, 25, 2, 1, 15, 22, 1, 3, 22, 27, 10, 18, 27, 4, 25, 2, 13, 18, 23, 25, 23, 27, 3, 25, 0, 12, 22, 24, 11, 12, 5, 26, 24, 0, 7, 19, 10, 11, 17, 19, 13, 12, 20, 14, 24, 8, 9, 21, 1, 21, 29, 27, 14, 26, 11, 14, 2, 15, 28, 27, 27, 1, 29, 10, 18, 29, 12, 21, 2, 16, 25, 3, 7, 25, 11, 27, 2, 19, 24, 11, 1, 3, 6, 10, 17, 0, 20, 22, 18, 4, 12, 26, 3, 17, 11, 25, 11, 11, 22, 6, 24, 18, 19, 10, 16, 8, 9, 13, 14, 0, 15, 14, 17, 4, 5, 20, 14, 17, 16, 23, 2, 4, 8, 22, 6, 22, 22, 24, 29, 17, 10, 0, 27, 2, 6, 3, 23, 12, 27, 3, 10, 26, 26, 19, 1, 25, 18, 25, 28, 24, 27, 14, 19, 20, 21, 14, 1, 9, 6, 6, 4, 26, 25, 1, 22, 13, 16, 25, 10, 13, 26, 20, 9, 2, 14, 5, 3, 27, 3, 24, 12, 6, 6, 5, 9, 14, 12, 19, 2, 12, 22, 13, 11, 15, 16, 22, 12, 1, 11, 12, 0, 11, 29, 6, 18, 19, 23, 21, 24, 6, 28, 13, 3, 2, 29, 15, 24, 24, 3, 18, 0, 29, 24, 14, 13, 16, 20, 19, 20, 22, 18, 7, 19, 0, 11, 14, 26, 29, 17, 19, 9, 21, 26, 24, 22, 3, 18, 21, 15, 14, 7, 11, 21, 25, 19, 14, 10, 17, 27, 6, 4, 1, 6, 14, 11, 24, 25, 22, 10, 19, 4, 10, 28, 24, 18, 27, 24, 29, 10, 3, 3, 7, 5, 12, 1, 12, 4, 28, 20, 10, 22, 12, 21, 18, 8, 12, 23, 26, 5, 24, 22, 8, 13, 1, 12, 20, 5, 18, 18, 28, 19, 21, 16, 23, 21, 10, 27, 5, 10, 12, 25, 19, 11, 24, 14, 23, 2, 18, 24, 3, 0, 13, 10, 4, 12, 20, 20, 14, 24, 1, 5, 1, 22, 0, 3, 20, 26, 21, 4, 13, 24, 3, 20, 24, 2, 8, 2, 7, 15, 15, 28, 3, 5, 29, 28, 19, 27, 4, 1, 17, 8, 10, 22, 27, 4, 27, 4, 27, 0, 11, 3, 20, 20, 23, 25, 22, 3, 29, 6, 8, 21, 22, 9, 5, 27, 11, 23, 20, 8, 10, 27, 26, 13, 25, 14, 6, 26, 27, 5, 4, 7, 3, 10, 10, 14, 19, 13, 3, 7, 25, 5, 22, 29, 5, 20, 23, 28, 17, 21, 29, 24, 29, 1, 5, 28, 10, 15, 19, 13, 2, 27, 18, 23, 1, 24, 27, 20, 8, 7, 29, 2, 24, 11, 8, 28, 21, 7, 15, 28, 18, 15, 17, 2, 9, 15, 5, 2, 0, 11, 6, 3, 17, 8, 6, 3, 21, 0, 6, 5, 2, 9, 2, 29, 13, 12, 12, 9, 21, 28, 22, 27, 29, 20, 9, 5, 4, 8, 11, 11, 15, 0, 16, 27, 16, 10, 8, 19, 11, 24, 9, 18, 3, 18, 10, 1, 25, 19, 7, 3, 20, 3, 19, 5, 29, 0, 16, 16, 26, 8, 8, 12, 7, 11, 2, 27, 19, 14, 3, 4, 17, 22, 12, 28, 21, 29, 21, 12, 8, 21, 7, 10, 17, 14, 0, 0, 29, 26, 20, 9, 3, 23, 11, 11, 28, 11, 6, 2, 14, 4, 19, 5, 22, 7, 3, 17, 19, 10, 7, 13, 29, 28, 9, 18, 26, 29, 24, 12, 25, 16, 9, 19, 3, 13, 5, 14, 14, 9, 14, 0, 8, 4, 7, 0, 11, 25, 13, 14, 25, 4, 0, 20, 0, 13, 28, 4, 6, 5, 21, 20, 18, 27, 18, 8, 18, 0, 3, 15, 8, 12, 14, 4, 23, 23, 7, 2, 3, 19, 11, 26, 2, 17, 28, 0, 1, 7, 22, 9, 28, 9, 26, 19, 21, 16, 19, 4, 2, 12, 20, 17, 5, 13, 29, 9, 9, 15, 21, 23, 19, 20, 5, 10, 29, 22, 26, 3, 12, 27, 16, 2, 11, 23, 15, 19, 23, 11, 17, 21, 5, 27, 17, 17, 4, 26, 26, 11, 29, 22, 17, 24, 0, 21, 21, 8, 27, 4, 13, 6, 7, 24, 23, 13, 5, 2, 7, 25, 25, 8, 13, 21, 28, 16, 15, 15, 3, 28, 6, 8, 19, 20, 25, 23, 12, 2, 9, 22, 13, 9, 2, 19, 20, 21, 28, 27, 6, 26, 9, 16, 3, 18, 6, 23, 6, 16, 16, 0, 23, 25, 12, 24, 5, 16, 12, 16, 18, 14, 0, 9, 8, 20, 2, 11, 17, 20, 18, 29, 5, 4, 27, 1, 12, 7, 22, 5, 2, 12, 28, 15, 17, 25, 12, 15, 2, 13, 24, 25, 24, 27, 24, 21, 22, 29, 11, 17, 12, 3, 26, 6, 4, 26, 2, 18, 14, 26, 5, 29, 15, 18, 1, 15, 5, 11, 17, 6, 11, 17, 5, 4, 21, 25, 15, 29, 20, 14, 0, 26, 25, 0, 4, 10, 3, 2, 8, 6, 23, 10, 6, 16, 26, 16, 23, 25, 24, 18, 26, 6, 20, 29, 19, 2, 26, 14, 28, 25, 9, 6, 22, 13, 25, 27, 15, 21, 20, 21, 16, 10, 1, 24, 7, 28, 6, 1, 4, 8, 28, 20, 21, 1, 1, 7, 25, 14, 5, 12, 19, 20, 19, 1, 8, 27, 29, 22, 13, 16, 17, 17, 5, 29, 28, 19, 20, 28, 5, 26, 15, 22, 20, 26, 2, 4, 12, 3, 10, 19, 25, 12, 13, 16, 9, 5, 24, 20, 18, 18, 29, 7, 19, 26, 15, 29, 4, 23, 16, 23, 9, 18, 9, 0, 19, 8, 2, 27, 9, 16, 15, 0, 7, 29, 29, 25, 20, 17, 10, 28, 28, 20, 29, 18, 14, 15, 24, 29, 16, 20, 20, 7, 0, 1, 21, 7, 22, 13, 29, 12, 15, 13, 21, 23, 20, 21, 0, 0, 26, 11, 12, 25, 9, 29, 21, 16, 19, 8, 3, 11, 9, 23, 2, 8, 21, 0, 15, 2, 17, 6, 25, 20, 20, 21, 0, 27, 2, 22, 11, 3, 15, 13, 4, 5, 13, 19, 3, 29, 18, 25, 6, 1, 24, 22, 24, 9, 22, 21, 8, 23, 26, 25, 29, 22, 18, 27, 2, 27, 19, 2, 5, 17, 4, 26, 5, 22, 19, 12, 10, 8, 19, 8, 19, 22, 14, 19, 19, 1, 17, 17, 1, 23, 6, 7, 11, 26, 3, 15, 20, 24, 24, 16, 20, 15, 26, 1, 8, 23, 14, 11, 8, 27, 21, 17, 18, 28, 3, 20, 17, 28, 5, 1, 1, 3, 0, 1, 20, 19, 28, 5, 19, 11, 6, 5, 20, 18, 5, 21, 23, 13, 19, 7, 6, 6, 1, 10, 2, 12, 2, 13, 1, 2, 2, 24, 6, 11, 16, 0, 23, 0, 23, 21, 1, 27, 2, 2, 9, 16, 24, 20, 17, 2, 10, 29, 26, 21, 6, 26, 11, 19, 29, 17, 9, 10, 1, 14, 28, 10, 5, 25, 18, 16, 23, 1, 11, 24, 28, 10, 2, 23, 11, 28, 4, 29, 7, 11, 18, 13, 5, 13, 22, 28, 8, 13, 1, 7, 3, 17, 1, 9, 29, 15, 9, 8, 10, 15, 13, 3, 9, 11, 1, 21, 1, 26, 22, 28, 12, 2, 1, 12, 28, 20, 0, 5, 21, 24, 11, 15, 28, 16, 14, 13, 1, 29, 23, 12, 15, 2, 25, 9, 11, 6, 9, 16, 9, 18, 4, 18, 19, 4, 23, 20, 12, 11, 7, 13, 18, 8, 14, 20, 27, 10, 24, 17, 21, 21, 8, 11, 19, 22, 23, 23, 0, 7, 17, 22, 4, 2, 15, 16, 13, 0, 17, 1, 7, 8, 7, 24, 2, 4, 19, 6, 23, 11, 26, 14, 22, 22, 28, 10, 9, 25, 15, 4, 20, 5, 2, 19, 29, 12, 6, 19, 3, 22, 11, 14, 24, 6, 24, 20, 9, 11, 12, 26, 10, 19, 23, 8, 1, 26, 10, 14, 18, 22, 29, 1, 21, 2, 20, 20, 2, 8, 26, 20, 18, 9, 10, 17, 28, 6, 24, 14, 23, 10, 7, 15, 23, 12, 25, 17, 10, 5, 6, 6, 19, 16, 28, 27, 22, 9, 22, 19, 9, 9, 22, 16, 5, 11, 21, 4, 10, 20, 28, 13, 22, 24, 13, 25, 16, 2, 26, 2, 1, 3, 7, 23, 18, 28, 28, 2, 24, 6, 4, 19, 23, 17, 8, 28, 24, 29, 15, 12, 17, 22, 22, 11, 3, 20, 20, 14, 24, 11, 5, 8, 0, 24, 7, 4, 12, 14, 24, 5, 12, 14, 9, 22, 15, 15, 20, 2, 24, 7, 17, 17, 15, 23, 18, 3, 23, 12, 22, 22, 9, 20, 0, 1, 0, 21, 14, 5, 24, 7, 8, 23, 11, 15, 3, 12, 8, 18, 1, 9, 29, 19, 14, 5, 21, 1, 3, 17, 20, 13, 22, 15, 11, 3, 25, 24, 2, 22, 0, 4, 14, 8, 22, 6, 0, 20, 18, 5, 12, 24, 4, 6, 9, 14, 0, 0, 5, 22, 16, 20, 10, 25, 18, 17, 0, 24, 6, 29, 6, 8, 29, 17, 20, 19, 7, 28, 13, 28, 10, 1, 11, 3, 0, 27, 25, 29, 19, 2, 7, 26, 4, 7, 9, 0, 19, 5, 4, 19, 5, 19, 28, 3, 2, 5, 2, 4, 12, 10, 17, 1, 29, 4, 16, 16, 17, 24, 1, 14, 10, 14, 17, 6, 6, 7, 9, 24, 25, 18, 10, 8, 25, 28, 4, 27, 26, 16, 25, 25, 22, 17, 17, 10, 14, 19, 27, 13, 12, 26, 9, 5, 27, 27, 27, 4, 4, 13, 20, 29, 29, 4, 21, 12, 25, 22, 22, 26, 26, 2, 17, 4, 3, 7, 21, 13, 4, 0, 27, 8, 29, 19, 7, 15, 10, 16, 22, 18, 4, 18, 3, 20, 15, 0, 19, 16, 3, 23, 10, 7, 15, 20, 20, 12, 29, 21, 10, 16, 23, 9, 27, 20, 6, 26, 11, 20, 11, 2, 21, 21, 12, 29, 20, 12, 11, 8, 6, 25, 12, 17, 10, 4, 6, 15, 13, 21, 17, 16, 21, 20, 3, 4, 16, 10, 24, 14, 13, 25, 4, 25, 4, 27, 10, 23, 1, 8, 4, 6, 5, 26, 24, 18, 0, 21, 22, 8, 13, 19, 16, 3, 2, 22, 24, 23, 1, 1, 0, 7, 28, 4, 23, 2, 20, 21, 5, 14, 23, 9, 14, 17, 6, 8, 5, 2, 3, 3, 4, 27, 1, 12, 2, 16, 14, 18, 10, 2, 20, 1, 19, 22, 8, 19, 12, 10, 10, 24, 28, 1, 14, 19, 11, 14, 17, 13, 1, 10, 10, 4, 17, 27, 25, 2, 11, 12, 5, 8, 7, 23, 2, 0, 21, 17, 7, 18, 1, 18, 4, 22, 12, 17, 1, 15, 22, 27, 13, 15, 22, 22, 4, 10, 17, 21, 5, 27, 8, 0, 22, 4, 0, 16, 21, 26, 19, 10, 23, 5, 6, 27, 16, 11, 22, 0, 10, 22, 13, 22, 23, 25, 24, 5, 28, 12, 23, 0, 16, 9, 22, 27, 12, 10, 18, 23, 21, 14, 27, 16, 12, 10, 14, 5, 22, 19, 14, 24, 26, 23, 4, 27, 8, 17, 5, 4, 15, 1, 15, 27, 12, 24, 8, 13, 17, 11, 0, 18, 18, 4, 14, 11, 28, 17, 5, 27, 16, 9, 8, 20, 27, 29, 8, 15, 18, 12, 27, 13, 18, 4, 16, 4, 27, 6, 28, 0, 25, 11, 29, 26, 29, 13, 25, 5, 2, 17, 11, 23, 8, 15, 5, 16, 8, 0, 26, 0, 12, 9, 18, 25, 22, 23, 0, 2, 15, 0, 28, 5, 19, 15, 29, 4, 27, 15, 21, 10, 24, 14, 4, 5, 14, 17, 25, 11, 28, 19, 23, 10, 0, 7, 13, 14, 22, 2, 1, 1, 15, 2, 29, 20, 6, 14, 23, 20, 2, 10, 8]\n",
      "8192 20224\n",
      "8192 20224\n",
      "8192 20224\n",
      "8192 20224\n",
      "8192 20224\n",
      "8192 20224\n",
      "8192 20224\n",
      "8192 20224\n",
      "8192 20224\n",
      "8192 20224\n",
      "list_HBM_bank_contents_reordered: 10 8192\n"
     ]
    }
   ],
   "source": [
    "# Reorder list_HBM_bank_contents\n",
    "\n",
    "print(len(list_HBM_bank_contents))\n",
    "print(\"list_entries_per_bank:\\n\", list_entries_per_bank)\n",
    "print(\"list_last_valid_element:\\n\", list_last_valid_element)\n",
    "\n",
    "list_HBM_bank_contents_reordered = [] # put all contents of the same HBM bank together\n",
    "\n",
    "for b in range(HBM_bank_num):\n",
    "    sub_list = []\n",
    "    for c in range(cluster_num):\n",
    "        sub_list += [list_HBM_bank_contents[c * HBM_bank_num + b]]\n",
    "    print(len(sub_list), len(sub_list[0]))\n",
    "    list_HBM_bank_contents_reordered += [sub_list]\n",
    "    \n",
    "print(\"list_HBM_bank_contents_reordered:\", len(list_HBM_bank_contents_reordered), len(list_HBM_bank_contents_reordered[0]))"
   ]
  },
  {
   "cell_type": "code",
   "execution_count": 28,
   "metadata": {},
   "outputs": [
    {
     "name": "stdout",
     "output_type": "stream",
     "text": [
      "HBM_bank_contents_all: shape: 10\tsize: 2135870080\n"
     ]
    }
   ],
   "source": [
    "# Concatenate \n",
    "\n",
    "HBM_bank_contents_all = [bytes()] * HBM_bank_num # contents of each bank\n",
    "for b in range(HBM_bank_num):\n",
    "    HBM_bank_contents_all[b] = HBM_bank_contents_all[b].join(list_HBM_bank_contents_reordered[b])\n",
    "    \n",
    "total_size = np.sum(np.array([len(h) for h in HBM_bank_contents_all]))\n",
    "print(\"HBM_bank_contents_all: shape: {}\\tsize: {}\".format(len(HBM_bank_contents_all), total_size))"
   ]
  },
  {
   "cell_type": "code",
   "execution_count": 33,
   "metadata": {},
   "outputs": [
    {
     "name": "stdout",
     "output_type": "stream",
     "text": [
      "/home/wejiang/saved_npy_data/FPGA_data_SIFT100M_IVF8192,PQ16/HBM_bank_0_raw\n",
      "/home/wejiang/saved_npy_data/FPGA_data_SIFT100M_IVF8192,PQ16/HBM_bank_1_raw\n",
      "/home/wejiang/saved_npy_data/FPGA_data_SIFT100M_IVF8192,PQ16/HBM_bank_2_raw\n",
      "/home/wejiang/saved_npy_data/FPGA_data_SIFT100M_IVF8192,PQ16/HBM_bank_3_raw\n",
      "/home/wejiang/saved_npy_data/FPGA_data_SIFT100M_IVF8192,PQ16/HBM_bank_4_raw\n",
      "/home/wejiang/saved_npy_data/FPGA_data_SIFT100M_IVF8192,PQ16/HBM_bank_5_raw\n",
      "/home/wejiang/saved_npy_data/FPGA_data_SIFT100M_IVF8192,PQ16/HBM_bank_6_raw\n",
      "/home/wejiang/saved_npy_data/FPGA_data_SIFT100M_IVF8192,PQ16/HBM_bank_7_raw\n",
      "/home/wejiang/saved_npy_data/FPGA_data_SIFT100M_IVF8192,PQ16/HBM_bank_8_raw\n",
      "/home/wejiang/saved_npy_data/FPGA_data_SIFT100M_IVF8192,PQ16/HBM_bank_9_raw\n"
     ]
    }
   ],
   "source": [
    "# Save HBM contents \n",
    "\n",
    "for b in range(HBM_bank_num):\n",
    "    assert len(HBM_bank_contents_all[b]) == len(HBM_bank_contents_all[0])\n",
    "\n",
    "for b in range(HBM_bank_num):\n",
    "    print(output_dir + 'saved_npy_data/{}/HBM_bank_{}_raw'.format(folder_name, b))\n",
    "    with open (output_dir + 'saved_npy_data/{}/HBM_bank_{}_raw'.format(folder_name, b), 'wb') as f:\n",
    "        f.write(HBM_bank_contents_all[b])"
   ]
  },
  {
   "cell_type": "code",
   "execution_count": 32,
   "metadata": {},
   "outputs": [
    {
     "name": "stdout",
     "output_type": "stream",
     "text": [
      "3337023.0\n"
     ]
    }
   ],
   "source": [
    "# Save control contents\n",
    "\n",
    "#  The format of storing HBM_info_start_addr_and_scanned_entries_every_cell_and_last_element_valid: \n",
    "#     8192 start_addr, then 8192 scanned_entries_every_cell, then 8192 last_valid_element\n",
    "#     int start_addr_LUT[nlist];\n",
    "#     int scanned_entries_every_cell_LUT[nlist];\n",
    "#     int last_valid_channel_LUT[nlist];  \n",
    "\n",
    "list_start_addr_every_cell = [0]\n",
    "for c in range(cluster_num - 1):\n",
    "    list_start_addr_every_cell.append(list_start_addr_every_cell[c] + list_entries_per_bank[c])\n",
    "\n",
    "assert len(list_start_addr_every_cell) == len(list_entries_per_bank) and\\\n",
    "    len(list_start_addr_every_cell) == len(list_last_valid_element)\n",
    "\n",
    "print(list_start_addr_every_cell[-1])\n",
    "\n",
    "HBM_info_start_addr_and_scanned_entries_every_cell_and_last_element_valid = \\\n",
    "    list_start_addr_every_cell + list_entries_per_bank + list_last_valid_element\n",
    "\n",
    "HBM_info_start_addr_and_scanned_entries_every_cell_and_last_element_valid = np.array(\n",
    "    HBM_info_start_addr_and_scanned_entries_every_cell_and_last_element_valid, dtype=np.int32)\n",
    "\n",
    "HBM_info_start_addr_and_scanned_entries_every_cell_and_last_element_valid.tofile(\n",
    "    output_dir + \"saved_npy_data/{}/HBM_info_start_addr_and_scanned_entries_every_cell_and_last_element_valid_3_by_{}_raw\".format(\n",
    "        folder_name, cluster_num))"
   ]
  },
  {
   "cell_type": "code",
   "execution_count": null,
   "metadata": {},
   "outputs": [],
   "source": [
    "\"\"\" Part 3: playground\"\"\""
   ]
  },
  {
   "cell_type": "code",
   "execution_count": 332,
   "metadata": {},
   "outputs": [
    {
     "name": "stdout",
     "output_type": "stream",
     "text": [
      "./saved_npy_data/FPGA_data_SIFT100M_IVF8192,PQ16/HBM_bank_0_raw\n",
      "True\n",
      "101841920\n"
     ]
    }
   ],
   "source": [
    "# Verify\n",
    "print(output_dir + 'saved_npy_data/{}/HBM_bank_0_raw'.format(folder_name))\n",
    "print(os.path.exists(output_dir + 'saved_npy_data/{}/HBM_bank_0_raw'.format(folder_name)))\n",
    "loaded_HBM_bytes = bytes()\n",
    "with open (output_dir + 'saved_npy_data/{}/HBM_bank_0_raw'.format(folder_name), 'rb') as f:\n",
    "    loaded_HBM_bytes = f.read()\n",
    "    print(len(loaded_HBM_bytes))"
   ]
  },
  {
   "cell_type": "code",
   "execution_count": 333,
   "metadata": {},
   "outputs": [
    {
     "data": {
      "text/plain": [
       "251"
      ]
     },
     "execution_count": 333,
     "metadata": {},
     "output_type": "execute_result"
    }
   ],
   "source": [
    "loaded_HBM_bytes[101841920 - 5]"
   ]
  },
  {
   "cell_type": "code",
   "execution_count": 334,
   "metadata": {},
   "outputs": [
    {
     "name": "stdout",
     "output_type": "stream",
     "text": [
      "16468\n"
     ]
    }
   ],
   "source": [
    "tmp = int.from_bytes(loaded_HBM_bytes[0:4], \"little\", signed=True)\n",
    "print(tmp)\n",
    "\n",
    "# mask =  0b01111111\n",
    "# byte_from_file = int(loaded_HBM_bytes[0:4])\n",
    "# value = mask & byte_from_file\n",
    "# print(value)"
   ]
  },
  {
   "cell_type": "code",
   "execution_count": 336,
   "metadata": {},
   "outputs": [
    {
     "name": "stdout",
     "output_type": "stream",
     "text": [
      "axi_id:  0\n",
      "vec ID: 16468\n",
      "60\n",
      "196\n",
      "35\n",
      "96\n",
      "9\n",
      "220\n",
      "26\n",
      "233\n",
      "109\n",
      "94\n",
      "204\n",
      "37\n",
      "246\n",
      "252\n",
      "54\n",
      "62\n",
      "vec ID: 53119\n",
      "182\n",
      "126\n",
      "51\n",
      "95\n",
      "122\n",
      "167\n",
      "58\n",
      "171\n",
      "69\n",
      "35\n",
      "92\n",
      "130\n",
      "138\n",
      "53\n",
      "148\n",
      "136\n",
      "vec ID: 106484\n",
      "207\n",
      "2\n",
      "35\n",
      "175\n",
      "222\n",
      "249\n",
      "174\n",
      "101\n",
      "153\n",
      "139\n",
      "200\n",
      "226\n",
      "162\n",
      "9\n",
      "184\n",
      "171\n",
      "axi_id:  1\n",
      "vec ID: 115432\n",
      "157\n",
      "110\n",
      "49\n",
      "127\n",
      "189\n",
      "185\n",
      "188\n",
      "198\n",
      "0\n",
      "1\n",
      "217\n",
      "165\n",
      "77\n",
      "66\n",
      "174\n",
      "158\n",
      "vec ID: 116590\n",
      "236\n",
      "231\n",
      "110\n",
      "83\n",
      "217\n",
      "182\n",
      "252\n",
      "44\n",
      "1\n",
      "32\n",
      "220\n",
      "194\n",
      "41\n",
      "19\n",
      "95\n",
      "196\n",
      "vec ID: 116621\n",
      "150\n",
      "138\n",
      "250\n",
      "23\n",
      "60\n",
      "214\n",
      "104\n",
      "37\n",
      "39\n",
      "35\n",
      "198\n",
      "234\n",
      "136\n",
      "66\n",
      "184\n",
      "12\n"
     ]
    }
   ],
   "source": [
    "for axi_id in range(2):\n",
    "    print(\"axi_id: \", axi_id)\n",
    "    tmp_axi = loaded_HBM_bytes[axi_id * 64: axi_id * 64 + 64]\n",
    "    for v in range(3):\n",
    "        vec_ID = int.from_bytes(tmp_axi[v * 20: v * 20 + 4], \"little\", signed=True)\n",
    "        print(\"vec ID:\", vec_ID)\n",
    "        for i in range(16):\n",
    "            code = int.from_bytes(tmp_axi[v * 20 + 4 + i: v * 20 + 4 + i + 1], \"little\", signed=False)\n",
    "            print(code)"
   ]
  },
  {
   "cell_type": "code",
   "execution_count": 314,
   "metadata": {},
   "outputs": [
    {
     "name": "stdout",
     "output_type": "stream",
     "text": [
      "60\n",
      "196\n",
      "35\n",
      "96\n",
      "9\n",
      "220\n",
      "26\n",
      "233\n",
      "109\n",
      "94\n",
      "204\n",
      "37\n",
      "246\n",
      "252\n",
      "54\n",
      "62\n"
     ]
    }
   ],
   "source": [
    "for i in range(16):\n",
    "    tmp = int.from_bytes(loaded_HBM_bytes[4 + i: 4 + i + 1], \"big\", signed=False)\n",
    "    print(tmp)"
   ]
  },
  {
   "cell_type": "code",
   "execution_count": 322,
   "metadata": {},
   "outputs": [
    {
     "name": "stdout",
     "output_type": "stream",
     "text": [
      "==== Vector IDs ====\n",
      "[   16468    53119   106484 ... 99976161 99977969 99992760]\n",
      "\n",
      "shape: (9452,)\n",
      "\n",
      "==== PQ codes ====\n",
      "[[ 60 196  35 ... 252  54  62]\n",
      " [182 126  51 ...  53 148 136]\n",
      " [207   2  35 ...   9 184 171]\n",
      " ...\n",
      " [187 126  35 ... 202 184 229]\n",
      " [210  94 135 ... 230 253 172]\n",
      " [134 130 205 ... 220 220  30]]\n",
      "\n",
      "shape: (9452, 16)\n",
      "dtype:uint8\n",
      "\n"
     ]
    }
   ],
   "source": [
    "# Example of using function \"get_invlist\"\n",
    "list_id = 0\n",
    "list_vec_ids, list_PQ_codes = get_invlist(invlists, list_id)\n",
    "print(\"==== Vector IDs ====\\n{}\\n\\nshape: {}\\n\".format(list_vec_ids, list_vec_ids.shape))\n",
    "print(\"==== PQ codes ====\\n{}\\n\\nshape: {}\\ndtype:{}\\n\".format(list_PQ_codes, list_PQ_codes.shape, list_PQ_codes.dtype))"
   ]
  },
  {
   "cell_type": "code",
   "execution_count": null,
   "metadata": {},
   "outputs": [],
   "source": [
    "# little endian is false\n",
    "for i in range(10):\n",
    "    tmp = int.from_bytes(loaded_HBM_bytes[0 + i * 64: 4 + i * 64], \"little\", signed=False)\n",
    "    print(tmp)"
   ]
  },
  {
   "cell_type": "code",
   "execution_count": 242,
   "metadata": {},
   "outputs": [
    {
     "data": {
      "text/plain": [
       "101841920"
      ]
     },
     "execution_count": 242,
     "metadata": {},
     "output_type": "execute_result"
    }
   ],
   "source": [
    "len(HBM_bank_contents_all[0])"
   ]
  },
  {
   "cell_type": "code",
   "execution_count": 282,
   "metadata": {},
   "outputs": [
    {
     "name": "stdout",
     "output_type": "stream",
     "text": [
      "-389938944 1858535680 -1916337920\n"
     ]
    }
   ],
   "source": [
    "second_axi = loaded_HBM_bytes[64+0:64+64]\n",
    "print(int.from_bytes(second_axi[0:4], \"little\", signed=True), \n",
    "      int.from_bytes(second_axi[20 + 0: 20 + 4], \"little\", signed=True), \n",
    "      int.from_bytes(second_axi[40 + 0:40 + 4], \"little\", signed=True))"
   ]
  },
  {
   "cell_type": "code",
   "execution_count": 241,
   "metadata": {},
   "outputs": [
    {
     "name": "stdout",
     "output_type": "stream",
     "text": [
      "./saved_npy_data/FPGA_data_SIFT100M_IVF8192,PQ16/product_quantizer_float32_16_256_8_raw\n",
      "131072\n"
     ]
    }
   ],
   "source": [
    "# Verify\n",
    "print(\"./saved_npy_data/{}/product_quantizer_float32_{}_{}_{}_raw\".format(\n",
    "    folder_name, PQ_quantizer.shape[0], PQ_quantizer.shape[1], PQ_quantizer.shape[2]))\n",
    "loaded_HBM_bytes = bytes()\n",
    "with open (\"./saved_npy_data/{}/product_quantizer_float32_{}_{}_{}_raw\".format(\n",
    "    folder_name, PQ_quantizer.shape[0], PQ_quantizer.shape[1], PQ_quantizer.shape[2]), 'rb') as f:\n",
    "    loaded_HBM_bytes = f.read()\n",
    "    print(len(loaded_HBM_bytes))"
   ]
  },
  {
   "cell_type": "code",
   "execution_count": null,
   "metadata": {},
   "outputs": [],
   "source": []
  }
 ],
 "metadata": {
  "kernelspec": {
   "display_name": "Python 3",
   "language": "python",
   "name": "python3"
  },
  "language_info": {
   "codemirror_mode": {
    "name": "ipython",
    "version": 3
   },
   "file_extension": ".py",
   "mimetype": "text/x-python",
   "name": "python",
   "nbconvert_exporter": "python",
   "pygments_lexer": "ipython3",
   "version": "3.7.9"
  }
 },
 "nbformat": 4,
 "nbformat_minor": 4
}
