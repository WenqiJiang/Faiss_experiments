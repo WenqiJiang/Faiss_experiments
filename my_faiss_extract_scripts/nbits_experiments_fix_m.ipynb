{
 "cells": [
  {
   "cell_type": "code",
   "execution_count": null,
   "metadata": {},
   "outputs": [],
   "source": [
    "import numpy as np\n",
    "import time\n",
    "import faiss"
   ]
  },
  {
   "cell_type": "code",
   "execution_count": 6,
   "metadata": {},
   "outputs": [],
   "source": [
    "d = 128                          # dimension\n",
    "nb = int(1e6)                      # database size\n",
    "nq = int(1e5)                       # nb of queries\n",
    "np.random.seed(1234)             # make reproducible\n",
    "xb = np.random.random((nb, d)).astype('float32')\n",
    "xb[:, 0] += np.arange(nb) / 1000.\n",
    "xq = np.random.random((nq, d)).astype('float32')\n",
    "xq[:, 0] += np.arange(nq) / 1000."
   ]
  },
  {
   "cell_type": "markdown",
   "metadata": {},
   "source": [
    "## m=16, nbits=8"
   ]
  },
  {
   "cell_type": "code",
   "execution_count": 10,
   "metadata": {},
   "outputs": [],
   "source": [
    "m = 16\n",
    "nbits = 8\n",
    "index_m_16_nbits_8 = faiss.IndexPQ(d, m, nbits)\n",
    "                                  # 8 specifies that each sub-vector is encoded as 8 bits\n",
    "index_m_16_nbits_8.train(xb)\n",
    "index_m_16_nbits_8.add(xb)"
   ]
  },
  {
   "cell_type": "code",
   "execution_count": 17,
   "metadata": {},
   "outputs": [
    {
     "name": "stdout",
     "output_type": "stream",
     "text": [
      "Time elapse for searching 10000 queries: 6.297243118286133 sec\t throughput=1587.9964949998016\n"
     ]
    }
   ],
   "source": [
    "k = 1\n",
    "nq_subset = 10000\n",
    "\n",
    "start = time.time()\n",
    "D, I = index_m_16_nbits_8.search(xq[:nq_subset], k) # sanity check\n",
    "# print(I)\n",
    "# print(D)\n",
    "end = time.time()\n",
    "print(\"Time elapse for searching {} queries: {} sec\\t throughput={}\".format(\n",
    "    nq_subset, end - start, nq_subset / (end - start)))"
   ]
  },
  {
   "cell_type": "markdown",
   "metadata": {},
   "source": [
    "## m=16, nbits=7"
   ]
  },
  {
   "cell_type": "code",
   "execution_count": 18,
   "metadata": {},
   "outputs": [],
   "source": [
    "m = 16\n",
    "nbits = 7\n",
    "index_m_16_nbits_7 = faiss.IndexPQ(d, m, nbits)\n",
    "                                  # 8 specifies that each sub-vector is encoded as 8 bits\n",
    "index_m_16_nbits_7.train(xb)\n",
    "index_m_16_nbits_7.add(xb)"
   ]
  },
  {
   "cell_type": "code",
   "execution_count": 20,
   "metadata": {},
   "outputs": [
    {
     "name": "stdout",
     "output_type": "stream",
     "text": [
      "Time elapse for searching 10000 queries: 41.380993366241455 sec\t throughput=241.65683775387527\n"
     ]
    }
   ],
   "source": [
    "k = 1\n",
    "nq_subset = 10000\n",
    "\n",
    "start = time.time()\n",
    "D, I = index_m_16_nbits_7.search(xq[:nq_subset], k) # sanity check\n",
    "# print(I)\n",
    "# print(D)\n",
    "end = time.time()\n",
    "print(\"Time elapse for searching {} queries: {} sec\\t throughput={}\".format(\n",
    "    nq_subset, end - start, nq_subset / (end - start)))"
   ]
  },
  {
   "cell_type": "markdown",
   "metadata": {},
   "source": [
    "## m=16, nbits=4"
   ]
  },
  {
   "cell_type": "code",
   "execution_count": 21,
   "metadata": {},
   "outputs": [],
   "source": [
    "m = 16\n",
    "nbits = 4\n",
    "index_m_16_nbits_4 = faiss.IndexPQ(d, m, nbits)\n",
    "                                  # 8 specifies that each sub-vector is encoded as 8 bits\n",
    "index_m_16_nbits_4.train(xb)\n",
    "index_m_16_nbits_4.add(xb)"
   ]
  },
  {
   "cell_type": "code",
   "execution_count": 22,
   "metadata": {},
   "outputs": [
    {
     "name": "stdout",
     "output_type": "stream",
     "text": [
      "Time elapse for searching 10000 queries: 30.897248029708862 sec\t throughput=323.6534202134969\n"
     ]
    }
   ],
   "source": [
    "k = 1\n",
    "nq_subset = 10000\n",
    "\n",
    "start = time.time()\n",
    "D, I = index_m_16_nbits_4.search(xq[:nq_subset], k) # sanity check\n",
    "# print(I)\n",
    "# print(D)\n",
    "end = time.time()\n",
    "print(\"Time elapse for searching {} queries: {} sec\\t throughput={}\".format(\n",
    "    nq_subset, end - start, nq_subset / (end - start)))"
   ]
  },
  {
   "cell_type": "code",
   "execution_count": null,
   "metadata": {},
   "outputs": [],
   "source": []
  },
  {
   "cell_type": "code",
   "execution_count": null,
   "metadata": {},
   "outputs": [],
   "source": []
  }
 ],
 "metadata": {
  "kernelspec": {
   "display_name": "Python 3",
   "language": "python",
   "name": "python3"
  },
  "language_info": {
   "codemirror_mode": {
    "name": "ipython",
    "version": 3
   },
   "file_extension": ".py",
   "mimetype": "text/x-python",
   "name": "python",
   "nbconvert_exporter": "python",
   "pygments_lexer": "ipython3",
   "version": "3.7.9"
  }
 },
 "nbformat": 4,
 "nbformat_minor": 4
}
