{
 "cells": [
  {
   "cell_type": "code",
   "execution_count": 87,
   "metadata": {},
   "outputs": [
    {
     "name": "stdout",
     "output_type": "stream",
     "text": [
      "Defaulting to user installation because normal site-packages is not writeable\n",
      "Requirement already satisfied: datasets in /home/alopardo/.local/lib/python3.10/site-packages (2.9.0)\n",
      "Requirement already satisfied: tqdm>=4.62.1 in /home/alopardo/.local/lib/python3.10/site-packages (from datasets) (4.64.1)\n",
      "Requirement already satisfied: requests>=2.19.0 in /usr/lib/python3/dist-packages (from datasets) (2.25.1)\n",
      "Requirement already satisfied: pyarrow>=6.0.0 in /home/alopardo/.local/lib/python3.10/site-packages (from datasets) (9.0.0)\n",
      "Requirement already satisfied: huggingface-hub<1.0.0,>=0.2.0 in /home/alopardo/.local/lib/python3.10/site-packages (from datasets) (0.12.0)\n",
      "Requirement already satisfied: packaging in /usr/lib/python3/dist-packages (from datasets) (21.3)\n",
      "Requirement already satisfied: multiprocess in /home/alopardo/.local/lib/python3.10/site-packages (from datasets) (0.70.14)\n",
      "Requirement already satisfied: fsspec[http]>=2021.11.1 in /home/alopardo/.local/lib/python3.10/site-packages (from datasets) (2023.1.0)\n",
      "Requirement already satisfied: aiohttp in /home/alopardo/.local/lib/python3.10/site-packages (from datasets) (3.8.4)\n",
      "Requirement already satisfied: numpy>=1.17 in /usr/lib/python3/dist-packages (from datasets) (1.21.5)\n",
      "Requirement already satisfied: pandas in /home/alopardo/.local/lib/python3.10/site-packages (from datasets) (1.5.3)\n",
      "Requirement already satisfied: xxhash in /home/alopardo/.local/lib/python3.10/site-packages (from datasets) (3.2.0)\n",
      "Requirement already satisfied: pyyaml>=5.1 in /usr/lib/python3/dist-packages (from datasets) (5.4.1)\n",
      "Requirement already satisfied: responses<0.19 in /home/alopardo/.local/lib/python3.10/site-packages (from datasets) (0.18.0)\n",
      "Requirement already satisfied: dill<0.3.7 in /home/alopardo/.local/lib/python3.10/site-packages (from datasets) (0.3.1.1)\n",
      "Requirement already satisfied: multidict<7.0,>=4.5 in /home/alopardo/.local/lib/python3.10/site-packages (from aiohttp->datasets) (6.0.4)\n",
      "Requirement already satisfied: frozenlist>=1.1.1 in /home/alopardo/.local/lib/python3.10/site-packages (from aiohttp->datasets) (1.3.3)\n",
      "Requirement already satisfied: async-timeout<5.0,>=4.0.0a3 in /home/alopardo/.local/lib/python3.10/site-packages (from aiohttp->datasets) (4.0.2)\n",
      "Requirement already satisfied: charset-normalizer<4.0,>=2.0 in /home/alopardo/.local/lib/python3.10/site-packages (from aiohttp->datasets) (3.0.1)\n",
      "Requirement already satisfied: yarl<2.0,>=1.0 in /home/alopardo/.local/lib/python3.10/site-packages (from aiohttp->datasets) (1.8.2)\n",
      "Requirement already satisfied: aiosignal>=1.1.2 in /home/alopardo/.local/lib/python3.10/site-packages (from aiohttp->datasets) (1.3.1)\n",
      "Requirement already satisfied: attrs>=17.3.0 in /usr/lib/python3/dist-packages (from aiohttp->datasets) (21.2.0)\n",
      "Requirement already satisfied: typing-extensions>=3.7.4.3 in /home/alopardo/.local/lib/python3.10/site-packages (from huggingface-hub<1.0.0,>=0.2.0->datasets) (4.5.0)\n",
      "Requirement already satisfied: filelock in /home/alopardo/.local/lib/python3.10/site-packages (from huggingface-hub<1.0.0,>=0.2.0->datasets) (3.8.0)\n",
      "Requirement already satisfied: urllib3>=1.25.10 in /usr/lib/python3/dist-packages (from responses<0.19->datasets) (1.26.5)\n",
      "Collecting dill<0.3.7\n",
      "  Using cached dill-0.3.6-py3-none-any.whl (110 kB)\n",
      "Requirement already satisfied: python-dateutil>=2.8.1 in /home/alopardo/.local/lib/python3.10/site-packages (from pandas->datasets) (2.8.2)\n",
      "Requirement already satisfied: pytz>=2020.1 in /usr/lib/python3/dist-packages (from pandas->datasets) (2022.1)\n",
      "Requirement already satisfied: six>=1.5 in /usr/lib/python3/dist-packages (from python-dateutil>=2.8.1->pandas->datasets) (1.16.0)\n",
      "Requirement already satisfied: idna>=2.0 in /usr/lib/python3/dist-packages (from yarl<2.0,>=1.0->aiohttp->datasets) (3.3)\n",
      "Installing collected packages: dill\n",
      "  Attempting uninstall: dill\n",
      "    Found existing installation: dill 0.3.1.1\n",
      "    Uninstalling dill-0.3.1.1:\n",
      "      Successfully uninstalled dill-0.3.1.1\n",
      "\u001b[31mERROR: pip's dependency resolver does not currently take into account all the packages that are installed. This behaviour is the source of the following dependency conflicts.\n",
      "apache-beam 2.45.0 requires dill<0.3.2,>=0.3.1.1, but you have dill 0.3.6 which is incompatible.\u001b[0m\u001b[31m\n",
      "\u001b[0mSuccessfully installed dill-0.3.6\n",
      "Defaulting to user installation because normal site-packages is not writeable\n",
      "Collecting scipy\n",
      "  Downloading scipy-1.10.1-cp310-cp310-manylinux_2_17_x86_64.manylinux2014_x86_64.whl (34.4 MB)\n",
      "\u001b[2K     \u001b[90m━━━━━━━━━━━━━━━━━━━━━━━━━━━━━━━━━━━━━━━━\u001b[0m \u001b[32m34.4/34.4 MB\u001b[0m \u001b[31m41.5 MB/s\u001b[0m eta \u001b[36m0:00:00\u001b[0m00:01\u001b[0m00:01\u001b[0m\n",
      "\u001b[?25hRequirement already satisfied: numpy<1.27.0,>=1.19.5 in /usr/lib/python3/dist-packages (from scipy) (1.21.5)\n",
      "Installing collected packages: scipy\n",
      "Successfully installed scipy-1.10.1\n",
      "Defaulting to user installation because normal site-packages is not writeable\n",
      "Requirement already satisfied: apache_beam in /home/alopardo/.local/lib/python3.10/site-packages (2.45.0)\n",
      "Requirement already satisfied: grpcio!=1.48.0,<2,>=1.33.1 in /home/alopardo/.local/lib/python3.10/site-packages (from apache_beam) (1.51.1)\n",
      "Requirement already satisfied: orjson<4.0 in /home/alopardo/.local/lib/python3.10/site-packages (from apache_beam) (3.8.6)\n",
      "Requirement already satisfied: crcmod<2.0,>=1.7 in /home/alopardo/.local/lib/python3.10/site-packages (from apache_beam) (1.7)\n",
      "Requirement already satisfied: typing-extensions>=3.7.0 in /home/alopardo/.local/lib/python3.10/site-packages (from apache_beam) (4.5.0)\n",
      "Requirement already satisfied: zstandard<1,>=0.18.0 in /home/alopardo/.local/lib/python3.10/site-packages (from apache_beam) (0.19.0)\n",
      "Requirement already satisfied: pyarrow<10.0.0,>=0.15.1 in /home/alopardo/.local/lib/python3.10/site-packages (from apache_beam) (9.0.0)\n",
      "Requirement already satisfied: python-dateutil<3,>=2.8.0 in /home/alopardo/.local/lib/python3.10/site-packages (from apache_beam) (2.8.2)\n",
      "Requirement already satisfied: cloudpickle~=2.2.1 in /home/alopardo/.local/lib/python3.10/site-packages (from apache_beam) (2.2.1)\n",
      "Collecting dill<0.3.2,>=0.3.1.1\n",
      "  Using cached dill-0.3.1.1-py3-none-any.whl\n",
      "Requirement already satisfied: fasteners<1.0,>=0.3 in /home/alopardo/.local/lib/python3.10/site-packages (from apache_beam) (0.18)\n",
      "Requirement already satisfied: httplib2<0.21.0,>=0.8 in /usr/lib/python3/dist-packages (from apache_beam) (0.20.2)\n",
      "Requirement already satisfied: pymongo<4.0.0,>=3.8.0 in /home/alopardo/.local/lib/python3.10/site-packages (from apache_beam) (3.13.0)\n",
      "Requirement already satisfied: hdfs<3.0.0,>=2.1.0 in /home/alopardo/.local/lib/python3.10/site-packages (from apache_beam) (2.7.0)\n",
      "Requirement already satisfied: objsize<0.7.0,>=0.6.1 in /home/alopardo/.local/lib/python3.10/site-packages (from apache_beam) (0.6.1)\n",
      "Requirement already satisfied: pydot<2,>=1.2.0 in /home/alopardo/.local/lib/python3.10/site-packages (from apache_beam) (1.4.2)\n",
      "Requirement already satisfied: protobuf<4,>3.12.2 in /home/alopardo/.local/lib/python3.10/site-packages (from apache_beam) (3.20.3)\n",
      "Requirement already satisfied: proto-plus<2,>=1.7.1 in /home/alopardo/.local/lib/python3.10/site-packages (from apache_beam) (1.22.2)\n",
      "Requirement already satisfied: regex>=2020.6.8 in /home/alopardo/.local/lib/python3.10/site-packages (from apache_beam) (2022.10.31)\n",
      "Requirement already satisfied: numpy<1.23.0,>=1.14.3 in /usr/lib/python3/dist-packages (from apache_beam) (1.21.5)\n",
      "Requirement already satisfied: requests<3.0.0,>=2.24.0 in /usr/lib/python3/dist-packages (from apache_beam) (2.25.1)\n",
      "Requirement already satisfied: pytz>=2018.3 in /usr/lib/python3/dist-packages (from apache_beam) (2022.1)\n",
      "Requirement already satisfied: fastavro<2,>=0.23.6 in /home/alopardo/.local/lib/python3.10/site-packages (from apache_beam) (1.7.1)\n",
      "Requirement already satisfied: six>=1.9.0 in /usr/lib/python3/dist-packages (from hdfs<3.0.0,>=2.1.0->apache_beam) (1.16.0)\n",
      "Requirement already satisfied: docopt in /home/alopardo/.local/lib/python3.10/site-packages (from hdfs<3.0.0,>=2.1.0->apache_beam) (0.6.2)\n",
      "Requirement already satisfied: pyparsing!=3.0.0,!=3.0.1,!=3.0.2,!=3.0.3,<4,>=2.4.2 in /usr/lib/python3/dist-packages (from httplib2<0.21.0,>=0.8->apache_beam) (2.4.7)\n",
      "Installing collected packages: dill\n",
      "  Attempting uninstall: dill\n",
      "    Found existing installation: dill 0.3.6\n",
      "    Uninstalling dill-0.3.6:\n",
      "      Successfully uninstalled dill-0.3.6\n",
      "\u001b[31mERROR: pip's dependency resolver does not currently take into account all the packages that are installed. This behaviour is the source of the following dependency conflicts.\n",
      "multiprocess 0.70.14 requires dill>=0.3.6, but you have dill 0.3.1.1 which is incompatible.\u001b[0m\u001b[31m\n",
      "\u001b[0mSuccessfully installed dill-0.3.1.1\n",
      "Defaulting to user installation because normal site-packages is not writeable\n",
      "Requirement already satisfied: Wikipedia-API in /home/alopardo/.local/lib/python3.10/site-packages (0.5.8)\n",
      "Requirement already satisfied: requests in /usr/lib/python3/dist-packages (from Wikipedia-API) (2.25.1)\n",
      "Defaulting to user installation because normal site-packages is not writeable\n",
      "Requirement already satisfied: requests-futures in /home/alopardo/.local/lib/python3.10/site-packages (1.0.0)\n",
      "Requirement already satisfied: requests>=1.2.0 in /usr/lib/python3/dist-packages (from requests-futures) (2.25.1)\n",
      "Defaulting to user installation because normal site-packages is not writeable\n",
      "Requirement already satisfied: apache-beam[interactive] in /home/alopardo/.local/lib/python3.10/site-packages (2.45.0)\n",
      "Requirement already satisfied: cloudpickle~=2.2.1 in /home/alopardo/.local/lib/python3.10/site-packages (from apache-beam[interactive]) (2.2.1)\n",
      "Requirement already satisfied: fasteners<1.0,>=0.3 in /home/alopardo/.local/lib/python3.10/site-packages (from apache-beam[interactive]) (0.18)\n",
      "Requirement already satisfied: pyarrow<10.0.0,>=0.15.1 in /home/alopardo/.local/lib/python3.10/site-packages (from apache-beam[interactive]) (9.0.0)\n",
      "Requirement already satisfied: protobuf<4,>3.12.2 in /home/alopardo/.local/lib/python3.10/site-packages (from apache-beam[interactive]) (3.20.3)\n",
      "Requirement already satisfied: python-dateutil<3,>=2.8.0 in /home/alopardo/.local/lib/python3.10/site-packages (from apache-beam[interactive]) (2.8.2)\n",
      "Requirement already satisfied: numpy<1.23.0,>=1.14.3 in /usr/lib/python3/dist-packages (from apache-beam[interactive]) (1.21.5)\n",
      "Requirement already satisfied: objsize<0.7.0,>=0.6.1 in /home/alopardo/.local/lib/python3.10/site-packages (from apache-beam[interactive]) (0.6.1)\n",
      "Requirement already satisfied: crcmod<2.0,>=1.7 in /home/alopardo/.local/lib/python3.10/site-packages (from apache-beam[interactive]) (1.7)\n",
      "Requirement already satisfied: zstandard<1,>=0.18.0 in /home/alopardo/.local/lib/python3.10/site-packages (from apache-beam[interactive]) (0.19.0)\n",
      "Requirement already satisfied: grpcio!=1.48.0,<2,>=1.33.1 in /home/alopardo/.local/lib/python3.10/site-packages (from apache-beam[interactive]) (1.51.1)\n",
      "Requirement already satisfied: regex>=2020.6.8 in /home/alopardo/.local/lib/python3.10/site-packages (from apache-beam[interactive]) (2022.10.31)\n",
      "Requirement already satisfied: hdfs<3.0.0,>=2.1.0 in /home/alopardo/.local/lib/python3.10/site-packages (from apache-beam[interactive]) (2.7.0)\n",
      "Requirement already satisfied: requests<3.0.0,>=2.24.0 in /usr/lib/python3/dist-packages (from apache-beam[interactive]) (2.25.1)\n",
      "Requirement already satisfied: orjson<4.0 in /home/alopardo/.local/lib/python3.10/site-packages (from apache-beam[interactive]) (3.8.6)\n",
      "Requirement already satisfied: pydot<2,>=1.2.0 in /home/alopardo/.local/lib/python3.10/site-packages (from apache-beam[interactive]) (1.4.2)\n",
      "Requirement already satisfied: pymongo<4.0.0,>=3.8.0 in /home/alopardo/.local/lib/python3.10/site-packages (from apache-beam[interactive]) (3.13.0)\n",
      "Requirement already satisfied: dill<0.3.2,>=0.3.1.1 in /home/alopardo/.local/lib/python3.10/site-packages (from apache-beam[interactive]) (0.3.1.1)\n",
      "Requirement already satisfied: proto-plus<2,>=1.7.1 in /home/alopardo/.local/lib/python3.10/site-packages (from apache-beam[interactive]) (1.22.2)\n",
      "Requirement already satisfied: typing-extensions>=3.7.0 in /home/alopardo/.local/lib/python3.10/site-packages (from apache-beam[interactive]) (4.5.0)\n",
      "Requirement already satisfied: pytz>=2018.3 in /usr/lib/python3/dist-packages (from apache-beam[interactive]) (2022.1)\n",
      "Requirement already satisfied: httplib2<0.21.0,>=0.8 in /usr/lib/python3/dist-packages (from apache-beam[interactive]) (0.20.2)\n",
      "Requirement already satisfied: fastavro<2,>=0.23.6 in /home/alopardo/.local/lib/python3.10/site-packages (from apache-beam[interactive]) (1.7.1)\n",
      "Requirement already satisfied: facets-overview<2,>=1.0.0 in /home/alopardo/.local/lib/python3.10/site-packages (from apache-beam[interactive]) (1.0.2)\n",
      "Requirement already satisfied: ipython<9,>=8 in /home/alopardo/.local/lib/python3.10/site-packages (from apache-beam[interactive]) (8.10.0)\n",
      "Requirement already satisfied: google-cloud-dataproc<3.2.0,>=3.0.0 in /home/alopardo/.local/lib/python3.10/site-packages (from apache-beam[interactive]) (3.1.1)\n",
      "Requirement already satisfied: ipywidgets<9,>=8 in /home/alopardo/.local/lib/python3.10/site-packages (from apache-beam[interactive]) (8.0.4)\n",
      "Requirement already satisfied: timeloop<2,>=1.0.2 in /home/alopardo/.local/lib/python3.10/site-packages (from apache-beam[interactive]) (1.0.2)\n",
      "Requirement already satisfied: ipykernel<7,>=6 in /home/alopardo/.local/lib/python3.10/site-packages (from apache-beam[interactive]) (6.21.2)\n",
      "Requirement already satisfied: jupyter-client<6.1.13,>=6.1.11 in /home/alopardo/.local/lib/python3.10/site-packages (from apache-beam[interactive]) (6.1.12)\n",
      "Requirement already satisfied: pandas>=0.22.0 in /home/alopardo/.local/lib/python3.10/site-packages (from facets-overview<2,>=1.0.0->apache-beam[interactive]) (1.5.3)\n",
      "Requirement already satisfied: google-api-core[grpc]<3.0.0dev,>=1.28.0 in /home/alopardo/.local/lib/python3.10/site-packages (from google-cloud-dataproc<3.2.0,>=3.0.0->apache-beam[interactive]) (2.11.0)\n",
      "Requirement already satisfied: docopt in /home/alopardo/.local/lib/python3.10/site-packages (from hdfs<3.0.0,>=2.1.0->apache-beam[interactive]) (0.6.2)\n",
      "Requirement already satisfied: six>=1.9.0 in /usr/lib/python3/dist-packages (from hdfs<3.0.0,>=2.1.0->apache-beam[interactive]) (1.16.0)\n",
      "Requirement already satisfied: pyparsing!=3.0.0,!=3.0.1,!=3.0.2,!=3.0.3,<4,>=2.4.2 in /usr/lib/python3/dist-packages (from httplib2<0.21.0,>=0.8->apache-beam[interactive]) (2.4.7)\n",
      "Requirement already satisfied: pyzmq>=20 in /home/alopardo/.local/lib/python3.10/site-packages (from ipykernel<7,>=6->apache-beam[interactive]) (25.0.0)\n",
      "Requirement already satisfied: jupyter-core!=5.0.*,>=4.12 in /home/alopardo/.local/lib/python3.10/site-packages (from ipykernel<7,>=6->apache-beam[interactive]) (5.2.0)\n",
      "Requirement already satisfied: debugpy>=1.6.5 in /home/alopardo/.local/lib/python3.10/site-packages (from ipykernel<7,>=6->apache-beam[interactive]) (1.6.6)\n",
      "Requirement already satisfied: traitlets>=5.4.0 in /home/alopardo/.local/lib/python3.10/site-packages (from ipykernel<7,>=6->apache-beam[interactive]) (5.9.0)\n",
      "Requirement already satisfied: nest-asyncio in /home/alopardo/.local/lib/python3.10/site-packages (from ipykernel<7,>=6->apache-beam[interactive]) (1.5.6)\n",
      "Requirement already satisfied: tornado>=6.1 in /home/alopardo/.local/lib/python3.10/site-packages (from ipykernel<7,>=6->apache-beam[interactive]) (6.2)\n",
      "Requirement already satisfied: comm>=0.1.1 in /home/alopardo/.local/lib/python3.10/site-packages (from ipykernel<7,>=6->apache-beam[interactive]) (0.1.2)\n",
      "Requirement already satisfied: packaging in /usr/lib/python3/dist-packages (from ipykernel<7,>=6->apache-beam[interactive]) (21.3)\n",
      "Requirement already satisfied: matplotlib-inline>=0.1 in /home/alopardo/.local/lib/python3.10/site-packages (from ipykernel<7,>=6->apache-beam[interactive]) (0.1.6)\n",
      "Requirement already satisfied: psutil in /home/alopardo/.local/lib/python3.10/site-packages (from ipykernel<7,>=6->apache-beam[interactive]) (5.9.4)\n",
      "Requirement already satisfied: jedi>=0.16 in /home/alopardo/.local/lib/python3.10/site-packages (from ipython<9,>=8->apache-beam[interactive]) (0.18.2)\n",
      "Requirement already satisfied: prompt-toolkit<3.1.0,>=3.0.30 in /home/alopardo/.local/lib/python3.10/site-packages (from ipython<9,>=8->apache-beam[interactive]) (3.0.36)\n",
      "Requirement already satisfied: decorator in /home/alopardo/.local/lib/python3.10/site-packages (from ipython<9,>=8->apache-beam[interactive]) (5.1.1)\n",
      "Requirement already satisfied: pygments>=2.4.0 in /home/alopardo/.local/lib/python3.10/site-packages (from ipython<9,>=8->apache-beam[interactive]) (2.14.0)\n",
      "Requirement already satisfied: stack-data in /home/alopardo/.local/lib/python3.10/site-packages (from ipython<9,>=8->apache-beam[interactive]) (0.6.2)\n",
      "Requirement already satisfied: pexpect>4.3 in /usr/lib/python3/dist-packages (from ipython<9,>=8->apache-beam[interactive]) (4.8.0)\n",
      "Requirement already satisfied: pickleshare in /home/alopardo/.local/lib/python3.10/site-packages (from ipython<9,>=8->apache-beam[interactive]) (0.7.5)\n",
      "Requirement already satisfied: backcall in /home/alopardo/.local/lib/python3.10/site-packages (from ipython<9,>=8->apache-beam[interactive]) (0.2.0)\n",
      "Requirement already satisfied: widgetsnbextension~=4.0 in /home/alopardo/.local/lib/python3.10/site-packages (from ipywidgets<9,>=8->apache-beam[interactive]) (4.0.5)\n",
      "Requirement already satisfied: jupyterlab-widgets~=3.0 in /home/alopardo/.local/lib/python3.10/site-packages (from ipywidgets<9,>=8->apache-beam[interactive]) (3.0.5)\n",
      "Requirement already satisfied: googleapis-common-protos<2.0dev,>=1.56.2 in /home/alopardo/.local/lib/python3.10/site-packages (from google-api-core[grpc]<3.0.0dev,>=1.28.0->google-cloud-dataproc<3.2.0,>=3.0.0->apache-beam[interactive]) (1.58.0)\n",
      "Requirement already satisfied: google-auth<3.0dev,>=2.14.1 in /home/alopardo/.local/lib/python3.10/site-packages (from google-api-core[grpc]<3.0.0dev,>=1.28.0->google-cloud-dataproc<3.2.0,>=3.0.0->apache-beam[interactive]) (2.16.0)\n",
      "Requirement already satisfied: grpcio-status<2.0dev,>=1.33.2 in /home/alopardo/.local/lib/python3.10/site-packages (from google-api-core[grpc]<3.0.0dev,>=1.28.0->google-cloud-dataproc<3.2.0,>=3.0.0->apache-beam[interactive]) (1.48.2)\n",
      "Requirement already satisfied: parso<0.9.0,>=0.8.0 in /home/alopardo/.local/lib/python3.10/site-packages (from jedi>=0.16->ipython<9,>=8->apache-beam[interactive]) (0.8.3)\n",
      "Requirement already satisfied: platformdirs>=2.5 in /home/alopardo/.local/lib/python3.10/site-packages (from jupyter-core!=5.0.*,>=4.12->ipykernel<7,>=6->apache-beam[interactive]) (2.5.2)\n",
      "Requirement already satisfied: wcwidth in /home/alopardo/.local/lib/python3.10/site-packages (from prompt-toolkit<3.1.0,>=3.0.30->ipython<9,>=8->apache-beam[interactive]) (0.2.6)\n",
      "Requirement already satisfied: executing>=1.2.0 in /home/alopardo/.local/lib/python3.10/site-packages (from stack-data->ipython<9,>=8->apache-beam[interactive]) (1.2.0)\n",
      "Requirement already satisfied: asttokens>=2.1.0 in /home/alopardo/.local/lib/python3.10/site-packages (from stack-data->ipython<9,>=8->apache-beam[interactive]) (2.2.1)\n",
      "Requirement already satisfied: pure-eval in /home/alopardo/.local/lib/python3.10/site-packages (from stack-data->ipython<9,>=8->apache-beam[interactive]) (0.2.2)\n",
      "Requirement already satisfied: rsa<5,>=3.1.4 in /home/alopardo/.local/lib/python3.10/site-packages (from google-auth<3.0dev,>=2.14.1->google-api-core[grpc]<3.0.0dev,>=1.28.0->google-cloud-dataproc<3.2.0,>=3.0.0->apache-beam[interactive]) (4.9)\n",
      "Requirement already satisfied: pyasn1-modules>=0.2.1 in /usr/lib/python3/dist-packages (from google-auth<3.0dev,>=2.14.1->google-api-core[grpc]<3.0.0dev,>=1.28.0->google-cloud-dataproc<3.2.0,>=3.0.0->apache-beam[interactive]) (0.2.1)\n",
      "Requirement already satisfied: cachetools<6.0,>=2.0.0 in /home/alopardo/.local/lib/python3.10/site-packages (from google-auth<3.0dev,>=2.14.1->google-api-core[grpc]<3.0.0dev,>=1.28.0->google-cloud-dataproc<3.2.0,>=3.0.0->apache-beam[interactive]) (5.3.0)\n",
      "Requirement already satisfied: pyasn1>=0.1.3 in /usr/lib/python3/dist-packages (from rsa<5,>=3.1.4->google-auth<3.0dev,>=2.14.1->google-api-core[grpc]<3.0.0dev,>=1.28.0->google-cloud-dataproc<3.2.0,>=3.0.0->apache-beam[interactive]) (0.4.8)\n"
     ]
    }
   ],
   "source": [
    "!pip install datasets\n",
    "!pip install scipy\n",
    "!pip install apache_beam\n",
    "!pip install Wikipedia-API\n",
    "!pip install requests-futures\n",
    "!pip install apache-beam[interactive]"
   ]
  },
  {
   "cell_type": "code",
   "execution_count": 2,
   "metadata": {},
   "outputs": [],
   "source": [
    "import re\n",
    "#import wikipediaapi\n",
    "from datasets import load_dataset\n",
    "import requests"
   ]
  },
  {
   "cell_type": "code",
   "execution_count": 3,
   "metadata": {},
   "outputs": [],
   "source": [
    "\n",
    "def extract_title(page_url):\n",
    "    return re.search(r'title=(.*?)&amp;', page_url).group(1)\n",
    "\n",
    "def gen_request_url_for_2021_views(page_url):\n",
    "\n",
    "    title = extract_title(page_url)\n",
    "\n",
    "    url = f'https://wikimedia.org/api/rest_v1/metrics/pageviews/per-article/en.wikipedia/all-access/all-agents/{title}/monthly/2021010100/2021123100'\n",
    "\n",
    "    return url"
   ]
  },
  {
   "cell_type": "code",
   "execution_count": 4,
   "metadata": {},
   "outputs": [
    {
     "name": "stdout",
     "output_type": "stream",
     "text": [
      "Downloading and preparing dataset natural_questions/default to /mnt/scratch/alopardo/natural_questions/natural_questions/default/0.0.4/da8124c83e3394df62c0f9bbc6c07652bbe9288ad833053134d5f0e978bb4ee5...\n"
     ]
    },
    {
     "data": {
      "application/vnd.jupyter.widget-view+json": {
       "model_id": "c3be40b20c014200bd2c41c24f143a6d",
       "version_major": 2,
       "version_minor": 0
      },
      "text/plain": [
       "Downloading:   0%|          | 0.00/17.4k [00:00<?, ?B/s]"
      ]
     },
     "metadata": {},
     "output_type": "display_data"
    },
    {
     "data": {
      "application/vnd.jupyter.widget-view+json": {
       "model_id": "181dc1ae66b544ee97d0a0682b197b14",
       "version_major": 2,
       "version_minor": 0
      },
      "text/plain": [
       "Downloading data files:   0%|          | 0/2 [00:00<?, ?it/s]"
      ]
     },
     "metadata": {},
     "output_type": "display_data"
    },
    {
     "name": "stderr",
     "output_type": "stream",
     "text": [
      "/usr/lib/python3/dist-packages/pkg_resources/__init__.py:116: PkgResourcesDeprecationWarning: 1.16.0-unknown is an invalid version and will not be supported in a future release\n",
      "  warnings.warn(\n",
      "/usr/lib/python3/dist-packages/pkg_resources/__init__.py:116: PkgResourcesDeprecationWarning: 1.1build1 is an invalid version and will not be supported in a future release\n",
      "  warnings.warn(\n",
      "/usr/lib/python3/dist-packages/pkg_resources/__init__.py:116: PkgResourcesDeprecationWarning: 0.1.43ubuntu1 is an invalid version and will not be supported in a future release\n",
      "  warnings.warn(\n"
     ]
    },
    {
     "data": {
      "application/javascript": "\n        if (typeof window.interactive_beam_jquery == 'undefined') {\n          var jqueryScript = document.createElement('script');\n          jqueryScript.src = 'https://code.jquery.com/jquery-3.4.1.slim.min.js';\n          jqueryScript.type = 'text/javascript';\n          jqueryScript.onload = function() {\n            var datatableScript = document.createElement('script');\n            datatableScript.src = 'https://cdn.datatables.net/1.10.20/js/jquery.dataTables.min.js';\n            datatableScript.type = 'text/javascript';\n            datatableScript.onload = function() {\n              window.interactive_beam_jquery = jQuery.noConflict(true);\n              window.interactive_beam_jquery(document).ready(function($){\n                \n              });\n            }\n            document.head.appendChild(datatableScript);\n          };\n          document.head.appendChild(jqueryScript);\n        } else {\n          window.interactive_beam_jquery(document).ready(function($){\n            \n          });\n        }"
     },
     "metadata": {},
     "output_type": "display_data"
    }
   ],
   "source": [
    "#dataset = load_dataset(\"natural_questions\", \"dev\", split=\"validation\", cache_dir=\"/mnt/scratch/alopardo/natural_questions\")\n",
    "#dataset = load_dataset(\"natural_questions\", 'default', beam_runner='DirectRunner', ignore_verifications=True, cache_dir=\"/mnt/scratch/alopardo/natural_questions\")\n",
    "ds = Dataset.from_file(\"natural_questions-train.arrow\")"
   ]
  },
  {
   "cell_type": "code",
   "execution_count": 4,
   "metadata": {},
   "outputs": [],
   "source": [
    "headers = {\n",
    "        'User-Agent': 'Antonio Lopardo',\n",
    "        'From': 'antonio.lopardo@outlook.com'  # This is another valid field\n",
    "    }"
   ]
  },
  {
   "cell_type": "code",
   "execution_count": 9,
   "metadata": {},
   "outputs": [],
   "source": [
    "wiki_wiki = wikipediaapi.Wikipedia('en')\n",
    "responses = [query_for_2021_views(dataset[i]['document'][\"url\"]) for i in range(1000)]"
   ]
  },
  {
   "cell_type": "code",
   "execution_count": 5,
   "metadata": {},
   "outputs": [],
   "source": [
    "from concurrent.futures import as_completed\n",
    "from requests_futures.sessions import FuturesSession\n",
    "from concurrent.futures import ThreadPoolExecutor\n",
    "\n",
    "with FuturesSession(executor=ThreadPoolExecutor(max_workers=32)) as session:\n",
    "    futures = [session.get(gen_request_url_for_2021_views(dataset[i]['document'][\"url\"]), headers=headers) for i in range(1000)]\n",
    "    for future in as_completed(futures):\n",
    "        resp = future.result()"
   ]
  },
  {
   "cell_type": "code",
   "execution_count": 6,
   "metadata": {},
   "outputs": [
    {
     "name": "stdout",
     "output_type": "stream",
     "text": [
      "https://httpbin.org/delay/0\n",
      "https://httpbin.org/delay/1\n",
      "https://httpbin.org/delay/2\n",
      "https://httpbin.org/delay/0\n",
      "https://httpbin.org/delay/1\n",
      "https://httpbin.org/delay/2\n",
      "https://httpbin.org/delay/0\n",
      "https://httpbin.org/delay/1\n",
      "https://httpbin.org/delay/2\n",
      "https://httpbin.org/delay/0\n"
     ]
    }
   ],
   "source": [
    "for future in futures:\n",
    "        resp = future.result()\n",
    "        print(resp.json()['url'])"
   ]
  },
  {
   "cell_type": "code",
   "execution_count": 1,
   "metadata": {},
   "outputs": [],
   "source": [
    "import pickle\n",
    "\n",
    "with open('monthly_views_results_full.pickle', 'rb') as handle:\n",
    "    results = pickle.load(handle)\n"
   ]
  },
  {
   "cell_type": "code",
   "execution_count": 2,
   "metadata": {},
   "outputs": [
    {
     "data": {
      "text/plain": [
       "'{\"items\":[{\"project\":\"en.wikipedia\",\"article\":\"The_Walking_Dead_(season_8)\",\"granularity\":\"monthly\",\"timestamp\":\"2021010100\",\"access\":\"all-access\",\"agent\":\"all-agents\",\"views\":26344},{\"project\":\"en.wikipedia\",\"article\":\"The_Walking_Dead_(season_8)\",\"granularity\":\"monthly\",\"timestamp\":\"2021020100\",\"access\":\"all-access\",\"agent\":\"all-agents\",\"views\":28556},{\"project\":\"en.wikipedia\",\"article\":\"The_Walking_Dead_(season_8)\",\"granularity\":\"monthly\",\"timestamp\":\"2021030100\",\"access\":\"all-access\",\"agent\":\"all-agents\",\"views\":37578},{\"project\":\"en.wikipedia\",\"article\":\"The_Walking_Dead_(season_8)\",\"granularity\":\"monthly\",\"timestamp\":\"2021040100\",\"access\":\"all-access\",\"agent\":\"all-agents\",\"views\":30701},{\"project\":\"en.wikipedia\",\"article\":\"The_Walking_Dead_(season_8)\",\"granularity\":\"monthly\",\"timestamp\":\"2021050100\",\"access\":\"all-access\",\"agent\":\"all-agents\",\"views\":24895},{\"project\":\"en.wikipedia\",\"article\":\"The_Walking_Dead_(season_8)\",\"granularity\":\"monthly\",\"timestamp\":\"2021060100\",\"access\":\"all-access\",\"agent\":\"all-agents\",\"views\":22275},{\"project\":\"en.wikipedia\",\"article\":\"The_Walking_Dead_(season_8)\",\"granularity\":\"monthly\",\"timestamp\":\"2021070100\",\"access\":\"all-access\",\"agent\":\"all-agents\",\"views\":27862},{\"project\":\"en.wikipedia\",\"article\":\"The_Walking_Dead_(season_8)\",\"granularity\":\"monthly\",\"timestamp\":\"2021080100\",\"access\":\"all-access\",\"agent\":\"all-agents\",\"views\":39798},{\"project\":\"en.wikipedia\",\"article\":\"The_Walking_Dead_(season_8)\",\"granularity\":\"monthly\",\"timestamp\":\"2021090100\",\"access\":\"all-access\",\"agent\":\"all-agents\",\"views\":34355},{\"project\":\"en.wikipedia\",\"article\":\"The_Walking_Dead_(season_8)\",\"granularity\":\"monthly\",\"timestamp\":\"2021100100\",\"access\":\"all-access\",\"agent\":\"all-agents\",\"views\":26405},{\"project\":\"en.wikipedia\",\"article\":\"The_Walking_Dead_(season_8)\",\"granularity\":\"monthly\",\"timestamp\":\"2021110100\",\"access\":\"all-access\",\"agent\":\"all-agents\",\"views\":19503},{\"project\":\"en.wikipedia\",\"article\":\"The_Walking_Dead_(season_8)\",\"granularity\":\"monthly\",\"timestamp\":\"2021120100\",\"access\":\"all-access\",\"agent\":\"all-agents\",\"views\":15976}]}'"
      ]
     },
     "execution_count": 2,
     "metadata": {},
     "output_type": "execute_result"
    }
   ],
   "source": [
    "results[0]"
   ]
  },
  {
   "cell_type": "code",
   "execution_count": 26,
   "metadata": {},
   "outputs": [],
   "source": [
    "def get_total_views(result):\n",
    "    json_results = json.loads(result)\n",
    "    \n",
    "    try:\n",
    "        monthly_views = [item[\"views\"] for item in json_results[\"items\"]]\n",
    "    except:\n",
    "        monthly_views = [-1]\n",
    "    \n",
    "    return sum(monthly_views)"
   ]
  },
  {
   "cell_type": "code",
   "execution_count": 27,
   "metadata": {},
   "outputs": [
    {
     "data": {
      "text/plain": [
       "26344"
      ]
     },
     "execution_count": 27,
     "metadata": {},
     "output_type": "execute_result"
    }
   ],
   "source": [
    "import json\n",
    "test = json.loads(results[0])\n",
    "test[\"items\"][0][\"views\"]"
   ]
  },
  {
   "cell_type": "code",
   "execution_count": 28,
   "metadata": {},
   "outputs": [],
   "source": [
    "total_views_per_query = [get_total_views(results[i]) for i in range(len(results))]"
   ]
  },
  {
   "cell_type": "code",
   "execution_count": 20,
   "metadata": {},
   "outputs": [],
   "source": [
    "import numpy as np\n",
    "views_per_query_array = np.array(total_views_per_query)"
   ]
  },
  {
   "cell_type": "code",
   "execution_count": 88,
   "metadata": {},
   "outputs": [],
   "source": [
    "import scipy\n",
    "\n",
    "percentiles = [scipy.stats.percentileofscore(views_per_query_array, i) for i in views_per_query_array[:100]]"
   ]
  },
  {
   "cell_type": "code",
   "execution_count": 85,
   "metadata": {},
   "outputs": [
    {
     "data": {
      "text/plain": [
       "176008.0"
      ]
     },
     "execution_count": 85,
     "metadata": {},
     "output_type": "execute_result"
    }
   ],
   "source": [
    "np.percentile(views_per_query_array, 50)"
   ]
  },
  {
   "cell_type": "code",
   "execution_count": 58,
   "metadata": {},
   "outputs": [
    {
     "data": {
      "text/plain": [
       "(611,)"
      ]
     },
     "execution_count": 58,
     "metadata": {},
     "output_type": "execute_result"
    }
   ],
   "source": [
    "wrong_queries_ids = np.where(views_per_query_array == -1)\n",
    "wrong_queries_ids[0].shape"
   ]
  },
  {
   "cell_type": "code",
   "execution_count": 32,
   "metadata": {},
   "outputs": [],
   "source": [
    "from datasets import Dataset\n",
    "\n",
    "def extract_title(page_url):\n",
    "    return re.search(r'title=(.*?)&amp;', page_url).group(1)\n",
    "\n",
    "def gen_request_url_for_2021_views(page_url):\n",
    "\n",
    "    title = extract_title(page_url)\n",
    "\n",
    "    url = f'https://wikimedia.org/api/rest_v1/metrics/pageviews/per-article/en.wikipedia/all-access/all-agents/{title}/monthly/2021010100/2021123100'\n",
    "\n",
    "    return url\n",
    "\n",
    "headers = {\n",
    "        'User-Agent': 'Antonio Lopardo',\n",
    "        'From': 'antonio.lopardo@outlook.com'  # This is another valid field\n",
    "    }\n",
    "\n",
    "dataset = Dataset.from_file(\"/mnt/scratch/alopardo/natural_questions/natural_questions-train.arrow\")"
   ]
  },
  {
   "cell_type": "code",
   "execution_count": 79,
   "metadata": {},
   "outputs": [],
   "source": [
    "import requests\n",
    "\n",
    "results_fourOfour = []\n",
    "\n",
    "for i in wrong_queries_ids[0]:\n",
    "    \n",
    "    i = int(i)\n",
    "    \n",
    "    result = requests.get(gen_request_url_for_2021_views(dataset[i]['document'][\"url\"]), headers=headers)\n",
    "    \n",
    "    results_fourOfour.append(result)"
   ]
  },
  {
   "cell_type": "code",
   "execution_count": 84,
   "metadata": {},
   "outputs": [
    {
     "data": {
      "text/plain": [
       "<Response [404]>"
      ]
     },
     "execution_count": 84,
     "metadata": {},
     "output_type": "execute_result"
    }
   ],
   "source": [
    "requests.get(gen_request_url_for_2021_views(dataset[int(wrong_queries_ids[0][0])]['document'][\"url\"]), headers=headers)"
   ]
  },
  {
   "cell_type": "code",
   "execution_count": null,
   "metadata": {},
   "outputs": [],
   "source": []
  }
 ],
 "metadata": {
  "kernelspec": {
   "display_name": "Python 3 (ipykernel)",
   "language": "python",
   "name": "python3"
  },
  "language_info": {
   "codemirror_mode": {
    "name": "ipython",
    "version": 3
   },
   "file_extension": ".py",
   "mimetype": "text/x-python",
   "name": "python",
   "nbconvert_exporter": "python",
   "pygments_lexer": "ipython3",
   "version": "3.10.6"
  },
  "orig_nbformat": 4,
  "vscode": {
   "interpreter": {
    "hash": "e7370f93d1d0cde622a1f8e1c04877d8463912d04d973331ad4851f04de6915a"
   }
  }
 },
 "nbformat": 4,
 "nbformat_minor": 2
}
